{
 "cells": [
  {
   "cell_type": "markdown",
   "metadata": {},
   "source": [
    "%% HW1_4 1\n",
    "\n",
    "%% mass balance\n",
    "test=1;\n",
    "% \n",
    "% A: $$vC_\\mathrm{A_in}/V - vC_\\mathrm{A}/V - k_1 C_\\mathrm{A} = 0 $$\n",
    "% B: $$k_1 C_\\mathrm{A} - k_2 C_\\mathrm{B} - vC_\\mathrm{B}/V = 0 $$\n",
    "% C: $$k_2 C_\\mathrm{B} - vC_\\mathrm{C}/V = 0$$\n",
    "\n"
   ]
  },
  {
   "cell_type": "markdown",
   "metadata": {},
   "source": [
    "A = [v/V+k1, 0, 0;\n",
    "    k1, -k2-v/V, 0;\n",
    "    0, k2, -v/V]"
   ]
  },
  {
   "cell_type": "markdown",
   "metadata": {},
   "source": [
    "%% HW1_4 1\n",
    "\n",
    "%% mass balance\n",
    "test=1;\n",
    "% \n",
    "% A: $$vC_\\mathrm{A_in}/V - vC_\\mathrm{A}/V - k_1 C_\\mathrm{A} = 0 $$\n",
    "% B: $$k_1 C_\\mathrm{A} - k_2 C_\\mathrm{B} - vC_\\mathrm{B}/V = 0 $$\n",
    "% C: $$k_2 C_\\mathrm{B} - vC_\\mathrm{C}/V = 0$$\n",
    "\n"
   ]
  }
 ],
 "metadata": {
  "kernelspec": {
   "display_name": "Python 3",
   "language": "python",
   "name": "python3"
  },
  "language_info": {
   "codemirror_mode": {
    "name": "ipython",
    "version": 3
   },
   "file_extension": ".py",
   "mimetype": "text/x-python",
   "name": "python",
   "nbconvert_exporter": "python",
   "pygments_lexer": "ipython3",
   "version": "3.6.2"
  },
  "toc": {
   "colors": {
    "hover_highlight": "#DAA520",
    "navigate_num": "#000000",
    "navigate_text": "#333333",
    "running_highlight": "#FF0000",
    "selected_highlight": "#FFD700",
    "sidebar_border": "#EEEEEE",
    "wrapper_background": "#FFFFFF"
   },
   "moveMenuLeft": true,
   "nav_menu": {
    "height": "12px",
    "width": "252px"
   },
   "navigate_menu": true,
   "number_sections": true,
   "sideBar": true,
   "threshold": 4,
   "toc_cell": false,
   "toc_section_display": "block",
   "toc_window_display": false,
   "widenNotebook": false
  }
 },
 "nbformat": 4,
 "nbformat_minor": 2
}
