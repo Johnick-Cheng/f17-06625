{
 "cells": [
  {
   "cell_type": "markdown",
   "metadata": {},
   "source": [
    "# Course details"
   ]
  },
  {
   "cell_type": "markdown",
   "metadata": {},
   "source": [
    "-   Course: 06-625 Chemical and Reactive Systems\n",
    "-   Instructor: Professor Zachary Ulissi (zulissi@andrew.cmu.edu)\n",
    "    -   Doherty Hall A207A (Office hours by appointment)\n",
    "-   Teaching assistants\n",
    "    -   Bhagyashree Lele ([blele@andrew.cmu.edu](mailto:blele@andrew.cmu.edu)), Doherty Hall 2100D\n",
    "    -   Kevin Tran ([ktran@andrew.cmu.edu](mailto:ktran@andrew.cmu.edu)), Doherty Hall A204a\n",
    "    -   Office hours by appointment, likely one recitation/perweek.\n",
    "-   We will not be using a textbook. All notes will be provided as jupyter notebooks, based on class notes by John Kitchin in previous years. You are welcome to augment your studies from other textbooks on chemical reaction engineering. Here are some good ones.\n",
    "    -   Elements of Chemical Reaction Engineering, Fourth Edition, H. Scott Fogler, Prentice Hall.\n",
    "        -   This is one of the most common reaction engineering text books. Many of the examples in the notes were adapted from this book. It has many good conceptual explanations, but it lacks the computational emphasis that this course uses.\n",
    "    -   Chemical Reactor Analysis and Design Fundamentals, James B. Rawlings and John G. Ekerdt, Nob Hill Publishing.\n",
    "        -   This book is very numerical problem-solving oriented.\n",
    "    -   The Engineering of Chemical Reactions, Lanny D. Schmidt, Oxford University Press, 1998.\n",
    "    -   Chemical Reactor Analysis and Design, 3rd Edition, Froment, Bischoff De Wilde, Wiley.\n",
    "        -   This is a more advanced book, sometimes used in graduate reactor design courses.\n",
    "             \n",
    "All course materials will be available through a public github page: https://github.com/zulissi/f17-06625 as a set of Jupyter (python-based) notebooks.  You can view the course notes including this syllabus here: [https://nbviewer.jupyter.org/github/zulissi/f17-06625/tree/master/](https://nbviewer.jupyter.org/github/zulissi/f17-06625/tree/master/).  Interacting with and running these notebooks requires a jupyter installation, which we will distribute as a docker image. Don't worry, we'll cover this setup process. "
   ]
  },
  {
   "cell_type": "markdown",
   "metadata": {},
   "source": [
    "## Course description - Chemical and Reactive Systems"
   ]
  },
  {
   "cell_type": "markdown",
   "metadata": {},
   "source": [
    "This course will cover chemical kinetics and chemical reaction engineering with an emphasis on using computational tools to solve difficult problems. Topics will include reaction rates, stoichiometry, equilibrium and multiple reactions. Determination of rate law parameters and rate laws will be covered. Typical reactors including continuously stirred tank reactors, plug flow reactors and membrane reactors will be studied. The effects of heat and mass transfer on reactor design will be considered. Issues in catalysis will be presented and discussed. Students should expect to use numerical software extensively in the course.\n",
    "\n"
   ]
  },
  {
   "cell_type": "markdown",
   "metadata": {},
   "source": [
    "## Course objectives"
   ]
  },
  {
   "cell_type": "markdown",
   "metadata": {},
   "source": [
    "After completing this course you will be able to use Python to solve problems involving the:\n",
    "\n"
   ]
  },
  {
   "cell_type": "markdown",
   "metadata": {},
   "source": [
    "### Design of reactors for multiple reactions"
   ]
  },
  {
   "cell_type": "markdown",
   "metadata": {},
   "source": [
    "This includes correctly using stoichiometry, the correct mole balance, selection of the best reactor type to achieve optimal selectivity, and economic considerations in reactor design.\n",
    "\n"
   ]
  },
  {
   "cell_type": "markdown",
   "metadata": {},
   "source": [
    "### Design of reactors with pressure drops"
   ]
  },
  {
   "cell_type": "markdown",
   "metadata": {},
   "source": [
    "This includes the role of pressure drop in modulating volumetric flow and gas phase concentrations and the effect of that on the reactor design."
   ]
  },
  {
   "cell_type": "markdown",
   "metadata": {},
   "source": [
    "### Derivation of kinetic parameters from experimental data including uncertainty of the parameters"
   ]
  },
  {
   "cell_type": "markdown",
   "metadata": {},
   "source": [
    "This will include linear and nonlinear regression, with confidence intervals. Analysis of kinetic measurements, and experimental design."
   ]
  },
  {
   "cell_type": "markdown",
   "metadata": {},
   "source": [
    "### Determination of the effects of parameter uncertainty on reactor design"
   ]
  },
  {
   "cell_type": "markdown",
   "metadata": {},
   "source": [
    "This will consider the role of uncertainty in parameters on design outcomes. For example, how probable is it for a reactor to meet a design objective given uncertainty in the parameters in the design equations?"
   ]
  },
  {
   "cell_type": "markdown",
   "metadata": {},
   "source": [
    "### Design of reactors where mass-transport effects are important"
   ]
  },
  {
   "cell_type": "markdown",
   "metadata": {},
   "source": [
    "This will include the use of effectiveness factors, and multiphase reaction engineering."
   ]
  },
  {
   "cell_type": "markdown",
   "metadata": {},
   "source": [
    "### Design of non-isothermal reactors"
   ]
  },
  {
   "cell_type": "markdown",
   "metadata": {},
   "source": [
    "This will include accounting for changing temperatures on reaction rates, safety analysis of reactor conditions"
   ]
  },
  {
   "cell_type": "markdown",
   "metadata": {},
   "source": [
    "## Assignment Submission"
   ]
  },
  {
   "cell_type": "markdown",
   "metadata": {},
   "source": [
    "Assignments will be submitted electronically as jupyter notebooks via your CMU box account.  Make a box folder with the title ('cmuusername-06625', where cmuusername is the username in your email address before @andrew.cmu.edu).  Share the box folder with both of the TA's. You will submit your assignments by placing them in this folder before the deadline.  Label each assignment with an appropriate filename (for example 'HW2-cmuusername.ipynb').  The TA's will make a copy of your submitted files, grade them (probably in PDF form), then return them either using box or email.  "
   ]
  },
  {
   "cell_type": "markdown",
   "metadata": {},
   "source": [
    "## Questions and communication"
   ]
  },
  {
   "cell_type": "markdown",
   "metadata": {},
   "source": [
    "We will be using Piazza for questions and communication.  You can join the slack channel here: https://piazza.com/cmu/fall2017/f1706625.  We will aim to answer questions as they arrive in an appropriate manner.  Response times to questions posted via Piazza will be faster than via email.  "
   ]
  },
  {
   "cell_type": "markdown",
   "metadata": {},
   "source": [
    "## Grading"
   ]
  },
  {
   "cell_type": "markdown",
   "metadata": {},
   "source": [
    "<table id=\"org657155d\" border=\"2\" cellspacing=\"0\" cellpadding=\"6\" rules=\"groups\" frame=\"hsides\">\n",
    "<caption class=\"t-above\"><span class=\"table-number\">Table 1:</span> Categories and weights for graded</caption>\n",
    "\n",
    "<colgroup>\n",
    "<col  class=\"org-left\" />\n",
    "\n",
    "<col  class=\"org-right\" />\n",
    "</colgroup>\n",
    "<thead>\n",
    "<tr>\n",
    "<th scope=\"col\" class=\"org-left\">Category</th>\n",
    "<th scope=\"col\" class=\"org-right\">weight</th>\n",
    "</tr>\n",
    "</thead>\n",
    "\n",
    "<tbody>\n",
    "<tr>\n",
    "<td class=\"org-left\">homework</td>\n",
    "<td class=\"org-right\">0.2</td>\n",
    "</tr>\n",
    "\n",
    "\n",
    "<tr>\n",
    "<td class=\"org-left\">quiz</td>\n",
    "<td class=\"org-right\">0.25</td>\n",
    "</tr>\n",
    "\n",
    "\n",
    "<tr>\n",
    "<td class=\"org-left\">exam1</td>\n",
    "<td class=\"org-right\">0.1</td>\n",
    "</tr>\n",
    "\n",
    "\n",
    "<tr>\n",
    "<td class=\"org-left\">exam2</td>\n",
    "<td class=\"org-right\">0.15</td>\n",
    "</tr>\n",
    "\n",
    "\n",
    "<tr>\n",
    "<td class=\"org-left\">exam3</td>\n",
    "<td class=\"org-right\">0.2</td>\n",
    "</tr>\n",
    "\n",
    "\n",
    "<tr>\n",
    "<td class=\"org-left\">participation</td>\n",
    "<td class=\"org-right\">0.1</td>\n",
    "</tr>\n",
    "</tbody>\n",
    "</table>\n",
    "\n",
    "Homeworks will be assigned one to three times a week. Each assignment will typically be one problem that should take 30-90 minutes to complete.\n",
    "\n",
    "Quizzes will be given in class. You should be prepared to take a quiz at any time. These will typically be short, timed problems.\n",
    "\n",
    "Exams will be scheduled and given during class. You will need your computer for these.\n",
    "\n",
    "Your participation grade will be determined by the fraction of class exercises you participate in. You will need your computer for these.\n",
    "\n",
    "You should bring your computer to class every day. You will need it to follow the lecture notes, to participate in class exercises, and to complete quizzes and exams. You are responsible for ensuring the battery is charged, that you can connect to the internet, and that the software required for the course is installed and working. There will not be any makeup assignments.\n",
    "\n",
    "Late assignments will automatically lose 50% of their points. Late assignments can only be turned in by email.\n",
    "\n"
   ]
  },
  {
   "cell_type": "markdown",
   "metadata": {},
   "source": [
    "### Grading criteria"
   ]
  },
  {
   "cell_type": "markdown",
   "metadata": {},
   "source": [
    "You are transitioning into a young professional at this point. That means assignments are done professionally too. In addition to the technical correctness of your work, we will also be assessing the professionalism with which it is presented. Each assignment will show the rubric it will be graded with at the top of the file.\n",
    "\n",
    "There will be a straight scale (no curve) so you will always know exactly what your grade is at all times. Each problem will be graded considering the approach used, the correctness of the answer, the neatness and quality of presentation, etc&#x2026; Each category of the rubric will be given a letter grade that indicates your level of performance in that category.\n",
    "\n",
    "\"A\" work has the following characteristics: The correct approach is used and the problem is set up correctly. The work is not over-simplified and it is easy to see it is done correctly. Any assumptions made were stated and justified. The answers are correct or only the most trivial errors are present, and were identified by the student. All of the correct units were used. The presentation is complete, clear, logical, neat and in order. Error analysis was performed if appropriate. Any figures used have properly labeled axes with units, and a legend if there is more than one curve. Essentially everything that should have been done was done and done correctly. This is the kind of work an employer wants their employees to do, and the kind of work you will be promoted for doing. You should be proud of this work.\n",
    "\n",
    "\"B\" work is deficient in one or more of the properties of \"A\" work. It might be basically right, but essential details are missing such as units, or the presentation is sloppy. You will get by with this kind of work, but you should not expect to be praised for it.\n",
    "\n",
    "\"C\" quality work is deficient in more than two of the properties of \"A\" work. You would probably not get fired for this kind of work, but you may be notified you need to improve and you should not expect any kind of promotion. This is the bare minimum of expected performance.\n",
    "\n",
    "\"D\" work is not considered acceptable performance. Repeat offenses could lead to the loss of your job.\n",
    "\n",
    "\"R\" work is totally unacceptable performance. You will be fired.\n",
    "\n",
    "plus/minus modifiers will be used to provide finer grained grades.\n",
    "\n",
    "Each problem will have a point value associated with it. The letter grade you get serves as a multiplier on that point value. The multipliers are:\n",
    "\n",
    "<table border=\"2\" cellspacing=\"0\" cellpadding=\"6\" rules=\"groups\" frame=\"hsides\">\n",
    "\n",
    "\n",
    "<colgroup>\n",
    "<col  class=\"org-left\" />\n",
    "\n",
    "<col  class=\"org-right\" />\n",
    "</colgroup>\n",
    "<thead>\n",
    "<tr>\n",
    "<th scope=\"col\" class=\"org-left\">Lettergrade</th>\n",
    "<th scope=\"col\" class=\"org-right\">multiplier</th>\n",
    "</tr>\n",
    "</thead>\n",
    "\n",
    "<tbody>\n",
    "<tr>\n",
    "<td class=\"org-left\">A++</td>\n",
    "<td class=\"org-right\">1</td>\n",
    "</tr>\n",
    "\n",
    "\n",
    "<tr>\n",
    "<td class=\"org-left\">A+</td>\n",
    "<td class=\"org-right\">0.95</td>\n",
    "</tr>\n",
    "\n",
    "\n",
    "<tr>\n",
    "<td class=\"org-left\">A</td>\n",
    "<td class=\"org-right\">0.9</td>\n",
    "</tr>\n",
    "\n",
    "\n",
    "<tr>\n",
    "<td class=\"org-left\">A-</td>\n",
    "<td class=\"org-right\">0.85</td>\n",
    "</tr>\n",
    "\n",
    "\n",
    "<tr>\n",
    "<td class=\"org-left\">A/B</td>\n",
    "<td class=\"org-right\">0.8</td>\n",
    "</tr>\n",
    "\n",
    "\n",
    "<tr>\n",
    "<td class=\"org-left\">B+</td>\n",
    "<td class=\"org-right\">0.75</td>\n",
    "</tr>\n",
    "\n",
    "\n",
    "<tr>\n",
    "<td class=\"org-left\">B</td>\n",
    "<td class=\"org-right\">0.7</td>\n",
    "</tr>\n",
    "\n",
    "\n",
    "<tr>\n",
    "<td class=\"org-left\">B-</td>\n",
    "<td class=\"org-right\">0.65</td>\n",
    "</tr>\n",
    "\n",
    "\n",
    "<tr>\n",
    "<td class=\"org-left\">B/C</td>\n",
    "<td class=\"org-right\">0.6</td>\n",
    "</tr>\n",
    "\n",
    "\n",
    "<tr>\n",
    "<td class=\"org-left\">C+</td>\n",
    "<td class=\"org-right\">0.55</td>\n",
    "</tr>\n",
    "\n",
    "\n",
    "<tr>\n",
    "<td class=\"org-left\">C</td>\n",
    "<td class=\"org-right\">0.5</td>\n",
    "</tr>\n",
    "\n",
    "\n",
    "<tr>\n",
    "<td class=\"org-left\">C-</td>\n",
    "<td class=\"org-right\">0.45</td>\n",
    "</tr>\n",
    "\n",
    "\n",
    "<tr>\n",
    "<td class=\"org-left\">C/D</td>\n",
    "<td class=\"org-right\">0.4</td>\n",
    "</tr>\n",
    "\n",
    "\n",
    "<tr>\n",
    "<td class=\"org-left\">D+</td>\n",
    "<td class=\"org-right\">0.35</td>\n",
    "</tr>\n",
    "\n",
    "\n",
    "<tr>\n",
    "<td class=\"org-left\">D</td>\n",
    "<td class=\"org-right\">0.3</td>\n",
    "</tr>\n",
    "\n",
    "\n",
    "<tr>\n",
    "<td class=\"org-left\">D-</td>\n",
    "<td class=\"org-right\">0.25</td>\n",
    "</tr>\n",
    "\n",
    "\n",
    "<tr>\n",
    "<td class=\"org-left\">D/R</td>\n",
    "<td class=\"org-right\">0.2</td>\n",
    "</tr>\n",
    "\n",
    "\n",
    "<tr>\n",
    "<td class=\"org-left\">R+</td>\n",
    "<td class=\"org-right\">0.15</td>\n",
    "</tr>\n",
    "\n",
    "\n",
    "<tr>\n",
    "<td class=\"org-left\">R</td>\n",
    "<td class=\"org-right\">0.1</td>\n",
    "</tr>\n",
    "\n",
    "\n",
    "<tr>\n",
    "<td class=\"org-left\">R-</td>\n",
    "<td class=\"org-right\">0.05</td>\n",
    "</tr>\n",
    "\n",
    "\n",
    "<tr>\n",
    "<td class=\"org-left\">R- -</td>\n",
    "<td class=\"org-right\">0.0</td>\n",
    "</tr>\n",
    "</tbody>\n",
    "</table>\n",
    "\n",
    "At the end of the semester I will calculate what fraction of the possible points you have earned, and your grade will be based on this distribution:\n",
    "\n",
    "<table border=\"2\" cellspacing=\"0\" cellpadding=\"6\" rules=\"groups\" frame=\"hsides\">\n",
    "\n",
    "\n",
    "<colgroup>\n",
    "<col  class=\"org-left\" />\n",
    "\n",
    "<col  class=\"org-left\" />\n",
    "</colgroup>\n",
    "<tbody>\n",
    "<tr>\n",
    "<td class=\"org-left\">80% >= grade</td>\n",
    "<td class=\"org-left\">A</td>\n",
    "</tr>\n",
    "\n",
    "\n",
    "<tr>\n",
    "<td class=\"org-left\">60% >= grade < 80</td>\n",
    "<td class=\"org-left\">B</td>\n",
    "</tr>\n",
    "\n",
    "\n",
    "<tr>\n",
    "<td class=\"org-left\">40% >= grade < 60</td>\n",
    "<td class=\"org-left\">C</td>\n",
    "</tr>\n",
    "\n",
    "\n",
    "<tr>\n",
    "<td class=\"org-left\">20% >= grade < 40</td>\n",
    "<td class=\"org-left\">D</td>\n",
    "</tr>\n",
    "\n",
    "\n",
    "<tr>\n",
    "<td class=\"org-left\">grade < 20%</td>\n",
    "<td class=\"org-left\">R</td>\n",
    "</tr>\n",
    "</tbody>\n",
    "</table>\n",
    "\n",
    "Note that the standard grade for correct work is an \"A\", which is not equal to \"100%\". It is worth 90%, which is well above the cutoff for an A. The A+ and A++ designations are reserved for work that is well above \"correct\".\n",
    "\n"
   ]
  },
  {
   "cell_type": "markdown",
   "metadata": {},
   "source": [
    "## Academic honesty"
   ]
  },
  {
   "cell_type": "markdown",
   "metadata": {},
   "source": [
    "All work is expected to be your original work. You may work with class members to solve the homework problems, but you must turn in your own solutions. It is cheating to turn in someone else's work as your own. If you use code from the internet or the course notes, you should note this in your solution. Duplicated assignments (e.g. two students who turn in the same work) will receive zeros and a warning. Repeat offenses will be reported as academic dishonesty.\n",
    "\n",
    "When in doubt, review this website: [http://www.cmu.edu/academic-integrity/](http://www.cmu.edu/academic-integrity/), and ask if anything is unclear *before* you get in trouble. In particular see these sites:\n",
    "\n",
    "-   [http://www.cmu.edu/academic-integrity/collaboration/index.html](http://www.cmu.edu/academic-integrity/collaboration/index.html)\n",
    "-   [http://www.cmu.edu/academic-integrity/cheating/index.html](http://www.cmu.edu/academic-integrity/cheating/index.html)\n",
    "-   [http://www.cmu.edu/academic-integrity/plagiarism/index.html](http://www.cmu.edu/academic-integrity/plagiarism/index.html)\n",
    "\n"
   ]
  },
  {
   "cell_type": "markdown",
   "metadata": {},
   "source": [
    "## Religious holidays"
   ]
  },
  {
   "cell_type": "markdown",
   "metadata": {},
   "source": [
    "We will accommodate religious holidays when possible. If your work will be affected by a religious holiday, you must inform Professor Kitchin as early as possible to work out an accommodation in advance.\n",
    "\n"
   ]
  },
  {
   "cell_type": "markdown",
   "metadata": {},
   "source": [
    "## Take care of yourself"
   ]
  },
  {
   "cell_type": "markdown",
   "metadata": {},
   "source": [
    "Do your best to maintain a healthy lifestyle this semester by eating well, exercising, avoiding drugs and alcohol, getting enough sleep and taking some time to relax. This will help you achieve your goals and cope with stress.\n",
    "\n",
    "All of us benefit from support during times of struggle. You are not alone. There are many helpful resources available on campus and an important part of the college experience is learning how to ask for help. Asking for support sooner rather than later is often helpful.\n",
    "\n",
    "If you or anyone you know experiences any academic stress, difficult life events, or feelings like anxiety or depression, we strongly encourage you to seek support. Counseling and Psychological Services (CaPS) is here to help: call 412-268-2922 and visit their website at [http://www.cmu.edu/counseling/](http://www.cmu.edu/counseling/). Consider reaching out to a friend, faculty or family member you trust for help getting connected to the support that can help.\n",
    "\n",
    "If you or someone you know is feeling suicidal or in danger of self-harm, call someone immediately, day or night:\n",
    "\n",
    "CaPS: 412-268-2922\n",
    "\n",
    "Re:solve Crisis Network: 888-796-8226\n",
    "\n",
    "If the situation is life threatening, call the police:\n",
    "\n",
    "On campus: CMU Police: 412-268-2323\n",
    "\n",
    "Off campus: 911\n",
    "\n",
    "If you have questions about this or your coursework, please let me know.\n",
    "\n"
   ]
  },
  {
   "cell_type": "markdown",
   "metadata": {
    "heading_collapsed": true
   },
   "source": [
    "# Announcements"
   ]
  },
  {
   "cell_type": "markdown",
   "metadata": {},
   "source": [
    "# Lecture schedule"
   ]
  },
  {
   "cell_type": "markdown",
   "metadata": {},
   "source": [
    "The tentative course schedule is here. It may change.\n",
    "\n"
   ]
  },
  {
   "cell_type": "markdown",
   "metadata": {},
   "source": [
    "## <span class=\"timestamp-wrapper\"><span class=\"timestamp\">[2017-08-28 Mon] </span></span> Review syllabus, software"
   ]
  },
  {
   "cell_type": "markdown",
   "metadata": {},
   "source": [
    "## <span class=\"timestamp-wrapper\"><span class=\"timestamp\">[2017-08-30 Wed] </span></span> [./rxns-book/introduction.ipynb](./rxns-book/introduction.ipynb)"
   ]
  },
  {
   "cell_type": "markdown",
   "metadata": {},
   "source": [
    "## <span class=\"timestamp-wrapper\"><span class=\"timestamp\">[2017-09-04 Mon] </span></span> Labor day **NO CLASS** "
   ]
  },
  {
   "cell_type": "markdown",
   "metadata": {},
   "source": [
    "## <span class=\"timestamp-wrapper\"><span class=\"timestamp\">[2017-09-06 Wed] </span></span> [./rxns-book/reactions+extent.ipynb](./rxns-book/reactions+extent.ipynb)"
   ]
  },
  {
   "cell_type": "markdown",
   "metadata": {},
   "source": [
    "## <span class=\"timestamp-wrapper\"><span class=\"timestamp\">[2017-09-11 Mon] </span></span> [./rxns-book/rates+rate-laws.ipynb](./rxns-book/rates+rate-laws.ipynb)"
   ]
  },
  {
   "cell_type": "markdown",
   "metadata": {},
   "source": [
    "## <span class=\"timestamp-wrapper\"><span class=\"timestamp\">2017-09-13 Wed] </span></span> [./rxns-book/mole-balance.ipynb](./rxns-book/mole-balance.ipynb)"
   ]
  },
  {
   "cell_type": "markdown",
   "metadata": {},
   "source": [
    "## <span class=\"timestamp-wrapper\"><span class=\"timestamp\">[2017-09-18 Mon] </span></span> [./rxns-book/complex-mole-balances.ipynb](./rxns-book/complex-mole-balances.ipynb)"
   ]
  },
  {
   "cell_type": "markdown",
   "metadata": {},
   "source": [
    "## <span class=\"timestamp-wrapper\"><span class=\"timestamp\">[2017-09-20 Wed] </span></span> [./rxns-book/transient-cstr-mss.ipynb](./rxns-book/transient-cstr-mss.ipynb)"
   ]
  },
  {
   "cell_type": "markdown",
   "metadata": {},
   "source": [
    "## <span class=\"timestamp-wrapper\"><span class=\"timestamp\">[2017-09-25 Mon] </span></span> [./rxns-book/misc-reactor-mole-balance.ipynb](./rxns-book/misc-reactor-mole-balance.ipynb)"
   ]
  },
  {
   "cell_type": "markdown",
   "metadata": {},
   "source": [
    "## <span class=\"timestamp-wrapper\"><span class=\"timestamp\">[2017-09-27 Wed] </span></span> [./rxns-book/wrapping-up-introduction.ipynb](./rxns-book/wrapping-up-introduction.ipynb)"
   ]
  },
  {
   "cell_type": "markdown",
   "metadata": {},
   "source": [
    "## <span class=\"timestamp-wrapper\"><span class=\"timestamp\">[2017-10-02 Mon] </span></span> [./rxns-book/multiple-rxns-1.ipynb](./rxns-book/multiple-rxns-1.ipynb)"
   ]
  },
  {
   "cell_type": "markdown",
   "metadata": {},
   "source": [
    "## <span class=\"timestamp-wrapper\"><span class=\"timestamp\">[2017-10-04 Wed] </span></span> EXAM 1 (will cover material through 9/30)"
   ]
  },
  {
   "cell_type": "markdown",
   "metadata": {},
   "source": [
    "## <span class=\"timestamp-wrapper\"><span class=\"timestamp\">[2017-10-9 Mon] </span></span> [./rxns-book/multiple-rxns-2.ipynb](./rxns-book/multiple-rxns-2.ipynb)"
   ]
  },
  {
   "cell_type": "markdown",
   "metadata": {},
   "source": [
    "## <span class=\"timestamp-wrapper\"><span class=\"timestamp\">[2017-10-11 Wed] </span></span> [./rxns-book/parameter-estimation.ipynb](./rxns-book/parameter-estimation.ipynb)"
   ]
  },
  {
   "cell_type": "markdown",
   "metadata": {},
   "source": [
    "## <span class=\"timestamp-wrapper\"><span class=\"timestamp\">[2017-10-16 Mon] </span></span> [./rxns-book/parameter-estimation-2.ipynb](./rxns-book/parameter-estimation-2.ipynb)"
   ]
  },
  {
   "cell_type": "markdown",
   "metadata": {},
   "source": [
    "## <span class=\"timestamp-wrapper\"><span class=\"timestamp\">[2017-10-18 Wed] </span></span> [./rxns-book/regression-review.ipynb](./rxns-book/regression-review.ipynb)"
   ]
  },
  {
   "cell_type": "markdown",
   "metadata": {},
   "source": [
    "## <span class=\"timestamp-wrapper\"><span class=\"timestamp\">[2017-10-23 Mon] </span></span> [./rxns-book/mechanism-determination.ipynb](./rxns-book/mechanism-determination.ipynb)"
   ]
  },
  {
   "cell_type": "markdown",
   "metadata": {},
   "source": [
    "## <span class=\"timestamp-wrapper\"><span class=\"timestamp\">[2017-10-25 Wed] </span></span> [./rxns-book/engineering-applications.ipynb](./rxns-book/engineering-applications.ipynb)"
   ]
  },
  {
   "cell_type": "markdown",
   "metadata": {},
   "source": [
    "## <span class=\"timestamp-wrapper\"><span class=\"timestamp\">[2017-10-30 Mon] </span></span> **AICHE NO CLASS**"
   ]
  },
  {
   "cell_type": "markdown",
   "metadata": {},
   "source": [
    "## <span class=\"timestamp-wrapper\"><span class=\"timestamp\">[2017-11-01 Wed] </span></span> **AICHE NO CLASS**"
   ]
  },
  {
   "cell_type": "markdown",
   "metadata": {},
   "source": [
    "## <span class=\"timestamp-wrapper\"><span class=\"timestamp\">[2017-11-06 Mon] </span></span> [./rxns-book/mass-transfer-1.ipynb](./rxns-book/mass-transfer-1.ipynb)"
   ]
  },
  {
   "cell_type": "markdown",
   "metadata": {},
   "source": [
    "## <span class=\"timestamp-wrapper\"><span class=\"timestamp\">[2017-11-08 Wed] </span></span> EXAM 2 (cumulative through 10/28)"
   ]
  },
  {
   "cell_type": "markdown",
   "metadata": {},
   "source": [
    "## <span class=\"timestamp-wrapper\"><span class=\"timestamp\">[2017-11-13 Mon] </span></span> [./rxns-book/generalized-effectiveness-factors.ipynb](./rxns-book/generalized-effectiveness-factors.ipynb)"
   ]
  },
  {
   "cell_type": "markdown",
   "metadata": {},
   "source": [
    "## <span class=\"timestamp-wrapper\"><span class=\"timestamp\">[2017-11-15 Wed] </span></span> [./rxns-book/non-isothermal-reactor-design.ipynb](./rxns-book/non-isothermal-reactor-design.ipynb)"
   ]
  },
  {
   "cell_type": "markdown",
   "metadata": {},
   "source": [
    "## <span class=\"timestamp-wrapper\"><span class=\"timestamp\">[2017-11-20 Mon] </span></span> [./rxns-book/non-isothermal-batch.ipynb](./rxns-book/non-isothermal-batch.ipynb)"
   ]
  },
  {
   "cell_type": "markdown",
   "metadata": {},
   "source": [
    "## <span class=\"timestamp-wrapper\"><span class=\"timestamp\">[2017-11-22 Wed] </span></span> \\* THANKSGIVING NO CLASS \\*"
   ]
  },
  {
   "cell_type": "markdown",
   "metadata": {},
   "source": [
    "## <span class=\"timestamp-wrapper\"><span class=\"timestamp\">[2017-11-27 Mon] </span></span> [./rxns-book/non-isothermal-cstr.ipynb](./rxns-book/non-isothermal-cstr.ipynb)"
   ]
  },
  {
   "cell_type": "markdown",
   "metadata": {},
   "source": [
    "## <span class=\"timestamp-wrapper\"><span class=\"timestamp\">[2017-11-29 Wed] </span></span> [./rxns-book/non-isothermal-pfr.ipynb](./rxns-book/non-isothermal-pfr.ipynb)"
   ]
  },
  {
   "cell_type": "markdown",
   "metadata": {},
   "source": [
    "## <span class=\"timestamp-wrapper\"><span class=\"timestamp\">[2017-12-04 Mon] </span></span> [./rxns-book/nonisothermal-mult-rxns.ipynb](./rxns-book/nonisothermal-mult-rxns.ipynb)"
   ]
  },
  {
   "cell_type": "markdown",
   "metadata": {},
   "source": [
    "## <span class=\"timestamp-wrapper\"><span class=\"timestamp\">[2017-12-06 Wed] </span></span> EXAM 3 (Cumulative through 12/07)"
   ]
  }
 ],
 "metadata": {
  "kernelspec": {
   "display_name": "Python 3",
   "language": "python",
   "name": "python3"
  },
  "language_info": {
   "codemirror_mode": {
    "name": "ipython",
    "version": 3
   },
   "file_extension": ".py",
   "mimetype": "text/x-python",
   "name": "python",
   "nbconvert_exporter": "python",
   "pygments_lexer": "ipython3",
   "version": "3.6.2"
  },
  "toc": {
   "colors": {
    "hover_highlight": "#DAA520",
    "navigate_num": "#000000",
    "navigate_text": "#333333",
    "running_highlight": "#FF0000",
    "selected_highlight": "#FFD700",
    "sidebar_border": "#EEEEEE",
    "wrapper_background": "#FFFFFF"
   },
   "moveMenuLeft": true,
   "nav_menu": {
    "height": "512px",
    "width": "252px"
   },
   "navigate_menu": true,
   "number_sections": false,
   "sideBar": true,
   "threshold": 4,
   "toc_cell": false,
   "toc_section_display": "block",
   "toc_window_display": true,
   "widenNotebook": false
  }
 },
 "nbformat": 4,
 "nbformat_minor": 1
}
