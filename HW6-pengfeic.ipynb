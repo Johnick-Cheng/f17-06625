{
 "cells": [
  {
   "cell_type": "markdown",
   "metadata": {},
   "source": [
    "22/20\n",
    "\n",
    "Perfect!"
   ]
  },
  {
   "cell_type": "markdown",
   "metadata": {},
   "source": [
    "$$\\require{mhchem}$$  "
   ]
  },
  {
   "cell_type": "markdown",
   "metadata": {},
   "source": [
    "# Homework 6\n",
    "# Pengfei Cheng\n",
    "## AndrewID: pengfeic"
   ]
  },
  {
   "cell_type": "markdown",
   "metadata": {},
   "source": [
    "# Problem 1"
   ]
  },
  {
   "cell_type": "markdown",
   "metadata": {},
   "source": [
    "## Part A"
   ]
  },
  {
   "cell_type": "code",
   "execution_count": 13,
   "metadata": {},
   "outputs": [],
   "source": [
    "import numpy as np\n",
    "import matplotlib.pyplot as plt\n",
    "from scipy.optimize import root, fsolve\n",
    "\n",
    "# import packages"
   ]
  },
  {
   "cell_type": "code",
   "execution_count": 14,
   "metadata": {},
   "outputs": [],
   "source": [
    "def tH(t):\n",
    "    return np.array([t, t ** 2 / 2, t ** 3 / 3, t ** 4 / 4, -1/t, 1, 0, -1]).T\n",
    "\n",
    "def tS(t):\n",
    "    return np.array([np.log(t), t, t ** 2 / 2, t ** 3 / 3, - 1 / (2 * t ** 2), 0, 1, 0]).T\n",
    "\n",
    "# define functions for Shomate equations"
   ]
  },
  {
   "cell_type": "code",
   "execution_count": 15,
   "metadata": {},
   "outputs": [
    {
     "name": "stdout",
     "output_type": "stream",
     "text": [
      "The free engery for every reaction at 298K is -257.21 kJ/mol -228.58 kJ/mol 86.40 kJ/mol 27.24 kJ/mol 254.95 kJ/mol "
     ]
    }
   ],
   "source": [
    "# input Shomate Parameters\n",
    "\n",
    "species = ['CO', 'O2', 'H2', 'CO2', 'H2O', 'CH4', 'CH2O', 'C2H2']\n",
    "\n",
    "components = ['C', 'H', 'O']\n",
    "\n",
    "Hf298 = np.array([-110.53, 0, 0, -393.51, -241.826, -74.87, -115.90, 226.73]).T # kJ/mol\n",
    "\n",
    "SC = np.array([[-1, -0.5, 0, 1, 0, 0, 0, 0],\n",
    "              [0, -0.5, -1, 0, 1, 0, 0, 0],\n",
    "              [-1, 0.5, -2, 0, 0, 1, 0, 0],\n",
    "              [-1, 0, -1, 0, 0, 0, 1, 0],\n",
    "              [-2, 0.5, -2, 0, 1, 0, 0, 1]]).T\n",
    "\n",
    "SP = np.array([[25.56759, 6.096130, 4.054656, -2.671301, 0.131021, -118.0089, 227.3665, -110.5271],    # CO\n",
    "    [31.32234, -20.23531, 57.86644, -36.50624, -0.007374, -8.903471, 246.7945, 0.0],        # O2\n",
    "    [33.066178, -11.363417, 11.432816, -2.772874, -0.158558, -9.980797, 172.707974, 0.0],   # H2\n",
    "    [24.99735, 55.18696, -33.69137, 7.948387, -0.136638, -403.6075, 228.2431, -393.5224],   # CO2\n",
    "    [30.09200, 6.832514, 6.793435, -2.534480, 0.082139, -250.8810, 223.3967, -241.8264],    # H2O\n",
    "    [-0.703029, 108.4773, -42.52157, 5.862788, 0.678565, -76.84376, 158.7163, -74.87310],   # CH4\n",
    "    [5.193767, 93.23249, -44.85457, 7.882279, 0.551175, -119.3591, 202.4663, -115.8972],    # CH2O\n",
    "    [40.68697, 40.73279, -16.17840, 3.669741, -0.658411, 210.7067, 235.0052, 226.7314]])    # C2H2\n",
    "\n",
    "T = 298.15 # K\n",
    "t = T / 1000\n",
    "R = 8.314\n",
    "\n",
    "\n",
    "H = np.matmul (SP, tH(t)) + Hf298 # kJ/mol\n",
    "S = np.matmul (SP, tS(t)) / 1000 # kJ/mol/K\n",
    "\n",
    "G = H - S * T\n",
    "\n",
    "GR = np.matmul(SC.T, G)\n",
    "\n",
    "print('The free engery for every reaction at 298K is ', end='')\n",
    "for i in range (5):\n",
    "    print('{:1.2f}'.format(GR[i])+' kJ/mol ', end='')"
   ]
  },
  {
   "cell_type": "markdown",
   "metadata": {},
   "source": [
    "## Part B"
   ]
  },
  {
   "cell_type": "code",
   "execution_count": 16,
   "metadata": {},
   "outputs": [
    {
     "name": "stdout",
     "output_type": "stream",
     "text": [
      "The free engery for every reaction at 1000K is -195.61 kJ/mol -192.60 kJ/mol 219.78 kJ/mol 112.21 kJ/mol 377.58 kJ/mol "
     ]
    }
   ],
   "source": [
    "T2 = 1000; #K\n",
    "t2 = T2 / 1000;\n",
    "\n",
    "H2 = np.matmul (SP, tH(t2)) + Hf298\n",
    "S2 = np.matmul (SP, tS(t2)) / 1000\n",
    "G2 = H2 - S2 * T2\n",
    "\n",
    "GR2 = np.matmul(SC.T, G2)\n",
    "\n",
    "print('The free engery for every reaction at 1000K is ',end='')\n",
    "for i in range (5):\n",
    "    print('{:1.2f}'.format(GR2[i])+' kJ/mol ', end='')"
   ]
  },
  {
   "cell_type": "markdown",
   "metadata": {},
   "source": [
    "## Part C"
   ]
  },
  {
   "cell_type": "code",
   "execution_count": 5,
   "metadata": {},
   "outputs": [
    {
     "name": "stdout",
     "output_type": "stream",
     "text": [
      "The equilibruim constant for every reaction at 1000K is 1.65e+10\t1.15e+10\t3.31e-12\t1.38e-06\t1.89e-20\t"
     ]
    }
   ],
   "source": [
    "K = np.exp(-GR2*1000/8.314/1000)\n",
    "print('The equilibruim constant for every reaction at 1000K is ',end='')\n",
    "for i in range (5):\n",
    "    print('{:1.2e}\\t'.format(K[i]), end='')"
   ]
  },
  {
   "cell_type": "code",
   "execution_count": 27,
   "metadata": {},
   "outputs": [
    {
     "name": "stdout",
     "output_type": "stream",
     "text": [
      "The Gibbs free energy for each species is-323.4 kJ/mol\n",
      "-220.9 kJ/mol\n",
      "-145.5 kJ/mol\n",
      "-629.4 kJ/mol\n",
      "-448.6 kJ/mol\n",
      "-284.2 kJ/mol\n",
      "-356.7 kJ/mol\n",
      "-1.3 kJ/mol\n"
     ]
    }
   ],
   "source": [
    "print('The Gibbs free energy for each species is', end='')\n",
    "for i in G2:\n",
    "    print('{:1.1f} kJ/mol'.format(i))"
   ]
  },
  {
   "cell_type": "code",
   "execution_count": 44,
   "metadata": {},
   "outputs": [
    {
     "data": {
      "text/plain": [
       "      fun: -89462025320.84335\n",
       " hess_inv: array([[1, 0, 0, 0, 0, 0, 0, 0],\n",
       "       [0, 1, 0, 0, 0, 0, 0, 0],\n",
       "       [0, 0, 1, 0, 0, 0, 0, 0],\n",
       "       [0, 0, 0, 1, 0, 0, 0, 0],\n",
       "       [0, 0, 0, 0, 1, 0, 0, 0],\n",
       "       [0, 0, 0, 0, 0, 1, 0, 0],\n",
       "       [0, 0, 0, 0, 0, 0, 1, 0],\n",
       "       [0, 0, 0, 0, 0, 0, 0, 1]])\n",
       "      jac: array([ 0.,  0.,  0.,  0.,  0.,  0.,  0.,  0.])\n",
       "  message: 'Optimization terminated successfully.'\n",
       "     nfev: 150\n",
       "      nit: 1\n",
       "     njev: 15\n",
       "   status: 0\n",
       "  success: True\n",
       "        x: array([ 29522355.64949232,  20162829.41470403,  13286534.38513227,\n",
       "        57461515.81723778,  40951079.38388968,  25949308.42229891,\n",
       "        32565169.18246224,    114987.3685052 ])"
      ]
     },
     "execution_count": 44,
     "metadata": {},
     "output_type": "execute_result"
    }
   ],
   "source": [
    "Aeq = np.array([[1, 0, 1],\n",
    "               [0, 0, 1],\n",
    "               [0, 2, 0],\n",
    "               [1, 0, 2],\n",
    "               [0, 2, 1],\n",
    "               [1, 4, 0],\n",
    "               [1, 2, 1],\n",
    "               [2, 2, 0]]).T\n",
    "\n",
    "beq = np.array([1/6, 2/6, 3/6]).T # feed is equimole of 'CO', 'O2', 'H2'\n",
    "\n",
    "def eco(n_eq):\n",
    "    return np.matmul(Aeq, n_eq) - beq\n",
    "\n",
    "def G_min(n_eq):\n",
    "    return np.matmul(G2, n_eq)\n",
    "\n",
    "from scipy.optimize import minimize\n",
    "\n",
    "\n",
    "\n",
    "y = minimize (G_min, y0, bounds) #, constraints = eco)\n",
    "y"
   ]
  },
  {
   "cell_type": "markdown",
   "metadata": {},
   "source": [
    "## Bonus"
   ]
  },
  {
   "cell_type": "code",
   "execution_count": 33,
   "metadata": {
    "scrolled": false
   },
   "outputs": [
    {
     "name": "stderr",
     "output_type": "stream",
     "text": [
      "/opt/conda/lib/python3.6/site-packages/ipykernel_launcher.py:7: RuntimeWarning: invalid value encountered in double_scalars\n",
      "  import sys\n",
      "/opt/conda/lib/python3.6/site-packages/ipykernel_launcher.py:8: RuntimeWarning: invalid value encountered in double_scalars\n",
      "  \n",
      "/opt/conda/lib/python3.6/site-packages/ipykernel_launcher.py:9: RuntimeWarning: invalid value encountered in double_scalars\n",
      "  if __name__ == '__main__':\n",
      "/opt/conda/lib/python3.6/site-packages/ipykernel_launcher.py:10: RuntimeWarning: invalid value encountered in log\n",
      "  # Remove the CWD from sys.path while we load stuff.\n",
      "/opt/conda/lib/python3.6/site-packages/ipykernel_launcher.py:11: RuntimeWarning: invalid value encountered in double_scalars\n",
      "  # This is added back by InteractiveShellApp.init_path()\n",
      "/opt/conda/lib/python3.6/site-packages/ipykernel_launcher.py:7: RuntimeWarning: invalid value encountered in log\n",
      "  import sys\n",
      "/opt/conda/lib/python3.6/site-packages/ipykernel_launcher.py:11: RuntimeWarning: invalid value encountered in log\n",
      "  # This is added back by InteractiveShellApp.init_path()\n",
      "/opt/conda/lib/python3.6/site-packages/ipykernel_launcher.py:9: RuntimeWarning: invalid value encountered in log\n",
      "  if __name__ == '__main__':\n"
     ]
    },
    {
     "data": {
      "text/plain": [
       "'The relative error between two consecutive iterates is at most 0.000000'"
      ]
     },
     "execution_count": 33,
     "metadata": {},
     "output_type": "execute_result"
    }
   ],
   "source": [
    "y0 = np.array([1/3, 1/3, 1/3, 0, 0, 0, 0, 0]).T\n",
    "xi0 = np.array([0.3, 0.3, 1e-6, 1e-6, 1e-6])\n",
    "\n",
    "def G_eq(xi):\n",
    "    y = y0 + np.matmul(SC, xi)\n",
    "    yCO, yO2, yH2, yCO2, yH2O, yCH4, yCH2O, yC2H2 = y / np.sum(y)\n",
    "    m1 = GR2[0] * 1000 + R * T2 * np.log(yCO2/yCO/yO2 ** 0.5)\n",
    "    m2 = GR2[1] * 1000 + R * T2 * np.log(yH2O/yH2/yO2 ** 0.5)\n",
    "    m3 = GR2[2] * 1000 + R * T2 * np.log(yCH4*yO2 ** 0.5/yCO/yH2**2)\n",
    "    m4 = GR2[3] * 1000 + R * T2 * np.log(yCH2O / yCO / yH2)\n",
    "    m5 = GR2[4] * 1000 + R * T2 * np.log(yC2H2 * yO2 ** 0.5 * yH2O / yCO ** 2 / yH2 ** 2)\n",
    "    return [m1, m2, m3, m4, m5]\n",
    "\n",
    "sol = root(G_eq, xi0, method = 'lm') # Use Levenberg-Marquardt algorithm to solve the equations\n",
    "sol.message"
   ]
  },
  {
   "cell_type": "code",
   "execution_count": 7,
   "metadata": {},
   "outputs": [
    {
     "name": "stdout",
     "output_type": "stream",
     "text": [
      "The equilibruim constant for every reaction at 1000K is 1.65e+10\t1.15e+10\t3.31e-12\t1.38e-06\t1.89e-20\t"
     ]
    }
   ],
   "source": [
    "y = y0 + np.matmul(SC,sol.x)\n",
    "yCO, yO2, yH2, yCO2, yH2O, yCH4, yCH2O, yC2H2 = y / np.sum(y)\n",
    "K1 = yCO2/yCO/yO2 ** 0.5\n",
    "K2 = yH2O/yH2/yO2 ** 0.5\n",
    "K3 = yCH4*yO2 ** 0.5/yCO/yH2**2\n",
    "K4 = yCH2O / yCO / yH2\n",
    "K5 = yC2H2 * yO2 ** 0.5 * yH2O / yCO ** 2 / yH2 ** 2\n",
    "K2 = [K1, K2, K3, K4, K5]\n",
    "print('The equilibruim constant for every reaction at 1000K is ',end='')\n",
    "for i in range (5):\n",
    "    print('{:1.2e}\\t'.format(K2[i]), end='')"
   ]
  },
  {
   "cell_type": "markdown",
   "metadata": {},
   "source": [
    "The result is identical with the result in Part C."
   ]
  },
  {
   "cell_type": "markdown",
   "metadata": {},
   "source": [
    "When attempting to solve the G_eq using `fsolve` function, it doesn't converge easily (using MINPACK’s hybrd and hybrj algorithms)."
   ]
  },
  {
   "cell_type": "code",
   "execution_count": 8,
   "metadata": {
    "scrolled": true
   },
   "outputs": [
    {
     "name": "stderr",
     "output_type": "stream",
     "text": [
      "/opt/conda/lib/python3.6/site-packages/ipykernel_launcher.py:7: RuntimeWarning: invalid value encountered in double_scalars\n",
      "  import sys\n",
      "/opt/conda/lib/python3.6/site-packages/ipykernel_launcher.py:8: RuntimeWarning: invalid value encountered in double_scalars\n",
      "  \n",
      "/opt/conda/lib/python3.6/site-packages/ipykernel_launcher.py:9: RuntimeWarning: invalid value encountered in double_scalars\n",
      "  if __name__ == '__main__':\n",
      "/opt/conda/lib/python3.6/site-packages/ipykernel_launcher.py:10: RuntimeWarning: invalid value encountered in log\n",
      "  # Remove the CWD from sys.path while we load stuff.\n",
      "/opt/conda/lib/python3.6/site-packages/ipykernel_launcher.py:11: RuntimeWarning: invalid value encountered in double_scalars\n",
      "  # This is added back by InteractiveShellApp.init_path()\n"
     ]
    },
    {
     "data": {
      "text/plain": [
       "{'fjac': array([[ -5.38435683e-01,  -9.50179588e-02,  -2.85054460e-01,\n",
       "          -3.89574215e-01,  -6.84130462e-01],\n",
       "        [  5.58902671e-01,  -6.03697563e-01,  -5.57438429e-01,\n",
       "          -2.75489336e-02,  -1.08076414e-01],\n",
       "        [ -2.02719518e-01,   4.66317299e-01,  -7.79747621e-01,\n",
       "           1.62112157e-01,   3.27362597e-01],\n",
       "        [  1.78217772e-01,   1.42622087e-01,   1.46625737e-07,\n",
       "          -9.06196797e-01,   3.55956079e-01],\n",
       "        [  5.69963194e-01,   6.23480519e-01,   4.32488490e-07,\n",
       "           3.27509673e-07,  -5.35176606e-01]]),\n",
       " 'fvec': array([-164683.62726491, -161675.58632691,  132877.93385006,\n",
       "          12646.29151255,  308939.49090664]),\n",
       " 'nfev': 21,\n",
       " 'qtf': array([-150125.40769885, -102247.69259399,  -42433.43841643,\n",
       "          46100.82189707, -360002.31136098]),\n",
       " 'r': array([ nan,  nan,  nan,  nan,  nan,  nan,  nan,  nan,  nan,  nan,  nan,\n",
       "         nan,  nan,  nan,  nan])}"
      ]
     },
     "execution_count": 8,
     "metadata": {},
     "output_type": "execute_result"
    }
   ],
   "source": [
    "sol2, info, ier, mesg = fsolve(G_eq, [0.3, 0.3, 1e-8, 1e-8, 1e-8], full_output = 1)\n",
    "info"
   ]
  },
  {
   "cell_type": "markdown",
   "metadata": {},
   "source": [
    "It can be noticed that the extents have orders of magnitude that differ greatly, from ~$10^{-1}$ to ~$10^{-44}$. This made the equations a stiff system, and hybrj algorithm is not able to find a solution smoothly, while Levenberg-Marquardt performs well."
   ]
  },
  {
   "cell_type": "code",
   "execution_count": 9,
   "metadata": {
    "scrolled": true
   },
   "outputs": [
    {
     "data": {
      "text/plain": [
       "array([  3.33333273e-01,   3.33333246e-01,   1.02775367e-29,\n",
       "         1.09022317e-20,   1.06950949e-44])"
      ]
     },
     "execution_count": 9,
     "metadata": {},
     "output_type": "execute_result"
    }
   ],
   "source": [
    "sol.x"
   ]
  },
  {
   "cell_type": "markdown",
   "metadata": {},
   "source": [
    "+2"
   ]
  },
  {
   "cell_type": "markdown",
   "metadata": {},
   "source": [
    "## Part D"
   ]
  },
  {
   "cell_type": "markdown",
   "metadata": {},
   "source": [
    "The equilibrium constants and the extents at the equilibrium indicate that when the system is at equilibrium, the 1st & 2nd reaction\n",
    "\\begin{align*}\n",
    "    \\ce{CO + 1/2O2 &<=> CO2}\\\\\n",
    "    \\ce{H2 + 1/2O2 &<=> H2O}\\\\\n",
    "\\end{align*}\n",
    "are almost complete, while the rest reactions\n",
    "\\begin{align*}\n",
    "    \\ce{CO + 2H2 &<=> CH4 + 1/2O2}\\\\\n",
    "    \\ce{CO +H2 &<=> CH2O }\\\\\n",
    "    \\ce{2CO +2H2 &<=> C2H2 + 1/2O2 + H2O }\n",
    "\\end{align*}\n",
    "barely occurs."
   ]
  },
  {
   "cell_type": "markdown",
   "metadata": {},
   "source": [
    "# Problem 2"
   ]
  },
  {
   "cell_type": "markdown",
   "metadata": {},
   "source": [
    "## Part A"
   ]
  },
  {
   "cell_type": "code",
   "execution_count": 10,
   "metadata": {},
   "outputs": [
    {
     "name": "stdout",
     "output_type": "stream",
     "text": [
      "Reaction 1 \t3.3294\n",
      "Reaction 2 \t6.0750\n",
      "Reaction 3 \t0.7862\n"
     ]
    }
   ],
   "source": [
    "Ea = np.array([5, 2, 10]).T # kJ/mol\n",
    "DG = np.array([-10, -15, 2]).T # kJ/mol\n",
    "\n",
    "K = np.exp(-DG/8.314/1000* 1000)\n",
    "\n",
    "for i in range(3):\n",
    "    print('Reaction {:1.0f} \\t'.format(i+1)+'{:1.4f}'.format(K[i]))"
   ]
  },
  {
   "cell_type": "markdown",
   "metadata": {},
   "source": [
    "## Part B"
   ]
  },
  {
   "cell_type": "code",
   "execution_count": 11,
   "metadata": {},
   "outputs": [
    {
     "name": "stdout",
     "output_type": "stream",
     "text": [
      "The equilibrium mol fractions of A, B, C, D, E are 0.2054  0.1772  0.1212  0.3613  0.1349  "
     ]
    }
   ],
   "source": [
    "SC = np.array([[-1, -1, 1, 0, 0],\n",
    "              [0, -1, -1, 2, 0],\n",
    "              [0, -1, 0, -2, 2]]).T\n",
    "\n",
    "xi0 = np.array([-0.01, 0.05, -0.03])\n",
    "y0 = np.array([0.2, 0.2, 0.2, 0.2, 0.2])\n",
    "\n",
    "def K_eq(xi):\n",
    "    y = y0 + np.matmul(SC, xi)\n",
    "    yA, yB, yC, yD, yE = y / np.sum(y)\n",
    "    m1 = K[0] - yC / yA / yB\n",
    "    m2 = K[1] - yD ** 2 / yB / yC\n",
    "    m3 = K[2] - yE ** 2 / yB / yD ** 2\n",
    "    return [m1, m2, m3]\n",
    "\n",
    "Gmin_sol = fsolve(K_eq, xi0)\n",
    "\n",
    "y = y0 + np.matmul(SC, Gmin_sol)\n",
    "y = y / np.sum(y)\n",
    "print('The equilibrium mol fractions of A, B, C, D, E are ',end='')\n",
    "for i in range(5):\n",
    "    print ('{:1.4f}  '.format(y[i]),end='')"
   ]
  },
  {
   "cell_type": "markdown",
   "metadata": {},
   "source": [
    "## Part C"
   ]
  },
  {
   "cell_type": "code",
   "execution_count": 12,
   "metadata": {},
   "outputs": [
    {
     "data": {
      "image/png": "[encoded data removed]",
      "text/plain": [
       "<matplotlib.figure.Figure at 0x7f54280ec080>"
      ]
     },
     "metadata": {},
     "output_type": "display_data"
    }
   ],
   "source": [
    "y0 = np.array([0.2, 0.2, 0.2, 0.2, 0.2]).T\n",
    "\n",
    "Tspan = np.linspace(800, 1000)\n",
    "\n",
    "def K_eq_T(xi, T):\n",
    "    K = np.exp(-DG/8.314/T * 1000)\n",
    "    y = y0 + np.matmul(SC, xi)\n",
    "    yA, yB, yC, yD, yE = y\n",
    "    m1 = K[0] - yC / yA / yB\n",
    "    m2 = K[1] - yD ** 2 / yB / yC\n",
    "    m3 = K[2] - yE ** 2 / yB / yD ** 2\n",
    "    return [m1, m2, m3]\n",
    "\n",
    "K_eq_T_sol = [0] * 50\n",
    "\n",
    "K_eq_T_sol[49] = fsolve (K_eq_T, xi0, args=1000)\n",
    "\n",
    "for i in range(49):\n",
    "    K_eq_T_sol[48-i] = fsolve(K_eq_T, K_eq_T_sol[49-i], args=Tspan[48-i])\n",
    "\n",
    "plt.plot(Tspan, K_eq_T_sol)\n",
    "plt.legend(['$\\\\xi_1\\'$','$\\\\xi_2\\'$','$\\\\xi_3\\'$'])\n",
    "plt.xlabel('Temperature/K')\n",
    "plt.ylabel('Extent of reaction $\\\\xi\\'$')\n",
    "plt.show()"
   ]
  }
 ],
 "metadata": {
  "kernelspec": {
   "display_name": "Python 3",
   "language": "python",
   "name": "python3"
  },
  "language_info": {
   "codemirror_mode": {
    "name": "ipython",
    "version": 3
   },
   "file_extension": ".py",
   "mimetype": "text/x-python",
   "name": "python",
   "nbconvert_exporter": "python",
   "pygments_lexer": "ipython3",
   "version": "3.6.2"
  },
  "toc": {
   "colors": {
    "hover_highlight": "#DAA520",
    "navigate_num": "#000000",
    "navigate_text": "#333333",
    "running_highlight": "#FF0000",
    "selected_highlight": "#FFD700",
    "sidebar_border": "#EEEEEE",
    "wrapper_background": "#FFFFFF"
   },
   "moveMenuLeft": true,
   "nav_menu": {
    "height": "29px",
    "width": "252px"
   },
   "navigate_menu": true,
   "number_sections": false,
   "sideBar": true,
   "threshold": 4,
   "toc_cell": false,
   "toc_position": {
    "height": "817px",
    "left": "0px",
    "right": "1649.82px",
    "top": "111px",
    "width": "212px"
   },
   "toc_section_display": "block",
   "toc_window_display": true,
   "widenNotebook": false
  }
 },
 "nbformat": 4,
 "nbformat_minor": 2
}
