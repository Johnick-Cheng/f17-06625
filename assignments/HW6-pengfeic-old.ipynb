{
 "cells": [
  {
   "cell_type": "markdown",
   "metadata": {},
   "source": [
    "$$\\require{mhchem}$$       "
   ]
  },
  {
   "cell_type": "markdown",
   "metadata": {},
   "source": [
    "# Homework 6\n",
    "# Pengfei Cheng\n",
    "# AndrewID: pengfeic"
   ]
  },
  {
   "cell_type": "markdown",
   "metadata": {},
   "source": [
    "# Problem 1"
   ]
  },
  {
   "cell_type": "markdown",
   "metadata": {},
   "source": [
    "## Part 1"
   ]
  },
  {
   "cell_type": "code",
   "execution_count": 1,
   "metadata": {},
   "outputs": [],
   "source": [
    "import numpy as np\n",
    "import matplotlib.pyplot as plt\n",
    "from scipy.optimize import minimize\n",
    "\n",
    "# import packages"
   ]
  },
  {
   "cell_type": "code",
   "execution_count": 2,
   "metadata": {},
   "outputs": [],
   "source": [
    "def tH(t):\n",
    "    return np.array([t, t ** 2 / 2, t ** 3 / 3, t ** 4 / 4, -1/t, 1, 0, -1]).T\n",
    "\n",
    "def tS(t):\n",
    "    return np.array([np.log(t), t, t ** 2 / 2, t ** 3 / 3, - 1 / (2 * t ** 2), 0, 1, 0]).T\n",
    "\n",
    "# define functions for Shomate equations"
   ]
  },
  {
   "cell_type": "code",
   "execution_count": 39,
   "metadata": {},
   "outputs": [
    {
     "name": "stdout",
     "output_type": "stream",
     "text": [
      "The free engery for every reaction at 298K is \n",
      "-257.21 kJ/mol\n",
      "-228.58 kJ/mol\n",
      "86.40 kJ/mol\n",
      "27.24 kJ/mol\n",
      "254.95 kJ/mol\n"
     ]
    }
   ],
   "source": [
    "# input Shomate Parameters\n",
    "\n",
    "species = ['CO', 'O2', 'H2', 'CO2', 'H2O', 'CH4', 'CH2O', 'C2H2']\n",
    "\n",
    "Hf298 = np.array([-110.53, 0, 0, -393.51, -241.826, -74.87, -115.90, 226.73]).T # kJ/mol\n",
    "\n",
    "SC = np.array([[-1, -0.5, 0, 1, 0, 0, 0, 0],\n",
    "              [0, -0.5, -1, 0, 1, 0, 0, 0],\n",
    "              [-1, 0.5, -2, 0, 0, 1, 0, 0],\n",
    "              [-1, 0, -1, 0, 0, 0, 1, 0],\n",
    "              [-2, 0.5, -2, 0, 1, 0, 0, 1]])\n",
    "\n",
    "SP = np.array([[25.56759, 6.096130, 4.054656, -2.671301, 0.131021, -118.0089, 227.3665, -110.5271],    # CO\n",
    "    [31.32234, -20.23531, 57.86644, -36.50624, -0.007374, -8.903471, 246.7945, 0.0],        # O2\n",
    "    [33.066178, -11.363417, 11.432816, -2.772874, -0.158558, -9.980797, 172.707974, 0.0],   # H2\n",
    "    [24.99735, 55.18696, -33.69137, 7.948387, -0.136638, -403.6075, 228.2431, -393.5224],   # CO2\n",
    "    [30.09200, 6.832514, 6.793435, -2.534480, 0.082139, -250.8810, 223.3967, -241.8264],    # H2O\n",
    "    [-0.703029, 108.4773, -42.52157, 5.862788, 0.678565, -76.84376, 158.7163, -74.87310],   # CH4\n",
    "    [5.193767, 93.23249, -44.85457, 7.882279, 0.551175, -119.3591, 202.4663, -115.8972],    # CH2O\n",
    "    [40.68697, 40.73279, -16.17840, 3.669741, -0.658411, 210.7067, 235.0052, 226.7314]])      # C2H2\n",
    "\n",
    "T = 298.15; # K\n",
    "t = T / 1000;\n",
    "\n",
    "\n",
    "\n",
    "H = np.matmul (SP, tH(t)) + Hf298 # kJ/mol\n",
    "S = np.matmul (SP, tS(t)) / 1000 # kJ/mol/K\n",
    "\n",
    "G = H - S * T\n",
    "\n",
    "GR = np.matmul(SC, G)\n",
    "\n",
    "print('The free engery for every reaction at 298K is ')\n",
    "for i in range (5):\n",
    "    print('{:1.2f}'.format(GR[i])+' kJ/mol')"
   ]
  },
  {
   "cell_type": "code",
   "execution_count": 40,
   "metadata": {},
   "outputs": [
    {
     "data": {
      "text/plain": [
       "array([-169.45996181,  -61.16493288,  -38.96213749, -457.25370336,\n",
       "       -298.1267086 , -130.40064202, -181.18000767,  166.81230536])"
      ]
     },
     "execution_count": 40,
     "metadata": {},
     "output_type": "execute_result"
    }
   ],
   "source": [
    "G"
   ]
  },
  {
   "cell_type": "markdown",
   "metadata": {},
   "source": [
    "## Part 2"
   ]
  },
  {
   "cell_type": "code",
   "execution_count": 1,
   "metadata": {},
   "outputs": [
    {
     "ename": "NameError",
     "evalue": "name 'np' is not defined",
     "output_type": "error",
     "traceback": [
      "\u001b[0;31m---------------------------------------------------------------------------\u001b[0m",
      "\u001b[0;31mNameError\u001b[0m                                 Traceback (most recent call last)",
      "\u001b[0;32m<ipython-input-1-8c9f917388e4>\u001b[0m in \u001b[0;36m<module>\u001b[0;34m()\u001b[0m\n\u001b[1;32m      2\u001b[0m \u001b[0mt2\u001b[0m \u001b[0;34m=\u001b[0m \u001b[0mT2\u001b[0m \u001b[0;34m/\u001b[0m \u001b[0;36m1000\u001b[0m\u001b[0;34m;\u001b[0m\u001b[0;34m\u001b[0m\u001b[0m\n\u001b[1;32m      3\u001b[0m \u001b[0;34m\u001b[0m\u001b[0m\n\u001b[0;32m----> 4\u001b[0;31m \u001b[0mH2\u001b[0m \u001b[0;34m=\u001b[0m \u001b[0mnp\u001b[0m\u001b[0;34m.\u001b[0m\u001b[0mmatmul\u001b[0m \u001b[0;34m(\u001b[0m\u001b[0mSP\u001b[0m\u001b[0;34m,\u001b[0m \u001b[0mtH\u001b[0m\u001b[0;34m(\u001b[0m\u001b[0mt2\u001b[0m\u001b[0;34m)\u001b[0m\u001b[0;34m)\u001b[0m \u001b[0;34m+\u001b[0m \u001b[0mHf298\u001b[0m\u001b[0;34m\u001b[0m\u001b[0m\n\u001b[0m\u001b[1;32m      5\u001b[0m \u001b[0mS2\u001b[0m \u001b[0;34m=\u001b[0m \u001b[0mnp\u001b[0m\u001b[0;34m.\u001b[0m\u001b[0mmatmul\u001b[0m \u001b[0;34m(\u001b[0m\u001b[0mSP\u001b[0m\u001b[0;34m,\u001b[0m \u001b[0mtS\u001b[0m\u001b[0;34m(\u001b[0m\u001b[0mt2\u001b[0m\u001b[0;34m)\u001b[0m\u001b[0;34m)\u001b[0m \u001b[0;34m/\u001b[0m \u001b[0;36m1000\u001b[0m\u001b[0;34m\u001b[0m\u001b[0m\n\u001b[1;32m      6\u001b[0m \u001b[0mG2\u001b[0m \u001b[0;34m=\u001b[0m \u001b[0mH2\u001b[0m \u001b[0;34m-\u001b[0m \u001b[0mS2\u001b[0m \u001b[0;34m*\u001b[0m \u001b[0mT2\u001b[0m\u001b[0;34m\u001b[0m\u001b[0m\n",
      "\u001b[0;31mNameError\u001b[0m: name 'np' is not defined"
     ]
    }
   ],
   "source": [
    "T2 = 1000; #K\n",
    "t2 = T2 / 1000;\n",
    "\n",
    "H2 = np.matmul (SP, tH(t2)) + Hf298\n",
    "S2 = np.matmul (SP, tS(t2)) / 1000\n",
    "G2 = H2 - S2 * T2\n",
    "\n",
    "GR2 = np.matmul(SC, G2)\n",
    "\n",
    "print('The free engery for every reaction at 1000K is ',end='')\n",
    "for i in range (5):\n",
    "    print('{:1.2f}'.format(GR2[i])+' kJ/mol ', end='')"
   ]
  },
  {
   "cell_type": "code",
   "execution_count": 36,
   "metadata": {},
   "outputs": [
    {
     "data": {
      "text/plain": [
       "array([-110.53 ,    0.   ,    0.   , -393.51 , -241.826,  -74.87 ,\n",
       "       -115.9  ,  226.73 ])"
      ]
     },
     "execution_count": 36,
     "metadata": {},
     "output_type": "execute_result"
    }
   ],
   "source": [
    "G2"
   ]
  },
  {
   "cell_type": "markdown",
   "metadata": {},
   "source": [
    "## Part 3"
   ]
  },
  {
   "cell_type": "code",
   "execution_count": 51,
   "metadata": {},
   "outputs": [
    {
     "data": {
      "text/plain": [
       "0.08205280039476931"
      ]
     },
     "execution_count": 51,
     "metadata": {},
     "output_type": "execute_result"
    }
   ],
   "source": [
    "\n",
    "c0"
   ]
  },
  {
   "cell_type": "code",
   "execution_count": 53,
   "metadata": {
    "scrolled": false
   },
   "outputs": [
    {
     "name": "stderr",
     "output_type": "stream",
     "text": [
      "/opt/conda/lib/python3.6/site-packages/ipykernel_launcher.py:10: RuntimeWarning: invalid value encountered in log\n",
      "  # Remove the CWD from sys.path while we load stuff.\n"
     ]
    },
    {
     "data": {
      "text/plain": [
       "     fun: -28.88834585187914\n",
       "     jac: array([ -66.75990367,  -62.03153968,  353.20863819,  192.03945971,\n",
       "        611.32238531])\n",
       " message: 'Optimization terminated successfully.'\n",
       "    nfev: 9\n",
       "     nit: 1\n",
       "    njev: 1\n",
       "  status: 0\n",
       " success: True\n",
       "       x: array([  2.73493295e-02,   2.73493407e-02,   2.29670642e-07,\n",
       "         1.73027490e-07,   3.52066852e-07])"
      ]
     },
     "execution_count": 53,
     "metadata": {},
     "output_type": "execute_result"
    }
   ],
   "source": [
    "c0 = 8.314 * 1000 / 101325\n",
    "C0 = np.array([c0/3, c0/3, c0/3, 0, 0, 0, 0, 0]).T # mol/L\n",
    "xi0 = np.array([  2.73491513e-02,   2.73491638e-02,   2.54982169e-07,\n",
    "         1.92140243e-07,   3.90826435e-07]).T\n",
    "\n",
    "from scipy.optimize import minimize, fsolve\n",
    "\n",
    "def Gtotal(xi):\n",
    "    C = C0 + np.matmul(SC.T, xi)\n",
    "    y = C / np.sum(C)\n",
    "    G = G2 + 8.314 / 1000 * 1000 * np.log((y) * np.sum(C) / np.sum(C0))\n",
    "    return  np.matmul (G, C)\n",
    "\n",
    "def Cons1(xi):\n",
    "    C = C0 + np.matmul(SC.T, xi)\n",
    "    y = C / np.sum(C)\n",
    "    return  y\n",
    "\n",
    "def Cons2(xi):\n",
    "    C = C0 + np.matmul(SC.T, xi)\n",
    "    return  C\n",
    "\n",
    "bnds = ((0, 1), (0, 1), (0, 1), (0, 1), (0, 1))\n",
    "sol = minimize(Gtotal, xi0, bounds = bnds, constraints = ({'type': 'ineq', 'fun': Cons1}, {'type': 'ineq', 'fun': Cons2}))\n",
    "sol"
   ]
  },
  {
   "cell_type": "code",
   "execution_count": 55,
   "metadata": {},
   "outputs": [
    {
     "ename": "NameError",
     "evalue": "name 'C' is not defined",
     "output_type": "error",
     "traceback": [
      "\u001b[0;31m---------------------------------------------------------------------------\u001b[0m",
      "\u001b[0;31mNameError\u001b[0m                                 Traceback (most recent call last)",
      "\u001b[0;32m<ipython-input-55-7f48372055d4>\u001b[0m in \u001b[0;36m<module>\u001b[0;34m()\u001b[0m\n\u001b[1;32m      1\u001b[0m \u001b[0mC2\u001b[0m \u001b[0;34m=\u001b[0m \u001b[0mC0\u001b[0m \u001b[0;34m+\u001b[0m \u001b[0mnp\u001b[0m\u001b[0;34m.\u001b[0m\u001b[0mmatmul\u001b[0m\u001b[0;34m(\u001b[0m\u001b[0mSC\u001b[0m\u001b[0;34m.\u001b[0m\u001b[0mT\u001b[0m\u001b[0;34m,\u001b[0m \u001b[0msol\u001b[0m\u001b[0;34m.\u001b[0m\u001b[0mx\u001b[0m\u001b[0;34m)\u001b[0m\u001b[0;34m\u001b[0m\u001b[0m\n\u001b[1;32m      2\u001b[0m \u001b[0my2\u001b[0m \u001b[0;34m=\u001b[0m \u001b[0mC2\u001b[0m \u001b[0;34m/\u001b[0m \u001b[0mnp\u001b[0m\u001b[0;34m.\u001b[0m\u001b[0msum\u001b[0m\u001b[0;34m(\u001b[0m\u001b[0mC2\u001b[0m\u001b[0;34m)\u001b[0m\u001b[0;34m\u001b[0m\u001b[0m\n\u001b[0;32m----> 3\u001b[0;31m \u001b[0mP\u001b[0m \u001b[0;34m=\u001b[0m \u001b[0mnp\u001b[0m\u001b[0;34m.\u001b[0m\u001b[0msum\u001b[0m\u001b[0;34m(\u001b[0m\u001b[0mC\u001b[0m\u001b[0;34m)\u001b[0m \u001b[0;34m/\u001b[0m \u001b[0mnp\u001b[0m\u001b[0;34m.\u001b[0m\u001b[0msum\u001b[0m\u001b[0;34m(\u001b[0m\u001b[0mC0\u001b[0m\u001b[0;34m)\u001b[0m\u001b[0;34m\u001b[0m\u001b[0m\n\u001b[0m\u001b[1;32m      4\u001b[0m \u001b[0;34m\u001b[0m\u001b[0m\n\u001b[1;32m      5\u001b[0m \u001b[0mK\u001b[0m \u001b[0;34m=\u001b[0m \u001b[0;34m[\u001b[0m\u001b[0;36m0\u001b[0m\u001b[0;34m]\u001b[0m \u001b[0;34m*\u001b[0m \u001b[0;36m5\u001b[0m\u001b[0;34m\u001b[0m\u001b[0m\n",
      "\u001b[0;31mNameError\u001b[0m: name 'C' is not defined"
     ]
    }
   ],
   "source": [
    "C2 = C0 + np.matmul(SC.T, sol.x)\n",
    "y2 = C2 / np.sum(C2)\n",
    "P = np.sum(C2) / np.sum(C0) \n",
    "\n",
    "K = [0] * 5\n",
    "K[0] = y2[3]/y2[0]/y2[1]** 0.5 / P ** 0.5\n",
    "K[1] = y2[4]/y2[1] ** 0.5 / y2[2] / P ** 0.5\n",
    "K[2] = y2[5] * y2[1] ** 0.5 /y2[0] / y2[2] ** 2 / P ** 1.5\n",
    "K[3] = y2[6] / y2[0] / y2[2] / P\n",
    "K[4] = y2[1] ** 0.5 * y2[4] * y2[7] /y2[0] ** 2 / y2[2] ** 2 / P ** 0.5\n",
    "\n",
    "for i in range(5):\n",
    "    print('K{:1.0f} = '.format(i+1) + '{:1.2e}'.format(K[i]))"
   ]
  },
  {
   "cell_type": "markdown",
   "metadata": {},
   "source": [
    "## Part 4"
   ]
  },
  {
   "cell_type": "markdown",
   "metadata": {},
   "source": [
    "# The following reaction data was measured:\n",
    "\\begin{align*}\\ce{A + B &<=> C} && E_a=5 kJ/mol && \\Delta G = -10 kJ/mol\\\\\n",
    "\\ce{B + C &<=> 2D} && E_a=2 kJ/mol && \\Delta G = -15 kJ/mol\\\\\n",
    "\\ce{ B + 2D &<=> 2E} && E_a=10 kJ/mol && \\Delta G = 2 kJ/mol\\\\\n",
    "\\end{align*}"
   ]
  },
  {
   "cell_type": "markdown",
   "metadata": {},
   "source": [
    "#### Calculate the equilibrium constant for each reaction at 1000 K"
   ]
  },
  {
   "cell_type": "code",
   "execution_count": 9,
   "metadata": {},
   "outputs": [
    {
     "name": "stdout",
     "output_type": "stream",
     "text": [
      "Reaction 1 \t3.3294\n",
      "Reaction 2 \t6.0750\n",
      "Reaction 3 \t0.7862\n"
     ]
    }
   ],
   "source": [
    "Ea = np.array([5, 2, 10]).T # kJ/mol\n",
    "DG = np.array([-10, -15, 2]).T # kJ/mol\n",
    "\n",
    "K = np.exp(-DG/8.314/1000* 1000)\n",
    "\n",
    "for i in range(3):\n",
    "    print('Reaction {:1.0f} \\t'.format(i+1)+'{:1.4f}'.format(K[i]))"
   ]
  },
  {
   "cell_type": "markdown",
   "metadata": {},
   "source": [
    "#### Calculate the equilibrium mol fraction for an isomolar mixture of A,B,C,D,E at 1000 K and 1 atm. Assume isobaric and isothermal conditions and that the free energy of reaction does not change with reaction extent"
   ]
  },
  {
   "cell_type": "code",
   "execution_count": 10,
   "metadata": {},
   "outputs": [
    {
     "data": {
      "text/plain": [
       "array([ 0.01641056,  0.01641056,  0.01641056,  0.01641056,  0.01641056])"
      ]
     },
     "execution_count": 10,
     "metadata": {},
     "output_type": "execute_result"
    }
   ],
   "source": [
    "c0 = 8.314 * 1000 / 101325 / 5\n",
    "C0 = np.array([c0] * 5)\n",
    "C0"
   ]
  },
  {
   "cell_type": "code",
   "execution_count": 2,
   "metadata": {},
   "outputs": [
    {
     "ename": "NameError",
     "evalue": "name 'np' is not defined",
     "output_type": "error",
     "traceback": [
      "\u001b[0;31m---------------------------------------------------------------------------\u001b[0m",
      "\u001b[0;31mNameError\u001b[0m                                 Traceback (most recent call last)",
      "\u001b[0;32m<ipython-input-2-33ffd958a778>\u001b[0m in \u001b[0;36m<module>\u001b[0;34m()\u001b[0m\n\u001b[0;32m----> 1\u001b[0;31m SC = np.array([[-1, -1, 1, 0, 0],\n\u001b[0m\u001b[1;32m      2\u001b[0m               \u001b[0;34m[\u001b[0m\u001b[0;36m0\u001b[0m\u001b[0;34m,\u001b[0m \u001b[0;34m-\u001b[0m\u001b[0;36m1\u001b[0m\u001b[0;34m,\u001b[0m \u001b[0;34m-\u001b[0m\u001b[0;36m1\u001b[0m\u001b[0;34m,\u001b[0m \u001b[0;36m2\u001b[0m\u001b[0;34m,\u001b[0m \u001b[0;36m0\u001b[0m\u001b[0;34m]\u001b[0m\u001b[0;34m,\u001b[0m\u001b[0;34m\u001b[0m\u001b[0m\n\u001b[1;32m      3\u001b[0m               [0, -1, 0, -2, 2]]).T\n\u001b[1;32m      4\u001b[0m \u001b[0;34m\u001b[0m\u001b[0m\n\u001b[1;32m      5\u001b[0m \u001b[0mxi0\u001b[0m \u001b[0;34m=\u001b[0m \u001b[0mnp\u001b[0m\u001b[0;34m.\u001b[0m\u001b[0marray\u001b[0m\u001b[0;34m(\u001b[0m\u001b[0;34m[\u001b[0m\u001b[0mc0\u001b[0m\u001b[0;34m/\u001b[0m\u001b[0;36m2\u001b[0m\u001b[0;34m,\u001b[0m \u001b[0mc0\u001b[0m\u001b[0;34m/\u001b[0m\u001b[0;36m2\u001b[0m\u001b[0;34m,\u001b[0m \u001b[0;36m10\u001b[0m \u001b[0;34m**\u001b[0m \u001b[0;34m-\u001b[0m\u001b[0;36m6\u001b[0m\u001b[0;34m]\u001b[0m\u001b[0;34m)\u001b[0m\u001b[0;34m\u001b[0m\u001b[0m\n",
      "\u001b[0;31mNameError\u001b[0m: name 'np' is not defined"
     ]
    }
   ],
   "source": [
    "SC = np.array([[-1, -1, 1, 0, 0],\n",
    "              [0, -1, -1, 2, 0],\n",
    "              [0, -1, 0, -2, 2]]).T\n",
    "\n",
    "xi0 = np.array([c0/2, c0/2, 10 ** -6])\n",
    "\n",
    "def Gmin(xi):\n",
    "    C = C0 + np.matmul(SC, xi)\n",
    "    y = C / sum(C)\n",
    "    m = [0] * 3\n",
    "    m[0] = K[0] - y[2]/y[0]/y[1]\n",
    "    m[1] = K[1] - y[3] ** 2 /y[1]/y[2]\n",
    "    m[2] = K[2] - y[4] ** 2/y[1]/y[3]** 2\n",
    "    return m\n",
    "\n",
    "Gmin_sol = fsolve(Gmin, xi0)"
   ]
  },
  {
   "cell_type": "code",
   "execution_count": 12,
   "metadata": {},
   "outputs": [
    {
     "data": {
      "text/plain": [
       "array([ 0.00820528,  0.        ,  0.01641056,  0.03282112,  0.01641056])"
      ]
     },
     "execution_count": 12,
     "metadata": {},
     "output_type": "execute_result"
    }
   ],
   "source": [
    "np.matmul(SC, xi0) + C0"
   ]
  },
  {
   "cell_type": "markdown",
   "metadata": {},
   "source": [
    "#### Plot the equilibrium conversion as a function of temperature from 800 K to 1000 K"
   ]
  },
  {
   "cell_type": "code",
   "execution_count": 13,
   "metadata": {},
   "outputs": [],
   "source": [
    "def Gmin_KT(xi, KT):\n",
    "    C = C0 + np.matmul(SC, xi)\n",
    "    y = C / sum(C)\n",
    "    m = [0] * 3\n",
    "    m[0] = K[0] - y[2]/y[0]/y[1]\n",
    "    m[1] = K[1] - y[3] ** 2 /y[1]/y[2]\n",
    "    m[2] = K[2] - y[4] ** 2/y[1]/y[3]** 2\n",
    "    return m"
   ]
  },
  {
   "cell_type": "code",
   "execution_count": 14,
   "metadata": {},
   "outputs": [
    {
     "name": "stderr",
     "output_type": "stream",
     "text": [
      "/opt/conda/lib/python3.6/site-packages/ipykernel_launcher.py:5: RuntimeWarning: divide by zero encountered in double_scalars\n",
      "  \"\"\"\n",
      "/opt/conda/lib/python3.6/site-packages/ipykernel_launcher.py:6: RuntimeWarning: divide by zero encountered in double_scalars\n",
      "  \n",
      "/opt/conda/lib/python3.6/site-packages/ipykernel_launcher.py:7: RuntimeWarning: divide by zero encountered in double_scalars\n",
      "  import sys\n",
      "/opt/conda/lib/python3.6/site-packages/scipy/optimize/minpack.py:161: RuntimeWarning: The iteration is not making good progress, as measured by the \n",
      "  improvement from the last ten iterations.\n",
      "  warnings.warn(msg, RuntimeWarning)\n"
     ]
    },
    {
     "data": {
      "image/png": "[encoded data removed]",
      "text/plain": [
       "<matplotlib.figure.Figure at 0x7f948ae4e5f8>"
      ]
     },
     "metadata": {},
     "output_type": "display_data"
    }
   ],
   "source": [
    "def Gmin_T(T):\n",
    "    KT = np.exp(DG/8.314/ T * 1000)\n",
    "    sol = fsolve(Gmin_KT, Gmin_sol, args=KT)\n",
    "    return sol\n",
    "\n",
    "Tspan = np.linspace(800, 1000)\n",
    "xi_sol = list(map(Gmin_T, Tspan))\n",
    "plt.plot(Tspan, xi_sol)\n",
    "plt.show()"
   ]
  }
 ],
 "metadata": {
  "kernelspec": {
   "display_name": "Python 3",
   "language": "python",
   "name": "python3"
  },
  "language_info": {
   "codemirror_mode": {
    "name": "ipython",
    "version": 3
   },
   "file_extension": ".py",
   "mimetype": "text/x-python",
   "name": "python",
   "nbconvert_exporter": "python",
   "pygments_lexer": "ipython3",
   "version": "3.6.2"
  },
  "toc": {
   "colors": {
    "hover_highlight": "#DAA520",
    "navigate_num": "#000000",
    "navigate_text": "#333333",
    "running_highlight": "#FF0000",
    "selected_highlight": "#FFD700",
    "sidebar_border": "#EEEEEE",
    "wrapper_background": "#FFFFFF"
   },
   "moveMenuLeft": true,
   "nav_menu": {
    "height": "188px",
    "width": "252px"
   },
   "navigate_menu": true,
   "number_sections": false,
   "sideBar": true,
   "threshold": 4,
   "toc_cell": false,
   "toc_section_display": "block",
   "toc_window_display": false,
   "widenNotebook": false
  }
 },
 "nbformat": 4,
 "nbformat_minor": 2
}
