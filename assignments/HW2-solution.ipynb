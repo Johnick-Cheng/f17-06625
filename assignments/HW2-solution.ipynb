{
 "cells": [
  {
   "cell_type": "markdown",
   "metadata": {},
   "source": [
    "# Problem 1:  Reaction extent"
   ]
  },
  {
   "cell_type": "markdown",
   "metadata": {},
   "source": [
    "## Problem 1A\n",
    "Ammonia has been proposed as a chemical to store hydrogen for a hydrogen fuel cell due its favorable volumetric hydrogen density. Write down the stoichiometric vector for the thermal decomposition of ammonia to nitrogen and hydrogen."
   ]
  },
  {
   "cell_type": "markdown",
   "metadata": {},
   "source": [
    "${2\\;NH_3 \\rightarrow N_2 + 3\\;H_2}$"
   ]
  },
  {
   "cell_type": "raw",
   "metadata": {},
   "source": [
    "[-2, 1, 3]"
   ]
  },
  {
   "cell_type": "markdown",
   "metadata": {},
   "source": [
    "## Problem 1B\n",
    "Suppose that we know the initial gas concentration of ammonia in a tank is 100 mol/L, and the fractional reaction extent proceeds as $\\Xi=(1-e^{-3t^3})$ where $t$ is the time in seconds.  Plot the concentration of ammonia, nitrogen, and hydrogen as a function of time over the first 2 seconds.  Label the plot with a legend to indicate the species.  "
   ]
  },
  {
   "cell_type": "markdown",
   "metadata": {},
   "source": [
    "From class, we know that\n",
    "\\begin{equation}\n",
    "C_J = C_{J,0} + \\alpha_J \\xi\n",
    "\\end{equation}\n",
    "So how do we find $\\xi$? We use the other equation:\n",
    "\\begin{equation}\n",
    "\\Xi = \\xi / \\xi_{max}\n",
    "\\end{equation}\n",
    "and rearrange it to:\n",
    "\\begin{equation}\n",
    "\\xi = \\Xi \\cdot\\xi_{max}\n",
    "\\end{equation}\n",
    "So how do we find $\\xi_{max}$? Use:\n",
    "\\begin{equation}\n",
    "\\xi_{max} = -\\frac{C_{J,0}}{\\alpha_J}\n",
    "\\end{equation}\n",
    "Let's put it all together:\n",
    "\\begin{equation}\n",
    "C_J = C_{J,0} + \\alpha_J \\Xi \\biggl(-\\frac{C_{J,0}}{\\alpha_J}\\biggr)\n",
    "\\end{equation}\n",
    "We can generalize this to:\n",
    "\\begin{equation}\n",
    "C_i = C_{i,0} + \\alpha_i \\Xi \\biggl(-\\frac{C_{J,0}}{\\alpha_J}\\biggr)\n",
    "\\end{equation}\n",
    "where i is any species and J is the limiting reactant"
   ]
  },
  {
   "cell_type": "code",
   "execution_count": 32,
   "metadata": {
    "ExecuteTime": {
     "end_time": "2017-09-11T21:13:52.453159Z",
     "start_time": "2017-09-11T21:13:51.621996Z"
    },
    "scrolled": true
   },
   "outputs": [
    {
     "data": {
      "image/png": "[encoded data removed]",
      "text/plain": [
       "<matplotlib.figure.Figure at 0x10c038150>"
      ]
     },
     "metadata": {},
     "output_type": "display_data"
    }
   ],
   "source": [
    "import numpy as np\n",
    "import matplotlib.pyplot as plt\n",
    "\n",
    "# The stoichiometric vector for thermal decomposition of ammonia\n",
    "alpha = np.array([-2, 1, 3])\n",
    "# The initial concentrations of ammonia, nitrogen, and hydrogen (mol/L)\n",
    "C0 = [100, 0, 0]\n",
    "\n",
    "def X(t):\n",
    "    ''' Function to calculate the extent of reaction given time, t '''\n",
    "    return (1-np.exp(-3*t**3))\n",
    "\n",
    "def C(t):\n",
    "    ''' Function to calculate the vector of species concentrations given time, t '''\n",
    "    return C0 + X(t)*alpha*(C0[0]/-alpha[0])\n",
    "\n",
    "Csave = []\n",
    "Xsave = []\n",
    "trange = np.arange(0, 2, 0.1)\n",
    "for t in trange:\n",
    "    Xsave.append(X(t))\n",
    "    Csave.append(C(t))\n",
    "\n",
    "fig, ax1 = plt.subplots()\n",
    "ax1.plot(trange, Csave)\n",
    "ax1.set_xlabel('Time [s]')\n",
    "ax1.set_ylabel('Concentration [mol/L]')\n",
    "ax1.legend(labels=['NH3', 'N2', 'H2'])\n",
    "plt.show()"
   ]
  },
  {
   "cell_type": "markdown",
   "metadata": {},
   "source": [
    "## Problem 1C\n",
    "The operator is worried that if the reaction continues to full extent the increase in the number of moles will drive the pressure too high.  Calculate the time it will take to achieve a 50% higher pressure in the reactor (assuming ideal gas) due to the increase in the number of moles, using fsolve."
   ]
  },
  {
   "cell_type": "code",
   "execution_count": 2,
   "metadata": {
    "ExecuteTime": {
     "end_time": "2017-09-11T17:58:03.688011Z",
     "start_time": "2017-09-11T17:58:03.356264Z"
    }
   },
   "outputs": [
    {
     "name": "stdout",
     "output_type": "stream",
     "text": [
      "50% increase in pressure at 0.61s\n"
     ]
    }
   ],
   "source": [
    "from scipy.optimize import fsolve\n",
    "\n",
    "def Nmol(t):\n",
    "    '''\n",
    "    This function calculates the total number of moles in the system as a function of time\n",
    "    '''\n",
    "    return np.sum(C(t))\n",
    "\n",
    "def objective(t):\n",
    "    '''\n",
    "    This is our objective function; we want to find when the total number of moles\n",
    "    in the system reaches 150\n",
    "    '''\n",
    "    return Nmol(t) - 150\n",
    "\n",
    "t50, = fsolve(objective, 0.5)\n",
    "print('50% increase in pressure at {0:.2f}s'.format(t50))"
   ]
  },
  {
   "cell_type": "markdown",
   "metadata": {},
   "source": [
    "# Problem 2:  Stoichiometry of reaction systems"
   ]
  },
  {
   "cell_type": "markdown",
   "metadata": {},
   "source": [
    "## Problem 2A\n",
    "Suppose we have a reactor with a number of possible reactions:\n",
    "1. ${H_2O + CO \\leftrightarrow H_2 + CO_2 }$\n",
    "\n",
    "1. ${CO_2 \\leftrightarrow C + O_2 }$\n",
    "\n",
    "1. ${O_2 + 2\\; H_2 \\leftrightarrow 2\\; H_2O}$\n",
    "\n",
    "1. ${CO + 1/2\\; O_2 \\leftrightarrow CO_2}$\n",
    "\n",
    "1. ${C + 2\\; H_2 \\leftrightarrow CH_4}$\n",
    "\n",
    "1. ${CH4 + 2\\; O_2\\leftrightarrow CO_2 + 2\\; H_2O}$\n",
    "\n",
    "For each reaction, write the stoichiometric coefficients in vector form in the form\n",
    "\n",
    "[${H_2O,\\; CO,\\; H_2,\\; CO_2,\\; C,\\; O_2,\\; CH_4}$]"
   ]
  },
  {
   "cell_type": "raw",
   "metadata": {},
   "source": [
    "1. [-1,-1, 1, 1, 0, 0,  0]\n",
    "2. [ 0, 0, 0,-1, 1, 1,  0]\n",
    "3. [ 2, 0,-2, 0, 0,-1,  0]\n",
    "4. [ 0,-1, 0, 1, 0,-1/2,0]\n",
    "5. [ 0, 0,-2, 0,-1, 0,  1]\n",
    "6. [ 2, 0, 0, 1, 0,-2, -1]"
   ]
  },
  {
   "cell_type": "markdown",
   "metadata": {},
   "source": [
    "## Problem 2B\n",
    "Stack these vectors vertically to form a matrix of reaction coefficients $\\mathbf{M}$ for this system (each column corresponds to a reaction)"
   ]
  },
  {
   "cell_type": "code",
   "execution_count": 3,
   "metadata": {
    "ExecuteTime": {
     "end_time": "2017-09-11T17:58:03.705812Z",
     "start_time": "2017-09-11T17:58:03.691400Z"
    }
   },
   "outputs": [
    {
     "name": "stdout",
     "output_type": "stream",
     "text": [
      "[[-1  0  2  0  0  2]\n",
      " [-1  0  0 -1  0  0]\n",
      " [ 1  0 -2  0 -2  0]\n",
      " [ 1 -1  0  1  0  1]\n",
      " [ 0  1  0  0 -1  0]\n",
      " [ 0  1 -1 -1  0 -2]\n",
      " [ 0  0  0  0  1 -1]]\n"
     ]
    }
   ],
   "source": [
    "import numpy as np\n",
    "M = np.array([[-1,-1, 1, 1, 0,   0,  0],\n",
    "              [ 0, 0, 0,-1, 1,   1,  0],\n",
    "              [ 2, 0,-2, 0, 0,  -1,  0],\n",
    "              [ 0,-1, 0, 1, 0,-1/2,  0],\n",
    "              [ 0, 0,-2, 0,-1,   0,  1],\n",
    "              [ 2, 0, 0, 1, 0,  -2, -1]]).transpose()\n",
    "print(M)"
   ]
  },
  {
   "cell_type": "markdown",
   "metadata": {},
   "source": [
    "## Problem 2C\n",
    "This matrix has a lot of information embedded in it. Suppose we want to turn methane into syngas ($H_2$ and $CO$):\n",
    "\\begin{align}\n",
    "CH_4 + O_2 \\rightarrow H_2 + CO + H_2O\n",
    "\\end{align}\n",
    "and we can control the extent of each reaction. Is there a set of reaction extents that we can use to effectively yield the reaction above? We can represent this as searching for a linear combination of the known reactions that will form this new reaction:\n",
    "\\begin{align}\n",
    "\\text{Desired reaction}=\\begin{pmatrix}1\\\\ 1\\\\ 1\\\\0\\\\0\\\\-1\\\\-1\\end{pmatrix} = \\mathbf{M}\\Xi\n",
    "\\end{align}\n",
    "\n",
    "Where $\\Xi$ is a vector of reaction extents. Find the reaction extents that lead to a solution to this equation using [`numpy.linalg.lstsq`](https://docs.scipy.org/doc/scipy/reference/generated/scipy.linalg.lstsq.html)."
   ]
  },
  {
   "cell_type": "code",
   "execution_count": 4,
   "metadata": {
    "ExecuteTime": {
     "end_time": "2017-09-11T17:58:03.720127Z",
     "start_time": "2017-09-11T17:58:03.709133Z"
    },
    "scrolled": true
   },
   "outputs": [
    {
     "name": "stdout",
     "output_type": "stream",
     "text": [
      "Vector of reaction extents:\n",
      "[ -1.00000000e+00  -5.00000000e-01  -5.00000000e-01   2.33146835e-15\n",
      "  -5.00000000e-01   5.00000000e-01]\n"
     ]
    }
   ],
   "source": [
    "from numpy.linalg import lstsq\n",
    "\n",
    "# `b` is the vector for the effective reaction that we are trying to create\n",
    "b = np.array([1, 1, 1, 0, 0, -1, -1])\n",
    "# `x` is the linear combination of the original reactions we need to create `b`\n",
    "x, residuals, rank, s = lstsq(M, b)\n",
    "print('Vector of reaction extents:\\n%s' % x)"
   ]
  },
  {
   "cell_type": "markdown",
   "metadata": {},
   "source": [
    "## Problem 2D\n",
    "Check that the numerical solution yields the desired final reaction using np.matmul"
   ]
  },
  {
   "cell_type": "code",
   "execution_count": 5,
   "metadata": {
    "ExecuteTime": {
     "end_time": "2017-09-11T17:58:03.731440Z",
     "start_time": "2017-09-11T17:58:03.724388Z"
    }
   },
   "outputs": [
    {
     "name": "stdout",
     "output_type": "stream",
     "text": [
      "[  1.00000000e+00   1.00000000e+00   1.00000000e+00  -1.77635684e-15\n",
      "  -3.33066907e-16  -1.00000000e+00  -1.00000000e+00]\n"
     ]
    }
   ],
   "source": [
    "print(np.matmul(M, x))"
   ]
  },
  {
   "cell_type": "markdown",
   "metadata": {},
   "source": [
    "## Problem 2E\n",
    "The same final reaction could be arrived at with R1 + R6 - 2R4.  How many different ways do you think you could arrive at the same reaction? Why are there multiple combinations?"
   ]
  },
  {
   "cell_type": "markdown",
   "metadata": {},
   "source": [
    "Answer involving the number of reactions, plus the three conservation relations (for each species C/H/O) being greater than the number of species, and explaining that there's an infinite space of combinations that would do this reaction"
   ]
  },
  {
   "cell_type": "markdown",
   "metadata": {},
   "source": [
    "## Problem 2F\n",
    "Finally, imagine that only three of the six reactions are kinetically feasible:\n",
    "1. $H_2O + CO \\leftrightarrow H_2 + CO_2$\n",
    "\n",
    "1. $O_2 + 2\\; H_2 \\leftrightarrow 2\\; H_2O$\n",
    "\n",
    "1. $CH_4 + 2\\;O_2 \\leftrightarrow CO_2 + 2\\; H_2O$\n",
    "\n",
    "Repeat the analysis with this subset of reactions to identify a new vector of reaction extents that would be necessary to yield the reaction in Part 2C."
   ]
  },
  {
   "cell_type": "code",
   "execution_count": 6,
   "metadata": {
    "ExecuteTime": {
     "end_time": "2017-09-11T17:58:03.753677Z",
     "start_time": "2017-09-11T17:58:03.735073Z"
    }
   },
   "outputs": [
    {
     "name": "stdout",
     "output_type": "stream",
     "text": [
      "[-1. -1.  1.]\n"
     ]
    }
   ],
   "source": [
    "import numpy as np\n",
    "M = np.array([[-1, -1,  1, 1, 0,  0,  0],\n",
    "              [2,   0, -2, 0, 0, -1,  0],\n",
    "              [2,   0,  0, 1, 0, -2, -1]]).transpose()\n",
    "b = np.array([1,1,1,0,0,-1,-1])\n",
    "x, residuals, rank, s = lstsq(M, b)\n",
    "print(x)"
   ]
  }
 ],
 "metadata": {
  "kernelspec": {
   "display_name": "Python 2",
   "language": "python",
   "name": "python2"
  },
  "language_info": {
   "codemirror_mode": {
    "name": "ipython",
    "version": 2
   },
   "file_extension": ".py",
   "mimetype": "text/x-python",
   "name": "python",
   "nbconvert_exporter": "python",
   "pygments_lexer": "ipython2",
   "version": "2.7.13"
  },
  "toc": {
   "colors": {
    "hover_highlight": "#DAA520",
    "navigate_num": "#000000",
    "navigate_text": "#333333",
    "running_highlight": "#FF0000",
    "selected_highlight": "#FFD700",
    "sidebar_border": "#EEEEEE",
    "wrapper_background": "#FFFFFF"
   },
   "moveMenuLeft": true,
   "nav_menu": {
    "height": "173px",
    "width": "252px"
   },
   "navigate_menu": true,
   "number_sections": true,
   "sideBar": true,
   "threshold": 4,
   "toc_cell": false,
   "toc_section_display": "block",
   "toc_window_display": false,
   "widenNotebook": false
  }
 },
 "nbformat": 4,
 "nbformat_minor": 2
}
