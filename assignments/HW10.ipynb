{
 "cells": [
  {
   "cell_type": "markdown",
   "metadata": {},
   "source": [
    "$$\\require{mhchem}$$       "
   ]
  },
  {
   "cell_type": "markdown",
   "metadata": {},
   "source": [
    "# Transient CSTR\n",
    "\n",
    "Consider a transient CSTR with the following kinetics:\n",
    "\\begin{align*}\n",
    "\\ce{A->[k]B}\n",
    "\\end{align*}\n",
    "There is an inlet feed at temperature $T_0$, with a concentration $C_{A,0}$.\n",
    "The various parameters are\n",
    "\n",
    "| Parameter        | Value  $\\quad\\quad\\quad$          | Units    |\n",
    "|----------------|------------------|----------|\n",
    "| $T_0$        | 298              | K        |\n",
    "| $T_m$        | 298              | K        |\n",
    "| $\\hat{C}_p$    | 4.0              | kJ/kg K  |\n",
    "| $C_{A,0}$       | 2.0              | kmol/m$^3$ |\n",
    "| $k_m \\: (T_m)$     | 0.004            | 1/min    |\n",
    "| E            | $1.5 \\times 10^4$ | K        |\n",
    "| $\\rho$       | $10^3$           | kg/m$^3$   |\n",
    "| $\\Delta H_R$ | $-2.2 \\times 10^5$  | kJ/kmol  |\n",
    "| U | 340 | kJ/min/K|\n",
    "\n",
    "You can assume a reactor size of 1 m$^3$. The residence time ($\\tau$) is 30 min, and from that the volumetric feed rate can be calculated ($\\nu=V/\\tau$). Heat is transferred to the reactor with a cooling jacket with heat transfer coefficient $U$ and a set point of $T_{set}=298$ K."
   ]
  },
  {
   "cell_type": "markdown",
   "metadata": {},
   "source": [
    "#### Calculate the concentration and temperature profile for the first 500 minutes."
   ]
  },
  {
   "cell_type": "markdown",
   "metadata": {},
   "source": [
    "#### Calculate a steady state solution for $C_{A,0}$ and temperature, T. Use $C_{A,0}$ as an initial guess for $C_A$, and use $T_0$ as an initial guess for $T$. "
   ]
  },
  {
   "cell_type": "markdown",
   "metadata": {},
   "source": [
    "#### Assume that operation starts with the concentration of species A ($C_A$) and temperature (T) at the steady-state values you calculated above. Plot $C_A$ and T for the first 1000 minutes."
   ]
  },
  {
   "cell_type": "markdown",
   "metadata": {},
   "source": [
    "#### Now plot $C_A$ and T again, but perturb\\* the initial concentration of A by +0.001 M, and perturb\\* the initial temperature by +0.001 K. Do you think that it would be feasible to maintain the process at the steady-state conditions you found above? Why or why not?\n",
    "\n",
    "*In this case, \"perturb\" means to simply change the value by a small amount"
   ]
  },
  {
   "cell_type": "markdown",
   "metadata": {},
   "source": [
    "#### Vary the residence time from 5 to 30 and identify the residence time at which the steady state becomes stable (to the nearest minute)."
   ]
  }
 ],
 "metadata": {
  "kernelspec": {
   "display_name": "Python 2",
   "language": "python",
   "name": "python2"
  },
  "language_info": {
   "codemirror_mode": {
    "name": "ipython",
    "version": 2
   },
   "file_extension": ".py",
   "mimetype": "text/x-python",
   "name": "python",
   "nbconvert_exporter": "python",
   "pygments_lexer": "ipython2",
   "version": "2.7.13"
  },
  "toc": {
   "colors": {
    "hover_highlight": "#DAA520",
    "navigate_num": "#000000",
    "navigate_text": "#333333",
    "running_highlight": "#FF0000",
    "selected_highlight": "#FFD700",
    "sidebar_border": "#EEEEEE",
    "wrapper_background": "#FFFFFF"
   },
   "moveMenuLeft": true,
   "nav_menu": {
    "height": "155px",
    "width": "252px"
   },
   "navigate_menu": true,
   "number_sections": true,
   "sideBar": true,
   "threshold": 4,
   "toc_cell": false,
   "toc_section_display": "block",
   "toc_window_display": false,
   "widenNotebook": false
  }
 },
 "nbformat": 4,
 "nbformat_minor": 2
}
