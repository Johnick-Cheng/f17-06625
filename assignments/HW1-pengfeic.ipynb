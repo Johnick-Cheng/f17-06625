{
 "cells": [
  {
   "cell_type": "markdown",
   "metadata": {},
   "source": [
    "# <center>06625 Homework 1</center>\n",
    "### <center>Pengfei Cheng</center>\n",
    "### <center>AndrewID: pengfeic</center>\n",
    "<br>"
   ]
  },
  {
   "cell_type": "markdown",
   "metadata": {},
   "source": [
    "<b>NOTE</b>: Please use '<b>Restart & Run All</b>' to make sure the codes will be run correctly, because some of the variables are from different cells."
   ]
  },
  {
   "cell_type": "markdown",
   "metadata": {},
   "source": [
    "## Python/$\\mathrm{\\LaTeX{}}$ practice\n",
    "### 1. Posting questions on Piazza\n",
    "\n",
    "[Little confused by the instruction 'use a pre-built method from built-in python libraries'](https://piazza.com/class/j6p3yowr9tv4mq?cid=10)\n",
    "\n",
    "### 2. $\\mathrm{\\LaTeX{}}$ practice\n",
    "\n",
    "1)\n",
    "\\begin{equation}\n",
    "  \\left\\{\\begin{array}{l}\n",
    "  \t\\displaystyle \\frac{\\mathrm{d}V}{\\mathrm{d}t} = q_\\mathrm{in} - q \\\\\n",
    "  \tq (s) = h (s) q_{\\mathrm{in}} (s) \\\\\n",
    "    h (s) = 1/(\\tau_2 s + 1)^2 \\\\\n",
    "  \t\\displaystyle \\frac{\\mathrm{d}q_{\\mathrm{in}}}{\\mathrm{d}t} = f(t) \\\\\n",
    "  \\end{array}\n",
    "  \\right.\n",
    "\\end{equation}\n",
    "<br><br>\n",
    "\n",
    "2)\n",
    "\\begin{equation}\n",
    "\t\\min_{u(t)} J(x(t),u(t),y(t))\n",
    "\\end{equation}\n",
    "\n",
    "\\begin{equation}\n",
    "s.t.\n",
    "\\left\\{\\begin{array}{l}\n",
    "\tx(t)=f(x(t),u(t),t) \\\\\n",
    "\ty(t)=g(x(t),u(t),t) \\\\\n",
    "\t(x(t),u(t),y(t))\\in\\Omega_{x,u,y} \\\\\n",
    "\t0<t<T \\\\\n",
    "\\end{array}\n",
    "\\right.\n",
    "\\end{equation}\n",
    "\n",
    "<br><br>\n",
    "\n",
    "3)\n",
    "\\begin{equation}\n",
    "    Y_{bp}^{(i)}=G_{33}^{(i)}(s)U_3^{(3)}(s)=[g^{(i)}_{33FS}(s)g^{(i)}_{33DS}(s)]=\n",
    "        \\left [\n",
    "        \\begin{array}{l}\n",
    "        g^{(i)}_{3FS}(s) \\\\\n",
    "        g^{(i)}_{3DS}(s)\n",
    "    \\end{array}\\right]\n",
    "\\end{equation}\n",
    "\n",
    "<br><br>\n",
    "\n",
    "4)\n",
    "\\begin{equation}\n",
    "    \\max \\sum_{j=1}^J \\bar{C_j} \\left [\\theta_j - \\sigma_j L \\left (\\frac{P_j -\\theta_j}{\\sigma_j} \\right ) \\right ] + \\sum^H_{h=1} \\bar{C_h} P_h + \\mathrm{other \\ revenues} - \\sum_{m=1}^M \\bar{C_m} \\left [\\theta_m - \\sigma_m L \\left (\\frac{R_m -\\theta_m}{\\sigma_m} \\right ) \\right ] - \\sum^N_{n=1} \\bar{C_n} R_n - \\sum_{l=1}^L \\bar{C_l} \\left [\\theta_l - \\sigma_l L \\left (\\frac{U_l -\\theta_l}{\\sigma_l} \\right ) \\right ] - \\sum^K_{k=1} \\bar{C_k} R_k - \\mathrm{other \\ costs}\n",
    "\\end{equation}\n",
    "\n",
    "<br><br>\n",
    "\n",
    "5)\n",
    "\\begin{equation}\n",
    "    f_Z (t) = f_X (t) f_Y (t) = \\int_{-\\infty}^{+\\infty} f_X (u) f_Y(t-u) \\mathrm{d}u\n",
    "\\end{equation}"
   ]
  },
  {
   "cell_type": "markdown",
   "metadata": {},
   "source": [
    "## The Fibonacci Sequence\n",
    "\n",
    "<b>Goal</b>: to get the first 10 elements in the Fibonacci Sequence.\n",
    "\n",
    "### 1. Regular Method"
   ]
  },
  {
   "cell_type": "code",
   "execution_count": 1,
   "metadata": {},
   "outputs": [
    {
     "name": "stdout",
     "output_type": "stream",
     "text": [
      "The first 10 elements in the Fibonacci Sequence are [1, 1, 2, 3, 5, 8, 13, 21, 34, 55].\n"
     ]
    }
   ],
   "source": [
    "FS1 = [1,1] + [None] * 8 # define the list\n",
    "\n",
    "for i in range(8):\n",
    "    FS1[i+2] = FS1[i+1] + FS1[i]\n",
    "\n",
    "print('The first 10 elements in the Fibonacci Sequence are ' + str(FS1) + '.')"
   ]
  },
  {
   "cell_type": "markdown",
   "metadata": {},
   "source": [
    "### 2. Bonus"
   ]
  },
  {
   "cell_type": "code",
   "execution_count": 2,
   "metadata": {},
   "outputs": [
    {
     "name": "stdout",
     "output_type": "stream",
     "text": [
      "The first 10 elements in the Fibonacci Sequence are [1, 1, 2, 3, 5, 8, 13, 21, 34, 55].\n"
     ]
    }
   ],
   "source": [
    "FS2 = [1,1] + [None] * 8 # define the list\n",
    "\n",
    "def Fun(i):\n",
    "    return FS2[i-1] + FS2[i-2]\n",
    "\n",
    "# define the recursive function\n",
    "\n",
    "for i in range(2,10):\n",
    "    FS2[i] = Fun(i)\n",
    "\n",
    "print('The first 10 elements in the Fibonacci Sequence are '+str(FS2)+'.')"
   ]
  },
  {
   "cell_type": "markdown",
   "metadata": {},
   "source": [
    "## Integration in Python\n",
    "\n",
    "<b>Goal</b>: to evaluate $\\int_1^{10} f(x)$, where $f(x) = x^2 + e^{-x} + 10/x$."
   ]
  },
  {
   "cell_type": "code",
   "execution_count": 3,
   "metadata": {},
   "outputs": [],
   "source": [
    "import numpy as np\n",
    "from scipy.integrate import quad\n",
    "import matplotlib.pyplot as plt\n",
    "\n",
    "# import packages for the 'Integration in Python' part"
   ]
  },
  {
   "cell_type": "markdown",
   "metadata": {},
   "source": [
    "### 1. Analytical Method\n",
    "$f(x)$ is integrated by hand in this way:"
   ]
  },
  {
   "cell_type": "markdown",
   "metadata": {},
   "source": [
    "\\begin{equation}\n",
    "        \\int_1^{10} f(x) = \\int_1^{10} \\left (x^2 + e^{-x} + \\frac {10}{x} \\right)  = \\left. \\left ( \\frac {1} {3} x^3 - e^{-x} + 10 \\ln(x) \\right ) \\right | _1 ^ {10}\n",
    "\\end{equation}"
   ]
  },
  {
   "cell_type": "code",
   "execution_count": 4,
   "metadata": {},
   "outputs": [
    {
     "name": "stdout",
     "output_type": "stream",
     "text": [
      "The answer from the analytical method is 356.39.\n"
     ]
    }
   ],
   "source": [
    "def PF(x):\n",
    "    return 1/3*x**3 - np.exp(-x) + 10 * np.log(x)\n",
    "\n",
    "# define the primitive function\n",
    "\n",
    "Aresult = PF(10) - PF(1) # the result of the analytical method\n",
    "\n",
    "print('The answer from the analytical method is {:3.2f}'.format(Aresult) + '.')"
   ]
  },
  {
   "cell_type": "markdown",
   "metadata": {},
   "source": [
    "### 2. Using Trapezoidal Rule"
   ]
  },
  {
   "cell_type": "code",
   "execution_count": 5,
   "metadata": {},
   "outputs": [
    {
     "name": "stdout",
     "output_type": "stream",
     "text": [
      "The answer when using trapezoidal rule is 367.40.\n"
     ]
    }
   ],
   "source": [
    "tp = np.linspace (1, 10, num = 5) # define the trapezoidal points\n",
    "\n",
    "s = [None] * 4 # difine the areas of the trapezoids\n",
    "S = 0 # define the total area\n",
    "\n",
    "def id(x):\n",
    "    return x**2 + np.exp(-x) + 10/x\n",
    "\n",
    "# difine the integrand\n",
    "\n",
    "for i in range (4):\n",
    "    S += 1/2 * (id(tp[i]) + id(tp[i+1])) * (tp[i+1] - tp[i])\n",
    "\n",
    "print ('The answer when using trapezoidal rule is {:3.2f}'.format(S) + '.')"
   ]
  },
  {
   "cell_type": "markdown",
   "metadata": {},
   "source": [
    "### 3. Using Trapezoidal Rule with Different Numbers of Evenly-spaced Points"
   ]
  },
  {
   "cell_type": "code",
   "execution_count": 6,
   "metadata": {
    "scrolled": true
   },
   "outputs": [
    {
     "data": {
      "image/png": "[encoded data removed]",
      "text/plain": [
       "<matplotlib.figure.Figure at 0x7fbb4ebc3470>"
      ]
     },
     "metadata": {},
     "output_type": "display_data"
    }
   ],
   "source": [
    "def id(x):\n",
    "    return x**2 + np.exp(-x) + 10/x\n",
    "\n",
    "# difine the integrand\n",
    "\n",
    "S = [0] * 98 # difine the list of areas of the trapezoids\n",
    "dS = [0] * 98 # define the list of total areas\n",
    "\n",
    "for i in range (3, 101):\n",
    "    tp = np.linspace (1, 10, num = i)\n",
    "    s = [0] * (i - 1)\n",
    "    for j in range (i-1):\n",
    "        S[i-3] += 1/2 * (id(tp[j]) + id(tp[j+1])) * (tp[j+1] - tp[j])\n",
    "        \n",
    "plt.semilogy ([n for n in range(3, 101)], S - Aresult, 'b-')\n",
    "plt.xlabel('Numbers of Evenly-spaced Points')\n",
    "plt.ylabel('error between numerical & analytical methods')\n",
    "plt.show()"
   ]
  },
  {
   "cell_type": "markdown",
   "metadata": {},
   "source": [
    "### 4. Using scipy.integrate"
   ]
  },
  {
   "cell_type": "code",
   "execution_count": 7,
   "metadata": {},
   "outputs": [
    {
     "name": "stdout",
     "output_type": "stream",
     "text": [
      "The answer when using trapezoidal rule is 356.39.\n",
      "The error between scipy's solution and analytical solution is 1.1368683772161603e-13.\n",
      "The number of evaluations that scipy used to get to the answer is 63.\n"
     ]
    }
   ],
   "source": [
    "f4= lambda x: x**2 + np.exp(-x) + 10/x # difine the integrand\n",
    "\n",
    "ans4, abserr, d4 = quad (f4,1,10,full_output=1)\n",
    "\n",
    "print ('The answer when using trapezoidal rule is {:5.2f}'.format(ans4) + '.')\n",
    "\n",
    "err=ans4 - Aresult\n",
    "\n",
    "print ('The error between scipy\\'s solution and analytical solution is {}'.format(err)+'.')\n",
    "\n",
    "print ('The number of evaluations that scipy used to get to the answer is {}'.format(d4['neval']) + '.')"
   ]
  },
  {
   "cell_type": "markdown",
   "metadata": {},
   "source": [
    "### 5. Difference between Trapezoidal Method and scipy.integrate.quad"
   ]
  },
  {
   "cell_type": "markdown",
   "metadata": {},
   "source": [
    "According to the [scipy.integrate.quad function description page](https://docs.scipy.org/doc/scipy/reference/generated/scipy.integrate.quad.html), scipy.integrate.quad uses a technique from the Fortran library QUADPACK.\n",
    "\n",
    "According to the [QUADPACK wikipedia page](https://en.wikipedia.org/wiki/QUADPACK):\n",
    ">QUADPACK is a FORTRAN 77 library for numerical integration of one-dimensional functions. It was included in the SLATEC Common Mathematical Library and is therefore in the public domain. The individual subprograms are also available on netlib.\n",
    "\n",
    ">The main focus of QUADPACK is on automatic integration routines in which the user inputs the problem and an absolute or relative error tolerance and the routine attempts to perform the integration with an error no larger than that requested. There are nine such automatic routines in QUADPACK, in addition to a number of non-automatic routines. All but one of the automatic routines use adaptive quadrature.\n",
    "\n",
    ">The two general-purpose routines most suitable for use without further analysis of the integrand are QAGS for integration over a finite interval and QAGI for integration over an infinite interval.\n",
    "\n",
    ">QAGS uses global adaptive quadrature based on 21-point Gauss–Kronrod quadrature within each subinterval, with acceleration by Peter Wynn's epsilon algorithm.\n",
    "\n",
    "So, when attempting to solve the quetion above, scipy.integrate.quad used QAGS, which used global adaptive quadrature, in QUADPACK, which is a different way to integrate from the trapezoidal method. This causes different accuracies."
   ]
  },
  {
   "cell_type": "markdown",
   "metadata": {},
   "source": [
    "## Curve Fitting\n",
    "\n",
    "<b>Goal</b>: To fit the curve of T, K from experimental data."
   ]
  },
  {
   "cell_type": "code",
   "execution_count": 8,
   "metadata": {},
   "outputs": [],
   "source": [
    "experimental_data=[(203.96935366605618, 3.6236800011478305), (245.69114764482345, 2.5689954976962932), (239.63438120412232, 2.5713366188827265), (189.36591228846885, 3.1540244055624758), (111.43204914150688, 8.1696752407461783), (207.32680522705272, 3.026045517845918), (264.8393324954053, 2.4416420424392249), (144.85766191924512, 5.1482403318133469), (124.84448741258993, 6.5462805948653529), (109.11582701887153, 9.5459326923835963), (109.14575513306579, 8.701586669774322), (153.76859067461749, 4.9682826810133864), (246.59886090908026, 2.7941491059160417), (145.08430033257423, 5.3798783290838301), (181.48630172255744, 3.3786473079440942), (296.00840136351894, 2.7076518974888186), (143.51791746953251, 5.2283390658181625), (291.33779532362166, 1.9130435659045719), (130.65687336694253, 6.479997876184644), (267.9807806900896, 2.8677012219049618), (232.66081388011543, 3.2860854111655939), (298.65839492102384, 2.366780626113413), (280.43866195918883, 2.0389654773857879), (273.45156179153878, 2.2732288646263061), (266.23615785290224, 2.5199497092331762), (139.69880734182109, 5.3218862610124091), (248.32274960154558, 2.9751709238837432), (119.33547334977861, 7.6779774629955426), (115.84875500204355, 8.2377243679585082), (112.12311197712026, 8.9201008361384204), (266.93119983401641, 2.9565481485864806), (187.05077060298555, 4.0088838201523149), (103.85112749577554, 10.032991787687269), (198.90333963103947, 3.6822393220531722), (195.49304748667089, 3.2713352779807159), (292.63056978401187, 2.2042519892918793), (217.02147505796466, 2.8111877951917199), (201.33078125784647, 3.1775229263026636), (216.37990435154126, 2.9256344629180924), (281.50670292987559, 1.9933463522298778), (211.56148022544059, 3.0773921955233199), (133.11995792016782, 6.5682826888103056), (191.68563190316667, 3.4379386715422964), (285.17511666000246, 2.4537442491121171), (254.94338341999406, 2.1552075747097761), (227.63603305109274, 2.4546627992454644), (230.17654229002088, 3.2077960310435225), (177.76631733590341, 4.2148539864942531), (174.49707572077983, 4.403014573195728), (100.5210960776798, 11.046854338400221), (141.1260218959988, 5.1055128973332531), (200.28225702824335, 3.1968177710127277), (267.68867211105407, 2.8018708963966579), (128.8809959552226, 6.796888943234479), (209.65910535851197, 3.3430911403901469), (285.14483063498903, 2.5726698754266852), (171.92317896938238, 4.1256045510260195), (158.07639389549189, 5.0795224010122979), (113.19666217333469, 7.9426707556544232), (193.48966030242107, 3.1722804406157343), (255.07329354144537, 2.3344124005137377), (195.28068107295562, 3.4573465897461508), (183.09725218584222, 3.2249328487824225), (135.95121929524774, 5.4153477686167175), (267.47601424004125, 2.3212487554600036), (215.8969424087125, 2.7946129548309626), (113.93297318297932, 8.1609464202344668), (203.31353375613435, 3.4971561246431224), (158.68449233558033, 4.538225058225497), (183.45844792035984, 3.4459350872523986), (156.16290402828591, 4.2852214699536253), (280.6398476314381, 1.9176106807059239), (140.94426342931845, 5.1533855583412427), (175.62052653070822, 4.0434904236526572), (186.07999195301434, 3.4414274801117868), (234.13238756182704, 3.1589330490903196), (237.9183918239728, 3.021185463566284), (113.3629902933059, 7.8521790858837237), (138.16666669007344, 5.6283905540747856), (129.83386512795178, 5.9957233266021204), (217.21859499857163, 2.8353008897700707), (252.70524179629422, 2.7277927526130439), (216.75453259096082, 3.5249659388859351), (159.14482568642438, 4.772017375345083), (219.51226392175252, 2.7242634665703145), (244.03849796909088, 2.6010537089914068), (170.73657567094938, 4.4017327441768153), (139.04336390741207, 5.9218621403594858), (233.99576678643649, 2.4296255018678501), (155.7527106158966, 4.7151482622656502), (133.19681725820718, 5.6937119116585535), (242.76647988792055, 2.6353213576862471), (189.1788922720159, 3.3385707870618901), (247.03945453501777, 2.972159429935691), (234.02696189516342, 2.9823121771307903), (129.90075057086969, 6.0769569333148192), (276.36743553532108, 2.5350931205675171), (237.48595334396069, 3.1120208936124176), (169.31498940778619, 4.1020927705134218), (194.84992167847139, 3.5816350401484569)]\n",
    "T,K = zip(*experimental_data)\n",
    "\n",
    "# input the data"
   ]
  },
  {
   "cell_type": "code",
   "execution_count": 9,
   "metadata": {},
   "outputs": [],
   "source": [
    "import numpy as np\n",
    "from scipy.optimize import minimize_scalar, curve_fit\n",
    "import matplotlib.pyplot as plt\n",
    "\n",
    "# input packages for 'Curve Fitting' Part"
   ]
  },
  {
   "cell_type": "markdown",
   "metadata": {},
   "source": [
    "### 1. Using scipy.optimize.minimize\n",
    "\\begin{equation}\n",
    "    K = f (T) = e ^ {- \\displaystyle \\frac{\\Delta G} {RT}}\n",
    "\\end{equation}"
   ]
  },
  {
   "cell_type": "markdown",
   "metadata": {},
   "source": [
    "\\begin{equation}\n",
    "    \\Delta G = - RT \\ln {K}\n",
    "\\end{equation}"
   ]
  },
  {
   "cell_type": "code",
   "execution_count": 10,
   "metadata": {
    "scrolled": true
   },
   "outputs": [
    {
     "name": "stdout",
     "output_type": "stream",
     "text": [
      "The DeltaG that minimize the sum-of-squared-errors is -1993.51 J/mol.\n"
     ]
    }
   ],
   "source": [
    "N = len(T) # get the length of data list\n",
    "\n",
    "def f0(T,deltaG):\n",
    "    return np.exp (- deltaG/8.314/T)\n",
    "\n",
    "# define the function\n",
    "\n",
    "def objective(deltaG):\n",
    "    delta = 0\n",
    "    for i in range (100):\n",
    "        delta += ( K[i] - f0(T[i],deltaG) ) ** 2\n",
    "    return delta\n",
    "\n",
    "# define a function to calculate the sum-of-squared-errors \n",
    "\n",
    "res = minimize_scalar(objective)\n",
    "print('The DeltaG that minimize the sum-of-squared-errors is {:4.2f}'.format(res.x)+' J/mol.')"
   ]
  },
  {
   "cell_type": "code",
   "execution_count": 11,
   "metadata": {},
   "outputs": [
    {
     "data": {
      "image/png": "[encoded data removed]",
      "text/plain": [
       "<matplotlib.figure.Figure at 0x7fbb4c6ea7f0>"
      ]
     },
     "metadata": {},
     "output_type": "display_data"
    }
   ],
   "source": [
    "x = np.linspace(100, 300, num = 50)\n",
    "\n",
    "y1 = [0] * 50\n",
    "for i in range (50):\n",
    "    y1[i] = f0(x[i], res.x)\n",
    "\n",
    "RMSE = (objective(res.x)/100)**0.5\n",
    "    \n",
    "plt.plot (x,y1,'b-',label='RMSE={:1.4f}'.format(RMSE))\n",
    "\n",
    "# draw the fitted curve\n",
    "\n",
    "for i in range (100):\n",
    "    if (T[i]<300) and (T[i]>100):\n",
    "        plt.plot(T[i], K[i],'ro')\n",
    "\n",
    "# plot the experimental data points\n",
    "        \n",
    "for i in range (100):\n",
    "    if (T[i]<300) and (T[i]>100):\n",
    "        plt.plot(T[i], K[i],'ro', label='experimental data')\n",
    "        break\n",
    "\n",
    "# plot the experimental data label\n",
    "\n",
    "plt.xlabel('T/K')\n",
    "plt.ylabel('K')\n",
    "plt.legend()\n",
    "plt.show()"
   ]
  },
  {
   "cell_type": "markdown",
   "metadata": {},
   "source": [
    "### 2. Using scipy.optimize.curve_fit"
   ]
  },
  {
   "cell_type": "code",
   "execution_count": 12,
   "metadata": {},
   "outputs": [
    {
     "data": {
      "image/png": "[encoded data removed]",
      "text/plain": [
       "<matplotlib.figure.Figure at 0x7fbb4c6f0860>"
      ]
     },
     "metadata": {},
     "output_type": "display_data"
    }
   ],
   "source": [
    "popt, pcov = curve_fit (f0, T, K)\n",
    "\n",
    "plt.plot (x, f0(x, *popt), 'b-',label='curve_fit')\n",
    "plt.plot (x,y1,'r-',label='optimize')\n",
    "plt.xlabel('T/K')\n",
    "plt.ylabel('K')\n",
    "plt.legend()\n",
    "plt.show()"
   ]
  },
  {
   "cell_type": "markdown",
   "metadata": {},
   "source": [
    "2 curves are identical."
   ]
  }
 ],
 "metadata": {
  "kernelspec": {
   "display_name": "Python 3",
   "language": "python",
   "name": "python3"
  },
  "language_info": {
   "codemirror_mode": {
    "name": "ipython",
    "version": 3
   },
   "file_extension": ".py",
   "mimetype": "text/x-python",
   "name": "python",
   "nbconvert_exporter": "python",
   "pygments_lexer": "ipython3",
   "version": "3.6.2"
  }
 },
 "nbformat": 4,
 "nbformat_minor": 2
}
