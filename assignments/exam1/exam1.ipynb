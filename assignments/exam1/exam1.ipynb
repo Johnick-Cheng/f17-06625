{
 "cells": [
  {
   "cell_type": "markdown",
   "metadata": {},
   "source": [
    "$$\\require{mhchem}$$"
   ]
  },
  {
   "cell_type": "markdown",
   "metadata": {},
   "source": [
    "# Exam 1\n",
    "# Pengfei Cheng\n",
    "## AndrewID: pengfeic"
   ]
  },
  {
   "cell_type": "markdown",
   "metadata": {},
   "source": [
    "# Exam 1 Problem 1 (60 pts)"
   ]
  },
  {
   "cell_type": "markdown",
   "metadata": {},
   "source": [
    " We have a liquid feed of A and B, with concentration of A 2M and concentration of B 3M, with a total flow rate of 0.1 m$^3$/s.  We are looking to optimize the conversion of the reaction: \n",
    "\\begin{align*}\n",
    "\\ce{A + 2B -> C}\n",
    "\\end{align*}\n",
    "You can assume in all cases the reaction is isothermal and the volume does not change with changes in the molar flow rates of the reactants.  The reaction is elementary and the rate constant is $k_1=0.1 dm^6/mol^2/s$\n",
    "\n"
   ]
  },
  {
   "cell_type": "markdown",
   "metadata": {},
   "source": [
    "## First, find the maximum extent of reaction $\\xi^{max}$ and write the rate equation $r$. (5 pts)"
   ]
  },
  {
   "cell_type": "markdown",
   "metadata": {},
   "source": [
    "\\begin{equation*}\n",
    "    \\xi_\\mathrm{max} = \\mathrm{min} \\left (- \\frac {C_\\mathrm{A0}}{\\alpha_A}, - \\frac {C_\\mathrm{B0}}{\\alpha_B} \\right) = \\mathrm{min} \\left (\\frac{2}{1}, \\frac{3}{2}\\right) = 1.5 \\ \\mathrm{M}\n",
    "\\end{equation*}"
   ]
  },
  {
   "cell_type": "markdown",
   "metadata": {},
   "source": [
    "\\begin{equation*}\n",
    "    r = k_1 C_\\mathrm{A} C_\\mathrm{B} ^ 2\n",
    "\\end{equation*}"
   ]
  },
  {
   "cell_type": "markdown",
   "metadata": {},
   "source": [
    "## Now, find the extent of reaction for a steady state 100 L CSTR with the feed and flow rate from above. (10 pts)\n",
    "<img src=\"E1P1B.png\" alt=\"Drawing\" style=\"width: 300px;\"/>\n"
   ]
  },
  {
   "cell_type": "markdown",
   "metadata": {},
   "source": [
    "In a steady state CSTR, the mole balacnce is as follows:"
   ]
  },
  {
   "cell_type": "markdown",
   "metadata": {},
   "source": [
    "\\begin{equation*}\n",
    "    0 = F_\\mathrm{in} - F_\\mathrm{out} + rV\n",
    "\\end{equation*}"
   ]
  },
  {
   "cell_type": "markdown",
   "metadata": {},
   "source": [
    "So we get:"
   ]
  },
  {
   "cell_type": "markdown",
   "metadata": {},
   "source": [
    "\\begin{align*}\n",
    "    0 = C_\\mathrm{in, A} v_0 + \\alpha_\\mathrm{A} r V - C_\\mathrm{out, A} v_0 \\\\\n",
    "    0 = C_\\mathrm{in, B} v_0 + \\alpha_\\mathrm{B} r V - C_\\mathrm{out, C} v_0 \\\\\n",
    "    0 = C_\\mathrm{in, B} v_0 + \\alpha_\\mathrm{B} r V - C_\\mathrm{out, C} v_0\n",
    "\\end{align*}"
   ]
  },
  {
   "cell_type": "code",
   "execution_count": 11,
   "metadata": {},
   "outputs": [],
   "source": [
    "import numpy as np\n",
    "import matplotlib.pyplot as plt\n",
    "from scipy.optimize import fsolve\n",
    "from scipy.integrate import odeint"
   ]
  },
  {
   "cell_type": "code",
   "execution_count": 12,
   "metadata": {},
   "outputs": [
    {
     "name": "stdout",
     "output_type": "stream",
     "text": [
      "The extent of reaction for the steady state CSTR is 0.5393 M.\n"
     ]
    }
   ],
   "source": [
    "C0 = np.array ([2, 3, 0]).T # M\n",
    "sc = np.array ([-1, -2, 1]).T # stoichiometric coefficients\n",
    "v0 = 0.1 * 1000 # dm^3/s\n",
    "k1 = 0.1 # dm^6/mol^2/s\n",
    "V = 100 # L\n",
    "F0 = C0 * v0 # mol/s\n",
    "\n",
    "def SSC(Cout):\n",
    "    'Steady State Concentration'\n",
    "    CA, CB, CC = Cout\n",
    "    r = k1 * CA * CB **2\n",
    "    \n",
    "    mb = C0 * v0 + sc * r * V - Cout * v0 # mole balance\n",
    "    \n",
    "    return mb\n",
    "\n",
    "guess = [0, 1, 2]\n",
    "\n",
    "sol1 = fsolve(SSC, guess)\n",
    "\n",
    "xi1 = (sol1[0] - C0[0])/sc[0]\n",
    "\n",
    "print ('The extent of reaction for the steady state CSTR is {:1.4f} M.'.format(xi1))"
   ]
  },
  {
   "cell_type": "markdown",
   "metadata": {},
   "source": [
    "## Find the final extent of reaction for a 100 L PFR (10 pts)\n",
    "<img src=\"E1P1C.png\" alt=\"Drawing\" style=\"width: 300px;\"/>\n"
   ]
  },
  {
   "cell_type": "code",
   "execution_count": 13,
   "metadata": {},
   "outputs": [
    {
     "name": "stdout",
     "output_type": "stream",
     "text": [
      "The final extent of reaction for the PFR is 0.7198 M.\n"
     ]
    }
   ],
   "source": [
    "FT0 = np.sum(F0)\n",
    "\n",
    "def dFdV(F, V):\n",
    "    FT = np.sum(F)\n",
    "    v = v0 * (FT / FT0)\n",
    "    # ! The volumetric flow rate does not change along with the change of molar flow rate\n",
    "    C = F / v0\n",
    "    CA, CB, CC = C\n",
    "    \n",
    "    r = k1 * CA * CB ** 2\n",
    "    \n",
    "    rt = sc * r\n",
    "    \n",
    "    return rt\n",
    "\n",
    "Vspan = np.linspace (0, 100)\n",
    "sol2 = odeint (dFdV, F0, Vspan)\n",
    "\n",
    "xi2 = (sol2[-1,0]/V - C0[0])/sc[0]\n",
    "\n",
    "print ('The final extent of reaction for the PFR is {:1.4f} M.'.format(xi2))"
   ]
  },
  {
   "cell_type": "markdown",
   "metadata": {},
   "source": [
    "## Our operators tell us that they really like working with CSTR's and suggest that you use several CSTR's in series.  The total volume of CSTR's should equal 100 L.  For example, if you have 4 CSTR's, then  each will have a volume of 25 L.  The outflow of each CSTR is the same as the inflow to the next CSTR.  The extent of reaction for each reactor can be solved based on the extent of reaction from the previous reactor (sequentially).  Calculate the extent of reaction for the four reactor situation. (20 pts)\n",
    "<img src=\"E1P1D.png\" alt=\"Drawing\" style=\"width: 500px;\"/>\n"
   ]
  },
  {
   "cell_type": "code",
   "execution_count": 5,
   "metadata": {},
   "outputs": [
    {
     "name": "stdout",
     "output_type": "stream",
     "text": [
      "The extent of reaction for the steady state CSTR is 0.6599 M.\n"
     ]
    }
   ],
   "source": [
    "V2 = 25 # L\n",
    "\n",
    "def SSC2(Cout, Cin, V):\n",
    "    'Steady State Concentration'\n",
    "    CA, CB, CC = Cout\n",
    "    r = k1 * CA * CB **2\n",
    "    \n",
    "    mb = Cin * v0 + sc * r * V - Cout * v0 # mole balance\n",
    "    \n",
    "    return mb\n",
    "\n",
    "sol31 = fsolve(SSC2, guess, (C0, V2))\n",
    "sol32 = fsolve(SSC2, guess, (sol31, V2))\n",
    "sol33 = fsolve(SSC2, guess, (sol32, V2))\n",
    "sol34 = fsolve(SSC2, guess, (sol33, V2))\n",
    "\n",
    "xi3 = (sol34[0] - C0[0])/sc[0]\n",
    "\n",
    "print ('The extent of reaction for the steady state CSTR is {:1.4f} M.'.format(xi3))"
   ]
  },
  {
   "cell_type": "markdown",
   "metadata": {},
   "source": [
    "## Plot the final extent of reaction for this approach from 1 to 10 reactors, and compare to the conversions from the CSTR and PFR examples above. (9 pts)"
   ]
  },
  {
   "cell_type": "code",
   "execution_count": 17,
   "metadata": {},
   "outputs": [],
   "source": [
    "def testf(x):\n",
    "    V3 = 100/x # L\n",
    "\n",
    "    sol4 = [0] * x\n",
    "\n",
    "    sol4[0] = fsolve(SSC2, guess, (C0, V3))\n",
    "\n",
    "    for i in range (1, x):\n",
    "        sol4[i] = fsolve (SSC2, guess, (sol4[i-1], V3))\n",
    "    return (sol4[x-1][0] -C0[0])/sc[0]"
   ]
  },
  {
   "cell_type": "code",
   "execution_count": 18,
   "metadata": {},
   "outputs": [
    {
     "data": {
      "image/png": "[encoded data removed]",
      "text/plain": [
       "<matplotlib.figure.Figure at 0x7fc296e632b0>"
      ]
     },
     "metadata": {},
     "output_type": "display_data"
    }
   ],
   "source": [
    "plt.plot(list(range(1, 101, 10)), list(map(testf, range(1,11))))\n",
    "plt.plot((0, 100), (xi1, xi1))\n",
    "plt.plot((0, 100), (xi2, xi2))\n",
    "plt.legend(['CSTRs in series','CSTR','PFR'])\n",
    "plt.xlabel('# of Reactors')\n",
    "plt.ylabel('extent of reactions')\n",
    "plt.show()"
   ]
  },
  {
   "cell_type": "markdown",
   "metadata": {},
   "source": [
    "## We are considering adding a membrane to the PFR.  We have a few options.  For each, answer qualitatively if you think the conversion of A would increase, decrease, or stay the same, and why: (2 pts each)"
   ]
  },
  {
   "cell_type": "markdown",
   "metadata": {},
   "source": [
    "- A membrane that allows A to be added slowly through the side of the PFR (w/ pure B inlet), total molar flow rate of A & B the same\n",
    " - Decrease, because the reaction rate is reduced.\n",
    "- A membrane that allows B to be added slowly through the side of the PFR (w/ pure A inlet), total molar flow rate of A & B the same\n",
    " - Decrease, because this will reduce the reaction rate \n",
    "- A membrane that allows C to be removed continuously through the side of the PDF\n",
    " - Increase, because this dereases the total molar flowrate and increases the concentrations."
   ]
  },
  {
   "cell_type": "markdown",
   "metadata": {},
   "source": [
    "# Exam 1 Problem 2 (40 pts)"
   ]
  },
  {
   "cell_type": "code",
   "execution_count": 8,
   "metadata": {},
   "outputs": [],
   "source": [
    "k1 = 0.1 # 1/M/S\n",
    "k2 = 0.5 # 1/M/S\n",
    "kkb1 = 0.2 # 1/s\n",
    "kkc1 = 0.4 # 1/s\n",
    "kkd1 = 0.5\n",
    "kkc2 = 0.5\n",
    "kkd2 = 0.7\n",
    "\n",
    "vin = 2 # L/s\n",
    "vm = 3 # L/s\n",
    "vo = 4 # L/s\n",
    "\n",
    "C0 = np.array([1, 0, 0, 0]) # M\n",
    "\n",
    "sc = np.array([[-1, -1, 4, 0],[-1, 0, -1, 3]]).T\n",
    "\n",
    "FT0 = np.sum(C0) * vin"
   ]
  },
  {
   "cell_type": "code",
   "execution_count": 9,
   "metadata": {},
   "outputs": [
    {
     "ename": "SyntaxError",
     "evalue": "invalid syntax (<ipython-input-9-3628536649fe>, line 13)",
     "output_type": "error",
     "traceback": [
      "\u001b[0;36m  File \u001b[0;32m\"<ipython-input-9-3628536649fe>\"\u001b[0;36m, line \u001b[0;32m13\u001b[0m\n\u001b[0;31m    RAim =\u001b[0m\n\u001b[0m           ^\u001b[0m\n\u001b[0;31mSyntaxError\u001b[0m\u001b[0;31m:\u001b[0m invalid syntax\n"
     ]
    }
   ],
   "source": [
    "def dFdV(F, V):\n",
    "    FAin, FBin, FCin, FDin, FBm, FCm, FDm, FCo, FDo = F\n",
    "    \n",
    "    FT = FAin + FBin + FCin + FDin\n",
    "    \n",
    "    vin2 = vin * FT / FT0\n",
    "    \n",
    "    CAin, CBin, CCin, CDin = F[0:4] / vin2\n",
    "    \n",
    "    r1 = k1 * CAin * CBin\n",
    "    r2 = k2 * CAin * CCin\n",
    "    \n",
    "    RAim = \n",
    "    \n",
    "    dFAindV = -r1 -r2 \n",
    "    \n",
    "    \n",
    "    dFAindV = "
   ]
  },
  {
   "cell_type": "code",
   "execution_count": null,
   "metadata": {},
   "outputs": [],
   "source": [
    "F=[0, 1, 2]\n",
    "F[0:1]"
   ]
  },
  {
   "cell_type": "markdown",
   "metadata": {},
   "source": [
    "We are looking to design a liquid phase membrane PFR (V=10L) with three channels for the rection system:\n",
    "\\begin{align}\n",
    "\\ce{A + B -> 4C}, k_1=0.1/M/s\\\\\n",
    "\\ce{A + C -> 3D}, k_2=0.5/M/s\n",
    "\\end{align}\n",
    "The inner channel contains a feed of pure A with a concentration of 1M and flow rate of 2 L/s. A is very large and cannot pass any membrane. B,C,D can pass the first membrane ($k_{b,1}'=0.2/s,k_{c,1}'=0.4/s,k_{d,1}'=0.5/s$) between the inner and outer sections.  C,D are very small and can also pass the outer membrane ($k_{c,2}'=0.5/s,k_{d,2}'=0.7/s$) between the middle and outer sections. You may assume the volumetric flow rates are constant.  The middle-channel is counter-current (flowing opposite to the inner and outer shells).\n",
    "![img](./E1P2.png)\n"
   ]
  },
  {
   "cell_type": "markdown",
   "metadata": {},
   "source": [
    "## Write the mol balance for each of the 9 species (A,B,C,D in inner, B,C,D in middle, C,D in outer), as well as the boundary conditions on the left side of the reactor (i.e. inlet of inner shell).  (20 pts)"
   ]
  },
  {
   "cell_type": "markdown",
   "metadata": {},
   "source": [
    "\\begin{align}\n",
    "    \\frac {dF_{A_{in}}} {dV_{in}} &= -r_1 -r_2 \\\\\n",
    "    \\frac {dF_{B_{in}}} {dV_{in}} &= -r_1 +R_{B_{im}} \\\\\n",
    "    \\frac {dF_{C_{in}}} {dV_{in}} &= 4r_1 - r2 +R_{C_{im}} \\\\\n",
    "    \\frac {dF_{D_{in}}} {dV_{in}} &= 3r_2 +R_{D_{im}} \\\\\n",
    "    \\frac {dF_{B_{m}}} {dV_{m}} &= -R_{B_{im}}\\\\\n",
    "    \\frac {dF_{C_{m}}} {dV_{m}} &= -R_{C_{im}} - R_{C_{mo}}\\\\\n",
    "    \\frac {dF_{D_{m}}} {dV_{m}} &= -R_{D_{im}} - R_{D_{mo}}\\\\\n",
    "    \\frac {dF_{C_{o}}} {dV_{o}} &= - R_{C_{mo}}\\\\\n",
    "    \\frac {dF_{D_{o}}} {dV_{o}} &= - R_{D_{mo}}\\\\\n",
    "\\end{align}"
   ]
  },
  {
   "cell_type": "markdown",
   "metadata": {},
   "source": [
    "\\begin{align*}\n",
    "    r1 &= k_1 C_A C_B \\\\\n",
    "    r2 &= k_2 C_A C_C\n",
    "\\end{align*}"
   ]
  },
  {
   "cell_type": "markdown",
   "metadata": {},
   "source": [
    "\\begin{align*}\n",
    "    R_{B_{im}} &= k'_{B,1} (C_{B_{m}}-C_{B_{in}}) \\\\\n",
    "    R_{C_{im}} &= k'_{C,1} (C_{C_{m}}-C_{C_{in}}) \\\\\n",
    "    R_{D_{im}} &= k'_{D,1} (C_{D_{m}}-C_{D_{in}}) \\\\\n",
    "    R_{C_{mo}} &= k'_{C,2} (C_{C_{o}}-C_{C_{m}}) \\\\\n",
    "    R_{D_{mo}} &= k'_{D,2} (C_{D_{o}}-C_{D_{m}}) \\\\\n",
    "\\end{align*}"
   ]
  },
  {
   "cell_type": "markdown",
   "metadata": {},
   "source": [
    "The boundary condition is \n",
    "\n",
    "\\begin{align*}\n",
    "    F_{A_{in},0} &= 2 \\mathrm{\\ mol/s} \\\\\n",
    "    F_{B_{in},0} = F_{C_{in},0}= F_{D_{in},0} &= 0 \\\\\n",
    "    F_{B_{m},0} = F_{C_{m},0}= F_{D_{m},0} &= 1.5 \\mathrm{\\ mol/s} \\\\\n",
    "    F_{C_{o},0} = F_{D_{o},0} &= 0 \\\\\n",
    "\\end{align*}"
   ]
  },
  {
   "cell_type": "markdown",
   "metadata": {},
   "source": [
    "## Solve for and plot the concentration profiles for each species along the length of the reactor. (20 pts)"
   ]
  },
  {
   "cell_type": "code",
   "execution_count": null,
   "metadata": {},
   "outputs": [],
   "source": []
  },
  {
   "cell_type": "code",
   "execution_count": null,
   "metadata": {},
   "outputs": [],
   "source": [
    "kcB=0.1 # dm/s\n",
    "a = 4 / (di/10) # 1/dm \n",
    "s2 = np.array([[-1,-1,0,1,0],[-1,-1,0,0,1]]).T # stoichiometric numbers, referring to A, B_in, B_out, D, U respectively\n",
    "F02 = np.array([4, 0, 4, 0, 0]).T # mol/s\n",
    "\n",
    "def dFdl2(F,l):\n",
    "    'dFdl = dFdV*(pi*d^2/4))'\n",
    "    FA, FB_in, FB_out, FD, FU = F\n",
    "    FT = np.sum (F)\n",
    "    C = F / v0\n",
    "    CA, CB_in, CB_out, CD, CU = C\n",
    "    \n",
    "    r1 = k1 * CA ** 2 * CB_in\n",
    "    r2 = k2 * CA * CB_in ** 2\n",
    "    \n",
    "    RB = kcB * a * (CB_in - CB_out)\n",
    "    \n",
    "    r = np.matmul (s2, [r1,r2])\n",
    "    r[1] += - RB\n",
    "    r[2] += + RB\n",
    "    return r * (3.14 * (di / 100) ** 2 / 4) * 1000 # convert dFdV (L) to dFdl (m)\n",
    "\n",
    "sol = odeint (dFdl2, F02, lspan)\n",
    "\n",
    "for i in range(5):\n",
    "    plt.plot (lspan, sol[:,i])\n",
    "plt.legend(['$F_\\mathrm{A}$','$F_\\mathrm{B,in}$','$F_\\mathrm{B,out}$','$F_\\mathrm{D}$','$F_\\mathrm{U}$'])\n",
    "plt.xlabel('distance/m')\n",
    "plt.ylabel('flow rate/(mol/s)')\n",
    "plt.title(' flow rates of species against the distance traveled along the PFR')\n",
    "fig = plt.gcf()\n",
    "fig.set_size_inches(11, 8.5,forward=True)\n",
    "plt.show()"
   ]
  }
 ],
 "metadata": {
  "kernelspec": {
   "display_name": "Python 3",
   "language": "python",
   "name": "python3"
  },
  "language_info": {
   "codemirror_mode": {
    "name": "ipython",
    "version": 3
   },
   "file_extension": ".py",
   "mimetype": "text/x-python",
   "name": "python",
   "nbconvert_exporter": "python",
   "pygments_lexer": "ipython3",
   "version": "3.6.2"
  },
  "toc": {
   "colors": {
    "hover_highlight": "#DAA520",
    "navigate_num": "#000000",
    "navigate_text": "#333333",
    "running_highlight": "#FF0000",
    "selected_highlight": "#FFD700",
    "sidebar_border": "#EEEEEE",
    "wrapper_background": "#FFFFFF"
   },
   "moveMenuLeft": true,
   "nav_menu": {
    "height": "11px",
    "width": "252px"
   },
   "navigate_menu": true,
   "number_sections": false,
   "sideBar": true,
   "threshold": 4,
   "toc_cell": false,
   "toc_section_display": "block",
   "toc_window_display": false,
   "widenNotebook": false
  }
 },
 "nbformat": 4,
 "nbformat_minor": 2
}
