{
 "cells": [
  {
   "cell_type": "markdown",
   "metadata": {},
   "source": [
    "# Problem 1:  Reaction extent"
   ]
  },
  {
   "cell_type": "markdown",
   "metadata": {},
   "source": [
    "## Problem 1A\n",
    "Ammonia has been proposed as a chemical to store hydrogen for a hydrogen fuel cell due its favorable volumetric hydrogen density. Write down the stoichiometric vector for the thermal decomposition of ammonia to nitrogen and hydrogen."
   ]
  },
  {
   "cell_type": "markdown",
   "metadata": {},
   "source": [
    "## Problem 1B\n",
    "Suppose that we know the initial gas concentration of ammonia in a tank is 100 mol/L, and the fractional reaction extent proceeds as $\\Xi=(1-e^{-3t^3})$ where $t$ is the time in seconds.  Plot the concentration of ammonia, nitrogen, and hydrogen as a function of time over the first 2 seconds.  Label the plot with a legend to indicate the species.  "
   ]
  },
  {
   "cell_type": "markdown",
   "metadata": {},
   "source": [
    "## Problem 1C\n",
    "The operator is worried that if the reaction continues to full extent the increase in the number of moles will drive the pressure too high.  Calculate the time it will take to achieve a 50% higher pressure in the reactor (assuming ideal gas) due to the increase in the number of moles, using fsolve."
   ]
  },
  {
   "cell_type": "markdown",
   "metadata": {},
   "source": [
    "# Problem 2:  Stoichiometry of reaction systems"
   ]
  },
  {
   "cell_type": "markdown",
   "metadata": {},
   "source": [
    "## Problem 2A\n",
    "Suppose we have a reactor with a number of possible reactions:\n",
    "1. ${H_2O + CO \\leftrightarrow H_2 + CO_2 }$\n",
    "\n",
    "1. ${CO_2 \\leftrightarrow C + O_2 }$\n",
    "\n",
    "1. ${O_2 + 2\\; H_2 \\leftrightarrow 2\\; H_2O}$\n",
    "\n",
    "1. ${CO + 1/2\\; O_2 \\leftrightarrow CO_2}$\n",
    "\n",
    "1. ${C + 2\\; H_2 \\leftrightarrow CH_4}$\n",
    "\n",
    "1. ${CH4 + 2\\; O_2\\leftrightarrow CO_2 + 2\\; H_2O}$\n",
    "\n",
    "For each reaction, write the stoichiometric coefficients in vector form in the form\n",
    "\n",
    "[${H_2O,\\; CO,\\; H_2,\\; CO_2,\\; C,\\; O_2,\\; CH_4}$]"
   ]
  },
  {
   "cell_type": "markdown",
   "metadata": {},
   "source": [
    "## Problem 2B\n",
    "Stack these vectors vertically to form a matrix of reaction coefficients $\\mathbf{M}$ for this system (each column corresponds to a reaction)"
   ]
  },
  {
   "cell_type": "markdown",
   "metadata": {},
   "source": [
    "## Problem 2C\n",
    "This matrix has a lot of information embedded in it. Suppose we want to turn methane into syngas ($H_2$ and $CO$):\n",
    "\\begin{align}\n",
    "CH_4 + O_2 \\rightarrow H_2 + CO + H_2O\n",
    "\\end{align}\n",
    "and we can control the extent of each reaction. Is there a set of reaction extents that we can use to effectively yield the reaction above? We can represent this as searching for a linear combination of the known reactions that will form this new reaction:\n",
    "\\begin{align}\n",
    "\\text{Desired reaction}=\\begin{pmatrix}1\\\\ 1\\\\ 1\\\\0\\\\0\\\\-1\\\\-1\\end{pmatrix} = \\mathbf{M}\\Xi\n",
    "\\end{align}\n",
    "\n",
    "Where $\\Xi$ is a vector of reaction extents. Find the reaction extents that lead to a solution to this equation using [`numpy.linalg.lstsq`](https://docs.scipy.org/doc/scipy/reference/generated/scipy.linalg.lstsq.html)."
   ]
  },
  {
   "cell_type": "markdown",
   "metadata": {},
   "source": [
    "## Problem 2D\n",
    "Check that the numerical solution yields the desired final reaction using np.matmul"
   ]
  },
  {
   "cell_type": "markdown",
   "metadata": {},
   "source": [
    "## Problem 2E\n",
    "The same final reaction could be arrived at with R1 + R6 - 2R4.  How many different ways do you think you could arrive at the same reaction? Why are there multiple combinations?"
   ]
  },
  {
   "cell_type": "markdown",
   "metadata": {},
   "source": [
    "## Problem 2F\n",
    "Finally, imagine that only three of the six reactions are kinetically feasible:\n",
    "1. $H_2O + CO \\leftrightarrow H_2 + CO_2$\n",
    "\n",
    "1. $O_2 + 2\\; H_2 \\leftrightarrow 2\\; H_2O$\n",
    "\n",
    "1. $CH_4 + 2\\;O_2 \\leftrightarrow CO_2 + 2\\; H_2O$\n",
    "\n",
    "Repeat the analysis with this subset of reactions to identify a new vector of reaction extents that would be necessary to yield the reaction in Part 2C."
   ]
  }
 ],
 "metadata": {
  "kernelspec": {
   "display_name": "Python 2",
   "language": "python",
   "name": "python2"
  },
  "language_info": {
   "codemirror_mode": {
    "name": "ipython",
    "version": 2
   },
   "file_extension": ".py",
   "mimetype": "text/x-python",
   "name": "python",
   "nbconvert_exporter": "python",
   "pygments_lexer": "ipython2",
   "version": "2.7.13"
  },
  "toc": {
   "colors": {
    "hover_highlight": "#DAA520",
    "navigate_num": "#000000",
    "navigate_text": "#333333",
    "running_highlight": "#FF0000",
    "selected_highlight": "#FFD700",
    "sidebar_border": "#EEEEEE",
    "wrapper_background": "#FFFFFF"
   },
   "moveMenuLeft": true,
   "nav_menu": {
    "height": "173px",
    "width": "252px"
   },
   "navigate_menu": true,
   "number_sections": true,
   "sideBar": true,
   "threshold": 4,
   "toc_cell": false,
   "toc_section_display": "block",
   "toc_window_display": false,
   "widenNotebook": false
  }
 },
 "nbformat": 4,
 "nbformat_minor": 2
}
