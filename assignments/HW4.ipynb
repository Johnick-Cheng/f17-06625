{
 "cells": [
  {
   "cell_type": "markdown",
   "metadata": {},
   "source": [
    "$$\\require{mhchem}$$       "
   ]
  },
  {
   "cell_type": "markdown",
   "metadata": {},
   "source": [
    "# Problem 1: Catalytic packed bed reactor sizing"
   ]
  },
  {
   "cell_type": "markdown",
   "metadata": {},
   "source": [
    "We want to oxidize CO to $\\ce{CO2}$ with the reaction:\n",
    "\\begin{align*}\n",
    "\\ce{CO + 1/2O2 -> CO2}\n",
    "\\end{align*}\n",
    "The rate is assumed to follow Hougen-Watson kinetics of the form\n",
    "\\begin{align*}\n",
    "r=\\frac{k C_{CO}C_{O2}}{1+KC_{CO}}\n",
    "\\end{align*}\n",
    "with $k=9.73\\times 10^{12} \\exp^{-13,500/T}$ cm$^3$/mol$\\cdot s\\cdot(g_{catalyst})$ and $K=8.099\\times 10^6\\exp^{409/T}$ cm$^3$/mol, where $T$ is in Kelvin. The feed to the reactor is 2 mol% $\\ce{CO}$, 10 mol% $\\ce{O2}$, and the rest inert. Total inlet pressure is 6 atm, and total inlet molar flow rate is 0.1 mol/s. The reactor operates isothermally at 838 K. The catalyst packed bed can be modeled with an effective $\\alpha=0.00004$/(g catalyst). "
   ]
  },
  {
   "cell_type": "markdown",
   "metadata": {
    "heading_collapsed": true
   },
   "source": [
    "## Part 1A:  Does the flow rate to the reactor matter for determining the final conversion? Why? (1 pt)"
   ]
  },
  {
   "cell_type": "markdown",
   "metadata": {},
   "source": [
    "## Part 1B:  Determine the concentration and flow rate of each species at the inlet for an arbitrary inlet molar flow rate (2 pt)"
   ]
  },
  {
   "cell_type": "markdown",
   "metadata": {},
   "source": [
    "## Part 1C:  Plot the concentrations of $CO$, $O_2$, and $CO_2$ as a function of the mass of catalyst that the flow has passed over. Do the same for the outlet pressure. Carry out the plots through 5 kg catalyst mass. (2pt)"
   ]
  },
  {
   "cell_type": "markdown",
   "metadata": {},
   "source": [
    "## Part 1D:  The reactor outlet is collected in an unpressured tank at 1.0 atm.   Determine the inlet pressure necessary to operate a reactor with 5 kg of catalyst such that the outlet pressure is 1 atm. (2 pt)"
   ]
  },
  {
   "cell_type": "markdown",
   "metadata": {},
   "source": [
    "## Part 1E:  Before acquiring a new packed bed reactor, you realize that you already have a PBR that holds 50 kg of catalyst. Plot the molar flow rates and pressure for each species along the length of this new reactor.  Discuss the behavior and describe where the model is breaking down.  (3 pt)"
   ]
  },
  {
   "cell_type": "markdown",
   "metadata": {},
   "source": [
    "# Problem 2:  Transient CSTR"
   ]
  },
  {
   "cell_type": "markdown",
   "metadata": {},
   "source": [
    "We have a 20 L transient CSTR, with the following reactions:\n",
    "\\begin{align*}\n",
    "\\ce{A&->[k_1] X}\\\\\n",
    "\\ce{2X + Y &->[k_2] 3 X}\\\\\n",
    "\\ce{B + X &->[k_3]  Y + D}\\\\\n",
    "\\ce{X &->[k_4] E}\n",
    "\\end{align*}\n",
    "The initial concentration for A is 1 M, B is 3 M, X and Y are 0.01 M. The initial concentration for D and E are 0 M. The rate constants are $k_1=0.1\\:s^{-1}$, $k_2=10^5 M^{-2}s^{-1}$, $k_3=10\\: M^{-1}s^{-1}$ and $k_4=10\\:s^{-1}$ "
   ]
  },
  {
   "cell_type": "markdown",
   "metadata": {},
   "source": [
    "## Part 2A:  The operators report that when they load the initial batch into the reactor they observe some strange behavior, even without an inflow or outflow into the CSTR. First, calculate the concentration profiles for all of the species for the first 30 seconds after loading the CSTR, using a logarithmic y-axis. (4 pt)"
   ]
  },
  {
   "cell_type": "markdown",
   "metadata": {},
   "source": [
    "## Part 2B:  You suggest that the stability of the system can be improved by using a suitably large inflow/outflow to the CSTR to force it into a stable trajectory. For an inlet stream of 50 L/s with 1 M A and 1 M B, calculate the new startup concentration profile. (4 pt)"
   ]
  },
  {
   "cell_type": "markdown",
   "metadata": {},
   "source": [
    "## Part 2C:  After thinking some more about the problem, you realize that you don't even need the inlet and otulet flow to force stability on the startup. Simply reducing the starting concentration of B should be enough. Find a concentration of B such that X decreases monotonically during startup.   (2 pt)"
   ]
  },
  {
   "cell_type": "markdown",
   "metadata": {},
   "source": [
    "## Bonus"
   ]
  },
  {
   "cell_type": "markdown",
   "metadata": {},
   "source": [
    "## What's going on here? What about these equations causes this sort of instability? (1 pt)"
   ]
  }
 ],
 "metadata": {
  "kernelspec": {
   "display_name": "Python 3",
   "language": "python",
   "name": "python3"
  },
  "language_info": {
   "codemirror_mode": {
    "name": "ipython",
    "version": 3
   },
   "file_extension": ".py",
   "mimetype": "text/x-python",
   "name": "python",
   "nbconvert_exporter": "python",
   "pygments_lexer": "ipython3",
   "version": "3.6.2"
  },
  "toc": {
   "colors": {
    "hover_highlight": "#DAA520",
    "navigate_num": "#000000",
    "navigate_text": "#333333",
    "running_highlight": "#FF0000",
    "selected_highlight": "#FFD700",
    "sidebar_border": "#EEEEEE",
    "wrapper_background": "#FFFFFF"
   },
   "moveMenuLeft": true,
   "nav_menu": {
    "height": "244px",
    "width": "252px"
   },
   "navigate_menu": true,
   "number_sections": true,
   "sideBar": true,
   "threshold": 4,
   "toc_cell": false,
   "toc_section_display": "block",
   "toc_window_display": false,
   "widenNotebook": false
  }
 },
 "nbformat": 4,
 "nbformat_minor": 2
}
