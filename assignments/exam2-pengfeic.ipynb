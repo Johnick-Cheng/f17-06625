{
 "cells": [
  {
   "cell_type": "markdown",
   "metadata": {},
   "source": [
    "$$\\require{mhchem}$$       "
   ]
  },
  {
   "cell_type": "markdown",
   "metadata": {},
   "source": [
    "- You are welcome to turn in work for the mechanism derivation on a separate sheet of paper for a small penalty (2 pt). Please do so by taking a photo of the pages and uploading them to the same Box folder.  Also hand in the physical sheet of paper.\n",
    "- Label the x/y axis of graphs (and legend if appropriate)\n",
    "- Comment your code so we understand what you're doing\n",
    "- 'print' your identified solutions / fitted constants with units"
   ]
  },
  {
   "cell_type": "markdown",
   "metadata": {},
   "source": [
    "# Reverse water gas shift catalysis\n",
    "\n",
    "The reverse water gas shift reaction (rWGS) has been proposed as a way of turning waste CO$_2$ into carbon monoxide, which can be further hydrogenated to liquid fuels.  This reaction is as follows in the gas phase:\n",
    "\\begin{align}\n",
    "\\ce{CO2 + H2 <=> CO + H2O}\n",
    "\\end{align}\n",
    "The reverse water gas shift reaction is usually conducted on CuO/ZnO catalysts supported by alumina, but a group in literature suggested that a TiO$_2$ supported Pt catalyst might be more active.  You're going to help them estimate a reduced mechanism for this catalytic reaction."
   ]
  },
  {
   "cell_type": "markdown",
   "metadata": {},
   "source": [
    "##  [20 pt] The authors propose the following associative elementary reaction mechanism: \n",
    "\\begin{align*}\n",
    "\\ce{CO2(g) + S &<=>[K_{1}] CO2*S}\\\\\n",
    "\\ce{H2(g) + S &<=>[K_{2}] H2\\cdot S}\\\\\n",
    "\\ce{CO2\\cdot S + H2 \\cdot S &<=>[K_{eq}] CO\\cdot S + H2O \\cdot S}\\\\\n",
    "\\ce{CO \\cdot S &<=>[K_{4}] CO(g) + S}\\\\\n",
    "\\ce{H2O \\cdot S &<=>[K_{5}] H2O(g) + S}\n",
    "\\end{align*}\n",
    "Assuming that the third step ($\\ce{CO2\\cdot S + H2 \\cdot S <=> CO\\cdot S + H2O \\cdot S\\:}$) is rate limiting, derive the apparent reaction rate law for the this mechanism at short time conditions, where $[CO]$, $[H_2O]$, $[CO\\cdot S]$, and $[H_2O\\cdot S]$ are all ~0.  This is a heterogeneous catalytic process, so the total number of surface sites is conserved."
   ]
  },
  {
   "cell_type": "markdown",
   "metadata": {},
   "source": [
    "Suppose that the total concentration of surface sites is $C_{S0}$."
   ]
  },
  {
   "cell_type": "markdown",
   "metadata": {},
   "source": [
    "- A = 'CO2'\n",
    "- B = 'H2'\n",
    "- C = 'CO'\n",
    "- D = 'H2O'\n",
    "- E = 'S'\n",
    "- F = 'CO2.S'\n",
    "- G = 'H2.S'\n",
    "- H = 'CO.S'\n",
    "- I = 'H2O.S'"
   ]
  },
  {
   "cell_type": "markdown",
   "metadata": {},
   "source": [
    "\\begin{align*}\n",
    "    r_1 &= k_1 (C_A C_E - C_F / K_1) \\\\\n",
    "    r_2 &= k_2 (C_B C_E - C_G / K_2 ) \\\\\n",
    "    r_3 &= k_{eq} (C_F C_G - C_H C_I / K_{eq}) \\\\\n",
    "    r_4 &= k_4 (C_H - C_C C_E / K_4) \\\\\n",
    "    r_5 &= k_5 (C_I - C_D C_E / K_5)\n",
    "\\end{align*}"
   ]
  },
  {
   "cell_type": "markdown",
   "metadata": {},
   "source": [
    "\\begin{align*}\n",
    "    C_{S0} = C_E + C_F + C_G + C_H + C_I\n",
    "\\end{align*}"
   ]
  },
  {
   "cell_type": "markdown",
   "metadata": {},
   "source": [
    "\\begin{align*}\n",
    "    r_1 = 0 \\Rightarrow\n",
    "    C_F = K_1 C_A C_E \\\\\n",
    "    r_2 = 0 \\Rightarrow\n",
    "    C_G = K_2 C_B C_E \\\\\n",
    "    r_4 = 0 \\Rightarrow\n",
    "    C_H = C_C C_E/K_4 \\\\\n",
    "    r_5 = 0 \\Rightarrow\n",
    "    C_I = C_D C_E / K_5 \\\\\n",
    "\\end{align*}"
   ]
  },
  {
   "cell_type": "markdown",
   "metadata": {},
   "source": [
    "\\begin{align*}\n",
    "    C_E = \\frac {C_{S0}} {1 + K_1 C_A + K_2 C_B + C_C/K_4 + C_D / K_5}\n",
    "\\end{align*}"
   ]
  },
  {
   "cell_type": "markdown",
   "metadata": {},
   "source": [
    "\\begin{align*}\n",
    "    r = r_3 &= k_{eq} (C_F C_G - C_H C_I / K_{eq}) \\\\\n",
    "    &= k_{eq} C_E^2 (K_1 C_A \\cdot K_2 C_B - C_C C_D / (K_4 K_5 K_eq)) \\\\\n",
    "    &= \\frac {k_{eq} C_{S0}^2 (K_1 K_2 C_A C_B - C_C C_D / (K_4 K_5 K_eq))} {(1 + K_1 C_A + K_2 C_B + C_C/K_4 + C_D / K_5) ^ 2}\n",
    "\\end{align*}"
   ]
  },
  {
   "cell_type": "markdown",
   "metadata": {},
   "source": [
    "Since $[CO]$, $[H_2O]$, $[CO\\cdot S]$, and $[H_2O\\cdot S]$ are all ~0, $C_C = C_D = 0$.\n",
    "\\begin{align*}\n",
    "    r &= \\frac {k_{eq} C_{S0}^2 K_1 K_2 C_A C_B} {(1 + K_1 C_A + K_2 C_B) ^ 2}\n",
    "\\end{align*}"
   ]
  },
  {
   "cell_type": "markdown",
   "metadata": {},
   "source": [
    "## [20 pt] We can assume simplified Langmuir Hinshelwood kinetics of the form: \n",
    "\\begin{align*}\n",
    "r=\\frac{kP_{CO2}P_{H_2}}{(1+K_1P_{CO2}+K_2P_{H_2})^2}\n",
    "\\end{align*}\n",
    "where $K_1$ is already known from other studies:  0.07/atm. Use this simplified Langmuir Hinshelwood rate law to fit values of $k$ and $K_2$ for the following data:\n",
    "\n",
    "| $P_{CO_2}$[atm] | $P_{H_2}$[atm] | Rate [mol/h/gcat] |\n",
    "|----------:|---------:|------------------:|\n",
    "|       0.9 |     0.18 |              0.037 |\n",
    "|       0.9 |     0.42 |              0.045 |\n",
    "|       0.9 |      0.6 |              0.046 |\n",
    "|       0.9 |     0.85 |              0.051 |\n",
    "|       0.9 |     0.92 |             0.0525 |\n",
    "In addition to finding $k,K_2$, also plot your fit with the data."
   ]
  },
  {
   "cell_type": "code",
   "execution_count": 1,
   "metadata": {},
   "outputs": [],
   "source": [
    "import numpy as np\n",
    "import matplotlib.pyplot as plt\n",
    "from scipy.integrate import odeint"
   ]
  },
  {
   "cell_type": "code",
   "execution_count": 2,
   "metadata": {},
   "outputs": [
    {
     "name": "stdout",
     "output_type": "stream",
     "text": [
      "k = 0.37047 mol/h/gcat/atm^2, K2 = 1.554 1/atm\n"
     ]
    }
   ],
   "source": [
    "np.set_printoptions(precision=5)\n",
    "from pycse import nlinfit\n",
    "\n",
    "r = np.array([0.037, 0.045, 0.046, 0.051, 0.0525])\n",
    "lnr = np.log(r)\n",
    "\n",
    "PCO2 = np.array([0.9, 0.9, 0.9, 0.9, 0.9])\n",
    "PH2 = np.array([0.18, 0.42, 0.6, 0.85, 0.92])\n",
    "\n",
    "P = np.array([[0.9, 0.9, 0.9, 0.9, 0.9], [0.18, 0.42, 0.6, 0.85, 0.92]])\n",
    "\n",
    "K1 = 0.07 # 1/atm\n",
    "\n",
    "def func(P, k, K2):\n",
    "    PCO2, PH2 = P\n",
    "    return k * PCO2 * PH2 / (1 + K1 * PCO2 + K2 * PH2) ** 2\n",
    "\n",
    "initial_guess = [1.2, 0.03]\n",
    "alpha = 0.05\n",
    "pars, pint, se = nlinfit(func, P, r, initial_guess, alpha)\n",
    "k, K2 = np.array(pars)\n",
    "\n",
    "print('k = {:1.5f} mol/h/gcat/atm^2, K2 = {:1.3f} 1/atm'.format(k, K2))"
   ]
  },
  {
   "cell_type": "code",
   "execution_count": 3,
   "metadata": {},
   "outputs": [
    {
     "data": {
      "image/png": "[encoded data removed]",
      "text/plain": [
       "<matplotlib.figure.Figure at 0x7f31a03cecf8>"
      ]
     },
     "metadata": {},
     "output_type": "display_data"
    }
   ],
   "source": [
    "def func2(P):\n",
    "    PCO2, PH2 = P\n",
    "    return k * PCO2 * PH2 / (1 + K1 * PCO2 + K2 * PH2) ** 2\n",
    "\n",
    "r2 = func2(P)\n",
    "plt.plot(PH2, r, PH2, r2)\n",
    "plt.legend(['experimental data', 'fitted curve'])\n",
    "plt.xlabel('Pressure of H2/atm')\n",
    "plt.ylabel('Reaction rate/[mol/h/gcat]')\n",
    "plt.show()"
   ]
  },
  {
   "cell_type": "markdown",
   "metadata": {},
   "source": [
    "##  [15 pt] Now use the same data to fit a $k$ and $\\alpha$ for a simple power law (below). \n",
    "\\begin{align*}\n",
    "r=k P_{CO2}^{0.831}P_{H2}^\\alpha\n",
    "\\end{align*}\n",
    "Plot your fit and the data."
   ]
  },
  {
   "cell_type": "markdown",
   "metadata": {},
   "source": [
    "\\begin{align*}\n",
    "    ln r = ln k + 0.831 ln P_{CO2} + \\alpha ln P_{H_2}\n",
    "\\end{align*}"
   ]
  },
  {
   "cell_type": "code",
   "execution_count": 4,
   "metadata": {},
   "outputs": [],
   "source": [
    "r = np.array([0.037, 0.045, 0.046, 0.051, 0.0525]).T\n",
    "lnr = np.log(r)\n",
    "\n",
    "PCO2 = np.array([0.9, 0.9, 0.9, 0.9, 0.9]).T\n",
    "PH2 = np.array([0.18, 0.42, 0.6, 0.85, 0.92]).T\n",
    "lnPCO2 = np.log(PCO2)\n",
    "lnPH2 = np.log(PH2)"
   ]
  },
  {
   "cell_type": "code",
   "execution_count": 5,
   "metadata": {},
   "outputs": [
    {
     "data": {
      "text/plain": [
       "array([-1.7148 , -0.8675 , -0.51083, -0.16252, -0.08338])"
      ]
     },
     "execution_count": 5,
     "metadata": {},
     "output_type": "execute_result"
    }
   ],
   "source": [
    "lnPH2"
   ]
  },
  {
   "cell_type": "code",
   "execution_count": 6,
   "metadata": {},
   "outputs": [],
   "source": [
    "lnrp = lnr - 0.831 * lnPCO2"
   ]
  },
  {
   "cell_type": "code",
   "execution_count": 7,
   "metadata": {},
   "outputs": [
    {
     "name": "stdout",
     "output_type": "stream",
     "text": [
      "alpha = 0.206, k = 0.05756 mol/h/gcat/atm^1.037\n"
     ]
    }
   ],
   "source": [
    "A = np.array([[-1.7148 , -0.8675 , -0.51083, -0.16252, -0.08338], [1, 1, 1, 1, 1]]).T\n",
    "ATA = np.matmul(A.T, A)\n",
    "ATAp = np.linalg.inv(ATA)\n",
    "Ap = np.matmul(ATAp, A.T) # pseudo-inverse\n",
    "\n",
    "x = np.matmul(Ap, lnrp)\n",
    "alpha, lnk = x\n",
    "k = np.exp(lnk)\n",
    "print('alpha = {:1.3f}, k = {:1.5f} mol/h/gcat/atm^{:1.3f}'.format(alpha, k, 0.831 + alpha))"
   ]
  },
  {
   "cell_type": "code",
   "execution_count": 8,
   "metadata": {},
   "outputs": [
    {
     "data": {
      "image/png": "[encoded data removed]",
      "text/plain": [
       "<matplotlib.figure.Figure at 0x7f319e3b0668>"
      ]
     },
     "metadata": {},
     "output_type": "display_data"
    }
   ],
   "source": [
    "def func3(P):\n",
    "    PCO2, PH2 = P\n",
    "    return k * PCO2 ** 0.831 * PH2 ** alpha\n",
    "\n",
    "r3 = func3(P)\n",
    "plt.plot(PH2, r, PH2, r3)\n",
    "plt.legend(['experimental data', 'fitted curve'])\n",
    "plt.xlabel('Pressure of H2/atm')\n",
    "plt.ylabel('Reaction rate/[mol/h/gcat]')\n",
    "plt.show()"
   ]
  },
  {
   "cell_type": "markdown",
   "metadata": {},
   "source": [
    "## [5 pt] Of the three rate laws (the one proposed in literature, the simplified Langmuir Hinshelwood, and the power law), which one would you use? Why? "
   ]
  },
  {
   "cell_type": "markdown",
   "metadata": {},
   "source": [
    "I would use the simiplified Langmuir Hinshelwood rate law because:\n",
    "\n",
    "- It is a heterogeneous catalytic process, so taking the surface sites into account is important. The power law is out.\n",
    "- It is hard to get the value of equilibrium constants and rate constants of reaction 3, 4, 5, which include adsorbed components.\n",
    "\n",
    "So the simplified Langmuir Hinshelwood would be a nice choice."
   ]
  },
  {
   "cell_type": "markdown",
   "metadata": {},
   "source": [
    "## [40 pt] Under reverse water gas shift conditions, the experimental team found that  the experimental rate data could be approximated with\n",
    "\\begin{align}\n",
    "r=k P_{CO2}^{0.831}P_{H2}^{0.201}\n",
    "\\end{align}\n",
    "where $k=0.060$ [mol CO2 h$^{-1}$ $g_{cat}^{-1}$ atm$^{-1.032}$].  For simplicity, assume that there is only a forward rate of reaction (no reverse). Assuming a packed bed reactor with pressure drop ($\\alpha=2\\times 10^{-5}/g_{cat}$), plot the CO$_2$ and H$_2$ molar flow rates and the pressure profile for an inlet stream of 0.5 mol/s each of CO$_2$ and H$_2$ at a temperature of 573 K and a total pressure of 3.4 atm as a function of catalyst weight (up to 10,000 g). The reactor is isothermal and because the net change in mols for the reaction is 0, isobaric."
   ]
  },
  {
   "cell_type": "code",
   "execution_count": 9,
   "metadata": {},
   "outputs": [],
   "source": [
    "species = ['CO2', 'H2', 'CO', 'H2O'] # A, B, C, D"
   ]
  },
  {
   "cell_type": "code",
   "execution_count": 10,
   "metadata": {},
   "outputs": [],
   "source": [
    "k = 0.060 / 3600 # mol CO2 / s / g_cat / atm ^ 1.032\n",
    "alpha = 2e-5 # 1/g_cat\n",
    "FA0 = FB0 = 0.5 # mol/s\n",
    "T = 573 # K\n",
    "Pt0 = 3.4 # atm\n",
    "Wspan = np.linspace(0, 10000)\n",
    "Ft = FA0 + FB0 # total molar flowrate"
   ]
  },
  {
   "cell_type": "code",
   "execution_count": 11,
   "metadata": {},
   "outputs": [],
   "source": [
    "y0 = 1\n",
    "F0 = np.array([FA0, FB0, 0, 0, y0]).T\n",
    "\n",
    "def dFdW(F, W):\n",
    "    FA, FB, FC, FD, y = F\n",
    "    Pt = Pt0 * y\n",
    "    \n",
    "    yA, yB = F[0:2] / Ft # mole fraction\n",
    "    # print(yA)\n",
    "    PA = yA * Pt\n",
    "    PB = yB * Pt\n",
    "    # print(PA)\n",
    "    r = k * PA ** 0.831 * PB ** 0.201\n",
    "    \n",
    "    dFAdW = dFBdW = -r\n",
    "    dFCdW = dFDdW = r\n",
    "    \n",
    "    dydW = - alpha / (2 * y)\n",
    "    # print(dydW)\n",
    "    return [dFAdW, dFBdW, dFCdW, dFDdW, dydW]\n",
    "    \n",
    "    # units!!!!\n"
   ]
  },
  {
   "cell_type": "code",
   "execution_count": 12,
   "metadata": {},
   "outputs": [],
   "source": [
    "F_PBR = odeint(dFdW, F0, Wspan)"
   ]
  },
  {
   "cell_type": "code",
   "execution_count": 13,
   "metadata": {},
   "outputs": [
    {
     "data": {
      "image/png": "[encoded data removed]",
      "text/plain": [
       "<matplotlib.figure.Figure at 0x7f319e1e5d30>"
      ]
     },
     "metadata": {},
     "output_type": "display_data"
    },
    {
     "data": {
      "image/png": "[encoded data removed]",
      "text/plain": [
       "<matplotlib.figure.Figure at 0x7f319e28bf28>"
      ]
     },
     "metadata": {},
     "output_type": "display_data"
    }
   ],
   "source": [
    "plt.subplot(2, 1, 1)\n",
    "plt.plot(Wspan, F_PBR[:, 0:2])\n",
    "plt.xlabel('Weight of catalyst/g')\n",
    "plt.ylabel('molar flowrate/(mol/s)')\n",
    "plt.legend(['F_A','F_B'])\n",
    "plt.show()\n",
    "\n",
    "plt.subplot(2, 1, 2)\n",
    "plt.plot(Wspan, F_PBR[:, 4] * Pt0)\n",
    "plt.xlabel('Weight of catalyst/g')\n",
    "plt.ylabel('Pressure/atm')\n",
    "plt.show()"
   ]
  },
  {
   "cell_type": "code",
   "execution_count": null,
   "metadata": {},
   "outputs": [],
   "source": []
  }
 ],
 "metadata": {
  "kernelspec": {
   "display_name": "Python 3",
   "language": "python",
   "name": "python3"
  },
  "language_info": {
   "codemirror_mode": {
    "name": "ipython",
    "version": 3
   },
   "file_extension": ".py",
   "mimetype": "text/x-python",
   "name": "python",
   "nbconvert_exporter": "python",
   "pygments_lexer": "ipython3",
   "version": "3.6.2"
  },
  "toc": {
   "colors": {
    "hover_highlight": "#DAA520",
    "navigate_num": "#000000",
    "navigate_text": "#333333",
    "running_highlight": "#FF0000",
    "selected_highlight": "#FFD700",
    "sidebar_border": "#EEEEEE",
    "wrapper_background": "#FFFFFF"
   },
   "moveMenuLeft": true,
   "nav_menu": {
    "height": "11px",
    "width": "252px"
   },
   "navigate_menu": true,
   "number_sections": true,
   "sideBar": true,
   "threshold": 4,
   "toc_cell": false,
   "toc_section_display": "block",
   "toc_window_display": true,
   "widenNotebook": false
  }
 },
 "nbformat": 4,
 "nbformat_minor": 2
}
