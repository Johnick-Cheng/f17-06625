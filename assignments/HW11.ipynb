{
 "cells": [
  {
   "cell_type": "markdown",
   "metadata": {},
   "source": [
    "$$\\require{mhchem}$$       "
   ]
  },
  {
   "cell_type": "markdown",
   "metadata": {},
   "source": [
    "# Non-isothermal PFR\n",
    "\n",
    "The gas-phase oxidation of o-xylene to phthalic anhydride is highly exothermic.  The reaction is carried out PFR bundles with molden salt circulating as the heat transfer fluid.  The o-xylene is mixed with air before entering the PFR. The reaction rate is limited by maintaining a low concentration of hydrocarbon in the feed. The mol fraction of o-xylene is less than 2%.  \n",
    "\\begin{align}\n",
    "\\text{o-xylene} \\rightarrow \\text{phthalic anhydride} \n",
    "\\end{align}\n",
    "\n",
    "Under these conditions, the large excess of oxygen leads to a pseudo-first-order rate expression:\n",
    "\\begin{align*}\n",
    "r=k_m \\exp \\left[-E\\left(\\frac{1}{T}-\\frac{1}{T_m}\\right)\\right] c_x \n",
    "\\end{align*}\n",
    "where $c_x$ is the o-xylene concetration.  The operating pressure is atmospheric.  \n",
    "\n",
    "| Parameter   | Value                  | Units        |\n",
    "|-------------|------------------------|--------------|\n",
    "| $k_m$       | 2.0822                 | 1/s          |\n",
    "| $T_A$       | 625                    | K            |\n",
    "| $T_m$       | 625                    | K            |\n",
    "| $P_f$       | 1.0                    | atm          |\n",
    "| l           | 1.5                    | m            |\n",
    "| R           | 0.0125                 | m            |\n",
    "| $\\hat{C}_p$ | 0.992                  | kJ/kg K      |\n",
    "| U           | 0.373                  | kJ/m$^2$ s K |\n",
    "| $y_{xf}$      | 0.019                  |              |\n",
    "| E/R         | $1.3636\\times 10^4$    | K            |\n",
    "| $\\Delta H_R$ | $-1.284 \\times 10^6$   | kJ/mol       |\n",
    "| $Q\\rho$     | $2.6371\\times 10^{-3}$ | kg/s         |\n",
    "\n",
    "$y_{xf}$ is the mol fraction of xylene in the feed. The rest is inert.  The specific heat is constant.  $T_m$ is the reference temperature. $T_a$ is the temperature of the coolant.  The average molecular weight of the inlet feed is 30.387 kg/kmol."
   ]
  },
  {
   "cell_type": "markdown",
   "metadata": {},
   "source": [
    "### Calculate the temperature and o-xylene composition profiles for inlet feed temperatures of 610 to 630 K."
   ]
  },
  {
   "cell_type": "markdown",
   "metadata": {},
   "source": [
    "###  What is the maximum feed temperature that can be used that keeps the maximum reactor temperature below 700 K?"
   ]
  },
  {
   "cell_type": "markdown",
   "metadata": {},
   "source": [
    "### We learn that the reaction is reversible.  Calculate the equilibrium constant as a function of temperature from 625 to 800 K on a y-log scale\n",
    "\n",
    "The reference equilibrium constant at 625 K is $10^8$.  "
   ]
  },
  {
   "cell_type": "markdown",
   "metadata": {},
   "source": [
    "### Calculate the temperature and o-xylene composition profile for this reversible scenario for inlet feed temperatures of 610 to 630 K.  Explain what's happening.  "
   ]
  },
  {
   "cell_type": "markdown",
   "metadata": {},
   "source": [
    "### What is the maximum conversion that you can get by adjusting the feed temperature and the cooling salt bath temperature ($T_A$)?"
   ]
  }
 ],
 "metadata": {
  "kernelspec": {
   "display_name": "Python 3",
   "language": "python",
   "name": "python3"
  },
  "language_info": {
   "codemirror_mode": {
    "name": "ipython",
    "version": 3
   },
   "file_extension": ".py",
   "mimetype": "text/x-python",
   "name": "python",
   "nbconvert_exporter": "python",
   "pygments_lexer": "ipython3",
   "version": "3.6.2"
  },
  "toc": {
   "colors": {
    "hover_highlight": "#DAA520",
    "navigate_num": "#000000",
    "navigate_text": "#333333",
    "running_highlight": "#FF0000",
    "selected_highlight": "#FFD700",
    "sidebar_border": "#EEEEEE",
    "wrapper_background": "#FFFFFF"
   },
   "moveMenuLeft": true,
   "nav_menu": {
    "height": "113px",
    "width": "252px"
   },
   "navigate_menu": true,
   "number_sections": true,
   "sideBar": true,
   "threshold": 4,
   "toc_cell": false,
   "toc_section_display": "block",
   "toc_window_display": false,
   "widenNotebook": false
  }
 },
 "nbformat": 4,
 "nbformat_minor": 2
}
