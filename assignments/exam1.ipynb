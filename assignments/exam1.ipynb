{
 "cells": [
  {
   "cell_type": "markdown",
   "metadata": {},
   "source": [
    "$$\\require{mhchem}$$       "
   ]
  },
  {
   "cell_type": "markdown",
   "metadata": {},
   "source": [
    "# Exam 1 Problem 1 (60 pts)"
   ]
  },
  {
   "cell_type": "markdown",
   "metadata": {},
   "source": [
    " We have a liquid feed of A and B, with concentration of A 2M and concentration of B 3M, with a total flow rate of 0.1 m$^3$/s.  We are looking to optimize the conversion of the reaction: \n",
    "\\begin{align*}\n",
    "\\ce{A + 2B -> C}\n",
    "\\end{align*}\n",
    "You can assume in all cases the reaction is isothermal and the volume does not change with changes in the molar flow rates of the reactants.  The reaction is elementary and the rate constant is $k_1=0.1 dm^6/mol^2/s$\n",
    "\n"
   ]
  },
  {
   "cell_type": "markdown",
   "metadata": {},
   "source": [
    "## First, find the maximum extent of reaction $\\xi^{max}$ and write the rate equation $r$. (5 pts)"
   ]
  },
  {
   "cell_type": "markdown",
   "metadata": {},
   "source": [
    "\\begin{align*}\n",
    "    \\xi^{max} = min (\\frac{CA0}{\\alpha_A}, \\frac{CB0}{\\alpha_B}) = min (2, 1.5) = 1.5 \\\\\n",
    "    r = k_1 C_A C_B^2\n",
    "\\end{align*}"
   ]
  },
  {
   "cell_type": "markdown",
   "metadata": {},
   "source": [
    "## Now, find the extent of reaction for a steady state 100 L CSTR with the feed and flow rate from above. (10 pts)\n",
    "<img src=\"E1P1B.png\" alt=\"Drawing\" style=\"width: 300px;\"/>\n"
   ]
  },
  {
   "cell_type": "code",
   "execution_count": 4,
   "metadata": {},
   "outputs": [],
   "source": [
    "import numpy as np\n",
    "from scipy.optimize import fsolve\n",
    "from scipy.integrate import odeint\n",
    "import matplotlib.pyplot as plt"
   ]
  },
  {
   "cell_type": "code",
   "execution_count": 2,
   "metadata": {},
   "outputs": [
    {
     "name": "stdout",
     "output_type": "stream",
     "text": [
      "The extent of reaction at the steady state is 0.54 M.\n"
     ]
    }
   ],
   "source": [
    "nu = 0.1e3 # L/s\n",
    "CA0 = 2 # M\n",
    "CB0 = 3 # M\n",
    "k1 = 0.1 # L2/mol2/s\n",
    "\n",
    "V = 100 # L\n",
    "\n",
    "def CSTR(xi):\n",
    "    CA = CA0 - xi\n",
    "    CB = CB0 - 2 * xi\n",
    "    \n",
    "    r = k1 * CA * CB ** 2\n",
    "    \n",
    "    res = CA0 * nu / V - CA * nu / V - r\n",
    "    return res\n",
    "\n",
    "xi_CSTR, = fsolve(CSTR, 2)\n",
    "print('The extent of reaction at the steady state is {:1.2f} M.'.format(xi_CSTR))"
   ]
  },
  {
   "cell_type": "code",
   "execution_count": 152,
   "metadata": {},
   "outputs": [],
   "source": [
    "def CSTR(C):\n",
    "    CA, CB = C\n",
    "    \n",
    "    r = k1 * CA * CB ** 2\n",
    "    \n",
    "    res1 = CA0 * nu / V - CA * nu / V - r\n",
    "    res2 = CB0 * nu / V - CB * nu / V - 2 * r\n",
    "    \n",
    "    return [res1, res2]"
   ]
  },
  {
   "cell_type": "code",
   "execution_count": 154,
   "metadata": {},
   "outputs": [
    {
     "data": {
      "text/plain": [
       "array([ 1.46071685,  1.9214337 ])"
      ]
     },
     "execution_count": 154,
     "metadata": {},
     "output_type": "execute_result"
    }
   ],
   "source": [
    "C_CSTR = fsolve(CSTR, [1, 1])\n",
    "C_CSTR"
   ]
  },
  {
   "cell_type": "code",
   "execution_count": 151,
   "metadata": {},
   "outputs": [
    {
     "data": {
      "text/plain": [
       "8.8817841970012523e-16"
      ]
     },
     "execution_count": 151,
     "metadata": {},
     "output_type": "execute_result"
    }
   ],
   "source": [
    "# check\n",
    "\n",
    "CA = CA0 - xi_CSTR\n",
    "CB = CB0 - 2 * xi_CSTR\n",
    "\n",
    "r = k1 * CA * CB ** 2\n",
    "\n",
    "CA0 * nu / V - CA * nu / V - r\n",
    "CB0 * nu / V - CB * nu / V - 2 * r\n"
   ]
  },
  {
   "cell_type": "markdown",
   "metadata": {},
   "source": [
    "## Find the final extent of reaction for a 100 L PFR (10 pts)\n",
    "<img src=\"E1P1C.png\" alt=\"Drawing\" style=\"width: 300px;\"/>\n"
   ]
  },
  {
   "cell_type": "code",
   "execution_count": 94,
   "metadata": {},
   "outputs": [
    {
     "data": {
      "image/png": "[encoded data removed]",
      "text/plain": [
       "<matplotlib.figure.Figure at 0x7f8ce06685c0>"
      ]
     },
     "metadata": {},
     "output_type": "display_data"
    },
    {
     "name": "stdout",
     "output_type": "stream",
     "text": [
      "The Final extent of reaction for PFR is 0.72 M\n"
     ]
    }
   ],
   "source": [
    "F0 = [CA0 * nu, CB0 * nu, 0]\n",
    "Vspan = np.linspace(0, 100) # L\n",
    "\n",
    "def dFdV(F, V):\n",
    "    FA, FB, FC = F\n",
    "    CA, CB, CC = F / nu\n",
    "    \n",
    "    r = k1 * CA * CB ** 2\n",
    "    \n",
    "    return [-r, -2 * r, r]\n",
    "\n",
    "F = odeint(dFdV, F0, Vspan)\n",
    "\n",
    "plt.plot(Vspan, F)\n",
    "plt.show()\n",
    "\n",
    "FA_exit = F[-1, 0]\n",
    "xi_exit = (F0[0] - FA_exit) / nu\n",
    "\n",
    "print('The Final extent of reaction for PFR is {:1.2f} M'.format(xi_exit))"
   ]
  },
  {
   "cell_type": "markdown",
   "metadata": {},
   "source": [
    "## Our operators tell us that they really like working with CSTR's and suggest that you use several CSTR's in series.  The total volume of CSTR's should equal 100 L.  For example, if you have 4 CSTR's, then  each will have a volume of 25 L.  The outflow of each CSTR is the same as the inflow to the next CSTR.  The extent of reaction for each reactor can be solved based on the extent of reaction from the previous reactor (sequentially).  Calculate the extent of reaction for the four reactor situation. (20 pts)\n",
    "<img src=\"E1P1D.png\" alt=\"Drawing\" style=\"width: 500px;\"/>\n"
   ]
  },
  {
   "cell_type": "code",
   "execution_count": 304,
   "metadata": {},
   "outputs": [
    {
     "name": "stdout",
     "output_type": "stream",
     "text": [
      "The Final extent of 4 CSTRs is 0.90 M\n"
     ]
    }
   ],
   "source": [
    "def CSTR_4(CA, V, CA0):\n",
    "    xi = CA0 - CA\n",
    "    CB = CB0 - 2 * xi\n",
    "    \n",
    "    r = k1 * CA * CB ** 2\n",
    "    \n",
    "    res = CA0 * nu / V - CA * nu / V - r\n",
    "    return res\n",
    "\n",
    "CA_4_sol, = fsolve(CSTR_4, 2, args=(25, 2))\n",
    "\n",
    "CA_4 = []\n",
    "CA_4 += [CA_4_sol]\n",
    "\n",
    "for i in range(3):\n",
    "    CA_4_sol, = fsolve(CSTR_4, 2, args=(25, CA_4[i]))\n",
    "    CA_4 += [CA_4_sol]\n",
    "\n",
    "xi_4_exit = CA0 - CA_4[-1]\n",
    "\n",
    "print('The Final extent of 4 CSTRs is {:1.2f} M'.format(xi_4_exit))"
   ]
  },
  {
   "cell_type": "code",
   "execution_count": 305,
   "metadata": {},
   "outputs": [
    {
     "data": {
      "text/plain": [
       "[1.7352361942421506,\n",
       " 1.4969392456054023,\n",
       " 1.2841613293320504,\n",
       " 1.0956906000386664]"
      ]
     },
     "execution_count": 305,
     "metadata": {},
     "output_type": "execute_result"
    }
   ],
   "source": [
    "CA_4"
   ]
  },
  {
   "cell_type": "code",
   "execution_count": 288,
   "metadata": {},
   "outputs": [],
   "source": [
    "def CSTR_4(CA, V, CA0):\n",
    "    xi = CA0 - CA\n",
    "    CB = CB0 - 2 * xi\n",
    "    \n",
    "    r = k1 * CA * CB ** 2\n",
    "    \n",
    "    res = CA0 * nu / V - CA * nu / V - r\n",
    "    return res\n",
    "\n",
    "[CA, inf, x3 ,x4] = fsolve(CSTR_4, 2, args=(25, 2), full_output = 1)"
   ]
  },
  {
   "cell_type": "code",
   "execution_count": 332,
   "metadata": {},
   "outputs": [
    {
     "data": {
      "text/plain": [
       "array([ 1.73523619,  2.47047239])"
      ]
     },
     "execution_count": 332,
     "metadata": {},
     "output_type": "execute_result"
    }
   ],
   "source": [
    "def CSTR_4(C, V, C0):\n",
    "    CA, CB = C\n",
    "    CA0, CB0 = C0\n",
    "    xi = CA0 - CA\n",
    "    # CB = CB0 - 2 * xi\n",
    "    \n",
    "    r = k1 * CA * CB ** 2\n",
    "    \n",
    "    res = CA0 * nu / V - CA * nu / V - r\n",
    "    res2 = CB0 * nu / V - CB * nu / V - 2 * r\n",
    "    # print(res2)\n",
    "    return [res, res2]\n",
    "\n",
    "C = fsolve(CSTR_4, [1.7, 2.5], args=(25, [2, 3]))\n",
    "C"
   ]
  },
  {
   "cell_type": "code",
   "execution_count": 307,
   "metadata": {},
   "outputs": [],
   "source": [
    "V = 25"
   ]
  },
  {
   "cell_type": "code",
   "execution_count": 308,
   "metadata": {},
   "outputs": [
    {
     "data": {
      "text/plain": [
       "array([ 1.49693925])"
      ]
     },
     "execution_count": 308,
     "metadata": {},
     "output_type": "execute_result"
    }
   ],
   "source": [
    "CA\n",
    "#CA = 1.606560755626675\n",
    "CA"
   ]
  },
  {
   "cell_type": "code",
   "execution_count": 293,
   "metadata": {},
   "outputs": [
    {
     "data": {
      "text/plain": [
       "array([ 0.26476381])"
      ]
     },
     "execution_count": 293,
     "metadata": {},
     "output_type": "execute_result"
    }
   ],
   "source": [
    "xi = CA0 - CA\n",
    "xi"
   ]
  },
  {
   "cell_type": "code",
   "execution_count": 294,
   "metadata": {},
   "outputs": [
    {
     "data": {
      "text/plain": [
       "array([ 2.47047239])"
      ]
     },
     "execution_count": 294,
     "metadata": {},
     "output_type": "execute_result"
    }
   ],
   "source": [
    "CB = CB0 - 2 * xi\n",
    "CB"
   ]
  },
  {
   "cell_type": "code",
   "execution_count": 295,
   "metadata": {},
   "outputs": [],
   "source": [
    "r = k1 * CA * CB ** 2"
   ]
  },
  {
   "cell_type": "code",
   "execution_count": 296,
   "metadata": {},
   "outputs": [
    {
     "data": {
      "text/plain": [
       "array([ 1.05905522])"
      ]
     },
     "execution_count": 296,
     "metadata": {},
     "output_type": "execute_result"
    }
   ],
   "source": [
    "r"
   ]
  },
  {
   "cell_type": "code",
   "execution_count": 297,
   "metadata": {},
   "outputs": [
    {
     "data": {
      "text/plain": [
       "array([ -2.24265051e-14])"
      ]
     },
     "execution_count": 297,
     "metadata": {},
     "output_type": "execute_result"
    }
   ],
   "source": [
    "res = CA0 * nu / V - CA * nu / V - r\n",
    "res"
   ]
  },
  {
   "cell_type": "code",
   "execution_count": 298,
   "metadata": {},
   "outputs": [
    {
     "data": {
      "text/plain": [
       "array([ -4.30766534e-14])"
      ]
     },
     "execution_count": 298,
     "metadata": {},
     "output_type": "execute_result"
    }
   ],
   "source": [
    "res2 = CB0 * nu / V - CB * nu / V - 2 * r\n",
    "res2"
   ]
  },
  {
   "cell_type": "code",
   "execution_count": 299,
   "metadata": {},
   "outputs": [
    {
     "data": {
      "text/plain": [
       "25"
      ]
     },
     "execution_count": 299,
     "metadata": {},
     "output_type": "execute_result"
    }
   ],
   "source": [
    "V"
   ]
  },
  {
   "cell_type": "code",
   "execution_count": null,
   "metadata": {},
   "outputs": [],
   "source": []
  },
  {
   "cell_type": "code",
   "execution_count": 300,
   "metadata": {},
   "outputs": [
    {
     "data": {
      "text/plain": [
       "array([ 1.46071685])"
      ]
     },
     "execution_count": 300,
     "metadata": {},
     "output_type": "execute_result"
    }
   ],
   "source": [
    "fsolve(CSTR_4, 2, args=(100, 2))"
   ]
  },
  {
   "cell_type": "code",
   "execution_count": 301,
   "metadata": {},
   "outputs": [
    {
     "data": {
      "text/plain": [
       "1.606560755626675"
      ]
     },
     "execution_count": 301,
     "metadata": {},
     "output_type": "execute_result"
    }
   ],
   "source": [
    "def CSTR_4(CA, V, CA0):\n",
    "    xi = CA0 - CA\n",
    "    CB = CB0 - 2 * xi\n",
    "    \n",
    "    r = k1 * CA * CB ** 2\n",
    "    \n",
    "    res1 = CA0 * 100 / 50 - CA * 100 / 50 - r\n",
    "    # res2 = CB0 * nu / V - CB * nu / V - 2 * r\n",
    "    return res1 # [res1, res2]\n",
    "\n",
    "CA_4_sol, = fsolve(CSTR_4, 0, args=(50, 2))\n",
    "CA_4_sol"
   ]
  },
  {
   "cell_type": "code",
   "execution_count": 302,
   "metadata": {},
   "outputs": [
    {
     "data": {
      "text/plain": [
       "[1.606560755626675,\n",
       " 1.2660992188970639,\n",
       " 0.97846422116775977,\n",
       " 0.74172862868742528]"
      ]
     },
     "execution_count": 302,
     "metadata": {},
     "output_type": "execute_result"
    }
   ],
   "source": [
    "CA_4 = []\n",
    "CA_4 += [CA_4_sol]\n",
    "\n",
    "for i in range(3):\n",
    "    CA_4_sol, = fsolve(CSTR_4, 2, args=(25, CA_4[i]))\n",
    "    CA_4 += [CA_4_sol]\n",
    "\n",
    "CA_4"
   ]
  },
  {
   "cell_type": "code",
   "execution_count": 303,
   "metadata": {},
   "outputs": [
    {
     "data": {
      "text/plain": [
       "array([ 1.73523619,  2.47047239,  0.26476381])"
      ]
     },
     "execution_count": 303,
     "metadata": {},
     "output_type": "execute_result"
    }
   ],
   "source": [
    "def CSTR_4(C, V, C0):\n",
    "    CA0, CB0, CC0 = C0\n",
    "    CA, CB, CC = C\n",
    "    \n",
    "    r = k1 * CA * CB ** 2\n",
    "    \n",
    "    res1 = CA0 * nu / V - CA * nu / V - r\n",
    "    res2 = CB0 * nu / V - CB * nu / V - 2 * r\n",
    "    res3 = CC0 * nu / V - CC * nu / V + r\n",
    "    return [res1, res2, res3]\n",
    "\n",
    "CA_4_sol = fsolve(CSTR_4, [2, 2, 2], args=(25, [2, 3, 0]))\n",
    "CA_4_sol"
   ]
  },
  {
   "cell_type": "code",
   "execution_count": 286,
   "metadata": {},
   "outputs": [
    {
     "data": {
      "text/plain": [
       "[array([ 1.73523619,  2.47047239,  0.26476381]),\n",
       " array([ 1.55996854,  2.11993707,  0.44003146]),\n",
       " array([ 1.4346439 ,  1.86928779,  0.5653561 ]),\n",
       " array([ 1.34007216,  1.68014432,  0.65992784])]"
      ]
     },
     "execution_count": 286,
     "metadata": {},
     "output_type": "execute_result"
    }
   ],
   "source": [
    "\n",
    "CA_4 = []\n",
    "CA_4 += [CA_4_sol]\n",
    "\n",
    "for i in range(3):\n",
    "    CA_4_sol = fsolve(CSTR_4, [2, 2, 2], args=(25, CA_4[i]))\n",
    "    CA_4 += [CA_4_sol]\n",
    "\n",
    "CA_4\n",
    "#CA_4[-1, 0], = CA_4[-1, 0]\n",
    "#xi_4_exit = CA0 - CA_4[-1, 0]\n",
    "\n",
    "# print('The Final extent of 4 CSTRs is {:1.2f} M'.format(xi_4_exit))"
   ]
  },
  {
   "cell_type": "markdown",
   "metadata": {},
   "source": [
    "## Plot the final extent of reaction for this approach from 1 to 10 reactors, and compare to the conversions from the CSTR and PFR examples above. (9 pts)"
   ]
  },
  {
   "cell_type": "code",
   "execution_count": 89,
   "metadata": {},
   "outputs": [
    {
     "data": {
      "text/plain": [
       "1.0545585978404373"
      ]
     },
     "execution_count": 89,
     "metadata": {},
     "output_type": "execute_result"
    }
   ],
   "source": [
    "xi_100_exit = []\n",
    "\n",
    "for j in range (10):\n",
    "    CA_4_sol, = fsolve(CSTR_4, 2, args=(100 / (j + 1), 2))\n",
    "    # print('CA at the steady state is {:1.2f} M.'.format(CA_4_sol))\n",
    "\n",
    "    CA_4 = []\n",
    "    CA_4 += [CA_4_sol]\n",
    "\n",
    "    for i in range(j):\n",
    "        CA_4_sol, = fsolve(CSTR_4, 2, args=(100 / (j + 1), CA_4[i]))\n",
    "        CA_4 += [CA_4_sol]\n",
    "\n",
    "    xi_4_exit = CA0 - CA_4[-1]\n",
    "    xi_100_exit += [xi_4_exit]\n",
    "\n",
    "#xi_100_exit\n",
    "xi_4_exit"
   ]
  },
  {
   "cell_type": "code",
   "execution_count": 78,
   "metadata": {},
   "outputs": [
    {
     "name": "stdout",
     "output_type": "stream",
     "text": [
      "[0 1 2 3 4 5 6 7 8 9]\n"
     ]
    }
   ],
   "source": [
    "n = np.arange(0, 10, 1)\n",
    "print(n)"
   ]
  },
  {
   "cell_type": "markdown",
   "metadata": {},
   "source": [
    "## We are considering adding a membrane to the PFR.  We have a few options.  For each, answer qualitatively if you think the conversion of A would increase, decrease, or stay the same, and why: (2 pts each)\n",
    "- A membrane that allows A to be added slowly through the side of the PFR (w/ pure B inlet), total molar flow rate of A & B the same\n",
    "- A membrane that allows B to be added slowly through the side of the PFR (w/ pure A inlet), total molar flow rate of A & B the same\n",
    "- A membrane that allows C to be removed continuously through the side of the PDF"
   ]
  },
  {
   "cell_type": "markdown",
   "metadata": {},
   "source": []
  },
  {
   "cell_type": "markdown",
   "metadata": {},
   "source": [
    "# Exam 1 Problem 2 (40 pts)"
   ]
  },
  {
   "cell_type": "markdown",
   "metadata": {},
   "source": [
    "We are looking to design a liquid phase membrane PFR (V=10L) with three channels for the rection system:\n",
    "\\begin{align}\n",
    "\\ce{A + B -> 4C}, k_1=0.1/M/s\\\\\n",
    "\\ce{A + C -> 3D}, k_2=0.5/M/s\n",
    "\\end{align}\n",
    "The inner channel contains a feed of pure A with a concentration of 1M and flow rate of 2 L/s. A is very large and cannot pass any membrane. B,C,D can pass the first membrane ($k_{b,1}'=0.2/s,k_{c,1}'=0.4/s,k_{d,1}'=0.5/s$) between the inner and outer sections.  C,D are very small and can also pass the outer membrane ($k_{c,2}'=0.5/s,k_{d,2}'=0.7/s$) between the middle and outer sections. You may assume the volumetric flow rates are constant.  The middle-channel is counter-current (flowing opposite to the inner and outer shells).\n",
    "![img](./E1P2.png)\n"
   ]
  },
  {
   "cell_type": "markdown",
   "metadata": {},
   "source": [
    "## Write the mol balance for each of the 9 species (A,B,C,D in inner, B,C,D in middle, C,D in outer), as well as the boundary conditions on the left side of the reactor (i.e. inlet of inner shell).  (20 pts)"
   ]
  },
  {
   "cell_type": "markdown",
   "metadata": {},
   "source": [
    "\\begin{align}\n",
    "    dF_{Ain} / dV = -r1 - r2\\\\\n",
    "    dF_{Bin} / dV = - r2 - R_{Bmi} \\\\\n",
    "    dF_{Cin} / dV = 4r1 - r2 - R_{Cmi} \\\\\n",
    "    dF_{Din} / dV = 3r2 - R_{Dmi} \\\\\n",
    "    dF_{Bm} / dV = +R_{Bmi}\\\\\n",
    "    dF_{Cm} / dV = + R_{Cmi} - R_{Com} \\\\\n",
    "    dF_{Dm} / dV = + R_{Dmi} - R_{Dom} \\\\\n",
    "    dF_{Co} / dV = +R_{Com} \\\\\n",
    "    dF_{Do} / dV = +R_{Dom} \\\\\n",
    "\\end{align}"
   ]
  },
  {
   "cell_type": "markdown",
   "metadata": {},
   "source": [
    "\\begin{align}\n",
    "    r1 = k_1 C_{Ain} C_{Bin} \\\\\n",
    "    r2 = k_2 C_{Ain} C_{Cin} \\\\\n",
    "\\end{align}"
   ]
  },
  {
   "cell_type": "markdown",
   "metadata": {},
   "source": [
    "\\begin{align}\n",
    "    R_{Bmi} = k_{b,1}' (C_{Bm} - C_{Bi}) \\\\\n",
    "    R_{Cmi} = k_{c,1}' (C_{Cm} - C_{Ci}) \\\\\n",
    "    R_{Dmi} = k_{d,1}' (C_{Dm} - C_{Di}) \\\\\n",
    "    R_{Com} = k_{c,2}' (C_{Co} - C_{Cm}) \\\\\n",
    "    R_{Dom} = k_{d,2}' (C_{Do} - C_{Dm}) \\\\\n",
    "\\end{align}"
   ]
  },
  {
   "cell_type": "markdown",
   "metadata": {},
   "source": [
    "## Solve for and plot the concentration profiles for each species along the length of the reactor. (20 pts)"
   ]
  },
  {
   "cell_type": "code",
   "execution_count": 22,
   "metadata": {},
   "outputs": [
    {
     "data": {
      "image/png": "[encoded data removed]",
      "text/plain": [
       "<matplotlib.figure.Figure at 0x7f0966d7c3c8>"
      ]
     },
     "metadata": {},
     "output_type": "display_data"
    }
   ],
   "source": [
    "V = 10 # L\n",
    "k1 = 0.1 # 1/M/s\n",
    "k2 = 0.5 # 1/M/s\n",
    "\n",
    "kb1 = 0.2 \n",
    "kc1 = 0.4\n",
    "kd1 = 0.5\n",
    "kc2 = 0.5\n",
    "kd2 = 0.7\n",
    "\n",
    "nu_i = 2\n",
    "nu_m = 3\n",
    "nu_o = 4\n",
    "\n",
    "C_in_0 = [1, 0, 0, 0]\n",
    "C_m_0 = [0.5, 0.5, 0.5]\n",
    "C_o_0 = [0, 0]\n",
    "\n",
    "def dFdV(F, V):\n",
    "    FAi, FBi, FCi, FDi, FBm, FCm, FDm, FCo, FDo = F\n",
    "    CAi, CBi, CCi, CDi = np.array([FAi, FBi, FCi, FDi]) / nu_i\n",
    "    CBm, CCm, CDm = F[4:7] / nu_m\n",
    "    CCo, CDo = F[7:9] / nu_o\n",
    "    \n",
    "    r1 = k1 * CAi * CBi\n",
    "    r2 = k2 * CAi * CCi\n",
    "    \n",
    "    RBmi = kb1 * (CBm - CBi)\n",
    "    RCmi = kc1 * (CCm - CCi)\n",
    "    RDmi = kd1 * (CDm - CDi)\n",
    "    RCom = kc2 * (CCo - CCm)\n",
    "    RDom = kd2 * (CDo - CDm)\n",
    "    \n",
    "    y1 = -r1 - r2\n",
    "    y2 = -r2 + RBmi\n",
    "    y3 = 4 * r1 - r2 + RCmi\n",
    "    y4 = 3 * r2 + RDmi\n",
    "    \n",
    "    y5 = - RBmi\n",
    "    y6 = - RCmi + RCom\n",
    "    y7 = - RDmi + RDom\n",
    "    \n",
    "    y8 = - RCom\n",
    "    y9 = - RDom\n",
    "    \n",
    "    y = [y1, y2, y3, y4, y5, y6, y7, y8, y9]\n",
    "    \n",
    "    return y\n",
    "\n",
    "C0 = [2, 0, 0, 0, 1.5, 1.5, 1.5, 0, 0]\n",
    "Vspan = np.linspace(0, V)\n",
    "\n",
    "C = odeint(dFdV, C0, Vspan)\n",
    "plt.plot(Vspan, C[:, 8])\n",
    "# plt.legend(['CAin', 'CBin', 'CCin', 'CDin', 'CBm', 'CCm', 'CDm', 'CCo', 'CDo'])\n",
    "plt.show()"
   ]
  },
  {
   "cell_type": "code",
   "execution_count": 23,
   "metadata": {},
   "outputs": [
    {
     "data": {
      "image/png": "[encoded data removed]",
      "text/plain": [
       "<matplotlib.figure.Figure at 0x7f09671e8550>"
      ]
     },
     "metadata": {},
     "output_type": "display_data"
    }
   ],
   "source": [
    "V = 10 # L\n",
    "k1 = 0.1 # 1/M/s\n",
    "k2 = 0.5 # 1/M/s\n",
    "\n",
    "kb1 = 0.2 \n",
    "kc1 = 0.4\n",
    "kd1 = 0.5\n",
    "kc2 = 0.5\n",
    "kd2 = 0.7\n",
    "\n",
    "nu_i = 2\n",
    "nu_m = 3\n",
    "nu_o = 4\n",
    "\n",
    "C_in_0 = [1, 0, 0, 0]\n",
    "C_m_0 = [0.5, 0.5, 0.5]\n",
    "C_o_0 = [0, 0]\n",
    "\n",
    "def dFdV(F, V):\n",
    "    FAi, FBi, FCi, FDi, FBm, FCm, FDm, FCo, FDo = F\n",
    "    CAi, CBi, CCi, CDi = np.array([FAi, FBi, FCi, FDi]) / nu_i\n",
    "    CBm, CCm, CDm = F[4:7] / nu_m\n",
    "    CCo, CDo = F[7:9] / nu_o\n",
    "    \n",
    "    r1 = k1 * CAi * CBi\n",
    "    r2 = k2 * CAi * CCi\n",
    "    \n",
    "    RBmi = kb1 * (CBm - CBi)\n",
    "    RCmi = kc1 * (CCm - CCi)\n",
    "    RDmi = kd1 * (CDm - CDi)\n",
    "    RCom = kc2 * (CCo - CCm)\n",
    "    RDom = kd2 * (CDo - CDm)\n",
    "    \n",
    "    y1 = -r1 - r2\n",
    "    y2 = -r2 + RBmi\n",
    "    y3 = 4 * r1 - r2 + RCmi\n",
    "    y4 = 3 * r2 + RDmi\n",
    "    \n",
    "    y5 = - RBmi\n",
    "    y6 = - RCmi + RCom\n",
    "    y7 = - RDmi + RDom\n",
    "    \n",
    "    y8 = - RCom\n",
    "    y9 = - RDom\n",
    "    \n",
    "    y = [y1, y2, y3, y4, y5, y6, y7, y8, y9]\n",
    "    \n",
    "    return y\n",
    "\n",
    "F0 = [2, 0, 0, 0, 1.5, 1.5, 1.5, 0, 0]\n",
    "Vspan = np.linspace(0, V)\n",
    "\n",
    "F = odeint(dFdV, F0, Vspan)\n",
    "\n",
    "CAi = F[:, 0] / nu_i\n",
    "CBi = F[:, 1] / nu_i\n",
    "CCi = F[:, 2] / nu_i\n",
    "CDi = F[:, 3] / nu_i\n",
    "\n",
    "CBm = F[:, 4] / nu_m\n",
    "CCm = F[:, 5] / nu_m\n",
    "CDm = F[:, 5] / nu_m\n",
    "\n",
    "CCo = F[:, 6] / nu_o\n",
    "CDo = F[:, 7] / nu_o\n",
    "\n",
    "plt.plot(Vspan, CAi, Vspan, CBi, Vspan, CCi, Vspan, CDi, Vspan, CBm, Vspan, CCm, Vspan, CDm, Vspan, CCo, Vspan, CDo)\n",
    "\n",
    "# plt.legend(['CAFn', 'CBin', 'CCin', 'CDin', 'CBm', 'CCm', 'CDm', 'CCo', 'CDo'])\n",
    "plt.show()"
   ]
  },
  {
   "cell_type": "code",
   "execution_count": 8,
   "metadata": {},
   "outputs": [
    {
     "data": {
      "text/plain": [
       "(50, 9)"
      ]
     },
     "execution_count": 8,
     "metadata": {},
     "output_type": "execute_result"
    }
   ],
   "source": [
    "F.shape"
   ]
  },
  {
   "cell_type": "code",
   "execution_count": null,
   "metadata": {},
   "outputs": [],
   "source": [
    "C[]"
   ]
  }
 ],
 "metadata": {
  "kernelspec": {
   "display_name": "Python 3",
   "language": "python",
   "name": "python3"
  },
  "language_info": {
   "codemirror_mode": {
    "name": "ipython",
    "version": 3
   },
   "file_extension": ".py",
   "mimetype": "text/x-python",
   "name": "python",
   "nbconvert_exporter": "python",
   "pygments_lexer": "ipython3",
   "version": "3.6.2"
  },
  "toc": {
   "colors": {
    "hover_highlight": "#DAA520",
    "navigate_num": "#000000",
    "navigate_text": "#333333",
    "running_highlight": "#FF0000",
    "selected_highlight": "#FFD700",
    "sidebar_border": "#EEEEEE",
    "wrapper_background": "#FFFFFF"
   },
   "moveMenuLeft": true,
   "nav_menu": {
    "height": "11px",
    "width": "252px"
   },
   "navigate_menu": true,
   "number_sections": true,
   "sideBar": true,
   "threshold": 4,
   "toc_cell": false,
   "toc_section_display": "block",
   "toc_window_display": false,
   "widenNotebook": false
  }
 },
 "nbformat": 4,
 "nbformat_minor": 2
}
