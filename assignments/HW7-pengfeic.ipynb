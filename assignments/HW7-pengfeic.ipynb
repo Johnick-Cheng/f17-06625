{
 "cells": [
  {
   "cell_type": "markdown",
   "metadata": {},
   "source": [
    "$$\\require{mhchem}$$       "
   ]
  },
  {
   "cell_type": "markdown",
   "metadata": {},
   "source": [
    "# Homework 7\n",
    "# Pengfei Cheng\n",
    "## AndrewID: pengfeic"
   ]
  },
  {
   "cell_type": "markdown",
   "metadata": {},
   "source": [
    "# Problem 1: Catalyst rate laws"
   ]
  },
  {
   "cell_type": "markdown",
   "metadata": {},
   "source": [
    "t-butyl alcohol (TBA) is an important enhancer that is used to replace lead additives in gasoline.\n",
    "TBA was produced by the liquid-phase hydration (W) of isobutene (I) over an Amberlyst-15 catalyst (S).\n",
    "The system is normally a multiphase mixture of hydrocarbon, water, and solid catalysts. \n",
    "The use of cosolvents or excess TBA can achieve reasonable miscibility of this mixture.\n",
    "The mechanism is believed to be:\n",
    "\\begin{align}\n",
    "\\ce{ I + S &<=> I\\cdot S}\\\\\n",
    "\\ce{ W + S &<=> W\\cdot S}\\\\\n",
    "\\ce{ W\\cdot S + I \\cdot S &<=> TBA\\cdot S + S}\\\\\n",
    "\\ce{TBA\\cdot S &<=> TBA + S}\n",
    "\\end{align}\n",
    "For each reaction assume a rate constant $k_i$ and an equilibrium constant $K_i$."
   ]
  },
  {
   "cell_type": "markdown",
   "metadata": {},
   "source": [
    "- A = 'I'\n",
    "- B = 'S'\n",
    "- C = 'W'\n",
    "- D = 'TBA'\n",
    "- E = 'I⋅S'\n",
    "- F = 'W⋅S'\n",
    "- G = 'TBA⋅S'"
   ]
  },
  {
   "cell_type": "markdown",
   "metadata": {},
   "source": [
    "\\begin{align*}\n",
    "    r_1 &= k_1 (C_A C_B - \\frac{1} {K_1} C_E )\\\\\n",
    "    r_2 &= k_2 (C_C C_B - \\frac{1} {K_2} C_F ) \\\\\n",
    "    r_3 &= k_3 (C_E C_F - \\frac{1} {K_3} C_G C_B) \\\\\n",
    "    r_4 &= k_4 (C_G - \\frac{1} {K_4} C_D C_B)\n",
    "\\end{align*}"
   ]
  },
  {
   "cell_type": "markdown",
   "metadata": {},
   "source": [
    "\\begin{align*}\n",
    "    C_{S0} = C_B + C_E + C_F + C_G \\\\\n",
    "\\end{align*}"
   ]
  },
  {
   "cell_type": "markdown",
   "metadata": {},
   "source": [
    "#### Derive a rate law assuming the surface reaction is rate-limiting."
   ]
  },
  {
   "cell_type": "markdown",
   "metadata": {},
   "source": [
    "\\begin{align*}\n",
    "    r = r_3 = k_3 (C_E C_F - \\frac{1} {K_3} C_G C_B) \\\\\n",
    "\\end{align*}"
   ]
  },
  {
   "cell_type": "markdown",
   "metadata": {},
   "source": [
    "\\begin{align*}\n",
    "    r_1 = 0 \n",
    "    \\Rightarrow C_E = K_1 C_A C_B \\\\\n",
    "    r_2 = 0\n",
    "    \\Rightarrow C_F = K_2 C_C C_B \\\\\n",
    "    r_4 = 0\n",
    "    \\Rightarrow C_G = \\frac {C_B C_D} {K_4}\n",
    "\\end{align*}"
   ]
  },
  {
   "cell_type": "markdown",
   "metadata": {},
   "source": [
    "\\begin{equation*}\n",
    "    C_B = \\frac {C_{S0}} {1 + K_1C_A + K_2C_C + \\displaystyle \\frac{C_D}{K_4}}\n",
    "\\end{equation*}"
   ]
  },
  {
   "cell_type": "markdown",
   "metadata": {},
   "source": [
    "\\begin{align*}\n",
    "    r &= k_3 \\left(K_1 K_2 C_A C_B ^ 2 C_C - \\frac {1} {K_3 K_4} C_B^2 C_D \\right) \\\\\n",
    "    &= \\frac {k_3 C_{S0}^2 \\left(K_1 K_2 C_A C_C - \\displaystyle \\frac {1} {K_3 K_4} C_D \\right)} {\\left(1 + K_1C_A + K_2C_C + \\displaystyle \\frac{C_D}{K_4}\\right)^2}\n",
    "\\end{align*}"
   ]
  },
  {
   "cell_type": "markdown",
   "metadata": {
    "ExecuteTime": {
     "end_time": "2017-10-19T20:05:31.514853Z",
     "start_time": "2017-10-19T20:05:31.504838Z"
    }
   },
   "source": [
    "#### Derive a rate law assuming assuming the adsorption of isobutene is rate-limiting."
   ]
  },
  {
   "cell_type": "markdown",
   "metadata": {},
   "source": [
    "\\begin{align*}\n",
    "    r = r_1 = k_1 (C_A C_B - \\frac{1} {K_1} C_E ) \\\\\n",
    "\\end{align*}"
   ]
  },
  {
   "cell_type": "markdown",
   "metadata": {},
   "source": [
    "\\begin{align*}\n",
    "    r_2 = 0\n",
    "    \\Rightarrow C_F &= K_2 C_C C_B \\\\\n",
    "    r_4 = 0\n",
    "    \\Rightarrow C_G &= \\frac {C_B C_D} {K_4} \\\\\n",
    "    r_3 = 0\n",
    "    \\Rightarrow C_E &= \\frac {1} {K_3} \\frac{C_G C_B} {C_F} = \\frac {1} {K_2 K_3 K_4} \\frac {C_D} {C_C} C_B\\\\\n",
    "\\end{align*}"
   ]
  },
  {
   "cell_type": "markdown",
   "metadata": {},
   "source": [
    "\\begin{equation*}\n",
    "    C_B = \\frac {C_{S0}} {1 + \\displaystyle \\frac{1}{K_2 K_3 K_4} \\frac {C_D} {C_C} + K_2C_C + \\displaystyle \\frac{C_D}{K_4}}\n",
    "\\end{equation*}"
   ]
  },
  {
   "cell_type": "markdown",
   "metadata": {},
   "source": [
    "\\begin{align*}\n",
    "    r &= k_1 \\left(C_A C_B - \\frac{1} {K_1} C_E \\right) \\\\\n",
    "    &= \\frac {k_1 C_{S0} \\left(C_A + \\displaystyle \\frac{1} {K_1} \\frac {1} {K_2 K_3 K_4} \\frac {C_D} {C_C}\\right)} {1 + \\displaystyle \\frac{1}{K_2 K_3 K_4} \\frac {C_D} {C_C} + K_2C_C + \\displaystyle \\frac{C_D}{K_4}}\n",
    "\\end{align*}"
   ]
  },
  {
   "cell_type": "markdown",
   "metadata": {},
   "source": [
    "#### Derive a rate law assuming the reaction follows Eley-Rideal kinetics\n",
    "\\begin{align}\n",
    "\\ce{I\\cdot S + W\\rightarrow TBA\\cdot S}\n",
    "\\end{align}\n",
    " and the surface reaction is rate-limiting."
   ]
  },
  {
   "cell_type": "markdown",
   "metadata": {},
   "source": [
    "\\begin{align*}\n",
    "    r = r_5 &= k_5 (C_C C_E - \\frac{1} {K_5} C_G )\\\\\n",
    "\\end{align*}"
   ]
  },
  {
   "cell_type": "markdown",
   "metadata": {},
   "source": [
    "\\begin{align*}\n",
    "    r_1 = 0 \n",
    "    \\Rightarrow C_E = K_1 C_A C_B \\\\\n",
    "    r_2 = 0\n",
    "    \\Rightarrow C_F = K_2 C_C C_B \\\\\n",
    "    r_4 = 0\n",
    "    \\Rightarrow C_G = \\frac {C_B C_D} {K_4}\n",
    "\\end{align*}"
   ]
  },
  {
   "cell_type": "markdown",
   "metadata": {},
   "source": [
    "\\begin{equation*}\n",
    "    C_B = \\frac {C_{S0}} {1 + K_1C_A + K_2C_C + \\displaystyle \\frac{C_D}{K_4}}\n",
    "\\end{equation*}"
   ]
  },
  {
   "cell_type": "markdown",
   "metadata": {},
   "source": [
    "\\begin{align*}\n",
    "    r &= k_5 \\left(K_1 C_A C_B C_C - \\frac{1}{K_4 K_5} C_B C_D\\right) \\\\\n",
    "    &= \\frac {k_5 C_{S0} \\left(K_1 C_A C_C - \\displaystyle\\frac{1}{K_4 K_5} C_D\\right)} {1 + K_1C_A + K_2C_C + \\displaystyle \\frac{C_D}{K_4}}\n",
    "\\end{align*}"
   ]
  },
  {
   "cell_type": "markdown",
   "metadata": {},
   "source": [
    "#### Derive a rate law assuming  Isobutene (I) and water (W) are adsorbed on different sites, the surface reaction is rate-limiting, and TBA immediately desorbs upon synthesis:\n",
    "\\begin{align}\n",
    "\\ce{ I + S1 &<=> I\\cdot S1}\\\\\n",
    "\\ce{ W + S2 &<=> W\\cdot S2}\\\\\n",
    "\\ce{ I\\cdot S_1 + W \\cdot S_2 &<=> TBA + S_1 + S_2}\\\\\n",
    "\\end{align}"
   ]
  },
  {
   "cell_type": "markdown",
   "metadata": {},
   "source": [
    "- A = 'I'\n",
    "- B = 'W'\n",
    "- C = 'TBA'\n",
    "- D = 'S1'\n",
    "- E = 'S2'\n",
    "- F = 'I⋅S1'\n",
    "- G = 'W⋅S2'"
   ]
  },
  {
   "cell_type": "markdown",
   "metadata": {},
   "source": [
    "\\begin{align*}\n",
    "    r_6 &= k_6 (C_A C_D - \\frac{1} {K_6} C_F )\\\\\n",
    "    r_7 &= k_7 (C_B C_E - \\frac{1} {K_7} C_G )\\\\\n",
    "    r = r_8 &= k_8 (C_F C_G - \\frac{1} {K_8} C_C C_D C_E )\\\\\n",
    "\\end{align*}"
   ]
  },
  {
   "cell_type": "markdown",
   "metadata": {},
   "source": [
    "\\begin{align*}\n",
    "    C_{S10} = C_D + C_F \\\\\n",
    "    C_{S20} = C_E + C_G\n",
    "\\end{align*}"
   ]
  },
  {
   "cell_type": "markdown",
   "metadata": {},
   "source": [
    "Assuming the surface reaction is rate-limiting:"
   ]
  },
  {
   "cell_type": "markdown",
   "metadata": {},
   "source": [
    "\\begin{align*}\n",
    "    r_6 = 0 \n",
    "    \\Rightarrow C_F = K_6 C_A C_D \\\\\n",
    "    r_7 = 0\n",
    "    \\Rightarrow C_G = K_7 C_B C_E \\\\\n",
    "\\end{align*}"
   ]
  },
  {
   "cell_type": "markdown",
   "metadata": {},
   "source": [
    "\\begin{align*}\n",
    "    C_D = \\frac {C_{S10}} {1 + K_6 C_A} \\\\\n",
    "    C_E = \\frac {C_{S20}} {1 + K_7 C_B}  \\\\\n",
    "\\end{align*}"
   ]
  },
  {
   "cell_type": "markdown",
   "metadata": {},
   "source": [
    "\\begin{align*}\n",
    "    r &= k_8 \\left(K_6 K_7 C_A C_B C_D C_E - \\frac{1} {K_8} C_C C_D C_E \\right)\\\\\n",
    "    &= \\frac {k_8 C_{S10} C_{S20} \\left(K_6 K_7 C_A C_B - \\frac{1} \\displaystyle{K_8} C_C \\right)} {(1 + K_7 C_B)(1 + K_6 C_A)}\n",
    "\\end{align*}"
   ]
  },
  {
   "cell_type": "markdown",
   "metadata": {},
   "source": [
    "# Problem 2: Catalyst coking"
   ]
  },
  {
   "cell_type": "markdown",
   "metadata": {},
   "source": [
    "We're using a transient CSTR for a heterogenous catalytic reaction, where the reactants/products\n",
    "are in liquid phase and the catalyst is in a solid phase.\n",
    "\\begin{align}\n",
    "\\ce{A + S &<=> A\\cdot S}\\qquad k_1=0.1\\:s^{-1}M^{-1}\\qquad K_1=5\\: M^{-1}\\\\\n",
    "\\ce{B + S &<=> B\\cdot S}\\qquad k_2=0.2\\:s^{-1}M^{-1}\\qquad K_2=4\\: M^{-1}\\\\\n",
    "\\ce{A\\cdot S + B\\cdot S &<=> C\\cdot S + S }\\qquad k_3=0.8\\:s^{-1}M^{-1}\\qquad K_2=1\\\\\n",
    "\\ce{C\\cdot S &<=> C + S }\\qquad k_4=1.5\\:s^{-1}\\qquad K_4=5\\: M\n",
    "\\end{align}\n",
    "The reactor output is filtered to remove particulate matter so that the catalyst slurry is not\n",
    "removed from the reactor (i.e. liquid A, B, C can leave, but A$\\cdot$S, B$\\cdot$S, or C$\\cdot$S\n",
    "cannot). We feed two separate streams:  stream 1 flows at 0.5 L/s with a 2 M concentration of A,\n",
    "and stream 2 flows at 0.5 L/s with a 2 M concentration of B. You may assume ideal mixing, i.e.,\n",
    "$\\dot{V}_1+\\dot{V}_2=\\dot{V}_{total}$. Initially the reactor is charged with 2 M catalyst (S)\n",
    "and no A or B. The reactor has a fixed volume of 100 L."
   ]
  },
  {
   "cell_type": "markdown",
   "metadata": {},
   "source": [
    "#### Plot the concentration of C in the reactor as a function of time.\n"
   ]
  },
  {
   "cell_type": "code",
   "execution_count": 1,
   "metadata": {},
   "outputs": [],
   "source": [
    "import numpy as np\n",
    "from scipy.integrate import odeint\n",
    "import matplotlib.pyplot as plt"
   ]
  },
  {
   "cell_type": "code",
   "execution_count": 2,
   "metadata": {
    "scrolled": true
   },
   "outputs": [
    {
     "data": {
      "image/png": "[encoded data removed]",
      "text/plain": [
       "<matplotlib.figure.Figure at 0x7fba46317b38>"
      ]
     },
     "metadata": {},
     "output_type": "display_data"
    }
   ],
   "source": [
    "k1, k2, k3, k4 = np.array([0.1, 0.2, 0.8, 1.5]).T\n",
    "K1, K2, K3, K4 = np.array([5, 4, 1, 5]).T\n",
    "# k2 = k / K\n",
    "V = 100 # L\n",
    "\n",
    "C0 = np.array([0, 0, 0, 2, 0, 0, 0]).T # M, referring to A, B, C, S, AS, BS, CS respecitvely\n",
    "FA0 = 1 # mol/s\n",
    "FB0 = 1 # mol/s\n",
    "nu = 0.5 * 2 # L/s\n",
    "\n",
    "def dCdt (C, t):\n",
    "    CA, CB, CC, CS, CAS, CBS, CCS = C\n",
    "    r1 = k1 * (CA * CS - CAS / K1)\n",
    "    r2 = k2 * (CB * CS - CBS / K2)\n",
    "    r3 = k3 * (CAS * CBS - CCS * CS / K3)\n",
    "    r4 = k4 * (CCS - CC * CS / K4)\n",
    "    \n",
    "    dCAdt = FA0 / V - CA * nu / V - r1\n",
    "    dCBdt = FB0 / V - CB * nu / V - r2\n",
    "    dCCdt = -CC * nu / V + r4\n",
    "    dCSdt = - r1 - r2 + r3 + r4\n",
    "    dCASdt = r1 - r3\n",
    "    dCBSdt = r2 - r3\n",
    "    dCCSdt = r3 - r4\n",
    "    \n",
    "    return [dCAdt, dCBdt, dCCdt, dCSdt, dCASdt, dCBSdt, dCCSdt]\n",
    "\n",
    "tspan = np.linspace(0, 100) # s\n",
    "\n",
    "sol = odeint(dCdt, C0, tspan)\n",
    "plt.plot(tspan, sol[:,2])\n",
    "plt.legend(['$C_C$'])\n",
    "plt.xlabel('time/s')\n",
    "plt.ylabel('$C_C$/M')\n",
    "plt.show()"
   ]
  },
  {
   "cell_type": "markdown",
   "metadata": {},
   "source": [
    "Use another way to check the answer."
   ]
  },
  {
   "cell_type": "code",
   "execution_count": 8,
   "metadata": {},
   "outputs": [
    {
     "data": {
      "image/png": "[encoded data removed]",
      "text/plain": [
       "<matplotlib.figure.Figure at 0x7fba43de5710>"
      ]
     },
     "metadata": {},
     "output_type": "display_data"
    }
   ],
   "source": [
    "k1, k2, k3, k4 = np.array([0.1, 0.2, 0.8, 1.5]).T\n",
    "K1, K2, K3, K4 = np.array([5, 4, 1, 5]).T\n",
    "# k2 = k / K\n",
    "V = 100 # L\n",
    "\n",
    "C0 = np.array([0, 0, 0, 2, 0, 0, 0]).T # M, referring to A, B, C, S, AS, BS, CS respecitvely\n",
    "FA0 = 1 # mol/s\n",
    "FB0 = 1 # mol/s\n",
    "nu = 0.5 * 2 # L/s\n",
    "\n",
    "SC = np.array([[-1, 0, 0, -1, 1, 0, 0],\n",
    "              [0, -1, 0, -1, 0, 1, 0],\n",
    "              [0, 0, 0, 1, -1, -1, 1],\n",
    "              [0, 0, 1, 1, 0, 0, -1]]).T\n",
    "\n",
    "def dCdt (C, t):\n",
    "    CA, CB, CC, CS, CAS, CBS, CCS = C\n",
    "    r1 = k1 * (CA * CS - CAS / K1)\n",
    "    r2 = k2 * (CB * CS - CBS / K2)\n",
    "    r3 = k3 * (CAS * CBS - CCS * CS / K3)\n",
    "    r4 = k4 * (CCS - CC * CS / K4)\n",
    "    \n",
    "    rt = np.array([r1, r2, r3, r4])\n",
    "    \n",
    "    r = np.matmul(SC, rt)\n",
    "    r[0] += FA0 / V - CA * nu / V\n",
    "    r[1] += FB0 / V - CB * nu / V\n",
    "    r[2] += -CC * nu / V\n",
    "\n",
    "    return r\n",
    "\n",
    "tspan = np.linspace(0, 100) # s\n",
    "\n",
    "sol = odeint(dCdt, C0, tspan)\n",
    "plt.plot(tspan, sol[:,2])\n",
    "plt.legend(['$C_C$'])\n",
    "plt.xlabel('time/s')\n",
    "plt.ylabel('$C_C$/M')\n",
    "plt.show()"
   ]
  },
  {
   "cell_type": "markdown",
   "metadata": {},
   "source": [
    "#### We discover that there is a small impurity in stream 1 that binds strongly to the catalyst. In addition to A and B there is an additional agent F at 0.02 M, that reacts with the catalyst as:\n",
    "\\begin{align}\n",
    "\\ce{F + S &<=> F\\cdot S}\\qquad k_5=0.1\\: s^{-1}M^{-1},\\qquad K_5=1000\n",
    "\\end{align}\n",
    "Note that this impurity may flow out of the reactor when desorbed (as F), but it may\n",
    "not flow out when adsorbed (as F$\\cdot$S). Plot the concentration of C in the reactor as a function of time."
   ]
  },
  {
   "cell_type": "code",
   "execution_count": 10,
   "metadata": {},
   "outputs": [
    {
     "data": {
      "image/png": "[encoded data removed]",
      "text/plain": [
       "<matplotlib.figure.Figure at 0x7fba43ee4048>"
      ]
     },
     "metadata": {},
     "output_type": "display_data"
    }
   ],
   "source": [
    "k5 = 0.1 # 1/s/M\n",
    "K5 = 1000\n",
    "\n",
    "FF0 = 0.02 # M\n",
    "\n",
    "C20 = np.array([0, 0, 0, 2, 0, 0, 0, 0, 0]).T # M, referring to A, B, C, S, AS, BS, CS, F, FS respecitvely\n",
    "\n",
    "def dCdt2 (C, t):\n",
    "    CA, CB, CC, CS, CAS, CBS, CCS, CF, CFS = C\n",
    "    r1 = k1 * (CA * CS - CAS / K1)\n",
    "    r2 = k2 * (CB * CS - CBS / K2)\n",
    "    r3 = k3 * (CAS * CBS - CCS * CS / K3)\n",
    "    r4 = k4 * (CCS - CC * CS / K4)\n",
    "    r5 = k5 * (CF * CS - CFS / K5)\n",
    "    \n",
    "    dCAdt = FA0 / V - CA * nu / V - r1\n",
    "    dCBdt = FB0 / V - CB * nu / V - r2\n",
    "    dCCdt = -CC * nu / V + r4\n",
    "    dCSdt = - r1 - r2 + r3 + r4 - r5\n",
    "    dCASdt = r1 - r3\n",
    "    dCBSdt = r2 - r3\n",
    "    dCCSdt = r3 - r4\n",
    "    dCFdt = FF0 / V - CF * nu / V - r5\n",
    "    dCFSdt = r5\n",
    "    \n",
    "    return [dCAdt, dCBdt, dCCdt, dCSdt, dCASdt, dCBSdt, dCCSdt, dCFdt, dCFSdt]\n",
    "\n",
    "tspan = np.linspace(0, 10000) # s\n",
    "sol = odeint(dCdt, C0, tspan)\n",
    "sol2 = odeint(dCdt2, C20, tspan)\n",
    "plt.plot(tspan, sol2[:,2], tspan, sol[:,2])\n",
    "plt.legend(['$C_C$','$C_C$ (without F)'])\n",
    "plt.xlabel('time/s')\n",
    "plt.ylabel('$C_C$/M')\n",
    "plt.show()"
   ]
  },
  {
   "cell_type": "markdown",
   "metadata": {},
   "source": [
    "The equilibrium constant $K_5$ is very large, indicating that $F\\cdot S$ is hard to desorb and thus this reaction would reduce the amount of available $S$.\n",
    "\n",
    "It can be seen that after getting to the equilibrium, F will cause the concentration of $C$ to reduce."
   ]
  }
 ],
 "metadata": {
  "kernelspec": {
   "display_name": "Python 3",
   "language": "python",
   "name": "python3"
  },
  "language_info": {
   "codemirror_mode": {
    "name": "ipython",
    "version": 3
   },
   "file_extension": ".py",
   "mimetype": "text/x-python",
   "name": "python",
   "nbconvert_exporter": "python",
   "pygments_lexer": "ipython3",
   "version": "3.6.2"
  },
  "toc": {
   "colors": {
    "hover_highlight": "#DAA520",
    "navigate_num": "#000000",
    "navigate_text": "#333333",
    "running_highlight": "#FF0000",
    "selected_highlight": "#FFD700",
    "sidebar_border": "#EEEEEE",
    "wrapper_background": "#FFFFFF"
   },
   "moveMenuLeft": true,
   "nav_menu": {
    "height": "29px",
    "width": "252px"
   },
   "navigate_menu": true,
   "number_sections": false,
   "sideBar": true,
   "threshold": 4,
   "toc_cell": false,
   "toc_section_display": "block",
   "toc_window_display": false,
   "widenNotebook": false
  }
 },
 "nbformat": 4,
 "nbformat_minor": 2
}
