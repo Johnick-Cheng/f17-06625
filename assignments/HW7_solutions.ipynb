{
 "cells": [
  {
   "cell_type": "markdown",
   "metadata": {},
   "source": [
    "$$\\require{mhchem}$$       "
   ]
  },
  {
   "cell_type": "markdown",
   "metadata": {},
   "source": [
    "# Catalyst rate laws"
   ]
  },
  {
   "cell_type": "markdown",
   "metadata": {},
   "source": [
    "t-butyl alcohol (TBA) is an important enhancer that is used to replace lead additives in gasoline.\n",
    "TBA was produced by the liquid-phase hydration (W) of isobutene (I) over an Amberlyst-15 catalyst (S).\n",
    "The system is normally a multiphase mixture of hydrocarbon, water, and solid catalysts. \n",
    "The use of cosolvents or excess TBA can achieve reasonable miscibility of this mixture.\n",
    "The mechanism is believed to be:\n",
    "\\begin{align}\n",
    "\\ce{ I + S &<=> I\\cdot S}\\\\\n",
    "\\ce{ W + S &<=> W\\cdot S}\\\\\n",
    "\\ce{ W\\cdot S + I \\cdot S &<=> TBA\\cdot S + S}\\\\\n",
    "\\ce{TBA\\cdot S &<=> TBA + S}\n",
    "\\end{align}\n",
    "For each reaction assume a rate constant $k_i$ and an equilibrium constant $K_i$."
   ]
  },
  {
   "cell_type": "markdown",
   "metadata": {},
   "source": [
    "#### Derive a rate law assuming assuming the surface reaction is rate-limiting (3 points)."
   ]
  },
  {
   "cell_type": "markdown",
   "metadata": {},
   "source": [
    "Let's just start writing down elementary equations to see what's going on:\n",
    "\\begin{align}\n",
    "r_1 = k_1(C_{I} C_{S}-C_{I\\cdot S}/K_1) \\\\\n",
    "r_2 = k_2(C_{W} C_{S}-C_{W\\cdot S}/K_2) \\\\\n",
    "r_3 = k_3(C_{W\\cdot S} C_{I\\cdot S}-C_{TBA\\cdot S}C_S/K_3) \\\\\n",
    "r_4 = k_4(C_{TBA\\cdot S}-C_{TBA}C_S/K_4)\n",
    "\\end{align}\n",
    "\n",
    "Our objective is to find $r_3$, which we have above. But that equation is a function of adsorbed species, which we cannot measure. So we need to turn that rate into a function of desorbed species like $C_I$, not adsorbed species like $C_{I\\cdot S}$.\n",
    "\n",
    "We *really* begin by using the fact that reaction 3 is rate-limiting, which allows us to assume\n",
    "that reactions 1, 2, and 4 are at steady-state. This means that:\n",
    "\\begin{align}\n",
    "K_1 = \\frac{C_{I\\cdot S}}{C_I C_S} \\\\\n",
    "K_2 = \\frac{C_{W\\cdot S}}{C_W C_S} \\\\\n",
    "K_4 = \\frac{C_{TBA} C_S}{C_{TBA\\cdot S}}\n",
    "\\end{align}\n",
    "\n",
    "If we rearrange the equilibrium equations, we can actually find the concentrations of adsorbed\n",
    "species as a function of desorbed species(!):\n",
    "\\begin{align}\n",
    "C_{I\\cdot S} = C_I C_SK_1 \\\\\n",
    "C_{W\\cdot S} = C_W C_SK_2 \\\\\n",
    "C_{TBA\\cdot S} = \\frac{C_{TBA} C_S}{K_4}\n",
    "\\end{align}\n",
    "\n",
    "We can also do a mass/concentration balance on the total concentration of bound and unbound\n",
    "catalyst, $C_{S,T}$, which is constant if we assume that the catalyst never escapes the reactor:\n",
    "\\begin{align}\n",
    "C_{S,T} = C_S + C_{I\\cdot S} + C_{W\\cdot S} + C_{TBA\\cdot S}\n",
    "\\end{align}\n",
    "\n",
    "If we put together this catalyst balance with the expressions for the concentrations for adsorbed\n",
    "species, we can get:\n",
    "\\begin{align}\n",
    "C_{S,T} = C_S(1 + K_1 C_I + K_2 C_W + K_4 C_{TBA}) \\\\\n",
    "C_S = \\frac{C_{S,T}}{1 + K_1 C_I + K_2 C_W + C_{TBA}/K_4} \\\\\n",
    "\\end{align}\n",
    "\n",
    "Now let's put it all together:\n",
    "\\begin{align}\n",
    "r_3 = k_3(C_{W\\cdot S} C_{I\\cdot S}-C_{TBA\\cdot S}C_S/K_3) \\\\\n",
    "r_3 = k_3(C_I C_S K_1\\: C_W C_S K_2 - C_{TBA} C_S C_S/K_3 K_4) \\\\\n",
    "r_3 = k_3 C_S^2(K_1 K_2 C_I C_W - C_{TBA}/K_3 K_4) \\\\\n",
    "r_3 = \\frac{k_3 C_{S,T}^2(K_1 K_2 C_I C_W - C_{TBA}/K_3 K_4)}{(1 + K_1 C_I + K_2 C_W + C_{TBA}/K_4)^2}\n",
    "\\end{align}"
   ]
  },
  {
   "cell_type": "markdown",
   "metadata": {
    "ExecuteTime": {
     "end_time": "2017-10-19T20:05:31.514853Z",
     "start_time": "2017-10-19T20:05:31.504838Z"
    }
   },
   "source": [
    "#### Derive a rate law assuming assuming the adsorption of isobutene is rate-limiting (3 points)."
   ]
  },
  {
   "cell_type": "markdown",
   "metadata": {},
   "source": [
    "Now we repeat the procedure, but assume that reaction 3 is at steady-state and reaction 1\n",
    "is limiting. The following expressions carry-over from before, since reactions 2 and 4 are still\n",
    "at steady state:\n",
    "\\begin{align}\n",
    "C_{W\\cdot S} = C_W C_S K_2 \\\\\n",
    "C_{TBA\\cdot S} = \\frac{C_{TBA} C_S}{K_4}\n",
    "\\end{align}\n",
    "\n",
    "We also have this new equilibrum expression:\n",
    "\\begin{align}\n",
    "K_3 = \\frac{C_{TBA\\cdot S}C_S}{C_{W\\cdot S}C_{I\\cdot S}} \\\\\n",
    "\\end{align}\n",
    "\n",
    "We can plug in the two old expressions for $C_{I\\cdot S}$ and $C_{TBA\\cdot S}$ into the new\n",
    "equilibrium expression, and then rearrange it:\n",
    "\\begin{align}\n",
    "C_{I\\cdot S} = \\frac{C_{TBA} C_S}{K_2 K_3 K_4 C_W}\n",
    "\\end{align}\n",
    "\n",
    "Now we plug this $C_{I\\cdot S}$ term into the expression for $r_1$:\n",
    "\\begin{align}\n",
    "r_1 = k_1(C_{I} C_{S} - C_{I\\cdot S}/K_1) \\\\\n",
    "r_1 = k_1\\left(C_{I} C_{S} - \\frac{C_{TBA} C_S}{K_1 K_2 K_3 K_4 C_W}\\right) \\\\\n",
    "\\end{align}\n",
    "\n",
    "To find $C_S$, we re-do the mass balance:\n",
    "\\begin{align}\n",
    "C_{S,T} = C_S + C_{I\\cdot S} + C_{W\\cdot S} + C_{TBA\\cdot S} \\\\\n",
    "C_{S,T} = C_S + \\frac{C_{TBA} C_S}{K_2 K_3 K_4 C_W} + C_W C_S K_2 + \\frac{C_{TBA} C_S}{K_4} \\\\\n",
    "C_S = \\frac{C_{T,S}}{1 + \\frac{C_{TBA}}{K_2 K_3 K_4 C_W} + K_2 C_W + \\frac{C_{TBA}}{K_4}} \\\\\n",
    "\\end{align}\n",
    "\n",
    "Now put it all together:\n",
    "\\begin{align}\n",
    "r_1 = \\frac{k_1 C_{T,S} \\left(C_{I} - \\frac{C_{TBA}}{K_1 K_2 K_3 K_4 C_W}\\right)}{1 + \\frac{C_{TBA}}{K_2 K_3 K_4 C_W} + K_2 C_W + \\frac{C_{TBA}}{K_4}}\n",
    "\\end{align}"
   ]
  },
  {
   "cell_type": "markdown",
   "metadata": {},
   "source": [
    "#### Derive a rate law assuming the reaction follows Eley-Rideal kinetics; assume the surface reaction is rate limiting and that $W$ no longer adsorbs (3 points).\n",
    "\\begin{align}\n",
    "\\ce{I\\cdot S + W &<=> TBA\\cdot S}\\\\\n",
    "\\end{align}"
   ]
  },
  {
   "cell_type": "markdown",
   "metadata": {},
   "source": [
    "Now we want to find the reaction rate of the above reaction, $r_2$:\n",
    "\\begin{align}\n",
    "r_5 = k_5 \\left(C_{I\\cdot S} C_W - \\frac{C_{TBA\\cdot S}}{K_5}\\right)\n",
    "\\end{align}\n",
    "\n",
    "Since the surface reaction is rate-limiting, a lot of the things we derived in the first part\n",
    "carry over (below). But note that the $K C_W$ term is gone from the denominator of the $C_S$\n",
    "expression. This happened because Eley-Rideal kinetics assume that $W$ does not bind to the\n",
    "surface, but instead reacts with $I\\cdot S$ directly.\n",
    "\\begin{align}\n",
    "C_{I\\cdot S} = C_I C_S K_1 \\\\\n",
    "C_{TBA\\cdot S} = \\frac{C_{TBA} C_S}{K_4} \\\\\n",
    "C_S = \\frac{C_{S,T}}{1 + K_1 C_I + C_{TBA}/K_4} \\\\\n",
    "\\end{align}\n",
    "\n",
    "Putting it all together:\n",
    "\\begin{align}\n",
    "r_5 = \\frac{k_5 C_{T,S}\\left(K_1 C_I C_W - \\frac{C_{TBA}}{K_4 K_5}\\right)}{1 + K_1 C_I  + C_{TBA}/K_4}\n",
    "\\end{align}"
   ]
  },
  {
   "cell_type": "markdown",
   "metadata": {},
   "source": [
    "#### Derive a rate law assuming  Isobutene (I) and water (W) are adsorbed on different sites, the surface reaction is rate-limiting, and TBA immediately desorbs upon synthesis (3 points):\n",
    "\\begin{align}\n",
    "\\ce{ I + S1 &<=> I\\cdot S1}\\\\\n",
    "\\ce{ W + S2 &<=> W\\cdot S2}\\\\\n",
    "\\ce{ I\\cdot S_1 + W \\cdot S_2 &<=> TBA + S_1 + S_2}\\\\\n",
    "\\end{align}"
   ]
  },
  {
   "cell_type": "markdown",
   "metadata": {},
   "source": [
    "Begin by writing out all the rate expressions again:\n",
    "\\begin{align}\n",
    "r_1 = k_1\\left(C_I C_{S_1} - C_{I\\cdot S_1}/K_1\\right) \\\\\n",
    "r_2 = k_2\\left(C_W C_{S_2} - C_{W\\cdot S_2}/K_2\\right) \\\\\n",
    "r_3 = k_3\\left(C_{I\\cdot S_1} C_{W\\cdot S_2} - C_{TBA} C_{S_1} C_{S_2}/K_3\\right)\n",
    "\\end{align}\n",
    "\n",
    "Assuming reactions 1 and 2 are at steady-state:\n",
    "\\begin{align}\n",
    "K_1 = \\frac{C_{I\\cdot S_1}}{C_I C_{S_1}} \\\\\n",
    "K_2 = \\frac{C_{W\\cdot S_2}}{C_W C_{S_2}}\n",
    "\\end{align}\n",
    "\n",
    "Rearrange the equilibrium terms:\n",
    "\\begin{align}\n",
    "C_{I\\cdot S_1} = K_1 C_I C_{S_1} \\\\\n",
    "C_{W\\cdot S_2} = K_2 C_W C_{S_2}\n",
    "\\end{align}\n",
    "\n",
    "Do some mass balances on both adsorption sites:\n",
    "\\begin{align}\n",
    "C_{S_1, T} = C_{S_1} + C_{I\\cdot S_1} \\\\\n",
    "C_{S_2, T} = C_{S_2} + C_{W\\cdot S_2}\n",
    "\\end{align}\n",
    "\n",
    "Take the terms for $C_{I\\cdot S_1}$ and $C_{W\\cdot S_2}$ that we got from the equilibrium terms\n",
    "and plug them into the mass balances:\n",
    "\\begin{align}\n",
    "C_{S_1, T} = C_{S_1} + K_1 C_I C_{S_1} = C_{S_1}\\left(1+K_1 C_I\\right) \\\\\n",
    "C_{S_2, T} = C_{S_2} + K_2 C_W C_{S_2} = C_{S_2}\\left(1+K_2 C_W\\right) \\\\\n",
    "\\end{align}\n",
    "\n",
    "Now rearrange them...\n",
    "\\begin{align}\n",
    "C_{S_1} = \\frac{C_{S_1,T}}{1 + K_1 C_I} \\\\\n",
    "C_{S_2} = \\frac{C_{S_2,T}}{1 + K_2 C_W}\n",
    "\\end{align}\n",
    "\n",
    "We can even plug these expressions back into the equilibrium terms to get:\n",
    "\\begin{align}\n",
    "C_{I\\cdot S_1} = \\frac{K_1 C_I C_{S_1,T}}{1 + K_1 C_I} \\\\\n",
    "C_{W\\cdot S_2} = \\frac{K_2 C_W C_{S_2,T}}{1 + K_2 C_W}\n",
    "\\end{align}\n",
    "\n",
    "Finally, we can plug our terms for $C_{S_1}$, $C_{S_2}$, $C_{I\\cdot S_1}$, and $C_{W\\cdot S2}$\n",
    "into $r_3$:\n",
    "\\begin{align}\n",
    "r_3 = k_3\\left(C_{I\\cdot S_1} C_{W\\cdot S_2} - C_{TBA} C_{S_1} C_{S_2}/K_3\\right) \\\\\n",
    "r_3 = k_3\\left(\\frac{K_1 C_I C_{S_1,T}}{1 + K_1 C_I} \\frac{K_2 C_W C_{S_2,T}}{1 + K_2 C_W} - C_{TBA} \\frac{C_{S_1,T}}{1 + K_1 C_I} \\frac{C_{S_2,T}}{1 + K_2 C_W}/K_3\\right) \\\\\n",
    "r_3 = \\frac{k_3 C_{S_1,T} C_{S_2,T}\\left(K_1 K_2 C_I C_W - C_{TBA} /K_3\\right)}{(1+K_1 C_I)(1+K_2 C_W)}\n",
    "\\end{align}"
   ]
  },
  {
   "cell_type": "markdown",
   "metadata": {},
   "source": [
    "# Catalyst coking"
   ]
  },
  {
   "cell_type": "markdown",
   "metadata": {},
   "source": [
    "We're using a transient CSTR for a heterogenous catalytic reaction, where the reactants/products\n",
    "are in liquid phase and the catalyst is in a solid phase.\n",
    "\\begin{align}\n",
    "\\ce{A + S &<=> A\\cdot S}\\qquad k_1=0.1\\:s^{-1}M^{-1}\\qquad K_1=5\\: M^{-1}\\\\\n",
    "\\ce{B + S &<=> B\\cdot S}\\qquad k_2=0.2\\:s^{-1}M^{-1}\\qquad K_2=4\\: M^{-1}\\\\\n",
    "\\ce{A\\cdot S + B\\cdot S &<=> C\\cdot S + S }\\qquad k_3=0.8\\:s^{-1}M^{-1}\\qquad K_3=1\\\\\n",
    "\\ce{C\\cdot S &<=> C + S }\\qquad k_4=1.5\\:s^{-1}\\qquad K_4=5\\: M\n",
    "\\end{align}\n",
    "The reactor output is filtered to remove particulate matter so that the catalyst slurry is not\n",
    "removed from the reactor (i.e. liquid A, B, C can leave, but A$\\cdot$S, B$\\cdot$S, or C$\\cdot$S\n",
    "cannot). We feed two separate streams:  stream 1 flows at 0.5 L/s with a 2 M concentration of A,\n",
    "and stream 2 flows at 0.5 L/s with a 2 M concentration of B. You may assume ideal mixing, i.e.,\n",
    "$\\dot{V}_1+\\dot{V}_2=\\dot{V}_{total}$. Initially the reactor is charged with 2 M catalyst (S)\n",
    "and no A or B. The reactor has a fixed volume of 100 L."
   ]
  },
  {
   "cell_type": "markdown",
   "metadata": {},
   "source": [
    "#### Plot the concentration of C in the reactor as a function of time (4 points)"
   ]
  },
  {
   "cell_type": "code",
   "execution_count": 1,
   "metadata": {
    "ExecuteTime": {
     "end_time": "2017-10-23T00:00:03.562858Z",
     "start_time": "2017-10-23T00:00:03.117741Z"
    }
   },
   "outputs": [
    {
     "data": {
      "image/png": "[encoded data removed]",
      "text/plain": [
       "<matplotlib.figure.Figure at 0x7f0778143eb8>"
      ]
     },
     "metadata": {},
     "output_type": "display_data"
    }
   ],
   "source": [
    "import numpy as np\n",
    "from scipy.integrate import odeint\n",
    "import matplotlib.pyplot as plt\n",
    "\n",
    "# Rate constants\n",
    "k1f = 0.1\n",
    "k2f = 0.2\n",
    "k3f = 0.8\n",
    "k4f = 1.5\n",
    "K1 = 5\n",
    "K2 = 4\n",
    "K3 = 1\n",
    "K4 = 5\n",
    "k1r = k1f/K1\n",
    "k2r = k2f/K2\n",
    "k3r = k3f/K3\n",
    "k4r = k4f/K4\n",
    "# Volume and volumetric flowrate\n",
    "V = 100.  # L\n",
    "v0 = 1    # L/s\n",
    "# The concentrations are halved because we have equi-volumetric flows joining together.\n",
    "Ca0 = 1.  # M\n",
    "Cb0 = 1.  # M\n",
    "Cs0 = 2.  # M\n",
    "\n",
    "#               A   B   C   S  AS  BS  CS\n",
    "r1 = np.array([-1,  0,  0, -1,  1,  0,  0])\n",
    "r2 = np.array([ 0, -1,  0, -1,  0,  1,  0])\n",
    "r3 = np.array([ 0,  0,  0,  1, -1, -1,  1])\n",
    "r4 = np.array([ 0,  0,  1,  1,  0,  0, -1])\n",
    "stoich = np.array([r1, -r1, r2, -r2, r3, -r3, r4, -r4])\n",
    "\n",
    "def dNdt(N, t):\n",
    "    Ca, Cb, Cc, Cs, Cas, Cbs, Ccs = N/V\n",
    "    r = [k1f*Ca*Cs, k1r*Cas,\n",
    "         k2f*Cb*Cs, k2r*Cbs,\n",
    "         k3f*Cas*Cbs, k3r*Ccs*Cs,\n",
    "         k4f*Ccs, k4r*Cc*Cs]\n",
    "    dNadt = v0*Ca0 - v0*Ca + np.dot(stoich[:, 0], r)*V\n",
    "    dNbdt = v0*Cb0 - v0*Cb + np.dot(stoich[:, 1], r)*V\n",
    "    dNcdt =        - v0*Cc + np.dot(stoich[:, 2], r)*V\n",
    "    dNsdt =  np.dot(stoich[:, 3], r)*V\n",
    "    dNasdt = np.dot(stoich[:, 4], r)*V\n",
    "    dNbsdt = np.dot(stoich[:, 5], r)*V\n",
    "    dNcsdt = np.dot(stoich[:, 6], r)*V\n",
    "    dNdt = [dNadt, dNbdt, dNcdt, dNsdt, dNasdt, dNbsdt, dNcsdt]\n",
    "    return dNdt\n",
    "\n",
    "tspan = np.linspace(0, 1000, 100)\n",
    "sol = odeint(dNdt, [0, 0, 0, Cs0*V, 0, 0, 0], tspan)\n",
    "plt.plot(tspan, sol[:, 2]/V)\n",
    "plt.xlabel('Time [s]')\n",
    "plt.ylabel('Concentration of species C [M]')\n",
    "plt.show()"
   ]
  },
  {
   "cell_type": "markdown",
   "metadata": {},
   "source": [
    "#### We discover that there is a small impurity in stream 1 that binds strongly to the catalyst. In addition to A and B there is an additional agent F at 0.02 M, that reacts with the catalyst (4 points):\n",
    "\\begin{align}\n",
    "\\ce{F + S &<=> F\\cdot S}\\qquad k_5=0.1\\: s^{-1}M^{-1},\\qquad K_5=1000\n",
    "\\end{align}\n",
    "Note that this impurity may flow out of the reactor when desorbed (as F), but it may\n",
    "not flow out when adsorbed (as F$\\cdot$S). Plot the concentration of C in the reactor as a function of time."
   ]
  },
  {
   "cell_type": "code",
   "execution_count": 2,
   "metadata": {
    "ExecuteTime": {
     "end_time": "2017-10-23T00:07:11.169349Z",
     "start_time": "2017-10-23T00:07:10.651183Z"
    }
   },
   "outputs": [
    {
     "data": {
      "image/png": "[encoded data removed]",
      "text/plain": [
       "<matplotlib.figure.Figure at 0x7f074d6ae630>"
      ]
     },
     "metadata": {},
     "output_type": "display_data"
    }
   ],
   "source": [
    "# Rate constants\n",
    "k5f = 0.1\n",
    "K5 = 1000.\n",
    "k5r = k5f/K5\n",
    "\n",
    "# The concentration is halved because we have equi-volumetric flows joining together.\n",
    "Cf0 = 0.01  # M\n",
    "\n",
    "#               A   B   C   F   S  AS  BS  CS  FS\n",
    "r1 = np.array([-1,  0,  0,  0, -1,  1,  0,  0,  0])\n",
    "r2 = np.array([ 0, -1,  0,  0, -1,  0,  1,  0,  0])\n",
    "r3 = np.array([ 0,  0,  0,  0,  1, -1, -1,  1,  0])\n",
    "r4 = np.array([ 0,  0,  1,  0,  1,  0,  0, -1,  0])\n",
    "r5 = np.array([ 0,  0,  0, -1, -1,  0,  0,  0,  1])\n",
    "stoich = np.array([r1, -r1, r2, -r2, r3, -r3, r4, -r4, r5, -r5])\n",
    "\n",
    "def dNdt(N, t):\n",
    "    Ca, Cb, Cc, Cf, Cs, Cas, Cbs, Ccs, Cfs = N/V\n",
    "    r = [k1f*Ca*Cs, k1r*Cas,\n",
    "         k2f*Cb*Cs, k2r*Cbs,\n",
    "         k3f*Cas*Cbs, k3r*Ccs*Cs,\n",
    "         k4f*Ccs, k4r*Cc*Cs,\n",
    "         k5f*Cf*Cs, k5r*Cfs]\n",
    "    dNadt = v0*Ca0 - v0*Ca + np.dot(stoich[:, 0], r)*V\n",
    "    dNbdt = v0*Cb0 - v0*Cb + np.dot(stoich[:, 1], r)*V\n",
    "    dNcdt =        - v0*Cc + np.dot(stoich[:, 2], r)*V\n",
    "    dNfdt = v0*Cf0 - v0*Cf + np.dot(stoich[:, 3], r)*V\n",
    "    dNsdt =  np.dot(stoich[:, 4], r)*V\n",
    "    dNasdt = np.dot(stoich[:, 5], r)*V\n",
    "    dNbsdt = np.dot(stoich[:, 6], r)*V\n",
    "    dNcsdt = np.dot(stoich[:, 7], r)*V\n",
    "    dNfsdt = np.dot(stoich[:, 8], r)*V\n",
    "    dNdt = [dNadt, dNbdt, dNcdt, dNfdt, dNsdt, dNasdt, dNbsdt, dNcsdt, dNfsdt]\n",
    "    return dNdt\n",
    "\n",
    "tspan = np.linspace(0, 50000, 100)\n",
    "sol = odeint(dNdt, [0, 0, 0, 0, Cs0*V, 0, 0, 0, 0], tspan)\n",
    "plt.plot(tspan, sol[:, 2]/V)\n",
    "plt.xlabel('Time [s]')\n",
    "plt.ylabel('Concentration of species C [M]')\n",
    "plt.show()"
   ]
  },
  {
   "cell_type": "code",
   "execution_count": null,
   "metadata": {
    "collapsed": true
   },
   "outputs": [],
   "source": []
  }
 ],
 "metadata": {
  "kernelspec": {
   "display_name": "Python 3",
   "language": "python",
   "name": "python3"
  },
  "language_info": {
   "codemirror_mode": {
    "name": "ipython",
    "version": 3
   },
   "file_extension": ".py",
   "mimetype": "text/x-python",
   "name": "python",
   "nbconvert_exporter": "python",
   "pygments_lexer": "ipython3",
   "version": "3.6.2"
  },
  "toc": {
   "colors": {
    "hover_highlight": "#DAA520",
    "navigate_num": "#000000",
    "navigate_text": "#333333",
    "running_highlight": "#FF0000",
    "selected_highlight": "#FFD700",
    "sidebar_border": "#EEEEEE",
    "wrapper_background": "#FFFFFF"
   },
   "moveMenuLeft": true,
   "nav_menu": {
    "height": "29px",
    "width": "252px"
   },
   "navigate_menu": true,
   "number_sections": true,
   "sideBar": true,
   "threshold": 4,
   "toc_cell": false,
   "toc_section_display": "block",
   "toc_window_display": false,
   "widenNotebook": false
  }
 },
 "nbformat": 4,
 "nbformat_minor": 2
}
