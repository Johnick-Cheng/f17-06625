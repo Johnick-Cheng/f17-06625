{
 "cells": [
  {
   "cell_type": "markdown",
   "metadata": {
    "collapsed": true
   },
   "source": [
    "# Homework 2"
   ]
  },
  {
   "cell_type": "markdown",
   "metadata": {},
   "source": [
    "### Pengfei Cheng\n",
    "### Andrew ID: pengfeic"
   ]
  },
  {
   "cell_type": "markdown",
   "metadata": {},
   "source": [
    "## Problem 1: Reaction Extent"
   ]
  },
  {
   "cell_type": "code",
   "execution_count": 1,
   "metadata": {
    "collapsed": true
   },
   "outputs": [],
   "source": [
    "import numpy as np\n",
    "import matplotlib.pyplot as plt\n",
    "from scipy.optimize import fsolve\n",
    "\n",
    "# import packages for Problem 1"
   ]
  },
  {
   "cell_type": "markdown",
   "metadata": {},
   "source": [
    "### Problem 1A\n",
    "\\begin{equation}\n",
    "    \\mathrm{2NH_3 \\to N_2 + 3H_2}\n",
    "\\end{equation}"
   ]
  },
  {
   "cell_type": "code",
   "execution_count": 2,
   "metadata": {},
   "outputs": [
    {
     "name": "stdout",
     "output_type": "stream",
     "text": [
      "[-2  1  3]\n"
     ]
    }
   ],
   "source": [
    "alpha = np.array ([-2, 1, 3]) # define the stoichiometric vector\n",
    "print (alpha)"
   ]
  },
  {
   "cell_type": "markdown",
   "metadata": {},
   "source": [
    "### Problem 1B"
   ]
  },
  {
   "cell_type": "code",
   "execution_count": 3,
   "metadata": {},
   "outputs": [
    {
     "data": {
      "image/png": "[encoded data removed]",
      "text/plain": [
       "<matplotlib.figure.Figure at 0x7f9a7317de10>"
      ]
     },
     "metadata": {},
     "output_type": "display_data"
    }
   ],
   "source": [
    "c0 = np.array ([100, 0, 0]) # define the concentration vector\n",
    "\n",
    "xi_max = 100 / 2; # define the xi_max\n",
    "\n",
    "def xi(t):\n",
    "    return (1-np.exp (- 3 * t ** 3)) * xi_max\n",
    "\n",
    "# define the xi; xi = Xi * xi_max\n",
    "\n",
    "tspan = np.linspace (0, 2, num = 50)\n",
    "\n",
    "c = [[None] * 3] * 50 # define the concentration vectors for different t\n",
    "\n",
    "for i in range (50):\n",
    "    c[i] = c0 + xi(tspan[i])*alpha\n",
    "\n",
    "c1, c2, c3 = zip(*c)\n",
    "    \n",
    "plt.plot (tspan, c1, 'b-', label='NH3')\n",
    "plt.plot (tspan, c2, 'g-', label='N2')\n",
    "plt.plot (tspan, c3, 'r-', label='H2')\n",
    "plt.xlabel('time/s')\n",
    "plt.ylabel('concentration/(mol/L)')\n",
    "plt.legend ()\n",
    "plt.show()"
   ]
  },
  {
   "cell_type": "markdown",
   "metadata": {},
   "source": [
    "### Problem 1C"
   ]
  },
  {
   "cell_type": "code",
   "execution_count": 4,
   "metadata": {},
   "outputs": [
    {
     "name": "stdout",
     "output_type": "stream",
     "text": [
      "It will take 0.6136 s to achieve a 50% higher pressure in the reactor.\n"
     ]
    }
   ],
   "source": [
    "delta = sum(alpha)\n",
    "\n",
    "def deltaP(t):\n",
    "    z = 0.5 - delta * xi (t) / 100\n",
    "    return z\n",
    "\n",
    "# define the relative pressure change\n",
    "\n",
    "res, = fsolve (deltaP, 1, full_output=0)\n",
    "\n",
    "print ('It will take {0:1.4f} s to achieve a 50% higher pressure in the reactor'.format(res)+'.')"
   ]
  },
  {
   "cell_type": "markdown",
   "metadata": {},
   "source": [
    "## Problem 2: Stoichiometry of reaction systems"
   ]
  },
  {
   "cell_type": "code",
   "execution_count": 5,
   "metadata": {
    "collapsed": true
   },
   "outputs": [],
   "source": [
    "import numpy as np\n",
    "\n",
    "# import packages for Problem 2"
   ]
  },
  {
   "cell_type": "markdown",
   "metadata": {},
   "source": [
    "### Problem 2A\n",
    "$\\require{mhchem}$\n",
    "1. $\\ce{H2O + CO <=> H_2 + CO2 }$\n",
    "\n",
    "1.  $\\ce{CO_2 <=> C + O_2 }$\n",
    "\n",
    "1. $\\ce{O_2 + 2H_2 <=> 2H_2O}$\n",
    "\n",
    "1. $\\ce{CO + 1/2O2 <=> CO2}$\n",
    "\n",
    "1. $\\ce{C + 2H_2 <=> CH_4}$\n",
    "\n",
    "1. $\\ce{CH4 + 2O2<=> CO2 + 2H2O}$"
   ]
  },
  {
   "cell_type": "code",
   "execution_count": 6,
   "metadata": {},
   "outputs": [
    {
     "name": "stdout",
     "output_type": "stream",
     "text": [
      "The stoichiometric vectors for the reactions are\n",
      "[[-1.  -1.   1.   1.   0.   0.   0. ]\n",
      " [ 0.   0.   0.  -1.   1.   1.   0. ]\n",
      " [ 2.   0.  -2.   0.   0.  -1.   0. ]\n",
      " [ 0.  -1.   0.   1.   0.  -0.5  0. ]\n",
      " [ 0.   0.  -2.   0.  -1.   0.   1. ]\n",
      " [ 2.   0.   0.   1.   0.  -2.  -1. ]].\n"
     ]
    }
   ],
   "source": [
    "alpha2 = np.array ([\n",
    "    [-1, -1, 1, 1, 0, 0, 0],\n",
    "    [0, 0, 0, -1, 1, 1, 0],\n",
    "    [2, 0, -2, 0, 0, -1, 0],\n",
    "    [0, -1, 0, 1, 0, -0.5, 0],\n",
    "    [0, 0, -2, 0, -1, 0, 1],\n",
    "    [2, 0, 0, 1, 0, -2, -1]\n",
    "         ])\n",
    "print('The stoichiometric vectors for the reactions are\\n{}'.format(alpha2)+'.')"
   ]
  },
  {
   "cell_type": "markdown",
   "metadata": {},
   "source": [
    "### Problem 2B"
   ]
  },
  {
   "cell_type": "code",
   "execution_count": 7,
   "metadata": {
    "scrolled": true
   },
   "outputs": [
    {
     "name": "stdout",
     "output_type": "stream",
     "text": [
      "The Matrix M is \n",
      "[[-1.   0.   2.   0.   0.   2. ]\n",
      " [-1.   0.   0.  -1.   0.   0. ]\n",
      " [ 1.   0.  -2.   0.  -2.   0. ]\n",
      " [ 1.  -1.   0.   1.   0.   1. ]\n",
      " [ 0.   1.   0.   0.  -1.   0. ]\n",
      " [ 0.   1.  -1.  -0.5  0.  -2. ]\n",
      " [ 0.   0.   0.   0.   1.  -1. ]].\n"
     ]
    }
   ],
   "source": [
    "M = np.transpose(alpha2)\n",
    "print('The Matrix M is \\n{}'.format(M)+'.')"
   ]
  },
  {
   "cell_type": "markdown",
   "metadata": {},
   "source": [
    "### Problem 2C"
   ]
  },
  {
   "cell_type": "code",
   "execution_count": 8,
   "metadata": {},
   "outputs": [
    {
     "name": "stdout",
     "output_type": "stream",
     "text": [
      "The reaction extents are [-0.42857143 -0.42857143 -0.28571429 -0.57142857 -0.42857143  0.57142857].\n"
     ]
    }
   ],
   "source": [
    "b = np.array([1, 1, 1, 0, 0, -1, -1]).T\n",
    "x = np.linalg.lstsq(M,b)[0]\n",
    "print('The reaction extents are {}'.format(x)+'.')"
   ]
  },
  {
   "cell_type": "markdown",
   "metadata": {},
   "source": [
    "### Problem 2D"
   ]
  },
  {
   "cell_type": "code",
   "execution_count": 9,
   "metadata": {},
   "outputs": [
    {
     "name": "stdout",
     "output_type": "stream",
     "text": [
      "The product of M and x is [  1.00000000e+00   1.00000000e+00   1.00000000e+00  -1.11022302e-16\n",
      "   6.66133815e-16  -1.00000000e+00  -1.00000000e+00].\n",
      "Considering the errors are trivial, the numerical solution is right.\n"
     ]
    }
   ],
   "source": [
    "b2 = np.matmul(M, x)\n",
    "print('The product of M and x is {}'.format(b2)+'.')\n",
    "print('Considering the errors are trivial, the numerical solution is right.')"
   ]
  },
  {
   "cell_type": "markdown",
   "metadata": {},
   "source": [
    "### Problem 2E"
   ]
  },
  {
   "cell_type": "code",
   "execution_count": 10,
   "metadata": {},
   "outputs": [
    {
     "name": "stdout",
     "output_type": "stream",
     "text": [
      "The rank of the augmented matrix is 4.\n"
     ]
    }
   ],
   "source": [
    "Mb = np.column_stack((M,b)) # define the augmented matrix\n",
    "\n",
    "r = np.linalg.matrix_rank(Mb)\n",
    "print('The rank of the augmented matrix is {}'.format(r)+'.')"
   ]
  },
  {
   "cell_type": "markdown",
   "metadata": {},
   "source": [
    "$\\mathrm{M} \\in \\mathbb{R}^{7 \\times 6}$, and $r(\\mathrm{Mb})=4<6$, so there are infinite solutions to the equations, which means there are infinite ways to arrive the same reaction."
   ]
  },
  {
   "cell_type": "markdown",
   "metadata": {},
   "source": [
    "### Problem 2F"
   ]
  },
  {
   "cell_type": "code",
   "execution_count": 11,
   "metadata": {},
   "outputs": [
    {
     "name": "stdout",
     "output_type": "stream",
     "text": [
      "The rank of the new augmented matrix is 3.\n"
     ]
    }
   ],
   "source": [
    "alpha3 = np.array([\n",
    "    [-1, -1, 1, 1, 0, 0, 0],\n",
    "    [2, 0, -2, 0, 0, -1, 0],\n",
    "    [2, 0, 0, 1, 0, -2, -1]\n",
    "         ])\n",
    "M2 = np.transpose(alpha3)\n",
    "Mb2 = np.column_stack((M2,b)) # define the new augmented matrix\n",
    "r2 = np.linalg.matrix_rank(Mb2) \n",
    "print('The rank of the new augmented matrix is {}'.format(r2)+'.')"
   ]
  },
  {
   "cell_type": "markdown",
   "metadata": {},
   "source": [
    "$\\mathrm{M_2} \\in \\mathbb{R}^{7 \\times 3}$, and $r(\\mathrm{Mb}_2)=3$, so there is a unique solution to the equations, which means there is one and only one way to arrive the reaction."
   ]
  },
  {
   "cell_type": "code",
   "execution_count": 12,
   "metadata": {},
   "outputs": [
    {
     "name": "stdout",
     "output_type": "stream",
     "text": [
      "The reaction extents are\n",
      "H2O + CO <=> H2 + CO2\t-1.0 mol\n",
      "O2 + 2H2 <=> 2H2O\t\t-1.0 mol\n",
      "CH4 + 2O2<=> CO2 + 2H2O\t 1.0 mol.\n"
     ]
    }
   ],
   "source": [
    "x2 = np.linalg.lstsq(M2,b)[0]\n",
    "print('The reaction extents are')\n",
    "print('H2O + CO <=> H2 + CO2\\t{:1.1f}'.format(x2[0])+' mol')\n",
    "print('O2 + 2H2 <=> 2H2O\\t\\t{:1.1f}'.format(x2[1])+' mol')\n",
    "print('CH4 + 2O2<=> CO2 + 2H2O\\t {:1.1f}'.format(x2[2])+' mol.')"
   ]
  },
  {
   "cell_type": "code",
   "execution_count": null,
   "metadata": {
    "collapsed": true
   },
   "outputs": [],
   "source": []
  }
 ],
 "metadata": {
  "kernelspec": {
   "display_name": "Python 3",
   "language": "python",
   "name": "python3"
  },
  "language_info": {
   "codemirror_mode": {
    "name": "ipython",
    "version": 3
   },
   "file_extension": ".py",
   "mimetype": "text/x-python",
   "name": "python",
   "nbconvert_exporter": "python",
   "pygments_lexer": "ipython3",
   "version": "3.6.2"
  },
  "toc": {
   "colors": {
    "hover_highlight": "#DAA520",
    "navigate_num": "#000000",
    "navigate_text": "#333333",
    "running_highlight": "#FF0000",
    "selected_highlight": "#FFD700",
    "sidebar_border": "#EEEEEE",
    "wrapper_background": "#FFFFFF"
   },
   "moveMenuLeft": true,
   "nav_menu": {
    "height": "288px",
    "width": "252px"
   },
   "navigate_menu": true,
   "number_sections": true,
   "sideBar": true,
   "threshold": 4,
   "toc_cell": false,
   "toc_section_display": "block",
   "toc_window_display": false,
   "widenNotebook": false
  }
 },
 "nbformat": 4,
 "nbformat_minor": 2
}
