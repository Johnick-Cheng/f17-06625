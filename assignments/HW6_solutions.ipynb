{
 "cells": [
  {
   "cell_type": "markdown",
   "metadata": {},
   "source": [
    "$$\\require{mhchem}$$       "
   ]
  },
  {
   "cell_type": "markdown",
   "metadata": {},
   "source": [
    "# Gas phase reaction with equilibria"
   ]
  },
  {
   "cell_type": "markdown",
   "metadata": {},
   "source": [
    "We're interested in optimizing reactor conditions for several competing gas-phase reactions for a feed of $CO$, $O_2$, and $H_2$:\n",
    "\\begin{align*}\n",
    "\\ce{CO + 1/2O2 &<=> CO2}\\\\\n",
    "\\ce{H2 + 1/2O2 &<=> H2O}\\\\\n",
    "\\ce{CO + 2H2 &<=> CH4 + 1/2O2}\\\\\n",
    "\\ce{CO +H2 &<=> CH2O } \\text{ (methanal)}\\\\\n",
    "\\ce{2CO +2H2 &<=> C2H2 + 1/2O2 + H2O } \\text{ (acetylene)}\n",
    "\\end{align*}"
   ]
  },
  {
   "cell_type": "markdown",
   "metadata": {},
   "source": [
    "#### First, determine the free energy for each of the reaction, $\\Delta G_0$, at standard state (298 K, 1 atm) using the NIST chemistry webbook. (3 points)"
   ]
  },
  {
   "cell_type": "code",
   "execution_count": 2,
   "metadata": {
    "ExecuteTime": {
     "end_time": "2017-10-16T20:52:00.228689Z",
     "start_time": "2017-10-16T20:52:00.197896Z"
    }
   },
   "outputs": [
    {
     "name": "stdout",
     "output_type": "stream",
     "text": [
      "Reaction number 1 has a dG0 of -257 kJ/mol\n",
      "Reaction number 2 has a dG0 of -228 kJ/mol\n",
      "Reaction number 3 has a dG0 of 85 kJ/mol\n",
      "Reaction number 4 has a dG0 of 26 kJ/mol\n",
      "Reaction number 5 has a dG0 of 254 kJ/mol\n"
     ]
    }
   ],
   "source": [
    "import quantities as u\n",
    "import numpy as np\n",
    "\n",
    "#      [  CO,     O2,      CO2,      H2,      H2O,     CH4,    CH2O,    C2H2]\n",
    "dHf0 = [-110.53,   0.,    -393.51,    0.,    -241.826, -74.87, -115.90, 226.73]*u.joule/u.mol*1000\n",
    "S0 =   [ 196.66, 205.152,  213.785, 130.680,  188.835, 188.66,  218.95, 200.93]*u.joule/u.mol/u.K\n",
    "\n",
    "R = 8.3145*u.joule/u.mol/u.K\n",
    "T = 298*u.K\n",
    "G = dHf0 - S0*T\n",
    "stoich = np.array([[-1, -1./2, 1,  0, 0, 0, 0, 0],\n",
    "                   [ 0, -1./2, 0, -1, 1, 0, 0, 0],\n",
    "                   [-1,  1./2, 0, -2, 0, 1, 0, 0],\n",
    "                   [-1,     0, 0, -1, 0, 0, 1, 0],\n",
    "                   [-2,  1./2, 0, -2, 1, 0, 0, 1]])\n",
    "\n",
    "dG0j = np.dot(stoich, G)\n",
    "for j, dG0 in enumerate(dG0j):\n",
    "    print('Reaction number %i has a dG0 of %i kJ/mol' %(j+1, dG0/1000))"
   ]
  },
  {
   "cell_type": "markdown",
   "metadata": {},
   "source": [
    "#### The chemical potential of an ideal gas species is:\n",
    "\\begin{align}\n",
    "\\mu_i = \\Delta G_i = \\Delta G_{i,0} + RT\\ln[y_iP]\n",
    "\\end{align}\n",
    "where $y_iP$ is the partial pressure of each species. Evaluate the free energy of each reaction\n",
    "at 1000 K and 1 atm partial pressure of each species using the shomate equation. Assume that the\n",
    "shomate equation listed for room temperature (~300 K) applies to higher temperatures as well.\n",
    "Hint: make sure that whatever you come up with, when evaluated at 298.15K, is close to the\n",
    "answer above. (3 points)"
   ]
  },
  {
   "cell_type": "code",
   "execution_count": 3,
   "metadata": {
    "ExecuteTime": {
     "end_time": "2017-10-16T20:52:40.451547Z",
     "start_time": "2017-10-16T20:52:40.374530Z"
    }
   },
   "outputs": [
    {
     "name": "stdout",
     "output_type": "stream",
     "text": [
      "Reaction number 1 has a dG of -195 kJ/mol\n",
      "Reaction number 2 has a dG of -192 kJ/mol\n",
      "Reaction number 3 has a dG of 219 kJ/mol\n",
      "Reaction number 4 has a dG of 112 kJ/mol\n",
      "Reaction number 5 has a dG of 377 kJ/mol\n"
     ]
    }
   ],
   "source": [
    "# one row per species, columns A-H\n",
    "shomate = np.array(\n",
    "    [[25.56759, 6.096130, 4.054656, -2.671301, 0.131021, -118.0089, 227.3665, -110.5271], \n",
    "     [31.32234, -20.23531, 57.86644, -36.50624, -0.007374, -8.903471, 246.7945, 0.], \n",
    "     [24.99735, 55.18696, -33.69137, 7.948387, -0.136638, -403.6075, 228.2431, -393.5224], \n",
    "     [33.066178, -11.363417, 11.432816, -2.772874, -0.158558, -9.980797, 172.707974, 0.], \n",
    "     [30.092, 6.832514, 6.793435, -2.53448, 0.082139, -250.881, 223.3967, -241.8264], \n",
    "     [-0.703029, 108.4773, -42.52157, 5.862788, 0.678565, -76.84376, 158.7163, -74.8731], \n",
    "     [5.193767, 93.23249, -44.85457, 7.882279, 0.551175, -119.3591, 202.4663, -115.8972], \n",
    "     [40.68697, 40.73279, -16.1784, 3.669741, -0.658411, 210.7067, 235.0052, 226.7314]])  \n",
    "\n",
    "def dGi(T, Pi):\n",
    "    '''\n",
    "    Calculate the chemical potential of a species given the temperature T\n",
    "    and partial pressure Pi. Since we use np.arrays, we can enter either\n",
    "    single values for T and Pi or arrays.\n",
    "    '''\n",
    "    # Normalize the temperature\n",
    "    t = float(T.rescale(u.K))/1000\n",
    "    # Use the shomate equations to correct the enthalpy and entropy\n",
    "    T_H = np.array([t, t**2/2.0, t**3/3.0, t**4/4.0, -1.0/t, 1.0, 0.0, -1.0])\n",
    "    T_S = np.array([np.log(t), t, t**2/2.0, t**3/3.0, -1.0/(2.0*t**2), 0.0, 1.0, 0.0])\n",
    "    H = (np.array(dHf0.rescale(u.joule/u.mol))+np.dot(shomate, T_H)*1000)*u.J/u.mol # J/mol\n",
    "    S = np.dot(shomate, T_S)*u.joule/u.mol/u.K # J/mol/K\n",
    "    # Calculate the free energy so that we can use it to calculate the chemical potential\n",
    "    G0 = H - T*S\n",
    "    Gi = G0 + R*T*np.log(Pi/(1*u.atm))  # J/mol/K\n",
    "    return Gi\n",
    "\n",
    "# Calculate the free energy change at 1000 K and 1 atm for each species\n",
    "T = 1000.*u.K\n",
    "Pi = [1]*stoich.shape[1]*u.atm\n",
    "dGj = np.dot(stoich, dGi(T, Pi))\n",
    "for j, dG in enumerate(dGj):\n",
    "    print('Reaction number %i has a dG of %i kJ/mol' %(j+1, dG/1000))"
   ]
  },
  {
   "cell_type": "markdown",
   "metadata": {},
   "source": [
    "#### For a mixture of 1 atm total pressure at 1000 K  $CO$, $O_2$, $H_2$ (same starting all species) evaluate the equilibrium constant for each reaction. Use the shomate equation here. (2 points)"
   ]
  },
  {
   "cell_type": "code",
   "execution_count": 6,
   "metadata": {
    "ExecuteTime": {
     "end_time": "2017-10-16T18:49:13.231433Z",
     "start_time": "2017-10-16T18:49:13.218604Z"
    }
   },
   "outputs": [
    {
     "name": "stdout",
     "output_type": "stream",
     "text": [
      "Reaction number 1 has an equilibrium distribution of 1.65E+10\n",
      "Reaction number 2 has an equilibrium distribution of 1.15E+10\n",
      "Reaction number 3 has an equilibrium distribution of 3.31E-12\n",
      "Reaction number 4 has an equilibrium distribution of 1.38E-06\n",
      "Reaction number 5 has an equilibrium distribution of 1.90E-20\n"
     ]
    }
   ],
   "source": [
    "# Re-calculate dG0j for the new temperature\n",
    "T = 1000.*u.K\n",
    "\n",
    "# Make a new function that calculates standard free energies, but with the Shomate parameters\n",
    "def dG0j(T):\n",
    "    ''' Calculate the standard free energy of a species given the temperature T '''\n",
    "    # Normalize the temperature\n",
    "    t = float(T.rescale(u.K))/1000\n",
    "    # Use the shomate equations to correct the enthalpy and entropy\n",
    "    T_H = np.array([t, t**2/2.0, t**3/3.0, t**4/4.0, -1.0/t, 1.0, 0.0, -1.0])\n",
    "    T_S = np.array([np.log(t), t, t**2/2.0, t**3/3.0, -1.0/(2.0*t**2), 0.0, 1.0, 0.0])\n",
    "    H = (np.array(dHf0.rescale(u.joule/u.mol))+np.dot(shomate, T_H)*1000)*u.J/u.mol # J/mol\n",
    "    S = np.dot(shomate, T_S)*u.joule/u.mol/u.K # J/mol/K\n",
    "    # Calculate the free energy so that we can use it to calculate the chemical potential\n",
    "    G0 = H - T*S\n",
    "    return G0\n",
    "\n",
    "# Use the function to help calculate equilibrium constant\n",
    "dG0j = np.dot(stoich, dG0j(T))\n",
    "Kj = np.exp(-dG0j/R/T)\n",
    "for j, K in enumerate(Kj):\n",
    "    print('Reaction number %i has an equilibrium distribution of %.2E' %(j+1, K))"
   ]
  },
  {
   "cell_type": "markdown",
   "metadata": {},
   "source": [
    "#### Bonus: try to solve for the equilibrium constant (including the entropic term).  You'll probably run into numerical problems unless you try to use a stiff solver. Describe where these problems are coming from. (2 points)"
   ]
  },
  {
   "cell_type": "markdown",
   "metadata": {},
   "source": [
    "Good luck."
   ]
  },
  {
   "cell_type": "markdown",
   "metadata": {},
   "source": [
    "#### What does this say about the reactions? (2 points)"
   ]
  },
  {
   "cell_type": "markdown",
   "metadata": {},
   "source": [
    "Reactions one and two will dominate the system, as combustion reactions would suggest"
   ]
  },
  {
   "cell_type": "markdown",
   "metadata": {},
   "source": [
    "# The following reaction data were measured:\n",
    "\\begin{align*}\\ce{A + B &<=> C} && E_a=5\\: kJ/mol && \\Delta G = -10\\: kJ/mol\\\\\n",
    "\\ce{B + C &<=> 2D} && E_a=2\\: kJ/mol && \\Delta G = -15\\: kJ/mol\\\\\n",
    "\\ce{ B + 2D &<=> 2E} && E_a=10\\: kJ/mol && \\Delta G = 2\\: kJ/mol\\\\\n",
    "\\end{align*}"
   ]
  },
  {
   "cell_type": "markdown",
   "metadata": {},
   "source": [
    "#### Calculate the equilibrium constant for each reaction at 1000 K (2 points)"
   ]
  },
  {
   "cell_type": "code",
   "execution_count": 4,
   "metadata": {
    "ExecuteTime": {
     "end_time": "2017-10-16T20:39:37.521276Z",
     "start_time": "2017-10-16T20:39:37.507271Z"
    }
   },
   "outputs": [
    {
     "name": "stdout",
     "output_type": "stream",
     "text": [
      "Reaction number 1 has an equilibrium distribution of 3.33\n",
      "Reaction number 2 has an equilibrium distribution of 6.07\n",
      "Reaction number 3 has an equilibrium distribution of 0.79\n"
     ]
    }
   ],
   "source": [
    "dG0 = [-10, -15, 2]*u.joule/u.mol*1000.\n",
    "T = 1000.*u.K\n",
    "K = np.exp(-dG0/R/T)\n",
    "for j, k in enumerate(K):\n",
    "    print('Reaction number %i has an equilibrium distribution of %.2f' %(j+1, k))"
   ]
  },
  {
   "cell_type": "markdown",
   "metadata": {},
   "source": [
    "#### Calculate the equilibrium mole fraction for a system that begins as an equimolar mixture of A,B,C,D,E at 1000 K and 1 atm. Assume isobaric and isothermal conditions. (4 points)"
   ]
  },
  {
   "cell_type": "code",
   "execution_count": 5,
   "metadata": {
    "ExecuteTime": {
     "end_time": "2017-10-16T20:50:40.527173Z",
     "start_time": "2017-10-16T20:50:40.457170Z"
    }
   },
   "outputs": [
    {
     "name": "stdout",
     "output_type": "stream",
     "text": [
      "The mole fraction of species A is 0.21\n",
      "The mole fraction of species B is 0.18\n",
      "The mole fraction of species C is 0.12\n",
      "The mole fraction of species D is 0.36\n",
      "The mole fraction of species E is 0.13\n"
     ]
    }
   ],
   "source": [
    "from scipy.optimize import fsolve\n",
    "\n",
    "# Matrix of stoichiometric coefficients\n",
    "stoich = np.array([[-1, -1, 1, 0, 0],\n",
    "                   [0, -1, -1, 2, 0],\n",
    "                   [0, -1, 0, -2, 2]])\n",
    "# We define a uniformly distributed, arbitrary vector of the number of moles of each species\n",
    "ni = stoich.shape[1]    # The number of reactants\n",
    "nj = stoich.shape[0]    # The number of reactants\n",
    "N0 = [100./ni]*ni\n",
    "\n",
    "def N(xj):\n",
    "    ''' Calculate the moles of each species as a function of the extent of reaction '''\n",
    "    N = N0 + np.dot(stoich.transpose(), xj)    # moles\n",
    "    return N\n",
    "\n",
    "def y(xj):\n",
    "    ''' Calculate the mole fraction each species as a function of the extent of reaction '''\n",
    "    y = N(xj)/sum(N(xj))\n",
    "    return y\n",
    "\n",
    "def f(xj, K):\n",
    "    '''\n",
    "    Create a function to find the vector of reaction extents that yields the equilibrium\n",
    "    distribution we calculated before\n",
    "    '''\n",
    "    # Initialize and populate our current guess for the equilibrium distribution\n",
    "    # given the extents of each reaction\n",
    "    kout = np.zeros(len(xj))\n",
    "    for i in range(len(kout)):\n",
    "        kout[i] = np.prod(y(xj)**stoich[i])\n",
    "    return K - kout\n",
    "\n",
    "# Solve\n",
    "xj_guess = [0.01]*nj\n",
    "xj = fsolve(f, xj_guess, K)\n",
    "yi = y(xj)\n",
    "species = ['A', 'B', 'C', 'D', 'E']\n",
    "for i, _y in enumerate(yi):\n",
    "    print('The mole fraction of species %s is %.2f' %(species[i], _y))"
   ]
  },
  {
   "cell_type": "markdown",
   "metadata": {},
   "source": [
    "#### Plot the equilibrium extent of each reaction (moles) as a function of temperature from 800 K to 1000 K (4 points)"
   ]
  },
  {
   "cell_type": "code",
   "execution_count": 6,
   "metadata": {
    "ExecuteTime": {
     "end_time": "2017-10-16T20:50:56.539532Z",
     "start_time": "2017-10-16T20:50:54.813063Z"
    }
   },
   "outputs": [
    {
     "data": {
      "image/png": "[encoded data removed]",
      "text/plain": [
       "<matplotlib.figure.Figure at 0x7f796799e2b0>"
      ]
     },
     "metadata": {},
     "output_type": "display_data"
    }
   ],
   "source": [
    "# We'll store our vectors of reaction extents in a list, `xj_save`\n",
    "xj_save = []\n",
    "# Let's define our range to calculate over\n",
    "Trange = np.linspace(800, 1100, 100)\n",
    "\n",
    "# Do the same calculations we've been doing\n",
    "for t in Trange:\n",
    "    T = t*u.K\n",
    "    K = np.exp(-dG0/R/T)\n",
    "    xj_guess = [0.01]*nj\n",
    "    xj = fsolve(f, xj_guess, K)\n",
    "    xj_save.append(xj)\n",
    "    \n",
    "import matplotlib.pyplot as plt\n",
    "plt.plot(Trange, xj_save)\n",
    "plt.xlabel('Temperature [K]')\n",
    "plt.ylabel('Equilibrium extent of reaction [moles]')\n",
    "plt.legend(['Reaction 1', 'Reaction 2', 'Reaction 3'])\n",
    "plt.show()"
   ]
  },
  {
   "cell_type": "code",
   "execution_count": null,
   "metadata": {
    "collapsed": true
   },
   "outputs": [],
   "source": []
  }
 ],
 "metadata": {
  "kernelspec": {
   "display_name": "Python 3",
   "language": "python",
   "name": "python3"
  },
  "language_info": {
   "codemirror_mode": {
    "name": "ipython",
    "version": 3
   },
   "file_extension": ".py",
   "mimetype": "text/x-python",
   "name": "python",
   "nbconvert_exporter": "python",
   "pygments_lexer": "ipython3",
   "version": "3.6.2"
  },
  "toc": {
   "colors": {
    "hover_highlight": "#DAA520",
    "navigate_num": "#000000",
    "navigate_text": "#333333",
    "running_highlight": "#FF0000",
    "selected_highlight": "#FFD700",
    "sidebar_border": "#EEEEEE",
    "wrapper_background": "#FFFFFF"
   },
   "moveMenuLeft": true,
   "nav_menu": {
    "height": "29px",
    "width": "252px"
   },
   "navigate_menu": true,
   "number_sections": true,
   "sideBar": true,
   "threshold": 4,
   "toc_cell": false,
   "toc_section_display": "block",
   "toc_window_display": false,
   "widenNotebook": false
  }
 },
 "nbformat": 4,
 "nbformat_minor": 2
}
