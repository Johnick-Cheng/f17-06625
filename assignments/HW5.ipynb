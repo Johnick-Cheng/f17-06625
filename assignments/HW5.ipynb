{
 "cells": [
  {
   "cell_type": "markdown",
   "metadata": {},
   "source": [
    "$$\\require{mhchem}$$       "
   ]
  },
  {
   "cell_type": "markdown",
   "metadata": {},
   "source": [
    "# Improving selectivity with a membrane reactor"
   ]
  },
  {
   "cell_type": "markdown",
   "metadata": {},
   "source": [
    "We're interested in improving the selectivity of a PFR with two competing reactions:\n",
    "\\begin{align*}\n",
    "\\ce{A + B ->[r_1] D}\\\\\n",
    "\\ce{A + B ->[r_2] U}\n",
    "\\end{align*}\n",
    "where $\\ce{D}$ is a desirable product, and  $\\ce{U}$ is the undesirable product.  We define the selectivity in the reactor as:\n",
    "\\begin{align*}\n",
    "S_{D/(D+U)}=\\frac{F_D}{F_D+F_U}\n",
    "\\end{align*}\n",
    "The first reaction proceeds with rate $r_1=k_1 C_A^2C_B$ with $k_1=2$dm$^6$/mol$^2\\cdot$ s, while the second reaction follows a different rate law $r_2=k_2 C_AC_B^2$ with $k_2=3$dm$^6$/mol$^2\\cdot$ s. In either case, the reactor volume is 50L with an inner diameter of 20 cm. You can assume the reactor is isobaric and isothermal. "
   ]
  },
  {
   "cell_type": "markdown",
   "metadata": {},
   "source": [
    "#### Part A:  Solve for and plot the flow rates of A, B, D, and U (mol/s) against the distance traveled along the PFR (m). Assume that:\n",
    "1. the PFR is standard (i.e., not membrane)\n",
    "2. A and B are flowing into the inner vessel each at a flow rate of $4\\; mol/s$\n",
    "3. the combined, total concentration of A and B at the inlet is $0.8\\; mol/dm^3$\n",
    "4. All reactor flows are in solution, which means that changes in species concentrations do not affect volumetric flowrates significantly.\n",
    "#### What's the final molar flowrate of D exiting the reactor? (4 pts)"
   ]
  },
  {
   "cell_type": "code",
   "execution_count": 11,
   "metadata": {},
   "outputs": [],
   "source": [
    "import numpy as np\n",
    "from scipy.integrate import odeint\n",
    "import matplotlib.pyplot as plt\n",
    "from pycse import odelay"
   ]
  },
  {
   "cell_type": "code",
   "execution_count": 9,
   "metadata": {},
   "outputs": [
    {
     "data": {
      "text/plain": [
       "3.141592653589793"
      ]
     },
     "execution_count": 9,
     "metadata": {},
     "output_type": "execute_result"
    }
   ],
   "source": [
    "np.pi"
   ]
  },
  {
   "cell_type": "code",
   "execution_count": 18,
   "metadata": {},
   "outputs": [
    {
     "data": {
      "image/png": "[encoded data removed]",
      "text/plain": [
       "<matplotlib.figure.Figure at 0x7f006e57d198>"
      ]
     },
     "metadata": {},
     "output_type": "display_data"
    },
    {
     "name": "stdout",
     "output_type": "stream",
     "text": [
      "The final molar flowrate of D is 1.07 mol/s.\n"
     ]
    }
   ],
   "source": [
    "k1 = 2 # L2/mol2/s\n",
    "k2 = 3 # L2/mol2/s\n",
    "\n",
    "V = 50 # L\n",
    "d = 20e-2 # m\n",
    "L = V / 1000 / (np.pi / 4 * d ** 2) # m\n",
    "\n",
    "species = ['A', 'B', 'D', 'U']\n",
    "F0 = [4, 4, 0, 0] # mol/s\n",
    "C0 = [0.4, 0.4, 0, 0]# mol/L\n",
    "nu = np.sum(F0) / np.sum(C0) # L/s, constant\n",
    "\n",
    "def dFdV(F, V):\n",
    "    CA, CB, CC, CD = F / nu\n",
    "    \n",
    "    r1 = k1 * CA ** 2 * CB\n",
    "    r2 = k2 * CA * CB ** 2\n",
    "    \n",
    "    yA = - r1 - r2\n",
    "    yB = - r1 - r2\n",
    "    yD = r1\n",
    "    yU = r2\n",
    "    \n",
    "    return [yA, yB, yD, yU]\n",
    "\n",
    "Vspan = np.linspace(0, V)\n",
    "\n",
    "F_PFR = odeint(dFdV, F0, Vspan)\n",
    "\n",
    "plt.plot(Vspan, F_PFR)\n",
    "plt.legend(species)\n",
    "plt.xlabel('V/L')\n",
    "plt.ylabel('molar flowrate/(mol/s)')\n",
    "plt.show()\n",
    "\n",
    "print ('The final molar flowrate of D is {:1.2f} mol/s.'.format(F_PFR[-1, 2]))"
   ]
  },
  {
   "cell_type": "markdown",
   "metadata": {},
   "source": [
    "#### Part B:  Calculate and plot the selectivity $S_{D/(D+U)}$ vs. reactor length (m). The scale of $S_{D/(D+U)}$ on the y-axis should be [0, 1] (2 pts)"
   ]
  },
  {
   "cell_type": "code",
   "execution_count": 20,
   "metadata": {},
   "outputs": [
    {
     "name": "stderr",
     "output_type": "stream",
     "text": [
      "/opt/conda/lib/python3.6/site-packages/ipykernel_launcher.py:2: RuntimeWarning: invalid value encountered in true_divide\n",
      "  \n"
     ]
    },
    {
     "data": {
      "image/png": "[encoded data removed]",
      "text/plain": [
       "<matplotlib.figure.Figure at 0x7f0074faae48>"
      ]
     },
     "metadata": {},
     "output_type": "display_data"
    }
   ],
   "source": [
    "Ft = F_PFR[:, 2] + F_PFR[:, 3] # Ft = F_D + F_U\n",
    "S = F_PFR[:, 2] / Ft # S = F_D / Ft\n",
    "\n",
    "plt.plot(Vspan, S)\n",
    "plt.xlabel('V/L')\n",
    "plt.ylabel('Selectivity')\n",
    "\n",
    "plt.ylim(0, 1)\n",
    "\n",
    "plt.show()\n"
   ]
  },
  {
   "cell_type": "markdown",
   "metadata": {},
   "source": [
    "#### Part C:  Solve for and plot the flow rate profiles of A, B, D, and U (mol/s) against the distance traveled along the PFR (m). This time, assume that:\n",
    "1. The PFR is a membrane PFR, where A is fed into the inner vessel, B is fed into the outer vessel, and only species B may transport across the membrane.\n",
    "2. A is flowing in to the inner vessel at a molar flow rate of $4\\; mol/s$ and a concentration of $0.4\\; mol/dm^3$.\n",
    "3. B is flowing in to the outer vessel at a molar flow rate of $4\\; mol/s$ and a concentration of $0.4\\; mol/dm^3$.\n",
    "4. mass transport across the membrane (from the outer to the inner vessel) can be modeled with $R_B=ak_{cB}(C_{Bin}-C_{Bout})$ with $k_{cB}=0.1\\;$dm/s$.\n",
    "#### (6 pts)"
   ]
  },
  {
   "cell_type": "code",
   "execution_count": 26,
   "metadata": {},
   "outputs": [
    {
     "data": {
      "image/png": "[encoded data removed]",
      "text/plain": [
       "<matplotlib.figure.Figure at 0x7f006e842b38>"
      ]
     },
     "metadata": {},
     "output_type": "display_data"
    }
   ],
   "source": [
    "F0_out = F0_in = 4 # mol/s\n",
    "CA0 = CB0 = 0.4 # mol/L\n",
    "nu_in = nu_out = 4 / 0.4\n",
    "\n",
    "kcB = 0.1 # dm/s\n",
    "\n",
    "def dFdV_m(F, V):\n",
    "    FA, FB_in, FB_out, FD, FU = F\n",
    "    \n",
    "    CA = FA / nu_in\n",
    "    CB_in = FB_in / nu_in\n",
    "    CB_out = FB_out / nu_out\n",
    "    \n",
    "    r1 = k1 * CA ** 2 * CB_in\n",
    "    r2 = k2 * CA * CB_in ** 2\n",
    "    \n",
    "    a = 4 / (d * 10)\n",
    "    RB = a * kcB * (CB_in - CB_out)\n",
    "    \n",
    "    yA = - r1 - r2\n",
    "    yB_in = - r1 - r2 - RB\n",
    "    yB_out = + RB\n",
    "    yD = r1\n",
    "    yU = r2\n",
    "    return [yA, yB_in, yB_out, yD, yU]\n",
    "\n",
    "F0_m = [F0_in, 0, F0_out, 0, 0]\n",
    "\n",
    "F_m = odeint(dFdV_m, F0_m, Vspan)\n",
    "plt.plot(Vspan, F_m)\n",
    "plt.show()"
   ]
  },
  {
   "cell_type": "markdown",
   "metadata": {},
   "source": [
    "#### Part D:  To make a fair comparison comparison between the standard PFR and the membrane PFR, we want to analyze a membrane PFR system that has an outlet molar flowrate of D equal to the one you calculated in Part A (for the standard PFR). For the membrane PFR, what is a molar feedrate of B in the outer vessel (mol/s) that will yield this outlet flowrate of D? (4 pts)"
   ]
  },
  {
   "cell_type": "code",
   "execution_count": 48,
   "metadata": {},
   "outputs": [],
   "source": [
    "def event(F, V):\n",
    "    value = F[3] - 1.07 #F_PFR[-1, 2] # the final molar flowrate of D\n",
    "    # print(F[3])\n",
    "    isterminal = True\n",
    "    direction = 0\n",
    "    return value, isterminal, direction\n",
    "\n",
    "Vspan = np.linspace(0, 100)\n",
    "\n",
    "V, F, Ve, Fe, ie = odelay(dFdV_m, F0_m, Vspan, [event])\n",
    "\n",
    "#F_m = odeint(dFdV_m, F0_m, Vspan)"
   ]
  },
  {
   "cell_type": "code",
   "execution_count": 45,
   "metadata": {},
   "outputs": [
    {
     "data": {
      "text/plain": [
       "array([ 0.        ,  0.00506848,  0.01922226,  0.04091563,  0.06869558,\n",
       "        0.10124657,  0.1374145 ,  0.17621311,  0.21681812,  0.25855353,\n",
       "        0.30087415,  0.34334696,  0.38563307,  0.42747132,  0.46866393,\n",
       "        0.50906415,  0.54856611,  0.5870963 ,  0.62460674,  0.66106943,\n",
       "        0.69647186,  0.73081348,  0.76410287,  0.79635548,  0.82759187,\n",
       "        0.85783628,  0.88711558,  0.91545837,  0.94289431,  0.96945362,\n",
       "        0.99516666,  1.02006362,  1.04417428,  1.06752785,  1.09015285,\n",
       "        1.11207698,  1.13332709,  1.15392913,  1.17390814,  1.19328821,\n",
       "        1.21209252,  1.23034331,  1.24806194,  1.2652689 ,  1.28198379,\n",
       "        1.29822541,  1.31401175,  1.32936003,  1.34428675,  1.35880766])"
      ]
     },
     "execution_count": 45,
     "metadata": {},
     "output_type": "execute_result"
    }
   ],
   "source": [
    "F_m[:, 3]"
   ]
  },
  {
   "cell_type": "code",
   "execution_count": 49,
   "metadata": {},
   "outputs": [
    {
     "data": {
      "text/plain": [
       "array([ 67.56684028])"
      ]
     },
     "execution_count": 49,
     "metadata": {},
     "output_type": "execute_result"
    }
   ],
   "source": [
    "Ve"
   ]
  },
  {
   "cell_type": "markdown",
   "metadata": {},
   "source": [
    "#### Part E:  Now we want to compare the selectivities of the two reactor types. Start by recalculating the flow profiles in the membrane PFR—i.e., Part C—but use the newly identified inlet flowrate of B. Then use this profile to calculate the selectivity (mol/mol) as a function of reactor length (m). Now plot this new selectivity profile alongside the selectivity profile you created in Part B. Which reactor configuration would you recommend, standard PFR or membrane? Why? (2 pts)"
   ]
  },
  {
   "cell_type": "markdown",
   "metadata": {},
   "source": [
    "# Bonus"
   ]
  },
  {
   "cell_type": "markdown",
   "metadata": {},
   "source": [
    "#### For regulatory reasons we need a minimum selectivity of 75%, and for economic reasons we want a conversion of at least 25%. We are allowed to change the feedrate of B and the length of the membrane PFR. To the nearest decimeter, what's the smallest reactor length we can use to achieve both criteria? (4 pts)"
   ]
  },
  {
   "cell_type": "code",
   "execution_count": 8,
   "metadata": {},
   "outputs": [
    {
     "data": {
      "image/png": "[encoded data removed]",
      "text/plain": [
       "<matplotlib.figure.Figure at 0x7f21023f8860>"
      ]
     },
     "metadata": {},
     "output_type": "display_data"
    }
   ],
   "source": [
    "import numpy as np\n",
    "import matplotlib.pyplot as plt\n",
    "xspan = np.linspace(0, 10)\n",
    "\n",
    "def f(x):\n",
    "    return x ** 2 - np.exp(-x)\n",
    "\n",
    "y=f(xspan)\n",
    "plt.plot(xspan,y,xspan,xspan,xspan,xspan+y)\n",
    "plt.show()"
   ]
  }
 ],
 "metadata": {
  "kernelspec": {
   "display_name": "Python 3",
   "language": "python",
   "name": "python3"
  },
  "language_info": {
   "codemirror_mode": {
    "name": "ipython",
    "version": 3
   },
   "file_extension": ".py",
   "mimetype": "text/x-python",
   "name": "python",
   "nbconvert_exporter": "python",
   "pygments_lexer": "ipython3",
   "version": "3.6.2"
  },
  "toc": {
   "colors": {
    "hover_highlight": "#DAA520",
    "navigate_num": "#000000",
    "navigate_text": "#333333",
    "running_highlight": "#FF0000",
    "selected_highlight": "#FFD700",
    "sidebar_border": "#EEEEEE",
    "wrapper_background": "#FFFFFF"
   },
   "moveMenuLeft": true,
   "nav_menu": {
    "height": "173px",
    "width": "252px"
   },
   "navigate_menu": true,
   "number_sections": true,
   "sideBar": true,
   "threshold": 4,
   "toc_cell": false,
   "toc_section_display": "block",
   "toc_window_display": false,
   "widenNotebook": false
  }
 },
 "nbformat": 4,
 "nbformat_minor": 2
}
