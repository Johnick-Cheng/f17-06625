{
 "cells": [
  {
   "cell_type": "markdown",
   "metadata": {},
   "source": [
    "$$\\require{mhchem}$$       "
   ]
  },
  {
   "cell_type": "markdown",
   "metadata": {},
   "source": [
    "# Improving selectivity with a membrane reactor"
   ]
  },
  {
   "cell_type": "markdown",
   "metadata": {},
   "source": [
    "We're interested in improving the selectivity of a PFR with two competing reactions:\n",
    "\\begin{align*}\n",
    "\\ce{A + B ->[r_1] D}\\\\\n",
    "\\ce{A + B ->[r_2] U}\n",
    "\\end{align*}\n",
    "where $\\ce{D}$ is a desirable product, and  $\\ce{U}$ is the undesirable product.  We define the selectivity in the reactor as:\n",
    "\\begin{align*}\n",
    "S_{D/(D+U)}=\\frac{F_D}{F_D+F_U}\n",
    "\\end{align*}\n",
    "The first reaction proceeds with rate $r_1=k_1 C_A^2C_B$ with $k_1=2$dm$^6$/mol$^2\\cdot$ s, while the second reaction follows a different rate law $r_2=k_2 C_AC_B^2$ with $k_2=3$dm$^6$/mol$^2\\cdot$ s. In either case, the reactor volume is 50L with an inner diameter of 20 cm. You can assume the reactor is isobaric and isothermal. "
   ]
  },
  {
   "cell_type": "markdown",
   "metadata": {},
   "source": [
    "#### Part A:  Solve for and plot the flow rates of A, B, D, and U (mol/s) against the distance traveled along the PFR (m). Assume that:\n",
    "1. the PFR is standard (i.e., not membrane)\n",
    "2. A and B are flowing into the inner vessel each at a flow rate of $4\\; mol/s$\n",
    "3. the combined, total concentration of A and B at the inlet is $0.8\\; mol/dm^3$\n",
    "4. All reactor flows are in solution, which means that changes in species concentrations do not affect volumetric flowrates significantly.\n",
    "#### What's the final molar flowrate of D exiting the reactor? (4 pts)"
   ]
  },
  {
   "cell_type": "markdown",
   "metadata": {},
   "source": [
    "#### Part B:  Calculate and plot the selectivity $S_{D/(D+U)}$ vs. reactor length (m). The scale of $S_{D/(D+U)}$ on the y-axis should be [0, 1] (2 pts)"
   ]
  },
  {
   "cell_type": "markdown",
   "metadata": {},
   "source": [
    "#### Part C:  Solve for and plot the flow rate profiles of A, B, D, and U (mol/s) against the distance traveled along the PFR (m). This time, assume that:\n",
    "1. The PFR is a membrane PFR, where A is fed into the inner vessel, B is fed into the outer vessel, and only species B may transport across the membrane.\n",
    "2. A is flowing in to the inner vessel at a molar flow rate of $4\\; mol/s$ and a concentration of $0.4\\; mol/dm^3$.\n",
    "3. B is flowing in to the outer vessel at a molar flow rate of $4\\; mol/s$ and a concentration of $0.4\\; mol/dm^3$.\n",
    "4. mass transport across the membrane (from the outer to the inner vessel) can be modeled with $R_B=ak_{cB}(C_{Bin}-C_{Bout})$ with $k_{cB}=0.1\\;$dm/s$.\n",
    "#### (6 pts)"
   ]
  },
  {
   "cell_type": "markdown",
   "metadata": {},
   "source": [
    "#### Part D:  To make a fair comparison comparison between the standard PFR and the membrane PFR, we want to analyze a membrane PFR system that has an outlet molar flowrate of D equal to the one you calculated in Part A (for the standard PFR). For the membrane PFR, what is a molar feedrate of B in the outer vessel (mol/s) that will yield this outlet flowrate of D? (4 pts)"
   ]
  },
  {
   "cell_type": "markdown",
   "metadata": {},
   "source": [
    "#### Part E:  Now we want to compare the selectivities of the two reactor types. Start by recalculating the flow profiles in the membrane PFR—i.e., Part C—but use the newly identified inlet flowrate of B. Then use this profile to calculate the selectivity (mol/mol) as a function of reactor length (m). Now plot this new selectivity profile alongside the selectivity profile you created in Part B. Which reactor configuration would you recommend, standard PFR or membrane? Why? (2 pts)"
   ]
  },
  {
   "cell_type": "markdown",
   "metadata": {},
   "source": [
    "# Bonus"
   ]
  },
  {
   "cell_type": "markdown",
   "metadata": {},
   "source": [
    "#### For regulatory reasons we need a minimum selectivity of 75%, and for economic reasons we want a conversion of at least 25%. We are allowed to change the feedrate of B and the length of the membrane PFR. To the nearest decimeter, what's the smallest reactor length we can use to achieve both criteria? (4 pts)"
   ]
  },
  {
   "cell_type": "code",
   "execution_count": 8,
   "metadata": {},
   "outputs": [
    {
     "data": {
      "image/png": "[encoded data removed]",
      "text/plain": [
       "<matplotlib.figure.Figure at 0x7f21023f8860>"
      ]
     },
     "metadata": {},
     "output_type": "display_data"
    }
   ],
   "source": [
    "import numpy as np\n",
    "import matplotlib.pyplot as plt\n",
    "xspan = np.linspace(0, 10)\n",
    "\n",
    "def f(x):\n",
    "    return x ** 2 - np.exp(-x)\n",
    "\n",
    "y=f(xspan)\n",
    "plt.plot(xspan,y,xspan,xspan,xspan,xspan+y)\n",
    "plt.show()"
   ]
  }
 ],
 "metadata": {
  "kernelspec": {
   "display_name": "Python 3",
   "language": "python",
   "name": "python3"
  },
  "language_info": {
   "codemirror_mode": {
    "name": "ipython",
    "version": 3
   },
   "file_extension": ".py",
   "mimetype": "text/x-python",
   "name": "python",
   "nbconvert_exporter": "python",
   "pygments_lexer": "ipython3",
   "version": "3.6.2"
  },
  "toc": {
   "colors": {
    "hover_highlight": "#DAA520",
    "navigate_num": "#000000",
    "navigate_text": "#333333",
    "running_highlight": "#FF0000",
    "selected_highlight": "#FFD700",
    "sidebar_border": "#EEEEEE",
    "wrapper_background": "#FFFFFF"
   },
   "moveMenuLeft": true,
   "nav_menu": {
    "height": "173px",
    "width": "252px"
   },
   "navigate_menu": true,
   "number_sections": true,
   "sideBar": true,
   "threshold": 4,
   "toc_cell": false,
   "toc_section_display": "block",
   "toc_window_display": false,
   "widenNotebook": false
  }
 },
 "nbformat": 4,
 "nbformat_minor": 2
}
