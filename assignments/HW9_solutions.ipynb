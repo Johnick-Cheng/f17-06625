{
 "cells": [
  {
   "cell_type": "markdown",
   "metadata": {},
   "source": [
    "$$\\require{mhchem}$$       "
   ]
  },
  {
   "cell_type": "markdown",
   "metadata": {},
   "source": [
    "# Non-isothermal batch reactor design"
   ]
  },
  {
   "cell_type": "markdown",
   "metadata": {},
   "source": [
    "The exothermic elementary liquid phase reaction\n",
    "\\begin{align}\n",
    "\\ce{A + B <->[k,K] C + D}\\\\\n",
    "\\end{align}\n",
    "is carried out in a batch reactor with a cooling coil to keep the reactor isothermal at 40 C. The reactor is initially charged with equal concentrations of A and B and no C or D, $C_{A0}=C_{B0}=2$mol/L.  \n",
    "\n",
    "$k=0.1$ L/mol/min at 40 C, $K=2$ at 40 C\n",
    "\n",
    "$\\Delta H_R=-20$ kcal/mol A at 40 C\n",
    "\n",
    "Partial molar heat capacities $C_{pA}=C_{pB}=C_{pC}=C_{pD}=20$cal/mol/K\n",
    "\n",
    "Activation energy for the reaction $E_a=1000 cal/mol/K$. \n",
    "\n",
    "Reactor volume 1200 L"
   ]
  },
  {
   "cell_type": "markdown",
   "metadata": {},
   "source": [
    "#### How long does it take to reach 50% conversion? Also show a plot of concentration of all species vs time."
   ]
  },
  {
   "cell_type": "code",
   "execution_count": 7,
   "metadata": {},
   "outputs": [
    {
     "data": {
      "image/png": "[encoded data removed]",
      "text/plain": [
       "<matplotlib.figure.Figure at 0x7ff36ff1b470>"
      ]
     },
     "metadata": {},
     "output_type": "display_data"
    }
   ],
   "source": [
    "import numpy as np\n",
    "V=1200 #L\n",
    "Ea=1 #kcal/mol/K\n",
    "dHr=-20 #kcal/mol\n",
    "Cp=20 #cal/mol/K\n",
    "k=10 #L/mol/min\n",
    "K=2\n",
    "Ca0=2 #mol/L\n",
    "Cb0=2#mol/L\n",
    "Cc0=0#mol/L\n",
    "Cd0=0#mol/L\n",
    "T=40\n",
    "def dNdt(N,t):\n",
    "    C=N/V\n",
    "    Ca,Cb,Cc,Cd=C\n",
    "    rate=k*Ca*Cb-k/K*Cc*Cd\n",
    "    dNdt=[-rate,-rate,rate,rate]\n",
    "    return dNdt\n",
    "\n",
    "from scipy.integrate import odeint\n",
    "trange=np.linspace(0,1000,100)\n",
    "sol=odeint(dNdt,np.array([Ca0,Cb0,Cc0,Cd0])*V,trange)\n",
    "\n",
    "import matplotlib.pyplot as plt\n",
    "plt.plot(trange,sol)\n",
    "plt.show()"
   ]
  },
  {
   "cell_type": "markdown",
   "metadata": {},
   "source": [
    "#### What is the total amount of heat (kcal) that must be removed by the cooling coil when the conversion is reached?"
   ]
  },
  {
   "cell_type": "markdown",
   "metadata": {},
   "source": [
    "#### What is the maximum rate at which heat must be removed by the cooling coil, and at what time does this occur?"
   ]
  },
  {
   "cell_type": "markdown",
   "metadata": {},
   "source": [
    "#### Now consider a non-isothermal version of this reactor.  There is a cooling bath around the reactor with a total heat transfer coefficient $Ua=300$ kcal/L/min. The reactor starts at 40 C  What is the maximum temperature $T_0$ that you can keep the cooling bath such that the temperature in the batch reactor rises no higher than 60C?\n",
    "\n"
   ]
  },
  {
   "cell_type": "markdown",
   "metadata": {},
   "source": [
    "# PBR with internal mass transfer and heat drops"
   ]
  },
  {
   "cell_type": "markdown",
   "metadata": {},
   "source": [
    "You have a isomerization catalytic reactor with the following kinetics:\n",
    "\\begin{align*}\n",
    "\\ce{A + S <->[K_A] AS}\\\\\n",
    "\\ce{AS ->[k] BS}\\\\\n",
    "\\ce{BS -> B + S}\n",
    "\\end{align*}\n",
    "The surface step is limiting and you derive the following rate law:\n",
    "\\begin{align*}\n",
    "r= k \\overline{c}_m \\frac{K_A c_A}{1 + K_A c_A}\n",
    "\\end{align*}\n",
    "The reactor is a 500 L CSTR with 5 kg of catalyst particles.  The catalyst particles are 20 mm diameter, the rate constant for the surface step is 100/s/g$_{cat}$, the activation energy for the surface step is $20$ kcal/mol, the heat of reaction for the first adsorption step is $\\Delta H_R=-5$kcal/mol (assume temperature independent), the heat of reaction for the full reaction \\ce{A->B} is -10 kcal/mol, and the equilibrium coefficient at 200 C is 2. The specific heat of A and B are both 10 cal/molK. The diffusion coefficient at 200 C for A in the particle is 0.1 cm$^2/s$ at 200 C and scales with temperature as $D=D_0(T/T0)^{3/2}$. The pressure drop in the reactor is negligible. The reactor is fed with $4 mol/L$ A at 1 L/s at 200 C. The catalyst site density is $C_m=10^{-2}$ mol/gcat. The reactor is adiabatic (no heat transfer). \n",
    "\n",
    "You may assume that the solution for a sphere applies $ \\eta = \\frac{1}{\\Phi}  \\left [\\frac{1}{\\tanh 3 \\Phi} - \\frac{1}{3 \\Phi} \\right]$, using the correct $\\Phi$ for this problem / rate law."
   ]
  },
  {
   "cell_type": "markdown",
   "metadata": {},
   "source": [
    "#### Calculate the exit concentration of the CSTR for an inlet feed at 200 C"
   ]
  },
  {
   "cell_type": "code",
   "execution_count": 56,
   "metadata": {},
   "outputs": [
    {
     "name": "stdout",
     "output_type": "stream",
     "text": [
      "(6.4155347700989296e-12, 3.2078339984309423e-11)\n",
      "T=338.919746 K, Ca=2.926158 mol/L\n"
     ]
    }
   ],
   "source": [
    "import numpy as np\n",
    "\n",
    "E=20 #kcal/mol\n",
    "R=0.001987 #kcal/mol/K\n",
    "dH_ads=-5 #kcal/mol\n",
    "dH_tot=5 #kcal/mol\n",
    "T0=200+273.15\n",
    "Tfeed=200+273.15\n",
    "k0=100 #g_{cat}/L/s\n",
    "Ka0=2\n",
    "D0=0.1 #cm^2/s\n",
    "Cm=1.e-2 #mol/g_cat\n",
    "diameter=2 #cm \n",
    "a=diameter/6 #cm, a=R/3\n",
    "Ca0=4 #mol/L\n",
    "v0=1 #L/s\n",
    "W=5000 #g_cat\n",
    "Cpa=10./1000 #kcal/mol/K\n",
    "def tempDepParams(T):\n",
    "    k=k0*np.exp(-E/R*(1/T-1/T0))#1/s/g cat\n",
    "    Ka=Ka0*np.exp(-dH_ads/R*(1/T-1/T0))\n",
    "    D=D0*(T/T0)**(3/2)\n",
    "    return k,Ka,D\n",
    "\n",
    "def thiele_mod(T,Cas):\n",
    "    k,Ka,D=tempDepParams(T)\n",
    "    phi=Ka*Cas\n",
    "    Phi_tilde=np.sqrt(k*Cm*Ka*a**2/D)\n",
    "    Phi=(phi/(1+phi))*1/np.sqrt(2*(phi-np.log(1+phi)))*Phi_tilde\n",
    "    return Phi\n",
    "\n",
    "def effectiveness_factor(T,Cas):\n",
    "    thiele=thiele_mod(T,Cas)\n",
    "    return 1/thiele*(1/np.tanh(3*thiele)-1/3/thiele)\n",
    "\n",
    "def objfun(x):\n",
    "    T,Ca=x\n",
    "    eta=effectiveness_factor(T,Ca)\n",
    "    k,Ka,D=tempDepParams(T)\n",
    "    rate=eta*k*Cm*Ka*Ca/(1+Ka*Ca)\n",
    "    mol_balance=v0*(Ca0-Ca)-rate*W\n",
    "    energy_balance=v0*Ca0*Cpa*(Tfeed-T)-dH_tot*rate*W\n",
    "    return mol_balance,energy_balance\n",
    "\n",
    "from scipy.optimize import fsolve\n",
    "sol=fsolve(objfun,[273.15,4])\n",
    "print(objfun(sol))\n",
    "print('T=%f K, Ca=%f mol/L' %(sol[0],sol[1]))"
   ]
  },
  {
   "cell_type": "markdown",
   "metadata": {},
   "source": [
    "#### Calculate the exit concentration as a function of temperature of the inlet feed"
   ]
  },
  {
   "cell_type": "code",
   "execution_count": 3,
   "metadata": {},
   "outputs": [
    {
     "data": {
      "image/png": "[encoded data removed]",
      "text/plain": [
       "<matplotlib.figure.Figure at 0x7ff37026fb00>"
      ]
     },
     "metadata": {},
     "output_type": "display_data"
    },
    {
     "data": {
      "image/png": "[encoded data removed]",
      "text/plain": [
       "<matplotlib.figure.Figure at 0x7ff3701fd748>"
      ]
     },
     "metadata": {},
     "output_type": "display_data"
    }
   ],
   "source": [
    "from scipy.optimize import fsolve\n",
    "Tfeedrange=np.linspace(250,600,100)\n",
    "\n",
    "save=[]\n",
    "for Tfeed in Tfeedrange:\n",
    "    sol=fsolve(objfun,[200+273.15,2])\n",
    "    save.append(sol)\n",
    "    \n",
    "T,C=zip(*save)\n",
    "import matplotlib.pyplot as plt\n",
    "plt.plot(Tfeedrange,T)\n",
    "plt.ylabel('Reactor temperature [K]')\n",
    "plt.xlabel(\"Feed temperature [K]\")\n",
    "plt.show()\n",
    "\n",
    "plt.plot(Tfeedrange,C)\n",
    "plt.ylabel('Exit Concentration [mol/L]')\n",
    "plt.xlabel(\"Feed temperature [K]\")\n",
    "plt.show()"
   ]
  },
  {
   "cell_type": "code",
   "execution_count": null,
   "metadata": {},
   "outputs": [],
   "source": []
  }
 ],
 "metadata": {
  "kernelspec": {
   "display_name": "Python 3",
   "language": "python",
   "name": "python3"
  },
  "language_info": {
   "codemirror_mode": {
    "name": "ipython",
    "version": 3
   },
   "file_extension": ".py",
   "mimetype": "text/x-python",
   "name": "python",
   "nbconvert_exporter": "python",
   "pygments_lexer": "ipython3",
   "version": "3.6.2"
  },
  "toc": {
   "colors": {
    "hover_highlight": "#DAA520",
    "navigate_num": "#000000",
    "navigate_text": "#333333",
    "running_highlight": "#FF0000",
    "selected_highlight": "#FFD700",
    "sidebar_border": "#EEEEEE",
    "wrapper_background": "#FFFFFF"
   },
   "moveMenuLeft": true,
   "nav_menu": {
    "height": "155px",
    "width": "252px"
   },
   "navigate_menu": true,
   "number_sections": true,
   "sideBar": true,
   "threshold": 4,
   "toc_cell": false,
   "toc_section_display": "block",
   "toc_window_display": false,
   "widenNotebook": false
  }
 },
 "nbformat": 4,
 "nbformat_minor": 2
}
