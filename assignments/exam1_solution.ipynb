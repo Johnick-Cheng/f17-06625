{
 "cells": [
  {
   "cell_type": "markdown",
   "metadata": {},
   "source": [
    "$$\\require{mhchem}$$       "
   ]
  },
  {
   "cell_type": "markdown",
   "metadata": {},
   "source": [
    "# Exam 1 Problem 1"
   ]
  },
  {
   "cell_type": "markdown",
   "metadata": {},
   "source": [
    " We have a liquid feed of A and B, with concentration of A 2M and concentration of B 3M, with a total flow rate of 0.1 m$^3$/s.  We are looking to optimize the conversion of the reaction: \n",
    "\\begin{align*}\n",
    "\\ce{A + 2B -> C}\n",
    "\\end{align*}\n",
    "You can assume in all cases the reaction is isothermal and the volume does not change with changes in the molar flow rates of the reactants.  The reaction is elementary and the rate constant is $k_1=0.1 dm^6/mol^2/s$\n",
    "\n"
   ]
  },
  {
   "cell_type": "markdown",
   "metadata": {},
   "source": [
    "## First, find the maximum extent of reaction $\\xi^{max}$ and write the rate equation $r$."
   ]
  },
  {
   "cell_type": "markdown",
   "metadata": {},
   "source": [
    "Since we have a constant volume reactor and a constant volumetric flow, we use an intensive reaction extent:\n",
    "\n",
    "\\begin{equation}\n",
    "C_j = C_{j, 0} + \\alpha_j \\xi\n",
    "\\end{equation}\n",
    "\n",
    "To find maximum reaction extent, we set $C_j=0$ to zero, yielding:\n",
    "\n",
    "\\begin{equation}\n",
    "\\xi_{max} = \\underset{\\in\\, positive,\\, non-zero}{min}\\{-C_{j, 0} / \\alpha_j\\}\n",
    "\\end{equation}"
   ]
  },
  {
   "cell_type": "code",
   "execution_count": 1,
   "metadata": {},
   "outputs": [
    {
     "name": "stdout",
     "output_type": "stream",
     "text": [
      "The maximum extent of reaction is 1.50 mol/L\n"
     ]
    }
   ],
   "source": [
    "import numpy as np\n",
    "\n",
    "Ca0 = 2.         # mol/L\n",
    "Cb0 = 3.         # mol/L\n",
    "C0 = np.array([Ca0, Cb0])\n",
    "alpha = np.array([-1, -2]) # stoichiometric coefficients\n",
    "\n",
    "xis = -C0/alpha\n",
    "xi_max = min([xi for xi in xis if xi > 0])\n",
    "\n",
    "print('The maximum extent of reaction is %.2f mol/L' % xi_max)"
   ]
  },
  {
   "cell_type": "markdown",
   "metadata": {},
   "source": [
    "$$r=kC_{a}C_{b}^{2}$$"
   ]
  },
  {
   "cell_type": "markdown",
   "metadata": {},
   "source": [
    "## Now, find the extent of reaction for a 100 L CSTR with the feed and flow rate from above."
   ]
  },
  {
   "cell_type": "code",
   "execution_count": 2,
   "metadata": {
    "scrolled": true
   },
   "outputs": [
    {
     "name": "stdout",
     "output_type": "stream",
     "text": [
      "The extent of reaction at steady-state is 0.54 mol/L\n"
     ]
    }
   ],
   "source": [
    "from scipy.optimize import fsolve\n",
    "\n",
    "nu = 0.1*1000  # L/s\n",
    "k1 = 0.1       # L^2/mol^2/s\n",
    "V = 100.       # L\n",
    "\n",
    "def dXdt(C):\n",
    "    ''' Create a function to calculate the change in moles of species over time '''\n",
    "    Ca, Cb = C                           # mol/L\n",
    "    r = k1*Ca*Cb**2.                     # mol/L/s\n",
    "    dAdt = (Ca0-Ca)*nu + alpha[0]*r*V    # mol/s\n",
    "    dBdt = (Cb0-Cb)*nu + alpha[1]*r*V    # mol/s\n",
    "    return [dAdt, dBdt]\n",
    "\n",
    "# At steady-state, changes in concentration will all be zero. `fsolve` will find this steady-state for us\n",
    "C = fsolve(dXdt, [Ca0, Cb0])\n",
    "\n",
    "# We modify the first equation we described in Part 1 to calculate the extent of reaction\n",
    "xi = (C[0] - Ca0)/alpha[0]\n",
    "print('The extent of reaction at steady-state is %.2f mol/L' % xi)"
   ]
  },
  {
   "cell_type": "markdown",
   "metadata": {},
   "source": [
    "## Find the final extent of reaction for a 100 L PFR"
   ]
  },
  {
   "cell_type": "code",
   "execution_count": 3,
   "metadata": {},
   "outputs": [
    {
     "name": "stdout",
     "output_type": "stream",
     "text": [
      "The extent of reaction at the outlet is 0.72 mol/L\n"
     ]
    }
   ],
   "source": [
    "from scipy.integrate import odeint\n",
    "\n",
    "def dCdV(C, V):\n",
    "    ''' Create a function to calculate the change in species concentrations over the change in reactor volume '''\n",
    "    Ca, Cb = C         # mol/L\n",
    "    r = k1*Ca*Cb**2.   # mol/L/s\n",
    "    dCadV = alpha[0]*r/nu\n",
    "    dCbdV = alpha[1]*r/nu\n",
    "    return [dCadV, dCbdV]\n",
    "\n",
    "# Use `odeint` to integrate the concentration profile over volume\n",
    "V = 100.   # L\n",
    "Vspan = [0, V]\n",
    "C = odeint(dCdV, C0, Vspan)\n",
    "\n",
    "# Use the same equation as before to calculate the extent of reaction\n",
    "xi = (C[-1, 0] - Ca0)/alpha[0]\n",
    "print('The extent of reaction at the outlet is %.2f mol/L' % xi)"
   ]
  },
  {
   "cell_type": "markdown",
   "metadata": {},
   "source": [
    "## Our operators tell us that they really like working with CSTR's and suggest that you use several CSTR's in series.  The total volume of CSTR's should equal 100 L.  For example, if you have 4 CSTR's, then  each will have a volume of 25 L.  The outflow of each CSTR is the same as the inflow to the next CSTR.  The extent of reaction for each reactor can be solved based on the extent of reaction from the previous reactor (sequentially).  Calculate the extent of reaction for the four reactor situation."
   ]
  },
  {
   "cell_type": "code",
   "execution_count": 4,
   "metadata": {},
   "outputs": [
    {
     "name": "stdout",
     "output_type": "stream",
     "text": [
      "The extent of reaction after 4 CSTRs in series is 0.66 mol/L\n"
     ]
    }
   ],
   "source": [
    "import matplotlib.pyplot as plt\n",
    "\n",
    "def extent(N):\n",
    "    ''' Create a function that calculates the extent of reaction given the number of CSTRs to use '''\n",
    "    # Calculate the per-reactor volume, `v`\n",
    "    v = V/N   # L\n",
    "    \n",
    "    def dXdt(xi_out, xi_in):\n",
    "        '''\n",
    "        We will be using `fsolve` to calculate the extent of reaction at the outlet of each CSTR, and\n",
    "        so we used `xi` as a function argument.\n",
    "        \n",
    "        On of our constraint is that the systems are at steady-state,\n",
    "        and so we use fsolve to ensure that the changes in species counts per time are zero.\n",
    "        Another constraint is that we already know the extent of reaction at the inlet, since that\n",
    "        is governed by the previous reactor.\n",
    "        '''\n",
    "        # `fsolve` assumes that everything is a vector. We unpack the extent of reaction here\n",
    "        # so that we can treat it as a float\n",
    "        xi_out, = xi_out\n",
    "        \n",
    "        # Calculate the inlet concentrations and the outlet concentrations [mol/L]\n",
    "        Ca_in = Ca0 + alpha[0]*xi_in\n",
    "        Cb_in = Cb0 + alpha[1]*xi_in\n",
    "        Ca = Ca0 + alpha[0]*xi_out\n",
    "        Cb = Cb0 + alpha[1]*xi_out\n",
    "        # Use these concentrations to calculate the reaction rate [mol/L/s]\n",
    "        r = k1*Ca*Cb**2.\n",
    "        # Use both the reaction rate and flow streams to calculate the differentials [mol/s]\n",
    "        dAdt = (Ca_in-Ca)*nu + alpha[0]*r*v\n",
    "        dBdt = (Cb_in-Cb)*nu + alpha[1]*r*v\n",
    "        \n",
    "        return [dAdt, dBdt]\n",
    "    \n",
    "    # Solve the first reactor manually to initialize the iterations. Note that the second\n",
    "    # argument to `fsolve` is our initial guess, while the third argument is our setting\n",
    "    # for the extent of reaction at the inlet\n",
    "    xi, = fsolve(dXdt, 0.3, 0)\n",
    "    \n",
    "    # Our output, `xi_out`, will be a list of the extents of reactions at the outlet of each\n",
    "    # of the reactors. We initialize that list here.\n",
    "    xi_out = [xi]\n",
    "    \n",
    "    # Iterate through the remaining reactors and store the results in our output, `xi_out`\n",
    "    for i in range(N-1):\n",
    "        xi, = fsolve(dXdt, xi_out[-1], xi_out[-1])\n",
    "        xi_out += [xi]\n",
    "\n",
    "    return xi_out\n",
    "\n",
    "print('The extent of reaction after 4 CSTRs in series is %.2f mol/L' % extent(4)[-1])"
   ]
  },
  {
   "cell_type": "markdown",
   "metadata": {},
   "source": [
    "## Plot the final extent of reaction for this approach from 1 to 10 reactors, and compare to the conversions from the CSTR and PFR examples above."
   ]
  },
  {
   "cell_type": "code",
   "execution_count": 5,
   "metadata": {
    "scrolled": true
   },
   "outputs": [
    {
     "data": {
      "image/png": "[encoded data removed]",
      "text/plain": [
       "<matplotlib.figure.Figure at 0x7f624cc0bcf8>"
      ]
     },
     "metadata": {},
     "output_type": "display_data"
    }
   ],
   "source": [
    "Nrange = range(1, 11)\n",
    "extent_out = [extent(N)[-1] for N in Nrange]\n",
    "\n",
    "plt.plot(Nrange, extent_out)\n",
    "plt.xlabel('# CSTR Reactors in Series')\n",
    "plt.ylabel('Extent of Reaction [mol/L]')\n",
    "plt.show()"
   ]
  },
  {
   "cell_type": "markdown",
   "metadata": {},
   "source": [
    "The key observation here is that increasing the number of CSTRs asymptotically leads to identical behavior as a PFR."
   ]
  },
  {
   "cell_type": "markdown",
   "metadata": {},
   "source": [
    "## We are considering adding a membrane to the PFR.  We have a few options.  For each, answer qualitatively if you think the conversion would increase, decrease, or stay the same, and why:\n",
    "- A membrane that allows A to be added slowly through the side of the PFR (w/ pure B inlet)\n",
    "- A membrane that allows B to be added slowly through the side of the PFR (w/ pure A inlet)\n",
    "- A membrane that allow C to be removed continuosuly through the side of the PDF"
   ]
  },
  {
   "cell_type": "markdown",
   "metadata": {},
   "source": [
    "- This would decrease the conversion, because it would effectively reduce the reaction rates by reducing the inlet concentration of A.\n",
    "- This would decrease the conversion, because it would effectively reduce the reaction rates by reducing the inlet concentration of B.\n",
    "- This would not affect the reaction rate, because the addition or subtraction of the product does not affect the reaction rate of a non-reversible reaction... but since all real-world reactions are reversible (to some extent), we will also accept answers that claim that conversion will increase due to Le Chatelier's Principle."
   ]
  },
  {
   "cell_type": "code",
   "execution_count": 6,
   "metadata": {},
   "outputs": [
    {
     "name": "stdout",
     "output_type": "stream",
     "text": [
      "normal pfr: 0.461365\n",
      "side feed A: 0.457306\n",
      "side feed B: 0.431663\n"
     ]
    }
   ],
   "source": [
    "# And just in case any of you were skeptical regarding the first two answers,\n",
    "# we hacked together some code to verify\n",
    "\n",
    "import numpy as np\n",
    "from scipy.integrate import odeint\n",
    "from scipy.optimize import fsolve\n",
    "Fa0=1\n",
    "Fb0=1\n",
    "kap=0\n",
    "kbp=0\n",
    "q=1\n",
    "q2=1\n",
    "k1=1\n",
    "def odef(F,V):\n",
    "    Fa,Fb,Fc,Faout,Fbout=F\n",
    "    Ca=Fa/q\n",
    "    Cb=Fb/q\n",
    "    Caout=Faout/q2\n",
    "    Cbout=Fbout/q2\n",
    "    ra=k1*Ca*Cb**2.\n",
    "    Ra=kap*(Caout-Ca)\n",
    "    Rb=kbp*(Cbout-Cb)\n",
    "    return [-ra+Ra,-2*ra+Rb,ra,-Ra,-Rb]\n",
    "    \n",
    "Vspan=np.linspace(0,10,100)\n",
    "sol=odeint(odef,[Fa0,Fb0,0,0,0],Vspan)\n",
    "conversion=sol[-1,2]\n",
    "print('normal pfr: %f'%conversion)\n",
    "kap=1\n",
    "kbp=0\n",
    "def eqna(Fa):\n",
    "    sol=odeint(odef,[0,Fb0,0,Fa,0],Vspan)\n",
    "    return Fa0-(sol[-1,0]+sol[-1,2])\n",
    "sola=fsolve(eqna,Fa0)\n",
    "sol=odeint(odef,[0,Fb0,0,sola,0],Vspan)\n",
    "conversion=sol[-1,2]\n",
    "print('side feed A: %f'%conversion)\n",
    "def eqnb(Fb):\n",
    "    sol=odeint(odef,[Fa0,0,0,0,Fb],Vspan)\n",
    "    return Fb0-(sol[-1,1]+2*sol[-1,2])\n",
    "kap=0\n",
    "kbp=1\n",
    "solb=fsolve(eqnb,Fb0)\n",
    "sol=odeint(odef,[Fa0,0,0,0,solb],Vspan)\n",
    "conversion=sol[-1,2]\n",
    "print('side feed B: %f'%conversion)"
   ]
  },
  {
   "cell_type": "markdown",
   "metadata": {},
   "source": [
    "# Exam 1 Problem 2"
   ]
  },
  {
   "cell_type": "markdown",
   "metadata": {},
   "source": [
    "We are looking to design a liquid phase membrane PFR (V=10L) with three channels for the rection system:\n",
    "\\begin{align}\n",
    "\\ce{A + B -> 4C}, k_1=0.1/M/s\\\\\n",
    "\\ce{A + C -> 3D}, k_2=0.5/M/s\n",
    "\\end{align}\n",
    "The inner channel contains a feed of pure A with a concentration of 1M and flow rate of 2 L/s. A is very large and cannot pass any membrane. B,C,D can pass the first membrane ($k_{b,1}'=0.2/s,k_{c,1}'=0.4/s,k_{d,1}'=0.5/s$).  C,D are very small and can also pass the outer membrane ($k_{c,2}'=0.5/s,k_{d,2}'=0.7/s$). You may assume the volumetric flow rates are constant.  \n",
    "![img](./E1P2.png)"
   ]
  },
  {
   "cell_type": "markdown",
   "metadata": {},
   "source": [
    "## How many unique species concentrations are there?"
   ]
  },
  {
   "cell_type": "markdown",
   "metadata": {},
   "source": [
    "There are 9 unique species concentrations"
   ]
  },
  {
   "cell_type": "markdown",
   "metadata": {},
   "source": [
    "## Write the mol balance for each of the species.  "
   ]
  },
  {
   "cell_type": "markdown",
   "metadata": {},
   "source": [
    "$$\\frac{dF_{Ainner}}{dV} = -r_1 - r_2$$\n",
    "\n",
    "$$\\frac{dF_{Binner}}{dV} = -r_1 + R_B$$\n",
    "\n",
    "$$\\frac{dF_{Cinner}}{dV} = 4*r_1 - r_2 + R_{Cinner}$$\n",
    "\n",
    "$$\\frac{dF_{Dinner}}{dV} = 3*r_2 - R_{Dinner}$$\n",
    "\n",
    "$$-\\frac{dF_{Bmiddle}}{dV} = - R_B$$\n",
    "\n",
    "$$-\\frac{dF_{Cmiddle}}{dV} = -R_{Cinner} - R_{Couter}$$\n",
    "\n",
    "$$-\\frac{dF_{Dmiddle}}{dV} = R_{Dinner} - R_{Douter}$$\n",
    "\n",
    "$$\\frac{dF_{Couter}}{dV} = R_{Couter}$$\n",
    "\n",
    "$$\\frac{dF_{Douter}}{dV} = R_{Douter}$$"
   ]
  },
  {
   "cell_type": "markdown",
   "metadata": {},
   "source": [
    "## Solve for and plot the concentration profiles for each species along the length of the reactor"
   ]
  },
  {
   "cell_type": "code",
   "execution_count": 7,
   "metadata": {},
   "outputs": [
    {
     "data": {
      "image/png": "[encoded data removed]",
      "text/plain": [
       "<matplotlib.figure.Figure at 0x7f622393c208>"
      ]
     },
     "metadata": {},
     "output_type": "display_data"
    }
   ],
   "source": [
    "from matplotlib.font_manager import FontProperties\n",
    "\n",
    "k1 = 0.1   # L/mol/s\n",
    "k2 = 0.5   # L/mol/s\n",
    "\n",
    "kb1 = 0.2  # 1/s\n",
    "kc1 = 0.4  # 1/s\n",
    "kd1 = 0.5  # 1/s\n",
    "\n",
    "kc2 = 0.5  # 1/s\n",
    "kd2 = 0.7  # 1/s\n",
    "\n",
    "nu1 = 2\n",
    "nu2 = 3\n",
    "nu3 = 4\n",
    "\n",
    "def dCdV(C, V):\n",
    "    '''\n",
    "    Create a function to calculate the change in species concentrations in each of the compartments\n",
    "    as a function of reactor volume. We will use this function with `odeint` to integrate over\n",
    "    theh entire reactor volume.\n",
    "    '''\n",
    "    Ca1, Cb1, Cc1, Cd1, Cb2, Cc2, Cd2, Cc3, Cd3 = C\n",
    "    \n",
    "    # Calculate reaction rates [mol/L/s]\n",
    "    r1 = k1*Ca1*Cb1\n",
    "    r2 = k2*Ca1*Cc1\n",
    "    # Calculate mass transport rates between the inner and intermediate vessels [mol/L/s]\n",
    "    Rb1 = kb1*(Cb2-Cb1)\n",
    "    Rc1 = kc1*(Cc2-Cc1)\n",
    "    Rd1 = kd1*(Cd2-Cd1)\n",
    "    # Calculate mass transport rates between the intermediate and outer vessels [mol/L/s]\n",
    "    Rc2 = kc1*(Cc3-Cc2)\n",
    "    Rd2 = kd1*(Cd3-Cd2)\n",
    "    \n",
    "    # Calculate the differentials for each species in each compartment\n",
    "    dA1dt = (-r1-r2)/nu1\n",
    "    dB1dt = (Rb1-r1)/nu1\n",
    "    dC1dt = (4*r1-r2+Rc1)/nu1\n",
    "    dD1dt = (3*r2+Rd1)/nu1\n",
    "    dB2dt = -(-Rb1)/nu2\n",
    "    dC2dt = -(-Rc1+Rc2)/nu2\n",
    "    dD2dt = -(-Rd1+Rd2)/nu2\n",
    "    dC3dt = -Rc2/nu3\n",
    "    dD3dt = -Rd2/nu3\n",
    "    \n",
    "    return [dA1dt, dB1dt, dC1dt, dD1dt, dB2dt, dC2dt, dD2dt, dC3dt, dD3dt]\n",
    "\n",
    "# Solve\n",
    "C0 = [2., 0., 0., 0., 0.5, 0.5, 0.5, 0., 0.]   # mol/L\n",
    "V = 10.   # L\n",
    "Vspan = np.linspace(0, V, 100)\n",
    "sol = odeint(dCdV, C0, Vspan)\n",
    "\n",
    "# Plot\n",
    "plt.plot(Vspan, sol)\n",
    "plt.xlabel('Volume [L]')\n",
    "plt.ylabel('Concentration [mol/L]')\n",
    "fontP = FontProperties()\n",
    "fontP.set_size('small')\n",
    "plt.legend(['$C_{A1}$', '$C_{B1}$', '$C_{C1}$', '$C_{D1}$',\n",
    "            '$C_{B2}$', '$C_{C2}$', '$C_{D2}$',\n",
    "            '$C_{C3}$','$C_{D3}$'],\n",
    "           prop=fontP)\n",
    "plt.show()"
   ]
  },
  {
   "cell_type": "code",
   "execution_count": null,
   "metadata": {},
   "outputs": [],
   "source": []
  }
 ],
 "metadata": {
  "kernelspec": {
   "display_name": "Python 3",
   "language": "python",
   "name": "python3"
  },
  "language_info": {
   "codemirror_mode": {
    "name": "ipython",
    "version": 3
   },
   "file_extension": ".py",
   "mimetype": "text/x-python",
   "name": "python",
   "nbconvert_exporter": "python",
   "pygments_lexer": "ipython3",
   "version": "3.6.2"
  },
  "toc": {
   "colors": {
    "hover_highlight": "#DAA520",
    "navigate_num": "#000000",
    "navigate_text": "#333333",
    "running_highlight": "#FF0000",
    "selected_highlight": "#FFD700",
    "sidebar_border": "#EEEEEE",
    "wrapper_background": "#FFFFFF"
   },
   "moveMenuLeft": true,
   "nav_menu": {
    "height": "11px",
    "width": "252px"
   },
   "navigate_menu": true,
   "number_sections": true,
   "sideBar": true,
   "threshold": 4,
   "toc_cell": false,
   "toc_section_display": "block",
   "toc_window_display": false,
   "widenNotebook": false
  }
 },
 "nbformat": 4,
 "nbformat_minor": 2
}
