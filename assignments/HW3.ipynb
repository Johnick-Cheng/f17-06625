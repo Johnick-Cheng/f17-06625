{
 "cells": [
  {
   "cell_type": "markdown",
   "metadata": {},
   "source": [
    "$$\\require{mhchem}$$       "
   ]
  },
  {
   "cell_type": "markdown",
   "metadata": {},
   "source": [
    "# Problem 1: Multiple reactions in batch tank"
   ]
  },
  {
   "cell_type": "markdown",
   "metadata": {},
   "source": [
    "Consider the following two irreversible elementary reactions:\n",
    "\\begin{align}\n",
    "2A&\\rightarrow 2B+2C && k_1\\\\\n",
    "B&\\rightarrow D && k_2\n",
    "\\end{align}\n",
    "in which $k_1 = 0.05$ L/mol$\\cdot$min and $k_2=0.022$/min.  The reactor volume is 100 L and the initial concentration of A is 1.5 mol/L."
   ]
  },
  {
   "cell_type": "markdown",
   "metadata": {},
   "source": [
    "#### Part 1A:  Write down the rate equation for each for the reactions (1 pt)"
   ]
  },
  {
   "cell_type": "markdown",
   "metadata": {},
   "source": [
    "#### Part 1B:  Plot the concentration of each species over the first three hours (3 pt)"
   ]
  },
  {
   "cell_type": "markdown",
   "metadata": {},
   "source": [
    "#### Part 1C:  At what time should we stop the reaction to maximize the concentration of the valuable intermediate B? Calculate this value numerically, i.e., don't simply use the plot you made in Problem 1B). (3 pt)"
   ]
  },
  {
   "cell_type": "markdown",
   "metadata": {},
   "source": [
    "#### Part 1D:  The operator suggests that we perform the reaction in 2 stages. For Stage 1, start with only half of A (that is, start with 75 mol of A in the 100 L reactor). When we notice a maximum in $C_B$, begin Stage 2 by dumping the remaining 75 moles of A into the reactor and wait again until we see a maximum in $C_B$. Assume that the addition of 75 moles of A does not change the volume of the batch.\n",
    "First:  Find the time at which we should end Stage 1. Second:  Plot all four species concentrations as a function of time for both Stage 1 and Stage 2. Is the maximum concentation of B in Stage 2 higher or lower than it was in Part 1B? (3 pt)"
   ]
  },
  {
   "cell_type": "markdown",
   "metadata": {},
   "source": [
    "# Problem 2: "
   ]
  },
  {
   "cell_type": "markdown",
   "metadata": {},
   "source": [
    "The pyrolysis of benzene can be described with two reactions.  Diphenyl is produced by the dehydrogenation of benzene,\n",
    "\n",
    "$\\ce{2C6H6 <=>[k_1][k_{-1}] C12H10 + H2}$\n",
    "\n",
    "Triphenyl is formed by the secondary reaction,\n",
    "\n",
    "$\\ce{C6H6 + C12H10 <=>[k_2][k_{-2}] C18H14 + H2}$\n",
    "\n",
    "with the rate constants\n",
    "\\begin{align*}\n",
    "k_1 = 7 \\times 10^5 L/mol\\cdot hr && K_1=0.31\\\\\n",
    "k_2 = 4 \\times 10^5 L/mol\\cdot hr && K_2=0.48\\\\\n",
    "\\end{align*}\n",
    "\n",
    "and $K$ is the equilibrium coefficient (for example, $K=k_1/k_{-1}$)."
   ]
  },
  {
   "cell_type": "markdown",
   "metadata": {},
   "source": [
    "#### Part 2A:  Assuming the reactions are assumed to be elementary, write down the rate expression for each reaction, with $C_B,C_D,C_T,C_H$ referring to the concentrations of benzene, diphenyl, triphenyl, and hydrogen respectively (1 pt)"
   ]
  },
  {
   "cell_type": "markdown",
   "metadata": {},
   "source": [
    "#### Part 2B:  The reaction will be carried out in an isothermal PFR, with an inlet gas feed of 60 kmol/hr of pure benzene at 1033 K and 1.0 atm.  Calculate the volumetric flow rate of benzene.  Will the volumetric flow rate change along the length of the reactor? (1 pt)"
   ]
  },
  {
   "cell_type": "markdown",
   "metadata": {},
   "source": [
    "#### Part 2C:  Using a mole balance for each species, solve for and plot the mole fraction of each species as a function of the volume of the reactor, up to 1500 L. (3pt)"
   ]
  },
  {
   "cell_type": "markdown",
   "metadata": {},
   "source": [
    "#### Part 2D:  Identify the volume at which the reactor achieves 50% conversion of benzene, using the odelay (see Section 5.5.3 from [this](http://kitchingroup.cheme.cmu.edu/pycse/pycse.html) page) function to stop integration at that point (3pt)"
   ]
  },
  {
   "cell_type": "markdown",
   "metadata": {},
   "source": [
    "#### Part 2E:  This problem could also be solved using differential equations for the extent of each of the reactions $X_1, X_2$.  Solve for these two extents as a function of the reactor volume, and plot them over the same range (up to 50% benzene conversion). In this case,\n",
    "\\begin{align}\n",
    "N_j = N_{jf} + \\sum_i^{N_rxn} v_{ij}X_i\n",
    "\\end{align}\n",
    "#### where $v_{ij}$ is the stoichiometric coefficient coefficient of $j$th species in the $i$th reaction. To save time, you may use this code template: (2pt)\n",
    "\n",
    "~~~\n",
    "stoich_coefficients = # Fill this in!\n",
    "k1 = # Fill this in!\n",
    "k1r = # Fill this in!\n",
    "k2 = # Fill this in!\n",
    "k2r = # Fill this in!\n",
    "Q = # Fill this in!\n",
    "F0 = # Fill this in!\n",
    "xi0 = # Fill this in!\n",
    "\n",
    "def dxidV(xi, V):\n",
    "    F = F0 + np.matmul(stoich_coefficients.transpose(), xi)\n",
    "    r1 = k1*F[0]**2/Q**2 - k1r*F[1]*F[2]/Q**2\n",
    "    r2 = k2*F[0]*F[1]/Q**2 - k2r*F[2]*F[3]/Q**2\n",
    "    return [r1, r2]\n",
    "\n",
    "def event(xi, V):\n",
    "    value = # fill this in!\n",
    "    isterminal = True\n",
    "    direction = 0\n",
    "    return value, isterminal, direction\n",
    "\n",
    "Vrange = np.linspace(0, 1500)\n",
    "V, xi, Ve, xie, ie = odelay(dxidV, xi0, Vrange, [event])\n",
    "\n",
    "plt.plot(V, xi/30000)\n",
    "plt.xlabel('Reactor volume (L)')\n",
    "plt.ylabel('Mole fraction of each species')\n",
    "plt.legend(labels=['$xi_1$','$xi_2$'])\n",
    "plt.show()\n",
    "print('The volume required for 50% conversion is {} L'.format(Ve[0]))\n",
    "~~~"
   ]
  }
 ],
 "metadata": {
  "kernelspec": {
   "display_name": "Python 3",
   "language": "python",
   "name": "python3"
  },
  "language_info": {
   "codemirror_mode": {
    "name": "ipython",
    "version": 3
   },
   "file_extension": ".py",
   "mimetype": "text/x-python",
   "name": "python",
   "nbconvert_exporter": "python",
   "pygments_lexer": "ipython3",
   "version": "3.6.2"
  },
  "toc": {
   "colors": {
    "hover_highlight": "#DAA520",
    "navigate_num": "#000000",
    "navigate_text": "#333333",
    "running_highlight": "#FF0000",
    "selected_highlight": "#FFD700",
    "sidebar_border": "#EEEEEE",
    "wrapper_background": "#FFFFFF"
   },
   "moveMenuLeft": true,
   "nav_menu": {
    "height": "244px",
    "width": "252px"
   },
   "navigate_menu": true,
   "number_sections": true,
   "sideBar": true,
   "threshold": 4,
   "toc_cell": false,
   "toc_section_display": "block",
   "toc_window_display": false,
   "widenNotebook": false
  }
 },
 "nbformat": 4,
 "nbformat_minor": 2
}
