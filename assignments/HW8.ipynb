{
 "cells": [
  {
   "cell_type": "markdown",
   "metadata": {},
   "source": [
    "$$\\require{mhchem}$$       "
   ]
  },
  {
   "cell_type": "markdown",
   "metadata": {},
   "source": [
    "# Treating catalyst deactivation"
   ]
  },
  {
   "cell_type": "markdown",
   "metadata": {},
   "source": [
    "We are interested in catalytic cracking of oil to various products:\n",
    "\\begin{align}\n",
    "\\ce{Gas/oil(A)&->[k_A]Products}\n",
    "\\end{align}\n",
    "The rate law is $r_A=k_AC_A^2$. Gas oil (A) is fed at a rate of 30 mol/min and a concentration\n",
    "of 0.075 mol/dm$^3$. You can neglect pressure or volumetric flow rate changes along the reactor.\n",
    "The catalyst is not allowed to leave the reactor. "
   ]
  },
  {
   "cell_type": "markdown",
   "metadata": {},
   "source": [
    "#### The reactor is a 100 L CSTR with 22 kg of catalyst. Calculate the steady-state concentration of A and the steady-state concentration of P. The reaction rate constant $k_A = 600\\: dm^6/(kg_{cat}\\cdot mol\\cdot min)$ at 500 K; assume the reactor is held at 500 K."
   ]
  },
  {
   "cell_type": "markdown",
   "metadata": {},
   "source": [
    "#### We know that the catalyst activity decreases over time due to deactivation so we need to model this as a transient CSTR  starting with A at 0.075 mol/dm$^3$ an P at 0.010 mol/dm$^3$. The reaction rate decays as $k_A=k_A^0 \\exp(- k_D t)$ where $k_D=0.72$/min, $t$ is time, and $k_A^0$ is the rate constant at 500 K (above). Calculate the concentration profile of A and the products P for the first 20 min."
   ]
  },
  {
   "cell_type": "markdown",
   "metadata": {},
   "source": [
    "#### You plan to combat the effects of the catalyst decay by increasing the temperature over time.  The activation energy for the reaction is 10 kJ/mol.  Calculate and plot the transient temperature profile necessary to maintain the reactor conversion at the steady state value. The maximum safe temperature for the reactor and process is 1000 K. How long can you maintain this process before violating safety temperature limits and having to recharge the catalyst?"
   ]
  },
  {
   "cell_type": "markdown",
   "metadata": {},
   "source": [
    "#### You suggest moving to a moving, packed bed reactor configuration, where the catalyst moves along the reactor length co-currently with the reactants, but at a specified flow rate $U_s$ of $10\\:kg/min$.  The packed bed reactor still contains 22 kg of catalyst at all times. You can model this as a normal packed bed reactor, with the rate constant for the catalyst at a specific point in the reactor calculated from its residence time, $\\tau$:  $k_A=k_A^0\\exp(-k_D\\tau)$. This residence time can be calculated as a function of the total mass of catalyst that the reactants have seen, $W$:  $\\tau(W)=W/U_s$. Plot the molar flowrate of species A and P as a function of $W$. Assume that we will use a constant reactor temperature of 500 K."
   ]
  },
  {
   "cell_type": "markdown",
   "metadata": {},
   "source": [
    "#### With your new reactor configuration, find the optimal reactant flow rate $v_0$ and catalyst feed rate $U_s$ to maximize profit, and report this profit. Assume you're going to sell all product you make.\n",
    "Useful information:\n",
    "- It costs $\\$25,000/hr$ to operate the moving bed reactor.\n",
    "- The gas/oil feed costs \\$50/mol.\n",
    "- Bulk catalyst material costs \\$150/kg.\n",
    "- The products sell for \\$200/mol (on an equivalent basis per mol of gas/oil).\n",
    "\n",
    "Tip: it can help to plot profit as a function of Us and v0 using plt.contour to help identify what is reasonable, just as we did in the bonus for HW5."
   ]
  },
  {
   "cell_type": "markdown",
   "metadata": {},
   "source": [
    "#### You complain to your catalyst vendor about how fast the catalyst deactivates, and they suggest you try their new SuperPremium+++ catalyst. It costs \\$250/kg but is more resilient and has an improved deactivation rate constant of $k_D=0.3$/min. Will this change be worth it? Decide by calculating the expected profit with this new catalyst."
   ]
  },
  {
   "cell_type": "markdown",
   "metadata": {},
   "source": [
    "# Catalyst particles\n",
    "\n",
    "A first-order heterogeneous irreversible reaction is taking place within a spherical catalyst pellet that is plated with platinum throughout the pellet. The reactant concentration halfway between the external surface and the center of the pellet ($r=R/2$) is equal to one tenth the concentration of the pellet's external surface.  The concentration at the external surface is 0.001 g mol /dm^3, the diameter (2R) is $2\\times 10^{-3}$cm, and the diffusion coefficient is 0.1 $cm^2/s$.\n",
    "\\begin{align*}\n",
    "\\ce{A->B}\n",
    "\\end{align*}"
   ]
  },
  {
   "cell_type": "markdown",
   "metadata": {},
   "source": [
    "#### What is the concentration of reactant at a distance of $3\\times 10^{-4}$ cm in from the external pellet surface?"
   ]
  },
  {
   "cell_type": "markdown",
   "metadata": {},
   "source": [
    "#### To what diameter should the pellet be reduced if the effectiveness factor is to be 0.8? "
   ]
  }
 ],
 "metadata": {
  "kernelspec": {
   "display_name": "Python 3",
   "language": "python",
   "name": "python3"
  },
  "language_info": {
   "codemirror_mode": {
    "name": "ipython",
    "version": 3
   },
   "file_extension": ".py",
   "mimetype": "text/x-python",
   "name": "python",
   "nbconvert_exporter": "python",
   "pygments_lexer": "ipython3",
   "version": "3.6.2"
  },
  "toc": {
   "colors": {
    "hover_highlight": "#DAA520",
    "navigate_num": "#000000",
    "navigate_text": "#333333",
    "running_highlight": "#FF0000",
    "selected_highlight": "#FFD700",
    "sidebar_border": "#EEEEEE",
    "wrapper_background": "#FFFFFF"
   },
   "moveMenuLeft": true,
   "nav_menu": {
    "height": "155px",
    "width": "252px"
   },
   "navigate_menu": true,
   "number_sections": true,
   "sideBar": true,
   "threshold": 4,
   "toc_cell": false,
   "toc_section_display": "block",
   "toc_window_display": false,
   "widenNotebook": false
  }
 },
 "nbformat": 4,
 "nbformat_minor": 2
}
