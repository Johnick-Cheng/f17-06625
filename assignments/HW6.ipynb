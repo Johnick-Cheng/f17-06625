{
 "cells": [
  {
   "cell_type": "markdown",
   "metadata": {},
   "source": [
    "$$\\require{mhchem}$$       "
   ]
  },
  {
   "cell_type": "markdown",
   "metadata": {},
   "source": [
    "# Gas phase reaction with equilibria"
   ]
  },
  {
   "cell_type": "markdown",
   "metadata": {},
   "source": [
    "We're interested in optimizing reactor conditions for several competing gas-phase reactions for a feed of CO, O2, and H2:\n",
    "\\begin{align*}\n",
    "\\ce{CO + 1/2O2 &<=> CO2}\\\\\n",
    "\\ce{H2 + 1/2O2 &<=> H2O}\\\\\n",
    "\\ce{CO + 2H2 &<=> CH4 + 1/2O2}\\\\\n",
    "\\ce{CO +H2 &<=> CH2O } \\text{ (methanal)}\\\\\n",
    "\\ce{2CO +2H2 &<=> C2H2 + 1/2O2 + H2O } \\text{ (acetylene)}\n",
    "\\end{align*}"
   ]
  },
  {
   "cell_type": "markdown",
   "metadata": {},
   "source": [
    "#### First, determine the free energy for each of the reactions at standard state (298K, 1atm) using the NIST chemistry webbook. "
   ]
  },
  {
   "cell_type": "markdown",
   "metadata": {},
   "source": [
    "#### The chemical potential of an ideal gas species is:\n",
    "\\begin{align}\n",
    "\\mu_i=G_i^o + RT\\ln[y_iP]\n",
    "\\end{align}\n",
    "where $y_iP$ is the partial pressure of each species. Evaluate the free energy of each reaction at 1000 K and 1 atm partial pressure of each species using the shomate equation.  Assume that the shomat equation listed for room temperature (~300K) applies to higher temperatures as well. Hint: make sure that whatever you come up with, when evaluated at 298.15K, is close to the answer above."
   ]
  },
  {
   "cell_type": "markdown",
   "metadata": {},
   "source": [
    "#### For a mixture of 1 atm total pressure at 1000K  CO,O2,H2 (equimolar all species) evaluate the equilibrium distribution $K=exp(-\\Delta G/RT)$ for each reaction."
   ]
  },
  {
   "cell_type": "markdown",
   "metadata": {},
   "source": [
    "#### Bonus: try to solve for the equilibrium constant (including the entropic term).  You'll probably run into numerical problems unless you try to use a stiff solver. Describe where these problems are coming from."
   ]
  },
  {
   "cell_type": "markdown",
   "metadata": {},
   "source": [
    "#### What does this say about the reactions?"
   ]
  },
  {
   "cell_type": "markdown",
   "metadata": {},
   "source": [
    "# The following reaction data was measured:\n",
    "\\begin{align*}\\ce{A + B &<=> C} && E_a=5 kJ/mol && \\Delta G = -10 kJ/mol\\\\\n",
    "\\ce{B + C &<=> 2D} && E_a=2 kJ/mol && \\Delta G = -15 kJ/mol\\\\\n",
    "\\ce{ B + 2D &<=> 2E} && E_a=10 kJ/mol && \\Delta G = 2 kJ/mol\\\\\n",
    "\\end{align*}"
   ]
  },
  {
   "cell_type": "markdown",
   "metadata": {},
   "source": [
    "#### Calculate the equilibrium distribution for each reaction at 1000 K"
   ]
  },
  {
   "cell_type": "markdown",
   "metadata": {},
   "source": [
    "#### Calculate the equilibrium mol fraction for an isomolar mixture of A,B,C,D,E at 1000 K and 1 atm. Assume isobaric and isothermal conditions and that the free energy of reaction does not change with reaction extent"
   ]
  },
  {
   "cell_type": "markdown",
   "metadata": {},
   "source": [
    "#### Plot the equilibrium extent of each reaction as a function of temperature from 800 K to 1000 K"
   ]
  },
  {
   "cell_type": "code",
   "execution_count": null,
   "metadata": {},
   "outputs": [],
   "source": []
  }
 ],
 "metadata": {
  "kernelspec": {
   "display_name": "Python 3",
   "language": "python",
   "name": "python3"
  },
  "language_info": {
   "codemirror_mode": {
    "name": "ipython",
    "version": 3
   },
   "file_extension": ".py",
   "mimetype": "text/x-python",
   "name": "python",
   "nbconvert_exporter": "python",
   "pygments_lexer": "ipython3",
   "version": "3.6.2"
  },
  "toc": {
   "colors": {
    "hover_highlight": "#DAA520",
    "navigate_num": "#000000",
    "navigate_text": "#333333",
    "running_highlight": "#FF0000",
    "selected_highlight": "#FFD700",
    "sidebar_border": "#EEEEEE",
    "wrapper_background": "#FFFFFF"
   },
   "moveMenuLeft": true,
   "nav_menu": {
    "height": "29px",
    "width": "252px"
   },
   "navigate_menu": true,
   "number_sections": true,
   "sideBar": true,
   "threshold": 4,
   "toc_cell": false,
   "toc_section_display": "block",
   "toc_window_display": false,
   "widenNotebook": false
  }
 },
 "nbformat": 4,
 "nbformat_minor": 2
}
