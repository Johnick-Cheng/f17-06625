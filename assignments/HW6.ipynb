{
 "cells": [
  {
   "cell_type": "markdown",
   "metadata": {},
   "source": [
    "$$\\require{mhchem}$$       "
   ]
  },
  {
   "cell_type": "markdown",
   "metadata": {},
   "source": [
    "# Gas phase reaction with equilibria"
   ]
  },
  {
   "cell_type": "markdown",
   "metadata": {},
   "source": [
    "We're interested in optimizing reactor conditions for several competing gas-phase reactions for a feed of $CO$, $O_2$, and $H_2$:\n",
    "\\begin{align*}\n",
    "\\ce{CO + 1/2O2 &<=> CO2}\\\\\n",
    "\\ce{H2 + 1/2O2 &<=> H2O}\\\\\n",
    "\\ce{CO + 2H2 &<=> CH4 + 1/2O2}\\\\\n",
    "\\ce{CO +H2 &<=> CH2O } \\text{ (methanal)}\\\\\n",
    "\\ce{CO +H2 &<=> C2H2 + 1/2O2 } \\text{ (acetylene)}\n",
    "\\end{align*}"
   ]
  },
  {
   "cell_type": "markdown",
   "metadata": {},
   "source": [
    "#### First, determine the free energy for each of the reaction, $\\Delta G_0$, at standard state (298 K, 1 atm) using the NIST chemistry webbook. "
   ]
  },
  {
   "cell_type": "markdown",
   "metadata": {},
   "source": [
    "#### The chemical potential of an ideal gas species is:\n",
    "\\begin{align}\n",
    "\\mu_i = \\Delta G_i = \\Delta G_{i,0} + RT\\ln[y_iP]\n",
    "\\end{align}\n",
    "where $y_iP$ is the partial pressure of each species. Evaluate the free energy of each reaction\n",
    "at 1000 K and 1 atm partial pressure of each species using the shomate equation. Assume that the\n",
    "shomate equation listed for room temperature (~300 K) applies to higher temperatures as well.\n",
    "Hint: make sure that whatever you come up with, when evaluated at 298.15K, is close to the\n",
    "answer above."
   ]
  },
  {
   "cell_type": "markdown",
   "metadata": {},
   "source": [
    "#### Evaluate the equilibrium constant for each reaction."
   ]
  },
  {
   "cell_type": "markdown",
   "metadata": {},
   "source": [
    "#### What does this say about the reactions?"
   ]
  },
  {
   "cell_type": "markdown",
   "metadata": {},
   "source": [
    "#### Bonus:  Try to solve for the equilibrium constant ($K=exp(\\Delta G_{i,0}/RT)$), but now use $\\Delta G_i$ instead of $\\Delta G_{i,0}$. If you run into numerical problems, then describe where these problems are coming from. Do you think it's appropriate to use $\\Delta G_i$ instead of $\\Delta G_{i,0}$ when calculating the equilibrium constant? Why or why not?"
   ]
  },
  {
   "cell_type": "markdown",
   "metadata": {},
   "source": [
    "# The following reaction data were measured:\n",
    "\\begin{align*}\\ce{A + B &<=> C} && E_a=5\\: kJ/mol && \\Delta G = -10\\: kJ/mol\\\\\n",
    "\\ce{B + C &<=> 2D} && E_a=2\\: kJ/mol && \\Delta G = -15\\: kJ/mol\\\\\n",
    "\\ce{ B + 2D &<=> 2E} && E_a=10\\: kJ/mol && \\Delta G = 2\\: kJ/mol\\\\\n",
    "\\end{align*}"
   ]
  },
  {
   "cell_type": "markdown",
   "metadata": {},
   "source": [
    "#### Calculate the equilibrium constant for each reaction at 1000 K"
   ]
  },
  {
   "cell_type": "code",
   "execution_count": 38,
   "metadata": {},
   "outputs": [],
   "source": [
    "import numpy as np\n",
    "from scipy.optimize import fsolve\n",
    "import matplotlib.pyplot as plt"
   ]
  },
  {
   "cell_type": "code",
   "execution_count": 8,
   "metadata": {},
   "outputs": [
    {
     "name": "stdout",
     "output_type": "stream",
     "text": [
      "Reaction 0  K0 = 3.33\n",
      "Reaction 1  K1 = 6.08\n",
      "Reaction 2  K2 = 0.79\n"
     ]
    }
   ],
   "source": [
    "dG = np.array([-10e3, -15e3, 2e3]) # J/mol\n",
    "R = 8.314 # J/mol/K\n",
    "T = 1000 # K\n",
    "\n",
    "K = np.exp (-dG / R / T)\n",
    "\n",
    "for i in range(3):\n",
    "    print('Reaction {:0.0f}  '.format(i), end='')\n",
    "    print('K{:0.0f} = {:1.2f}'.format(i, K[i]))"
   ]
  },
  {
   "cell_type": "markdown",
   "metadata": {},
   "source": [
    "#### Calculate the equilibrium mole fraction for a system that begins as an equimolar mixture of A,B,C,D,E at 1000 K and 1 atm. Assume isobaric and isothermal conditions."
   ]
  },
  {
   "cell_type": "code",
   "execution_count": 35,
   "metadata": {},
   "outputs": [
    {
     "name": "stdout",
     "output_type": "stream",
     "text": [
      "[-0.0122292   0.05937866 -0.02885495]\n",
      "[ 0.2122292   0.18170548  0.12839214  0.37646723  0.1422901 ]\n"
     ]
    }
   ],
   "source": [
    "sc = np.array([[-1, -1, 1, 0, 0],\n",
    "              [0, -1, -1, 2, 0],\n",
    "              [0, -1, 0, -2, 2]]).T\n",
    "K1, K2, K3 = K\n",
    "\n",
    "y0 = [0.2] * 5\n",
    "\n",
    "def eq_y(xi):\n",
    "    yA, yB, yC, yD, yE = y0 + np.matmul(sc, xi)\n",
    "    \n",
    "    res1 = yC / yA / yB - K1\n",
    "    res2 = yD ** 2 / yB / yC - K2\n",
    "    res3 = yE ** 2 / yB / yD ** 2 - K3\n",
    "    \n",
    "    return [res1, res2, res3]\n",
    "\n",
    "xi_eq = fsolve(eq_y, [0.01, 0.01, 0.01])\n",
    "print(xi_eq)\n",
    "y_eq = y0 + np.matmul(sc, xi_eq)\n",
    "print(y_eq)"
   ]
  },
  {
   "cell_type": "markdown",
   "metadata": {},
   "source": [
    "#### Plot the equilibrium extent of each reaction (moles) as a function of temperature from 800 K to 1000 K"
   ]
  },
  {
   "cell_type": "code",
   "execution_count": 33,
   "metadata": {},
   "outputs": [],
   "source": [
    "def eq_y_2(xi, K):\n",
    "    K1, K2, K3 = K\n",
    "    yA, yB, yC, yD, yE = y0 + np.matmul(sc, xi)\n",
    "    \n",
    "    res1 = yC / yA / yB - K1\n",
    "    res2 = yD ** 2 / yB / yC - K2\n",
    "    res3 = yE ** 2 / yB / yD ** 2 - K3\n",
    "    \n",
    "    return [res1, res2, res3]"
   ]
  },
  {
   "cell_type": "code",
   "execution_count": 41,
   "metadata": {},
   "outputs": [
    {
     "data": {
      "image/png": "[encoded data removed]",
      "text/plain": [
       "<matplotlib.figure.Figure at 0x7fb1a94f0cf8>"
      ]
     },
     "metadata": {},
     "output_type": "display_data"
    }
   ],
   "source": [
    "Tspan = np.linspace(800, 1000)\n",
    "\n",
    "xi = []\n",
    "\n",
    "for T in Tspan:\n",
    "    K = np.exp (-dG / R / T)\n",
    "    xi_T = fsolve(eq_y_2, [0.01, 0.01, 0.01], args = K)\n",
    "    xi += [xi_T]\n",
    "\n",
    "plt.plot(Tspan, xi)\n",
    "plt.show()"
   ]
  }
 ],
 "metadata": {
  "kernelspec": {
   "display_name": "Python 3",
   "language": "python",
   "name": "python3"
  },
  "language_info": {
   "codemirror_mode": {
    "name": "ipython",
    "version": 3
   },
   "file_extension": ".py",
   "mimetype": "text/x-python",
   "name": "python",
   "nbconvert_exporter": "python",
   "pygments_lexer": "ipython3",
   "version": "3.6.2"
  },
  "toc": {
   "colors": {
    "hover_highlight": "#DAA520",
    "navigate_num": "#000000",
    "navigate_text": "#333333",
    "running_highlight": "#FF0000",
    "selected_highlight": "#FFD700",
    "sidebar_border": "#EEEEEE",
    "wrapper_background": "#FFFFFF"
   },
   "moveMenuLeft": true,
   "nav_menu": {
    "height": "29px",
    "width": "252px"
   },
   "navigate_menu": true,
   "number_sections": true,
   "sideBar": true,
   "threshold": 4,
   "toc_cell": false,
   "toc_section_display": "block",
   "toc_window_display": false,
   "widenNotebook": false
  }
 },
 "nbformat": 4,
 "nbformat_minor": 2
}
