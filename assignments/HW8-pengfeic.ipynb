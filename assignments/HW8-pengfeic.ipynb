{
 "cells": [
  {
   "cell_type": "markdown",
   "metadata": {},
   "source": [
    "$$\\require{mhchem}$$       "
   ]
  },
  {
   "cell_type": "markdown",
   "metadata": {},
   "source": [
    "# Homework 8\n",
    "## Pengfei Cheng \n",
    "## AndrewID: pengfeic"
   ]
  },
  {
   "cell_type": "markdown",
   "metadata": {},
   "source": [
    "# Problem 1: Treating catalyst deactivation"
   ]
  },
  {
   "cell_type": "markdown",
   "metadata": {},
   "source": [
    "We are interested in catalytic cracking of oil to various products:\n",
    "\\begin{align}\n",
    "\\ce{Gas/oil(A)&->[k_A]Products}\n",
    "\\end{align}\n",
    "The rate law is $r_A=k_AC_A^2$. Gas oil (A) is fed at a rate of 30 mol/min and a concentration\n",
    "of 0.075 mol/dm$^3$. You can neglect pressure or volumetric flow rate changes along the reactor.\n",
    "The catalyst is not allowed to leave the reactor. "
   ]
  },
  {
   "cell_type": "markdown",
   "metadata": {},
   "source": [
    "## Part A\n",
    "The reactor is a 100 L CSTR with 22 kg of catalyst. Calculate the steady-state concentration of A and the steady-state concentration of P. The reaction rate constant $k_A = 600\\: dm^6/(kg_{cat}\\cdot mol\\cdot min)$ at 500 K; assume the reactor is held at 500 K."
   ]
  },
  {
   "cell_type": "code",
   "execution_count": 4,
   "metadata": {},
   "outputs": [
    {
     "data": {
      "text/plain": [
       "array([ 0.04012856])"
      ]
     },
     "execution_count": 4,
     "metadata": {},
     "output_type": "execute_result"
    }
   ],
   "source": [
    "import numpy as np\n",
    "from scipy.optimize import fsolve\n",
    "\n",
    "CA0 = 0.075 # mol/L\n",
    "FA0 = 30 # mol/min\n",
    "nu = FA0 / CA0 # L/min\n",
    "\n",
    "# CSTR\n",
    "\n",
    "V = 100 # L\n",
    "m_cat = 22 # kg\n",
    "\n",
    "kA = 600 # L^2 / (kg_cat mol min)\n",
    "\n",
    "rho_cat = m_cat / V # kg_cat/L\n",
    "\n",
    "def CSTR(CA):\n",
    "    \n",
    "    r = kA * rho_cat * CA ** 2\n",
    "    \n",
    "    res = FA0 / V - CA * nu / V - r\n",
    "    return res\n",
    "\n",
    "CA_CSTR = fsolve(CSTR, 0.04)\n",
    "CP_CSTR = CA0 - CA_CSTR\n",
    "CP_CSTR"
   ]
  },
  {
   "cell_type": "code",
   "execution_count": 1,
   "metadata": {},
   "outputs": [],
   "source": [
    "import numpy as np\n",
    "import matplotlib.pyplot as plt\n",
    "from scipy.optimize import fsolve, minimize\n",
    "from scipy.integrate import odeint"
   ]
  },
  {
   "cell_type": "code",
   "execution_count": 2,
   "metadata": {},
   "outputs": [
    {
     "name": "stdout",
     "output_type": "stream",
     "text": [
      "CA is 0.0349 mol/L.\n",
      "CP is 0.0401 mol/L.\n"
     ]
    }
   ],
   "source": [
    "V = 100 # L\n",
    "FA0 = 30 # mol/min\n",
    "CA0 = 0.075 # mol/L\n",
    "kA = 600 # L^2/(kg_cat * mol * min)\n",
    "rho_cat = 22 / V # kg/L\n",
    "v0 = FA0 / CA0\n",
    "\n",
    "def dCAdt(CA):\n",
    "    dCdt = CA0 * v0 / V - CA * v0 / V - kA * rho_cat * CA ** 2\n",
    "    return dCdt\n",
    "\n",
    "CA, = fsolve (dCAdt, CA0/2)\n",
    "print ('CA is {:1.4f} mol/L.'.format(CA))\n",
    "CP = CA0 - CA\n",
    "print ('CP is {:1.4f} mol/L.'.format(CP))"
   ]
  },
  {
   "cell_type": "markdown",
   "metadata": {},
   "source": [
    "## Part B\n",
    "We know that the catalyst activity decreases over time due to deactivation so we need to model this as a transient CSTR  starting with A at 0.075 mol/dm$^3$ an P at 0.010 mol/dm$^3$. The reaction rate decays as $k_A=k_A^0 \\exp(- k_D t)$ where $k_D=0.72$/min, $t$ is time, and $k_A^0$ is the rate constant at 500 K (above). Calculate the concentration profile of A and the products P for the first 20 min."
   ]
  },
  {
   "cell_type": "markdown",
   "metadata": {},
   "source": [
    "\\begin{align*}\n",
    "    k_A &= k_A^0 e^{-k_Dt} \\\\\n",
    "    \\frac {d k_A} {d t} &= -k_D k_A^0 e^{-k_Dt}\n",
    "\\end{align*}"
   ]
  },
  {
   "cell_type": "markdown",
   "metadata": {},
   "source": [
    "$k_A$ is a time-varing variable. We can update the value of $k_A$ by integrating it or calculating its value every time."
   ]
  },
  {
   "cell_type": "code",
   "execution_count": 7,
   "metadata": {},
   "outputs": [
    {
     "data": {
      "image/png": "[encoded data removed]",
      "text/plain": [
       "<matplotlib.figure.Figure at 0x7f15585e7898>"
      ]
     },
     "metadata": {},
     "output_type": "display_data"
    }
   ],
   "source": [
    "from scipy.integrate import odeint\n",
    "import matplotlib.pyplot as plt\n",
    "\n",
    "C0 = [0.075, 0.01] # M\n",
    "F0 = [FA0, 0] # mol/min\n",
    "kD = 0.72 # 1/min\n",
    "\n",
    "kA0 = 600 # L^2/(kg_cat * mol * min)\n",
    "\n",
    "def CSTR_ode(C, t):\n",
    "    CA, CP = C\n",
    "    \n",
    "    kA = kA0 * np.exp(- kD * t)\n",
    "    \n",
    "    r = kA * rho_cat * CA ** 2\n",
    "    \n",
    "    r1 = F0[0] / V - CA * nu / V - r\n",
    "    r2 = F0[1] / V - CP * nu / V + r\n",
    "    \n",
    "    return [r1, r2]\n",
    "\n",
    "tspan = np.linspace(0, 20)\n",
    "\n",
    "C_CSTR_ode = odeint(CSTR_ode, C0, tspan)\n",
    "\n",
    "plt.plot(tspan, C_CSTR_ode)\n",
    "plt.show()"
   ]
  },
  {
   "cell_type": "markdown",
   "metadata": {},
   "source": [
    "1) integrating $k_A$"
   ]
  },
  {
   "cell_type": "code",
   "execution_count": 3,
   "metadata": {},
   "outputs": [
    {
     "data": {
      "image/png": "[encoded data removed]",
      "text/plain": [
       "<matplotlib.figure.Figure at 0x7f7d85c8cf98>"
      ]
     },
     "metadata": {},
     "output_type": "display_data"
    }
   ],
   "source": [
    "FA0 = 30 # mol/min\n",
    "C0 = [0.075, 0.010]\n",
    "kA0 = 600\n",
    "kD = 0.72\n",
    "\n",
    "C0 += [kA0]\n",
    "\n",
    "def dCdt(C, t):\n",
    "    CA, CP, kA = C\n",
    "    \n",
    "    r = kA * rho_cat * CA ** 2\n",
    "    \n",
    "    dCAdt = FA0 / V - CA * v0 / V - r\n",
    "    dCPdt = - CP * v0 / V + r\n",
    "    dkAdt = - kD * kA0 * np.exp (-kD * t)\n",
    "    \n",
    "    return [dCAdt, dCPdt, dkAdt]\n",
    "\n",
    "tspan = np.linspace (0, 20)\n",
    "\n",
    "C = odeint (dCdt, C0, tspan)\n",
    "\n",
    "plt.plot (tspan, C[:,0], tspan, C[:,1])\n",
    "plt.legend(['$C_A$','$C_P$'])\n",
    "plt.xlabel('time/min')\n",
    "plt.ylabel('concentration/(mol/L)')\n",
    "plt.grid()\n",
    "plt.show()"
   ]
  },
  {
   "cell_type": "markdown",
   "metadata": {},
   "source": [
    "2) calculaitng $k_A$ every time"
   ]
  },
  {
   "cell_type": "code",
   "execution_count": 4,
   "metadata": {},
   "outputs": [
    {
     "data": {
      "image/png": "[encoded data removed]",
      "text/plain": [
       "<matplotlib.figure.Figure at 0x7f7d83aeb278>"
      ]
     },
     "metadata": {},
     "output_type": "display_data"
    }
   ],
   "source": [
    "C0 = [0.075, 0.010]\n",
    "\n",
    "def dCdt(C, t):\n",
    "    CA, CP = C\n",
    "    \n",
    "    kA = kA0 * np.exp (-kD * t)\n",
    "    \n",
    "    r = kA * rho_cat * CA ** 2\n",
    "    \n",
    "    dCAdt = FA0 / V - CA * v0 / V - r\n",
    "    # dCPdt = FP0 / V - CP * v0 / V + r\n",
    "    dCPdt = - CP * v0 / V + r\n",
    "    \n",
    "    return [dCAdt, dCPdt]\n",
    "\n",
    "tspan = np.linspace (0, 20)\n",
    "\n",
    "C = odeint (dCdt, C0, tspan)\n",
    "\n",
    "plt.plot (tspan, C[:,0], tspan, C[:,1])\n",
    "plt.legend(['$C_A$','$C_P$'])\n",
    "plt.xlabel('time/min')\n",
    "plt.ylabel('concentration/(mol/L)')\n",
    "plt.grid()\n",
    "plt.show()"
   ]
  },
  {
   "cell_type": "markdown",
   "metadata": {},
   "source": [
    "## Part C\n",
    "You plan to combat the effects of the catalyst decay by increasing the temperature over time.  The activation energy for the reaction is 10 kJ/mol.  Calculate and plot the transient temperature profile necessary to maintain the reactor conversion at the steady state value. The maximum safe temperature for the reactor and process is 1000 K. How long can you maintain this process before violating safety temperature limits and having to recharge the catalyst?"
   ]
  },
  {
   "cell_type": "markdown",
   "metadata": {},
   "source": [
    "\\begin{align*}\n",
    "    k_A' = k_0 e^{-\\frac{E_a}{RT}} e^{-k_Dt} &=k_A^0 = k_0 e^{-\\frac{E_a}{RT_0}}\\\\\n",
    "    \\Rightarrow -\\frac{E_a}{RT} - k_D t &= - \\frac{E_a}{RT_0} \\\\\n",
    "    \\Rightarrow T(t) &= \\frac {E_a} {R} \\frac {1} {\\frac{E_a} {RT_0} - k_D t}\n",
    "\\end{align*}"
   ]
  },
  {
   "cell_type": "code",
   "execution_count": 5,
   "metadata": {},
   "outputs": [
    {
     "data": {
      "image/png": "[encoded data removed]",
      "text/plain": [
       "<matplotlib.figure.Figure at 0x7f7d83b4aeb8>"
      ]
     },
     "metadata": {},
     "output_type": "display_data"
    }
   ],
   "source": [
    "T0 = 500 # K\n",
    "R = 8.314 # J/mol/K\n",
    "Ea = 10e3 # J/mol\n",
    "\n",
    "tspan2 = np.linspace(0, 20, 100)\n",
    "\n",
    "T = lambda t: Ea / R / (Ea / R / T0 - kD * t)\n",
    "plt.plot (tspan2, T(tspan2))\n",
    "plt.xlabel ('time/min')\n",
    "plt.ylabel ('temperature/K')\n",
    "plt.grid()\n",
    "plt.show()"
   ]
  },
  {
   "cell_type": "markdown",
   "metadata": {},
   "source": [
    "There is a discontinuous point at around 3.5 min when $\\frac {Ea}{RT_0} = k_D t$. It means that increasing the temperature cannot help maintain the reaction rate no matter how high the temperature is. The temperature after this point is negative and has no physical meanings."
   ]
  },
  {
   "cell_type": "code",
   "execution_count": 6,
   "metadata": {},
   "outputs": [
    {
     "name": "stdout",
     "output_type": "stream",
     "text": [
      "The process can be maintained for 1.67 min before the temperature reaches 1000 K.\n"
     ]
    }
   ],
   "source": [
    "T2 = lambda t: Ea / R / (Ea / R / T0 - kD * t) - 1000\n",
    "sol, = fsolve (T2, 2)\n",
    "print ('The process can be maintained for {:1.2f} min before the temperature reaches 1000 K.'.format(sol))"
   ]
  },
  {
   "cell_type": "markdown",
   "metadata": {},
   "source": [
    "## Part D\n",
    "You suggest moving to a moving, packed bed reactor configuration, where the catalyst moves along the reactor length co-currently with the reactants, but at a specified flow rate $U_s$ of $10\\:kg/min$.  The packed bed reactor still contains 22 kg of catalyst at all times. You can model this as a normal packed bed reactor, with the rate constant for the catalyst at a specific point in the reactor calculated from its residence time, $\\tau$:  $k_A=k_A^0\\exp(-k_D\\tau)$. This residence time can be calculated as a function of the total mass of catalyst that the reactants have seen, $W$:  $\\tau(W)=W/U_s$. Plot the molar flowrate of species A and P as a function of $W$. Assume that we will use a constant reactor temperature of 500 K."
   ]
  },
  {
   "cell_type": "code",
   "execution_count": 12,
   "metadata": {},
   "outputs": [
    {
     "data": {
      "image/png": "[encoded data removed]",
      "text/plain": [
       "<matplotlib.figure.Figure at 0x7f152eb75710>"
      ]
     },
     "metadata": {},
     "output_type": "display_data"
    }
   ],
   "source": [
    "Us = 10 # kg/min\n",
    "F0 = [30, 0] # mol/min\n",
    "nu = 30 / 0.075 # L/min\n",
    "V = 100 # L\n",
    "\n",
    "def PBR(F, W):\n",
    "    CA, CP = F / nu\n",
    "    \n",
    "    tau = W / Us\n",
    "    kA = kA0 * np.exp(- kD * tau)\n",
    "    \n",
    "    r = kA * CA ** 2\n",
    "    \n",
    "    return [-r, r]\n",
    "\n",
    "Wspan = np.linspace(0, 22)\n",
    "\n",
    "F_PBR = odeint(PBR, F0, Wspan)\n",
    "plt.plot(Wspan, F_PBR)\n",
    "plt.show()"
   ]
  },
  {
   "cell_type": "code",
   "execution_count": 7,
   "metadata": {},
   "outputs": [
    {
     "data": {
      "image/png": "[encoded data removed]",
      "text/plain": [
       "<matplotlib.figure.Figure at 0x7f7d839d9828>"
      ]
     },
     "metadata": {},
     "output_type": "display_data"
    }
   ],
   "source": [
    "FA0 = 30 # mol/min\n",
    "Us = 10 # kg/min\n",
    "F0 = [FA0, 0]\n",
    "\n",
    "def dFdW(F, W):\n",
    "    tau = W / Us\n",
    "    kA = kA0 * np.exp (-kD * tau)\n",
    "    \n",
    "    CA = F[0] / v0\n",
    "    \n",
    "    r = kA * CA ** 2\n",
    "    \n",
    "    dFAdW = -r\n",
    "    dFPdW = r\n",
    "\n",
    "    return [dFAdW, dFPdW]\n",
    "\n",
    "Wspan = np.linspace (0, 22)\n",
    "\n",
    "F2 = odeint (dFdW, F0, Wspan)\n",
    "plt.plot (Wspan, F2)\n",
    "plt.legend(['$F_A$','$F_P$'])\n",
    "plt.xlabel('Weight of catalyst/kg')\n",
    "plt.ylabel('Molar Flowrate/(mol/min)')\n",
    "plt.grid()\n",
    "plt.show()"
   ]
  },
  {
   "cell_type": "code",
   "execution_count": 8,
   "metadata": {},
   "outputs": [
    {
     "data": {
      "image/png": "[encoded data removed]",
      "text/plain": [
       "<matplotlib.figure.Figure at 0x7f7d838c7eb8>"
      ]
     },
     "metadata": {},
     "output_type": "display_data"
    }
   ],
   "source": [
    "kA = lambda W: kA0 * np.exp (-kD * (W/Us))\n",
    "plt.plot(Wspan, kA(Wspan))\n",
    "plt.xlabel ('weight of catalyst/kg')\n",
    "plt.ylabel ('$k_A/\\mathrm{(L^2/(kg_{cat} \\cdot mol \\cdot min))}$')\n",
    "plt.grid()\n",
    "plt.show()"
   ]
  },
  {
   "cell_type": "markdown",
   "metadata": {},
   "source": [
    "The profile of $k_A$ in the packed bed reactor is like the profile in CSTR for $[0, 2.2]$ min, which shows the catalyst maintains relatively high activity."
   ]
  },
  {
   "cell_type": "markdown",
   "metadata": {},
   "source": [
    "## Part E\n",
    "With your new reactor configuration, find the optimal reactant flow rate $v_0$ and catalyst feed rate $U_s$ to maximize profit, and report this profit. Assume you're going to sell all product you make.\n",
    "Useful information:\n",
    "- It costs $\\$25,000/hr$ to operate the moving bed reactor.\n",
    "- The gas/oil feed costs \\$50/mol.\n",
    "- Bulk catalyst material costs \\$150/kg.\n",
    "- The products sell for \\$200/mol (on an equivalent basis per mol of gas/oil).\n",
    "\n",
    "Tip: it can help to plot profit as a function of Us and v0 using plt.contour to help identify what is reasonable, just as we did in the bonus for HW5."
   ]
  },
  {
   "cell_type": "code",
   "execution_count": 27,
   "metadata": {},
   "outputs": [],
   "source": [
    "from scipy.optimize import minimize, fmin"
   ]
  },
  {
   "cell_type": "code",
   "execution_count": 39,
   "metadata": {},
   "outputs": [
    {
     "data": {
      "text/plain": [
       "      fun: -3.8994584949341515\n",
       " hess_inv: <2x2 LbfgsInvHessProduct with dtype=float64>\n",
       "      jac: array([  9.09494702e-05,  -4.54747351e-05])\n",
       "  message: b'CONVERGENCE: REL_REDUCTION_OF_F_<=_FACTR*EPSMCH'\n",
       "     nfev: 87\n",
       "      nit: 15\n",
       "   status: 0\n",
       "  success: True\n",
       "        x: array([ 403.08265806,    7.27323363])"
      ]
     },
     "execution_count": 39,
     "metadata": {},
     "output_type": "execute_result"
    }
   ],
   "source": [
    "c_op = 25000 / 60 # $/min\n",
    "c_feed = 50 # $/mol\n",
    "c_cat = 150 # $/kg\n",
    "p = 200 # $/mol\n",
    "\n",
    "def profit(Y, sign = 1):\n",
    "    nu, Us = Y\n",
    "    # F0 = [30, 0] # mol/min\n",
    "    \n",
    "    F0 = [0.075 * nu, 0]\n",
    "    V = 100 # L\n",
    "\n",
    "    def PBR(F, W):\n",
    "        CA, CP = F / nu\n",
    "\n",
    "        tau = W / Us\n",
    "        kA = kA0 * np.exp(- kD * tau)\n",
    "\n",
    "        r = kA * CA ** 2\n",
    "\n",
    "        return [-r, r]\n",
    "\n",
    "    Wspan = np.linspace(0, 22)\n",
    "\n",
    "    F_PBR = odeint(PBR, F0, Wspan)\n",
    "    \n",
    "    cost = c_op + c_feed * F0[0] + c_cat * Us\n",
    "    pro = F_PBR[-1, 1] * p\n",
    "    pro_net = pro - cost\n",
    "    return pro_net * sign\n",
    "\n",
    "bnds = ((10e-6, None), (10e-6, None))\n",
    "\n",
    "sol_MaxPro = minimize (profit, [400, 6], args = -1, bounds = bnds)\n",
    "sol_MaxPro\n",
    "#sol_MaxPro = fmin(profit, [400, 10]) #, -1)\n",
    "#profit(sol_MaxPro.x)"
   ]
  },
  {
   "cell_type": "code",
   "execution_count": 9,
   "metadata": {},
   "outputs": [],
   "source": [
    "c_op = 25000 # $/hr\n",
    "c_feed = 50 # $/mol\n",
    "c_cat = 150 # $/kg\n",
    "c_prod = 200 # $/mol\n",
    "\n",
    "def ProFun (V, sign = 1):\n",
    "    v0, Us = V\n",
    "    \n",
    "    FA0 = v0 * 0.075 # mol/min\n",
    "    F0 = [FA0, 0]\n",
    "\n",
    "    def dFdW2(F, W):\n",
    "        tau = W / Us\n",
    "        kA = kA0 * np.exp (-kD * tau)\n",
    "\n",
    "        CA = F[0] / v0\n",
    "\n",
    "        r = kA * CA ** 2\n",
    "\n",
    "        dFAdW = -r\n",
    "        dFPdW = r\n",
    "\n",
    "        return [dFAdW, dFPdW]\n",
    "\n",
    "    F = odeint (dFdW2, F0, Wspan)\n",
    "    FP_exit = F[-1,1]\n",
    "    P = c_prod * FP_exit - c_op / 60 - c_feed * FA0 - c_cat * Us\n",
    "    return P * sign"
   ]
  },
  {
   "cell_type": "code",
   "execution_count": 10,
   "metadata": {
    "scrolled": true
   },
   "outputs": [
    {
     "name": "stdout",
     "output_type": "stream",
     "text": [
      "The maximum profit is 3.90 $/min, when v0 = 403.08 L/min, Us = 7.27 kg/min.\n"
     ]
    }
   ],
   "source": [
    "bnds = ((1e-10, None), (1e-10, None))\n",
    "\n",
    "sol = minimize(ProFun, [400, 10], args = -1, bounds = bnds)\n",
    "v0_sol, Us_sol = sol.x\n",
    "print ('The maximum profit is {:1.2f} $/min, when v0 = {:1.2f} L/min, Us = {:1.2f} kg/min.'.format(-sol.fun, v0_sol, Us_sol))"
   ]
  },
  {
   "cell_type": "code",
   "execution_count": 11,
   "metadata": {
    "scrolled": true
   },
   "outputs": [],
   "source": [
    "v0_span = np.linspace (0.1, 600, 100)\n",
    "Us_span = np.linspace (0.1, 10, 100)\n",
    "\n",
    "v0_mesh, Us_mesh = np.meshgrid (v0_span, Us_span)\n",
    "\n",
    "Pro = np.empty((100, 100, ))\n",
    "Pro[:] = np.NAN\n",
    "\n",
    "for i, v0 in enumerate (v0_span):\n",
    "    for j, Us in enumerate (Us_span):\n",
    "        V = [v0, Us]\n",
    "        Pro[i, j] = ProFun(V)"
   ]
  },
  {
   "cell_type": "code",
   "execution_count": 12,
   "metadata": {},
   "outputs": [
    {
     "data": {
      "image/png": "[encoded data removed]",
      "text/plain": [
       "<matplotlib.figure.Figure at 0x7f7d839d3588>"
      ]
     },
     "metadata": {},
     "output_type": "display_data"
    }
   ],
   "source": [
    "CP = plt.contour(v0_mesh, Us_mesh, Pro, levels = [-2600, 10],\n",
    "                colors=('k',), linstyles=('-',))\n",
    "# CCF = plt.contourf(v0_mesh, Us_mesh, Pro)\n",
    "CPF = plt.contourf(v0_mesh, Us_mesh, Pro)\n",
    "plt.colorbar(CPF)\n",
    "plt.show()"
   ]
  },
  {
   "cell_type": "markdown",
   "metadata": {},
   "source": [
    "## Part F\n",
    "You complain to your catalyst vendor about how fast the catalyst deactivates, and they suggest you try their new SuperPremium+++ catalyst. It costs \\$250/kg but is more resilient and has an improved deactivation rate constant of $k_D=0.3$/min. Will this change be worth it? Decide by calculating the expected profit with this new catalyst."
   ]
  },
  {
   "cell_type": "code",
   "execution_count": 13,
   "metadata": {},
   "outputs": [],
   "source": [
    "c_cat2 = 250 # $/kg\n",
    "kD2 = 0.3 # 1/min\n",
    "\n",
    "def ProFun2 (V, sign = 1):\n",
    "    v0, Us = V\n",
    "    \n",
    "    FA0 = v0 * 0.075 # mol/min\n",
    "    F0 = [FA0, 0]\n",
    "\n",
    "    def dFdW3(F, W):\n",
    "        tau = W / Us\n",
    "        kA = kA0 * np.exp (-kD2 * tau)\n",
    "\n",
    "        CA = F[0] / v0\n",
    "\n",
    "        # r = kA * rho_cat * CA ** 2\n",
    "        r = kA * CA ** 2\n",
    "\n",
    "        dFAdW = -r\n",
    "        dFPdW = r\n",
    "\n",
    "        return [dFAdW, dFPdW]\n",
    "\n",
    "    F = odeint (dFdW3, F0, Wspan)\n",
    "    FP_exit = F[-1,1]\n",
    "    P = c_prod * FP_exit - c_op / 60 - c_feed * FA0 - c_cat2 * Us\n",
    "    return P * sign"
   ]
  },
  {
   "cell_type": "code",
   "execution_count": 14,
   "metadata": {},
   "outputs": [
    {
     "name": "stdout",
     "output_type": "stream",
     "text": [
      "The maximum profit is 406.10 $/min, when v0 = 511.45 L/min, Us = 4.38 kg/min.\n"
     ]
    }
   ],
   "source": [
    "bnds = ((1e-10, None), (1e-10, None))\n",
    "\n",
    "sol2 = minimize(ProFun2, [400, 10], args = -1, bounds = bnds)\n",
    "v0_sol2, Us_sol2 = sol2.x\n",
    "print ('The maximum profit is {:1.2f} $/min, when v0 = {:1.2f} L/min, Us = {:1.2f} kg/min.'.format(-sol2.fun, v0_sol2, Us_sol2))"
   ]
  },
  {
   "cell_type": "code",
   "execution_count": 15,
   "metadata": {},
   "outputs": [],
   "source": [
    "v0_span = np.linspace (0.1, 600, 100)\n",
    "Us_span = np.linspace (0.1, 10, 100)\n",
    "\n",
    "v0_mesh, Us_mesh = np.meshgrid (v0_span, Us_span)\n",
    "\n",
    "Pro2 = np.empty((100, 100, ))\n",
    "Pro2[:] = np.NAN\n",
    "\n",
    "for i, v0 in enumerate (v0_span):\n",
    "    for j, Us in enumerate (Us_span):\n",
    "        V = [v0, Us]\n",
    "        Pro2[i, j] = ProFun2(V)"
   ]
  },
  {
   "cell_type": "code",
   "execution_count": 16,
   "metadata": {},
   "outputs": [
    {
     "data": {
      "image/png": "[encoded data removed]",
      "text/plain": [
       "<matplotlib.figure.Figure at 0x7f7d838daba8>"
      ]
     },
     "metadata": {},
     "output_type": "display_data"
    }
   ],
   "source": [
    "CP2 = plt.contour(v0_mesh, Us_mesh, Pro2, levels = [-2600, 10],\n",
    "                colors=('k',), linstyles=('-',))\n",
    "# CCF = plt.contourf(v0_mesh, Us_mesh, Pro)\n",
    "CPF2 = plt.contourf(v0_mesh, Us_mesh, Pro2)\n",
    "plt.colorbar(CPF2)\n",
    "plt.show()"
   ]
  },
  {
   "cell_type": "markdown",
   "metadata": {},
   "source": [
    "# Problem 2: Catalyst particles\n",
    "\n",
    "A first-order heterogeneous irreversible reaction is taking place within a spherical catalyst pellet that is plated with platinum throughout the pellet. The reactant concentration halfway between the external surface and the center of the pellet ($r=R/2$) is equal to one tenth the concentration of the pellet's external surface.  The concentration at the external surface is 0.001 g mol /dm^3, the diameter (2R) is $2\\times 10^{-3}$cm, and the diffusion coefficient is 0.1 $cm^2/s$.\n",
    "\\begin{align*}\n",
    "\\ce{A->B}\n",
    "\\end{align*}"
   ]
  },
  {
   "cell_type": "markdown",
   "metadata": {},
   "source": [
    "## Part A\n",
    "What is the concentration of reactant at a distance of $3\\times 10^{-4}$ cm in from the external pellet surface?"
   ]
  },
  {
   "cell_type": "code",
   "execution_count": 17,
   "metadata": {},
   "outputs": [],
   "source": [
    "De = 0.1 # cm^2/s\n",
    "R = 1e-3 # cm\n",
    "CAs = 1e-3 # mol/L\n",
    "\n",
    "a = R / 3\n",
    "\n",
    "def SolPhi(phi, r_bar):\n",
    "    return 3 / r_bar * np.sinh (r_bar * phi) / np.sinh(3 * phi) - 0.1\n",
    "\n",
    "phi, = fsolve (SolPhi, 1, args= R / 2 / a)"
   ]
  },
  {
   "cell_type": "markdown",
   "metadata": {},
   "source": [
    "We can solve the problem using the normal or dimensionless form of the equations."
   ]
  },
  {
   "cell_type": "markdown",
   "metadata": {},
   "source": [
    "1) Using the normal form"
   ]
  },
  {
   "cell_type": "code",
   "execution_count": 18,
   "metadata": {},
   "outputs": [
    {
     "name": "stdout",
     "output_type": "stream",
     "text": [
      "The reaction constant is 3.58e+06/s.\n",
      "The concentration is 3.01e-05 mol/L at the center of the pellet.\n",
      "The concentration is 2.37e-04 mol/L at a distance of 3×10−4 cm in from the external pellet surface.\n"
     ]
    }
   ],
   "source": [
    "k = phi ** 2 * De / a ** 2\n",
    "print ('The reaction constant is {:1.2e}/s.'.format(k))\n",
    "\n",
    "def ode(Y, r):\n",
    "    WA, CA = Y\n",
    "    \n",
    "    rA = k * CA\n",
    "    \n",
    "    if r == 0:\n",
    "        dWAdr = - 2 / (r + 1e-6) * WA + rA / De\n",
    "    else:\n",
    "        dWAdr = - 2 / r * WA + rA / De\n",
    "        \n",
    "    dCAdr = WA\n",
    "    \n",
    "    return [dWAdr, dCAdr]\n",
    "\n",
    "Rspan = np.linspace(0, R, 200)\n",
    "\n",
    "def ICFun(CA0):\n",
    "    Y = odeint (ode, [0, CA0], Rspan)\n",
    "    #print (Y)\n",
    "    return Y[-1, 1] - CAs\n",
    "\n",
    "CA0, = fsolve (ICFun, 1e-4)\n",
    "print('The concentration is {:1.2e} mol/L at the center of the pellet.'.format(CA0))\n",
    "\n",
    "Rspan2 = np.linspace (0, R - 3e-4, 200)\n",
    "Y2 = odeint (ode, [0, CA0], Rspan2)\n",
    "print('The concentration is {:1.2e} mol/L at a distance of 3×10−4 cm in from the external pellet surface.'.format(Y2[-1, 1]))"
   ]
  },
  {
   "cell_type": "markdown",
   "metadata": {},
   "source": [
    "2) Using the dimensionless form"
   ]
  },
  {
   "cell_type": "code",
   "execution_count": 19,
   "metadata": {},
   "outputs": [
    {
     "name": "stdout",
     "output_type": "stream",
     "text": [
      "The concentration is 2.37e-04 mol/L at a distance of 3×10−4 cm in from the external pellet surface.\n"
     ]
    }
   ],
   "source": [
    "def C_bar(phi, r_bar):\n",
    "    return 3 / r_bar * np.sinh (r_bar * phi) / np.sinh(3 * phi)\n",
    "\n",
    "CA2 = C_bar(phi, (R - 3e-4)/a) * CAs\n",
    "print('The concentration is {:1.2e} mol/L at a distance of 3×10−4 cm in from the external pellet surface.'.format(CA2))"
   ]
  },
  {
   "cell_type": "markdown",
   "metadata": {},
   "source": [
    "## Part B\n",
    "To what diameter should the pellet be reduced if the effectiveness factor is to be 0.8? "
   ]
  },
  {
   "cell_type": "code",
   "execution_count": 20,
   "metadata": {},
   "outputs": [
    {
     "name": "stdout",
     "output_type": "stream",
     "text": [
      "The pellet should be reduced to 6.82e-04 cm diameter if eta factor is to be 0.8.\n"
     ]
    }
   ],
   "source": [
    "def eta(phi):\n",
    "    return  1 / phi * (1 / np.tanh(3 * phi) - 1 / (3 * phi)) - 0.8\n",
    "\n",
    "phi2, = fsolve (eta, 1)\n",
    "\n",
    "a2 = (phi2 ** 2 * De / k) ** 0.5\n",
    "R2 = 3 * a2\n",
    "print ('The pellet should be reduced to {:1.2e} cm diameter if eta factor is to be 0.8.'.format(R2*2))"
   ]
  }
 ],
 "metadata": {
  "kernelspec": {
   "display_name": "Python 3",
   "language": "python",
   "name": "python3"
  },
  "language_info": {
   "codemirror_mode": {
    "name": "ipython",
    "version": 3
   },
   "file_extension": ".py",
   "mimetype": "text/x-python",
   "name": "python",
   "nbconvert_exporter": "python",
   "pygments_lexer": "ipython3",
   "version": "3.6.2"
  },
  "toc": {
   "colors": {
    "hover_highlight": "#DAA520",
    "navigate_num": "#000000",
    "navigate_text": "#333333",
    "running_highlight": "#FF0000",
    "selected_highlight": "#FFD700",
    "sidebar_border": "#EEEEEE",
    "wrapper_background": "#FFFFFF"
   },
   "moveMenuLeft": true,
   "nav_menu": {
    "height": "155px",
    "width": "252px"
   },
   "navigate_menu": true,
   "number_sections": false,
   "sideBar": true,
   "threshold": 4,
   "toc_cell": false,
   "toc_section_display": "block",
   "toc_window_display": false,
   "widenNotebook": false
  }
 },
 "nbformat": 4,
 "nbformat_minor": 2
}
