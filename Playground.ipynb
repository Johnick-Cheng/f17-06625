{
 "cells": [
  {
   "cell_type": "markdown",
   "metadata": {},
   "source": [
    "%% HW1_4 1\n",
    "\n",
    "%% mass balance\n",
    "test=1;\n",
    "% \n",
    "% A: $$vC_\\mathrm{A_in}/V - vC_\\mathrm{A}/V - k_1 C_\\mathrm{A} = 0 $$\n",
    "% B: $$k_1 C_\\mathrm{A} - k_2 C_\\mathrm{B} - vC_\\mathrm{B}/V = 0 $$\n",
    "% C: $$k_2 C_\\mathrm{B} - vC_\\mathrm{C}/V = 0$$\n",
    "\n"
   ]
  },
  {
   "cell_type": "markdown",
   "metadata": {},
   "source": [
    "A = [v/V+k1, 0, 0;\n",
    "    k1, -k2-v/V, 0;\n",
    "    0, k2, -v/V]"
   ]
  },
  {
   "cell_type": "markdown",
   "metadata": {},
   "source": [
    "%% HW1_4 1\n",
    "\n",
    "%% mass balance\n",
    "test=1;\n",
    "% \n",
    "% A: $$vC_\\mathrm{A_in}/V - vC_\\mathrm{A}/V - k_1 C_\\mathrm{A} = 0 $$\n",
    "% B: $$k_1 C_\\mathrm{A} - k_2 C_\\mathrm{B} - vC_\\mathrm{B}/V = 0 $$\n",
    "% C: $$k_2 C_\\mathrm{B} - vC_\\mathrm{C}/V = 0$$\n",
    "\n"
   ]
  },
  {
   "cell_type": "code",
   "execution_count": 9,
   "metadata": {},
   "outputs": [],
   "source": [
    "import numpy as np\n",
    "import matplotlib.pyplot as plt\n",
    "from scipy.optimize import fsolve"
   ]
  },
  {
   "cell_type": "code",
   "execution_count": 7,
   "metadata": {},
   "outputs": [
    {
     "data": {
      "image/png": "[encoded data removed]",
      "text/plain": [
       "<matplotlib.figure.Figure at 0x7f4105294390>"
      ]
     },
     "metadata": {},
     "output_type": "display_data"
    }
   ],
   "source": [
    "x = np.linspace(-10, 100, 100)\n",
    "def y(x): r4\n",
    "    P1 = 1 / (2 * (1 - 5 / 12 * x))\n",
    "    P2 = 2/3 * x + (4/9 * x ** 2 - 1/3 * x * (1 - 5/ 12 * x)) ** 0.5\n",
    "    return P1 * P2\n",
    "\n",
    "sol=y(x)\n",
    "\n",
    "plt.plot (x, sol)\n",
    "plt.show ()\n",
    "\n"
   ]
  },
  {
   "cell_type": "code",
   "execution_count": 12,
   "metadata": {},
   "outputs": [
    {
     "name": "stderr",
     "output_type": "stream",
     "text": [
      "/opt/conda/lib/python3.6/site-packages/ipykernel_launcher.py:4: RuntimeWarning: invalid value encountered in sqrt\n",
      "  after removing the cwd from sys.path.\n",
      "/opt/conda/lib/python3.6/site-packages/scipy/optimize/minpack.py:161: RuntimeWarning: The iteration is not making good progress, as measured by the \n",
      "  improvement from the last ten iterations.\n",
      "  warnings.warn(msg, RuntimeWarning)\n"
     ]
    },
    {
     "data": {
      "text/plain": [
       "array([-0.00064608])"
      ]
     },
     "execution_count": 12,
     "metadata": {},
     "output_type": "execute_result"
    }
   ],
   "source": [
    "sol2 = fsolve (y, -1)\n",
    "sol2"
   ]
  },
  {
   "cell_type": "markdown",
   "metadata": {},
   "source": [
    "# 10.05 Review"
   ]
  },
  {
   "cell_type": "code",
   "execution_count": 4,
   "metadata": {},
   "outputs": [
    {
     "data": {
      "image/png": "[encoded data removed]",
      "text/plain": [
       "<matplotlib.figure.Figure at 0x7f6ea0072048>"
      ]
     },
     "metadata": {},
     "output_type": "display_data"
    }
   ],
   "source": [
    "import numpy as np\n",
    "import matplotlib.pyplot as plt\n",
    "\n",
    "def testf(x):\n",
    "    return x + 1\n",
    "\n",
    "xspan = np.linspace(1,5)\n",
    "\n",
    "yspan = list(map(testf, xspan))\n",
    "\n",
    "plt.plot(xspan, yspan)\n",
    "plt.show()"
   ]
  }
 ],
 "metadata": {
  "kernelspec": {
   "display_name": "Python 3",
   "language": "python",
   "name": "python3"
  },
  "language_info": {
   "codemirror_mode": {
    "name": "ipython",
    "version": 3
   },
   "file_extension": ".py",
   "mimetype": "text/x-python",
   "name": "python",
   "nbconvert_exporter": "python",
   "pygments_lexer": "ipython3",
   "version": "3.6.2"
  },
  "toc": {
   "colors": {
    "hover_highlight": "#DAA520",
    "navigate_num": "#000000",
    "navigate_text": "#333333",
    "running_highlight": "#FF0000",
    "selected_highlight": "#FFD700",
    "sidebar_border": "#EEEEEE",
    "wrapper_background": "#FFFFFF"
   },
   "moveMenuLeft": true,
   "nav_menu": {
    "height": "12px",
    "width": "252px"
   },
   "navigate_menu": true,
   "number_sections": true,
   "sideBar": true,
   "threshold": 4,
   "toc_cell": false,
   "toc_section_display": "block",
   "toc_window_display": false,
   "widenNotebook": false
  }
 },
 "nbformat": 4,
 "nbformat_minor": 2
}
