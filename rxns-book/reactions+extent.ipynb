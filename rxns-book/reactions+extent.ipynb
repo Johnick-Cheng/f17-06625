{
 "cells": [
  {
   "cell_type": "markdown",
   "metadata": {},
   "source": [
    "\n",
    "# The Basics - isothermal reactor design with single reactions\n",
    "\n"
   ]
  },
  {
   "cell_type": "markdown",
   "metadata": {},
   "source": [
    "\n",
    "## Chemical reactions\n",
    "\n"
   ]
  },
  {
   "cell_type": "markdown",
   "metadata": {},
   "source": [
    "-   Chemical reaction transform reactants to products.\n",
    "\n",
    "Consider a reaction\n",
    "$ a A + b B + \\cdots \\rightarrow q Q + s S +\\cdots $\n",
    "\n",
    "-   symbols on the left are reactants\n",
    "\n",
    "-   symbols on the right are products\n",
    "\n",
    "-   The lower case letters are stoichiometric coefficients\n",
    "    -   Stoichiometric coefficients relate the amounts of each reactant that react to the amounts of products produced\n",
    "\n",
    "-   The upper case letters are symbols for reactant and product species\n",
    "\n",
    "-   For specificity let us consider\n",
    "\n",
    "\\begin{equation}\n",
    "a A + b B \\rightarrow c C + d D\n",
    "\\end{equation}\n",
    "\n",
    "-   We will express this reaction as:\n",
    "\n",
    "\\begin{equation}\n",
    "0 = \\alpha_3 A_3 + \\alpha_4 A_4  - \\alpha_1 A_1 - \\alpha_2 A_2\n",
    "\\end{equation}\n",
    "\n",
    "where we have substituted $A = A_1$ and $a = \\alpha_1$, $C = A_3$ and $c = \\alpha_3$, etc&#x2026;\n",
    "\n",
    "-   In the most compact form we might write this as a sum over all $N$ species for a reaction:\n",
    "\n",
    "\\begin{equation}\n",
    "\\sum_{i=0}^{N-1} \\alpha_i A_i = 0\n",
    "\\end{equation}\n",
    "\n",
    "where $\\alpha_i$ is the stoichiometric coefficient (negative for reactants, positive for products), or more preferrably in matrix equation form:\n",
    "\n",
    "\\begin{equation}\n",
    "\\vec{\\alpha} \\cdot \\vec{A} = 0\n",
    "\\end{equation}\n",
    "\n",
    "where $\\vec{\\alpha}$ is the vector of stoichiometric coefficients, and $\\vec{A}$ is the vector of chemical species.\n",
    "\n",
    "-   It is conventional that the stoichiometric coefficients of reactants are negative and for products the stoichiometric coefficients are positive.\n",
    "\n",
    "-   Atoms cannot be destroyed in non-nuclear chemical reactions, hence it follows that the same number of atoms entering a reactor must also leave the reactor. The atoms may leave the reactor in a different molecular configuration due to the reaction, but the total mass leaving the reactor must be the same.\n",
    "\n",
    "-   We consider the water gas shift reaction:\n",
    "\n",
    "\\begin{equation}\n",
    "CO + H_2O \\rightleftharpoons H_2 + CO_2\n",
    "\\end{equation}\n",
    "\n",
    "-   The total mass at any time will be $M_{CO} + M_{H_2O} + M_{H_2} + M_{CO_2}$.\n",
    "    -   These are related to the number of moles of each species through the species molecular weights.\n",
    "\n",
    "-   Let $\\vec{N}$ be a vector that is the number of moles of each species. Then, the total mass is: $\\vec{N} \\cdot \\vec{MW}$.\n",
    "\n",
    "-   Stoichiometry constrains the relationship between the moles of each species during reaction.\n",
    "\n",
    "-   Suppose we start with this initial number of moles of each species: $[N_0, N_0, 0, 0]$.\n",
    "    -   Now, if $n$ moles of A\\_1 reacts, we know that $n$ moles of A\\_2 react, and $n$ moles of A\\_3 and A\\_4 are produced.\n",
    "    -   In otherwords, the new number of moles of each species is: $\\vec{N_0} + n\\vec{\\alpha}$. And the new mass is correspondingly: $(\\vec{N_0} + n\\vec{\\alpha}) \\cdot \\vec{MW}$ or: $M_0 + n\\vec{\\alpha}\\cdot\\vec{MW}$.\n",
    "\n",
    "-   In a properly balanced chemical reaction, there are the same number of each type of atom on each side of the reaction, so the sum of molecular weights of reactants must be the same as products, and $\\vec{\\alpha}\\vec{MW}=0$. Therefore, the total mass does not change for any $n$!\n",
    "\n",
    "-   We can illustrate the conservation of mass with the following equation: $\\vec{\\alpha}\\vec{MW}=0$. Where $\\vec{\\alpha}$ is the stoichiometric coefficient vector and $\\vec{MW}$ is a column vector of molecular weights.\n",
    "\n",
    "-   For simplicity, we use pure isotope molecular weights, and not the isotope-weighted molecular weights. This equation simply examines the mass on the right side of the equation and the mass on left side of the equation.\n",
    "\n",
    "[numpy.array](https://docs.scipy.org/doc/numpy/reference/generated/numpy.array.html)\n",
    "[numpy.dot](https://docs.scipy.org/doc/numpy/reference/generated/numpy.dot.html)\n",
    "[range](https://www.google.com/#safe=off&q=range)\n",
    "\n"
   ]
  },
  {
   "cell_type": "code",
   "execution_count": 1,
   "metadata": {},
   "outputs": [
    {
     "name": "stdout",
     "output_type": "stream",
     "text": [
      "[0, 1, 2, 3]\n"
     ]
    }
   ],
   "source": [
    "print(list(range(4)))"
   ]
  },
  {
   "cell_type": "code",
   "execution_count": 2,
   "metadata": {},
   "outputs": [
    {
     "name": "stdout",
     "output_type": "stream",
     "text": [
      "1.  0\n",
      "2.  0\n",
      "3.  0\n",
      "4.  0\n",
      "5.  0\n",
      "6.  0\n",
      "[-28 -18   2  44]\n"
     ]
    }
   ],
   "source": [
    "import numpy as np\n",
    "import pycse.orgmode as org\n",
    "\n",
    "# stoichiometric vector for\n",
    "# CO + H2O -> H2 + CO2\n",
    "alpha = np.array([-1, -1, 1, 1])\n",
    "\n",
    "MW = np.array([28, 18, 2, 44])     # Molecular weights gm/mol\n",
    "\n",
    "print('1. ', np.dot(alpha, MW))\n",
    "\n",
    "print('2. ', np.sum([a * m for a, m in zip(alpha, MW)]))\n",
    "\n",
    "# Here is some old-fashioned code to do the same thing. do not do\n",
    "# this. even though it works:\n",
    "total = 0\n",
    "for i in [0, 1, 2, 3]:\n",
    "    total = total + alpha[i] * MW[i]\n",
    "print('3. ', total)\n",
    "\n",
    "# Kudos if you thought of this:\n",
    "import operator\n",
    "print('4. ', sum(map(operator.mul, alpha, MW)))\n",
    "# This is called functional programming\n",
    "\n",
    "# This is the new syntax in Python 3 for matrix multiplication\n",
    "print('5. ', alpha @ MW)\n",
    "\n",
    "# Note * is an element-wise multiplication for arrays. Arrays are not the same as lists.\n",
    "print('6. ', sum(alpha * MW))\n",
    "print(alpha * MW)  # in matlab this is alpha .* MW"
   ]
  },
  {
   "cell_type": "code",
   "execution_count": 3,
   "metadata": {},
   "outputs": [
    {
     "name": "stdout",
     "output_type": "stream",
     "text": [
      "[2 4 6]\n",
      "6\n"
     ]
    }
   ],
   "source": [
    "import numpy as np\n",
    "a = np.array([1, 2, 3])\n",
    "\n",
    "print(2 * a)\n",
    "\n",
    "\n",
    "print(np.dot([1, 1, 1], [2, 2, 2]))"
   ]
  },
  {
   "cell_type": "markdown",
   "metadata": {},
   "source": [
    "Stoichiometry also determines if the total number of moles in a reaction change. Even though the total mass is constant, the total number of moles may change. Here are three examples showing how this is possible.\n",
    "\n",
    "1.  CO + H<sub>2</sub>O &rarr; H\\_2 + CO\\_2  (no total mole change)\n",
    "2.  H<sub>2</sub>O &rarr; H\\_2 + 1/2 O\\_2 (Total moles increase by 0.5 mol per mol water reacted)\n",
    "3.  N\\_2 + 3H\\_2 &rarr; 2 NH\\_3 (Total moles decrease by two moles for every mole of N\\_2 reacted)\n",
    "\n",
    "The change in number of moles is given by $\\overline{\\alpha} = \\sum_{i=0}^N \\alpha_i$.\n",
    "\n"
   ]
  },
  {
   "cell_type": "code",
   "execution_count": 4,
   "metadata": {},
   "outputs": [
    {
     "name": "stdout",
     "output_type": "stream",
     "text": [
      "Change in moles for the WGS = 0 moles\n",
      "Change in moles for water splitting = 0.5 moles\n",
      "Change in moles for the ammonia synthesis = -2 moles\n"
     ]
    }
   ],
   "source": [
    "import numpy as np\n",
    "# Water-gas shift\n",
    "alpha = np.array([-1, -1, 1, 1]);  # stoichiometric vector for CO +\n",
    "                                   # H2O -> H2 + CO2\n",
    "print('Change in moles for the WGS = {0} moles'.format(sum(alpha)))\n",
    "\n",
    "alpha = np.array([-1, 1, 0.5]) # H2O -> H2 + 1/2 O2\n",
    "print('Change in moles for water splitting = {0} moles'.format(sum(alpha)))\n",
    "\n",
    "alpha = np.array([-1, -3, 2]) # N2 + 3H2 -> 2 NH3\n",
    "print('Change in moles for the ammonia synthesis = {} moles'.format(sum(alpha)))"
   ]
  },
  {
   "cell_type": "markdown",
   "metadata": {},
   "source": [
    "Changing the total number of moles in a reaction will have a big effect in gas phase reactions because it results in changing volumetric flow rates. We will come back to this later.\n",
    "\n"
   ]
  },
  {
   "cell_type": "markdown",
   "metadata": {},
   "source": [
    "\n",
    "## Reaction extent\n",
    "\n"
   ]
  },
  {
   "cell_type": "markdown",
   "metadata": {},
   "source": [
    "-   We now consider formalizing the change in moles of each species when reactions occur. Consider:\n",
    "\n",
    "\\begin{equation}\n",
    "2 \\;{H_2} + \\;{O_2} \\rightarrow 2 \\;{H_2O}\n",
    "\\end{equation}\n",
    "\n",
    "which we write as:\n",
    "\n",
    "\\begin{equation}\n",
    "0 = 2 A_3 - 2 A_1 - A_2\n",
    "\\end{equation}\n",
    "\n",
    "-   If we start with $N_{A_1,0}$ moles at some time, and later have $N_{A_1}$ moles later, then stoichiometry dictates that:\n",
    "\n",
    "\\begin{equation}\n",
    "\\frac{N_{A_1} - N_{A_1,0}}{-2} = \\frac{N_{A_2} - N_{A_2,0}}{-1} = \\frac{N_{A_3} - N_{A_3,0}}{2} = X\n",
    "\\end{equation}\n",
    "\n",
    "-   We call $X$ the extent of reaction, and it has units of moles. We can show generally that:\n",
    "\n",
    "\\begin{equation}\n",
    "N_J = N_{J,0} + \\alpha_J X\n",
    "\\end{equation}\n",
    "\n",
    "or for a flow system:\n",
    "\n",
    "\\begin{equation}\n",
    "F_J = F_{J,0} + \\alpha_J X\n",
    "\\end{equation}\n",
    "\n",
    "-   $X$ has units of mol/time for dimensional consistency in a flow system\n",
    "\n",
    "-   Note that the extent of reaction as written is extensive, and depends on how the reaction is written through the stoichiometric coefficients. It does not, however, depend on a particular species.\n",
    "\n",
    "-   If we have a constant volume reactor and a constant volumetric flow, we can use an intensive reaction extent:\n",
    "\n",
    "\\begin{equation}\n",
    "C_J = C_{J,0} + \\alpha_J \\xi\n",
    "\\end{equation}\n",
    "\n",
    "$\\xi$ is now an intensive reaction extent $X/V$, with units of mol / vol.\n",
    "\n",
    "or $\\xi'$ is now an intensive reaction extent $X/\\nu$, with units of mol / vol / time.\n",
    "\n",
    "-   Note that there are limits on the maximum value of $\\xi$ because we cannot have negative concentrations. If we set $C_J$ to zero, we derive\n",
    "\n",
    "\\begin{equation}\n",
    "\\xi_{max} = -\\frac{C_{J,0}}{\\alpha_J}\n",
    "\\end{equation}\n",
    "\n",
    "-   If there are multiple reactants present, then you must pick the smallest positive (non-zero) $\\xi_{max}$ to avoid getting negative concentrations of one species.\n",
    "\n",
    "-   Consider this reaction:\n",
    "\n",
    "$\\;{H2} + 0.5 \\;{O2} \\rightarrow \\;{H2O}$\n",
    "\n",
    "If you start with 0.55 mole of $H_2$, and 0.2 mol of $O_2$. What is $\\xi_{max}$?\n",
    "\n"
   ]
  },
  {
   "cell_type": "code",
   "execution_count": 5,
   "metadata": {},
   "outputs": [
    {
     "name": "stdout",
     "output_type": "stream",
     "text": [
      "H2  0.55\n",
      "O2  0.4\n",
      "The maximum extent is 0.4 moles.\n"
     ]
    }
   ],
   "source": [
    "import numpy as np\n",
    "\n",
    "M0 = np.array([0.55, 0.2])\n",
    "alpha = np.array([-1.0, -0.5])\n",
    "\n",
    "species = ['H2', 'O2']\n",
    "\n",
    "for sp, x in zip(species, -M0 / alpha):\n",
    "#    print('{0:4s}{1:1.2f}'.format(sp, x))\n",
    "    print('{0}  {1}'.format(sp, x))\n",
    "\n",
    "print('The maximum extent is {0} moles.'.format(min(- M0 / alpha)))"
   ]
  },
  {
   "cell_type": "markdown",
   "metadata": {},
   "source": [
    "Now for that extent, what is the reaction compostion? Let us work it out.  [zip](https://www.google.com/#safe=off&q=zip)\n",
    "\n"
   ]
  },
  {
   "cell_type": "code",
   "execution_count": 6,
   "metadata": {},
   "outputs": [
    {
     "name": "stdout",
     "output_type": "stream",
     "text": [
      "H2    0.15 moles\n",
      "O2    0.00 moles\n",
      "H2O   0.40 moles\n"
     ]
    }
   ],
   "source": [
    "import numpy as np\n",
    "\n",
    "M0 = np.array([0.55, 0.2, 0.0])\n",
    "alpha = np.array([-1.0, -0.5, 1.0])\n",
    "\n",
    "xi = 0.4\n",
    "\n",
    "M = M0 + alpha * xi\n",
    "species = ['H2', 'O2', 'H2O']\n",
    "\n",
    "for a, b in zip(species, M):\n",
    "    print('{0:5s} {1:1.2f} moles'.format(a, b))"
   ]
  },
  {
   "cell_type": "markdown",
   "metadata": {},
   "source": [
    "-   You can see that at that extent we have consumed all of the oxygen. We would call that the limiting reagent, because the reaction cannot proceed further since one of the reactants is gone.\n",
    "\n",
    "-   Rather than work in terms of reaction extents, you may choose to define a fractional extent:\n",
    "\n",
    "\\begin{equation}\n",
    "\\Xi = \\xi / \\xi_{max}\n",
    "\\end{equation}\n",
    "\n",
    "which leads upon substitution to:\n",
    "\n",
    "\\begin{equation}\n",
    "C_J = C_{J,0}(1 - \\Xi)\n",
    "\\end{equation}\n",
    "\n",
    "-   This new quantity $\\Xi$ is sometimes referred to as conversion. Conversion has the nice property of being dimensionless, and bounded between 0 and 1.\n",
    "\n"
   ]
  },
  {
   "cell_type": "markdown",
   "metadata": {},
   "source": [
    "\n",
    "# Recommended exercises\n",
    "\n"
   ]
  },
  {
   "cell_type": "markdown",
   "metadata": {},
   "source": [
    "Repeat [extent-composition](extent-composition)in fractional extent and conversion.\n",
    "\n"
   ]
  },
  {
   "cell_type": "code",
   "execution_count": null,
   "metadata": {
    "collapsed": true
   },
   "outputs": [],
   "source": []
  }
 ],
 "metadata": {
  "kernelspec": {
   "display_name": "Python 3",
   "language": "python",
   "name": "python3"
  },
  "language_info": {
   "codemirror_mode": {
    "name": "ipython",
    "version": 3
   },
   "file_extension": ".py",
   "mimetype": "text/x-python",
   "name": "python",
   "nbconvert_exporter": "python",
   "pygments_lexer": "ipython3",
   "version": "3.6.2"
  },
  "toc": {
   "colors": {
    "hover_highlight": "#DAA520",
    "navigate_num": "#000000",
    "navigate_text": "#333333",
    "running_highlight": "#FF0000",
    "selected_highlight": "#FFD700",
    "sidebar_border": "#EEEEEE",
    "wrapper_background": "#FFFFFF"
   },
   "moveMenuLeft": true,
   "nav_menu": {
    "height": "118px",
    "width": "252px"
   },
   "navigate_menu": true,
   "number_sections": true,
   "sideBar": true,
   "threshold": 4,
   "toc_cell": false,
   "toc_section_display": "block",
   "toc_window_display": false,
   "widenNotebook": false
  }
 },
 "nbformat": 4,
 "nbformat_minor": 1
}
