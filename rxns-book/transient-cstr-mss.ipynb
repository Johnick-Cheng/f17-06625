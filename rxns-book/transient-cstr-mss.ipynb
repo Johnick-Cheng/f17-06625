{
 "cells": [
  {
   "cell_type": "markdown",
   "metadata": {},
   "source": [
    "\n",
    "# Transient CSTR\n",
    "\n"
   ]
  },
  {
   "cell_type": "markdown",
   "metadata": {},
   "source": [
    "-   We can model the startup of a CSTR as an ordinary differential equation. We start with the usual mole balance:\n",
    "\n",
    "\\begin{equation}\n",
    "\\frac{dN_A}{dt} = F_{A0} - F_A + V r_A\n",
    "\\end{equation}\n",
    "\n",
    "-   and an initial condition on the concentration of $A$ in the reactor.\n",
    "\n",
    "-   Suppose that the reactor starts out full of solvent, with no $A$ present $C_A(t=0) = 0   $.  The reactor is at constant volume, so we rewrite the mole balance as:\n",
    "\n",
    "\\begin{equation}\n",
    "\\frac{dC_A}{dt} = F_{A0}/V - F_A/V + r_A\n",
    "\\end{equation}\n",
    "\n",
    "-   We will presume a first order reaction, $r_A = -k C_A$ with $k=0.11$ 1/min. $A$ flows into the reactor at a concentration of 0.5 mol/L at a rate of 1.5 L/min. The reactor is 2 L in volume.\n",
    "\n",
    "-   Let us plot the exit concentration as a function of time.\n",
    "\n"
   ]
  },
  {
   "cell_type": "code",
   "execution_count": 6,
   "metadata": {},
   "outputs": [
    {
     "data": {
      "image/png": "[encoded data removed]",
      "text/plain": [
       "<matplotlib.figure.Figure at 0x7f4498694198>"
      ]
     },
     "metadata": {},
     "output_type": "display_data"
    }
   ],
   "source": [
    "import numpy as np\n",
    "from scipy.integrate import odeint\n",
    "\n",
    "CAin = 0.5  # mol/L\n",
    "v0 = 1.5   # L/min\n",
    "V = 2.0    # reactor volume (L)\n",
    "\n",
    "FA0 = CAin * v0  # molar flow of A into the reactor\n",
    "\n",
    "k = 0.11   # rate constant (1/min)\n",
    "\n",
    "def dCadt(Ca, t):\n",
    "    rA = -k * Ca\n",
    "    Fa = v0 * Ca\n",
    "    return FA0 / V - Fa / V + rA\n",
    "\n",
    "tspan = np.linspace(0.0, 20.0)\n",
    "Ca0 = 0.5  # initial condition in the tank\n",
    "sol = odeint(dCadt, Ca0, tspan)\n",
    "\n",
    "import matplotlib.pyplot as plt\n",
    "plt.plot(tspan, sol)\n",
    "plt.xlabel('Time (min)')\n",
    "plt.ylabel('$C_A$ (mol/L)')\n",
    "plt.savefig('images/transient-cstr.png')\n",
    "plt.show()"
   ]
  },
  {
   "cell_type": "markdown",
   "metadata": {},
   "source": [
    "-   You can see that the concentration initially increases\n",
    "    -   That is because the tank is initially empty and the molar flow in is larger than the molar consumption rate\n",
    "\n",
    "-   Eventually a steady state concentration occurs\n",
    "\n",
    "-   In this case, the conversion is low because the reaction rate is slow\n",
    "\n",
    "How do we know the reaction rate is slow? Slow compared to what?\n",
    "\n"
   ]
  },
  {
   "cell_type": "code",
   "execution_count": 2,
   "metadata": {},
   "outputs": [
    {
     "name": "stdout",
     "output_type": "stream",
     "text": [
      "Residence time = 1.3333333333333333\n",
      "Reaction time scale = 9.090909090909092\n"
     ]
    }
   ],
   "source": [
    "V = 2.0  # liters\n",
    "v0 = 1.5  # L/min\n",
    "\n",
    "k = 0.11  # 1 / min\n",
    "\n",
    "print('Residence time = {}'.format(V / v0))\n",
    "# this is for a 1st order reaction\n",
    "print('Reaction time scale = {}'.format(1 / k))"
   ]
  },
  {
   "cell_type": "markdown",
   "metadata": {},
   "source": [
    "-   So, the reaction time is much longer than the residence time\n",
    "\n",
    "-   Note that unlike solving for the steady state solution using `fsolve`, here we do not need an initial guess.\n",
    "    -   Instead, we start with an initial condition that is known\n",
    "\n",
    "-   There are scenarios where there are multiple steady state solutions.\n",
    "    -   In those cases the solution you get depends on the initial conditions\n",
    "    -   This is analogous to the solution depending on the initial guess in a non-linear algebra problem\n",
    "\n",
    "-   Also note, you cannot use conversion to solve this problem.\n",
    "\n",
    "-   The concentration is changing at early times because of the flow into the reactor.\n",
    "\n"
   ]
  },
  {
   "cell_type": "code",
   "execution_count": 3,
   "metadata": {},
   "outputs": [
    {
     "name": "stdout",
     "output_type": "stream",
     "text": [
      "[ 0.43604651]\n",
      "[0.43604651162790697]\n",
      "[[ 0.44117647]\n",
      " [ 0.39473684]\n",
      " [ 0.35714286]\n",
      " [ 0.32608696]\n",
      " [ 0.3       ]\n",
      " [ 0.27777778]\n",
      " [ 0.25862069]\n",
      " [ 0.24193548]\n",
      " [ 0.22727273]\n",
      " [ 0.21428571]]\n",
      "[0.43604651162790697, 0.38659793814432986, 0.34722222222222221, 0.31512605042016806, 0.28846153846153844, 0.26595744680851063, 0.24671052631578946]\n"
     ]
    }
   ],
   "source": [
    "import numpy as np\n",
    "from scipy.optimize import fsolve\n",
    "\n",
    "CAin = 0.5  # mol/L\n",
    "v0 = 1.5   # L/min\n",
    "V = 2.0    # reactor volume (L)\n",
    "\n",
    "FA0 = CAin * v0  # molar flow of A into the reactor\n",
    "\n",
    "# k = 0.11   # rate constant (1/min)\n",
    "\n",
    "def dCadt(Ca, t, k):\n",
    "    rA = -k * Ca\n",
    "    Fa = v0 * Ca\n",
    "    return FA0 / V - Fa / V + rA\n",
    "\n",
    "ans2 = fsolve(dCadt, 0.5, args=(0, 0.11))\n",
    "print(ans2)\n",
    "print(list(ans2))\n",
    "\n",
    "print(np.array([fsolve(dCadt, 0.5, args=(0, k)) for k in np.linspace(0.1, 1.0, 10)]))\n",
    "\n",
    "\n",
    "results = []\n",
    "for k in [0.11, 0.22, 0.33, 0.44, 0.55, 0.66, 0.77]:\n",
    "   def obj2(Ca):\n",
    "       rA = -k * Ca\n",
    "       Fa = v0 * Ca\n",
    "       return FA0 / V - Fa / V + rA\n",
    "\n",
    "#   results.append(fsolve(obj2, 0.5)[0])\n",
    "\n",
    "   results += [fsolve(obj2, 0.5)[0]]\n",
    "#   results = results + [fsolve(obj2, 0.5)[0]]\n",
    "print(results)"
   ]
  },
  {
   "cell_type": "markdown",
   "metadata": {},
   "source": [
    "\n",
    "# Multiple steady states in a CSTR\n",
    "\n"
   ]
  },
  {
   "cell_type": "markdown",
   "metadata": {},
   "source": [
    "-   Let us examine one case where there are multiple steady state solutions.\n",
    "\n",
    "-   When rate laws are sufficiently non-linear, it becomes possible to have multiple steady state solutions.\n",
    "\n",
    "-   If we have a reaction of $A$ to products, following the rate law $-r_A = \\frac{1.75 C_A}{(1 + 10 C_A)^2}$ (with overall units of mol / L /min), then under some conditions it may be possible to observe multiple steady states.\n",
    "    -   This kind of rate law occurs when adsorption and surface intermediates determine the rate, or in enzyme kinetics ######\n",
    "\n",
    "-   We consider the steady state operation of a CSTR: $0 = F_{A,in} - F_{A} + r_A V$.\n",
    "\n",
    "-   The inlet concentration of $A$ is 1.5 mol/L, at a volumetric flow of 0.15 L/min\n",
    "\n",
    "-   The reactor volume if 5 L.\n",
    "\n",
    "-   We define our objective function, and plot it over the range of possible concentrations of $A$\n",
    "\n"
   ]
  },
  {
   "cell_type": "code",
   "execution_count": 4,
   "metadata": {
    "scrolled": true
   },
   "outputs": [
    {
     "data": {
      "image/png": "[encoded data removed]",
      "text/plain": [
       "<matplotlib.figure.Figure at 0x7f7274393208>"
      ]
     },
     "metadata": {},
     "output_type": "display_data"
    }
   ],
   "source": [
    "import numpy as np\n",
    "import matplotlib.pyplot as plt\n",
    "\n",
    "Ca0 = 1.5  # mol / L\n",
    "v0 = 0.15  # L / min\n",
    "V = 5      # L\n",
    "\n",
    "Fa0 = Ca0 * v0\n",
    "\n",
    "\n",
    "def objective(Ca):\n",
    "    Fa = Ca * v0\n",
    "    ra = -1.75 * Ca / (1 + 10 * Ca)**2\n",
    "    return Fa0 - Fa + ra * V\n",
    "\n",
    "Caspan = np.linspace(0, Ca0)\n",
    "\n",
    "xi = (Caspan - Ca0) / (-1) / Ca0  # normalized reaction extent\n",
    "plt.plot(Caspan, objective(Caspan))\n",
    "plt.plot([min(Caspan), max(Caspan)], [0, 0], 'r-')\n",
    "\n",
    "# Note the r' notation. This indicates a raw string, where no characters are\n",
    "# escaped. some strings like \\n stand for newline, \\t for tab, etc...\n",
    "# Alternatively you can escape the \\ with another \\ like this:\n",
    "# plt.xlabel('$\\\\xi$')\n",
    "plt.xlabel('$\\\\xi$')\n",
    "\n",
    "plt.ylabel('objective function')\n",
    "plt.savefig('images/multiple-steady-states.png')\n",
    "plt.show()"
   ]
  },
  {
   "cell_type": "markdown",
   "metadata": {},
   "source": [
    "-   You can see that there are three places where the objective function is equal to zero.\n",
    "    -   At approximately $C_A = 0.05, 0.19, 1.0$\n",
    "    -   These correspond to a high conversion, medium conversion, and low conversion steady state solution.\n",
    "\n",
    "-   That means there are three steady state solutions\n",
    "\n",
    "-   This occurs because of the nonlinear nature of the objective function\n",
    "\n",
    "-   Let us solve the objective function three times with different guesses:\n",
    "\n"
   ]
  },
  {
   "cell_type": "code",
   "execution_count": 5,
   "metadata": {},
   "outputs": [
    {
     "name": "stdout",
     "output_type": "stream",
     "text": [
      "steady state 1 = [ 0.0740589]\n",
      "steady state 2 = [ 0.19680782]\n",
      "steady state 3 = [ 1.02913327]\n"
     ]
    }
   ],
   "source": [
    "import numpy as np\n",
    "from scipy.optimize import fsolve\n",
    "\n",
    "Ca0 = 1.5  # mol / L\n",
    "v0 = 0.15  # L/min\n",
    "V = 5      # L\n",
    "\n",
    "Fa0 = Ca0 * v0  # molar flow of A into reactor\n",
    "\n",
    "\n",
    "def objective(Ca):\n",
    "    Fa = Ca * v0\n",
    "    ra = -1.75 * Ca / (1 + 10 * Ca)**2\n",
    "    return Fa0 - Fa + ra * V\n",
    "\n",
    "print('steady state 1 = {0}'.format(fsolve(objective, 0.05)))\n",
    "print('steady state 2 = {}'.format(fsolve(objective, 0.19)))\n",
    "print('steady state 3 = {}'.format(fsolve(objective, 1.0)))"
   ]
  },
  {
   "cell_type": "markdown",
   "metadata": {},
   "source": [
    "-   A natural question might be which one is correct?\n",
    "    -   They are all mathematical solutions to the mole balance!\n",
    "\n",
    "-   A better question is which ones are stable?\n",
    "\n",
    "-   You will not always observe multiple steady states, even for this reaction. If the reaction rate constant is different, or the volumetric flow is different, or inlet concentrations are different, then you may only observe one steady state.\n",
    "\n"
   ]
  }
 ],
 "metadata": {
  "kernelspec": {
   "display_name": "Python 3",
   "language": "python",
   "name": "python3"
  },
  "language_info": {
   "codemirror_mode": {
    "name": "ipython",
    "version": 3
   },
   "file_extension": ".py",
   "mimetype": "text/x-python",
   "name": "python",
   "nbconvert_exporter": "python",
   "pygments_lexer": "ipython3",
   "version": "3.6.2"
  },
  "toc": {
   "colors": {
    "hover_highlight": "#DAA520",
    "navigate_num": "#000000",
    "navigate_text": "#333333",
    "running_highlight": "#FF0000",
    "selected_highlight": "#FFD700",
    "sidebar_border": "#EEEEEE",
    "wrapper_background": "#FFFFFF"
   },
   "moveMenuLeft": true,
   "nav_menu": {
    "height": "48px",
    "width": "252px"
   },
   "navigate_menu": true,
   "number_sections": true,
   "sideBar": true,
   "threshold": 4,
   "toc_cell": false,
   "toc_section_display": "block",
   "toc_window_display": false,
   "widenNotebook": false
  }
 },
 "nbformat": 4,
 "nbformat_minor": 1
}
