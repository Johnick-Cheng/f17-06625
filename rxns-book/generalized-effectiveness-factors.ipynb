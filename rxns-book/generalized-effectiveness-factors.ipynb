{
 "cells": [
  {
   "cell_type": "markdown",
   "metadata": {},
   "source": [
    "\n",
    "# Generalize the internal effectiveness factor to different shapes, reaction orders, etc&#x2026;\n",
    "\n"
   ]
  },
  {
   "cell_type": "markdown",
   "metadata": {},
   "source": [
    "You may find [these notes](http://jbrwww.che.wisc.edu/home/jbraw/chemreacfun/ch7/slides-masswrxn.pdf) helpful to augment the discussion here.\n",
    "\n"
   ]
  },
  {
   "cell_type": "markdown",
   "metadata": {},
   "source": [
    "\n",
    "## Different particle shapes\n",
    "\n"
   ]
  },
  {
   "cell_type": "markdown",
   "metadata": {},
   "source": [
    "In the previous example we derived the effectiveness factor for a spherical particle and first order reaction. These features determined the solution because the way we made the equations dimensionless was determined by a shape factor specific to the sphere, and the dimensionless Thiele modulus implicitly included the reaction rate law.\n",
    "\n",
    "-   For other particle shapes, e.g. slabs or cylinders, we would use different characteristic lengths\n",
    "\n",
    "-   For first order reactions, there are still analytical solutions available\n",
    "\n",
    "-   Sphere $ \\eta = \\frac{1}{\\Phi}  \\left [\\frac{1}{\\tanh 3 \\Phi} - \\frac{1}{3 \\Phi} \\right]$\n",
    "-   Cylinder $ \\eta = \\frac{1}{\\Phi} \\frac{I_1(2 \\Phi)}{I_0(2\\Phi)}   $\n",
    "-   Slab $ \\frac{\\tanh \\Phi}{\\Phi} $\n",
    "\n",
    "These solutions look functionally different, but they are actually quite similar:\n",
    "\n",
    "scipy.special.iv [http://docs.scipy.org/doc/scipy-0.14.0/reference/generated/scipy.special.iv.html>](http://docs.scipy.org/doc/scipy-0.14.0/reference/generated/scipy.special.iv.html>)Modified Bessel function of the first kind of real order\n",
    "\n"
   ]
  },
  {
   "cell_type": "code",
   "execution_count": 2,
   "metadata": {},
   "outputs": [],
   "source": [
    "import numpy as np\n",
    "from scipy.special import iv\n",
    "import matplotlib.pyplot as plt\n",
    "\n",
    "Phi = np.logspace(-2, 2)\n",
    "eta_sphere = 1.0 / Phi * (1.0 / np.tanh(3 * Phi) - 1.0 / (3 * Phi))\n",
    "eta_cylinder = 1 / Phi * iv(1, 2 * Phi) / iv(0, 2 * Phi)\n",
    "eta_slab = np.tanh(Phi) / Phi\n",
    "\n",
    "plt.loglog(Phi, eta_sphere, label='sphere')\n",
    "plt.loglog(Phi, eta_cylinder, label='cylinder')\n",
    "plt.loglog(Phi, eta_slab, label='slab')\n",
    "\n",
    "plt.loglog(Phi, 1.0 / Phi, 'k--', label='1/$\\Phi$')\n",
    "plt.loglog(Phi,np.ones(shape=Phi.shape), 'b--', label='1')\n",
    "plt.legend()\n",
    "plt.xlabel('$\\Phi$')\n",
    "plt.ylabel('$\\eta$')\n",
    "plt.savefig('images/thiele-geometries.png')"
   ]
  },
  {
   "cell_type": "markdown",
   "metadata": {},
   "source": [
    "![img](./images/thiele-geometries.png)\n",
    "\n",
    "-   The main point is that the main effects are not that sensitive to the particle geometry, with errors less than 20% in the effectiveness factor.\n",
    "\n",
    "-   So, you should ignore the shape, and use the effectiveness factor for a sphere.\n",
    "\n"
   ]
  },
  {
   "cell_type": "markdown",
   "metadata": {},
   "source": [
    "\n",
    "## Different reaction orders\n",
    "\n"
   ]
  },
  {
   "cell_type": "markdown",
   "metadata": {},
   "source": [
    "-   Recall that the Thiele modulus contains an implicit reaction order in it, and we derived the solution for a first order reaction.\n",
    "\n",
    "-   Let us consider the effectiveness factor now for reaction orders other than one.\n",
    "\n",
    "-   For a spherical particle we have:\n",
    "\n",
    "$ D_A \\frac{1}{r^2} \\frac{d}{dr} \\left( r^2 \\frac{d C_A}{dr}\\right) - kC_A^n = 0 $\n",
    "\n",
    "-   Let us again make the equation dimensionless.\n",
    "\n",
    "-   This leads to:\n",
    "\n",
    "$ \\frac{1}{\\overline{r}^2} \\frac{d}{d\\overline{r}}\\left(\\overline{r}^2\\frac{d\\overline{c}}{d\\overline{r}}\\right) - \\frac{k C_{As}^{n-1}a^2}{D_A} \\overline{c}^n = 0 $\n",
    "\n",
    "-   with the new boundary conditions\n",
    "\n",
    "$\\overline{c}(\\overline{r}=3) = 1 $\n",
    "\n",
    "$ \\frac{d\\overline{c}}{d\\overline{r}}=0 \\textrm{ at } \\overline{r}=0 $\n",
    "\n",
    "-   Let us for now define $\\tilde{\\Phi}^2 = \\frac{k C_{As}^{n-1}a^2}{D_A}$\n",
    "\n",
    "-   We write out the differential equation as:\n",
    "\n",
    "$\\frac{d^2\\overline{c}}{d\\overline{r}^2} = -\\frac{2}{\\overline{r}}\\frac{d\\overline{c}}{d\\overline{r}} + \\tilde{\\Phi}^2\\overline{c}^n$\n",
    "\n",
    "-   This is a particularly useful form because there is a function in pycse to solve this kind of BVP.\n",
    "\n",
    "-   The effectiveness factor is defined as:\n",
    "\n",
    "$\\eta = \\frac{1}{9}\\int\\limits_0^3 \\overline{c}\\overline{r}^2 dr$\n",
    "\n",
    "-   or alternatively:\n",
    "\n",
    "$\\eta = \\frac{1}{\\tilde{\\Phi}^2}\\frac{d\\overline{c}}{d\\overline{r}}|_{r=3} = 0 $\n",
    "\n",
    "-   The integral definition is more accurate to evaluate\n",
    "\n",
    "-   Rather than use the shooting method (which does not work well for this nonlinear equation) we use a finite difference method (BVP\\_nl) available in `pycse`\n",
    "\n",
    "-   This is a nonlinear BVP, so we have to provide an initial guess for the solution. We will guess the concentration at the origin, and then use a polynomial function with slope=0 at the origin as an initial guess\n",
    "\n",
    "-   See [http://jbrwww.che.wisc.edu/home/jbraw/chemreacfun/fig-html/fig-7-9.html>](http://jbrwww.che.wisc.edu/home/jbraw/chemreacfun/fig-html/fig-7-9.html>)for an alternative approach.\n",
    "\n",
    "Note this takes longer than usual to run.\n",
    "\n",
    "We consider three reaction orders here.\n",
    "\n"
   ]
  },
  {
   "cell_type": "code",
   "execution_count": 2,
   "metadata": {},
   "outputs": [],
   "source": [
    "import numpy as np\n",
    "from pycse.PYCSE import BVP_nl\n",
    "import matplotlib.pyplot as plt\n",
    "\n",
    "n = [1.0, 2.0, 3.0]     # reaction order\n",
    "\n",
    "R = 3.0\n",
    "r1 = 0\n",
    "r2 = R\n",
    "\n",
    "N = 300\n",
    "RBAR = np.linspace(r1, r2, N)\n",
    "\n",
    "THIELE = np.logspace(-2, 1, 20)\n",
    "\n",
    "for order in n:\n",
    "    ETA = []\n",
    "\n",
    "    c0 = 0.9\n",
    "    p = 4\n",
    "    init = c0 + (1 - c0) / R**p * RBAR**p\n",
    "\n",
    "    for thiele in THIELE:\n",
    "        def F(rbar, cbar, dcbardrbar):\n",
    "            return -2.0 / rbar * dcbardrbar + thiele**2 * cbar**order\n",
    "\n",
    "        def BCS(rbar, cbar):\n",
    "            return [(cbar[1] - cbar[0])/(rbar[1] - rbar[0]),  # dc/dr(r=0) = 0\n",
    "                     cbar[-1] - 1]                            # cbar(R) = 1\n",
    "\n",
    "        CBAR = BVP_nl(F, RBAR, BCS, init)\n",
    "        eta2 = 1./9. * np.trapz(CBAR**order * RBAR**2, RBAR)\n",
    "        ETA += [eta2]\n",
    "\n",
    "    plt.loglog(THIELE, ETA, label='n={0}'.format(order))\n",
    "\n",
    "plt.legend(loc='best')\n",
    "plt.xlabel(r'$\\tilde{\\Phi}$')\n",
    "plt.ylabel(r'$\\eta$')\n",
    "plt.savefig('images/thiele-rxnorder-1.png')"
   ]
  },
  {
   "cell_type": "markdown",
   "metadata": {},
   "source": [
    "![img](./images/thiele-rxnorder-1.png)\n",
    "\n",
    "-   Note that unlike the case of different pellet shapes with n=1, the effectiveness factor changes a lot for different reaction orders.\n",
    "    -   and there are different asymptotic limits at high &Phi;.\n",
    "\n",
    "-   We can fix that by choosing a different definition of the Thiele modulus\n",
    "    -   $ \\Phi = \\sqrt{\\frac{n+1}{2} \\frac{k c_{As}^{n-1} a^2}{D_A} } $\n",
    "\n",
    "-   Then we have to modify the differential equation:\n",
    "\n",
    "$\\frac{d^2\\overline{c}}{d\\overline{r}^2} = -\\frac{2}{\\overline{r}}\\frac{d\\overline{c}}{d\\overline{r}} + \\frac{2}{n+1}\\Phi^2\\overline{c}^n$\n",
    "\n",
    "Resolving this equation leads to:\n",
    "\n"
   ]
  },
  {
   "cell_type": "code",
   "execution_count": 3,
   "metadata": {},
   "outputs": [
    {
     "ename": "ImportError",
     "evalue": "cannot import name 'BVP_nl'",
     "output_type": "error",
     "traceback": [
      "\u001b[0;31m---------------------------------------------------------------------------\u001b[0m",
      "\u001b[0;31mImportError\u001b[0m                               Traceback (most recent call last)",
      "\u001b[0;32m<ipython-input-3-b3265786bc63>\u001b[0m in \u001b[0;36m<module>\u001b[0;34m()\u001b[0m\n\u001b[1;32m      1\u001b[0m \u001b[0;32mimport\u001b[0m \u001b[0mnumpy\u001b[0m \u001b[0;32mas\u001b[0m \u001b[0mnp\u001b[0m\u001b[0;34m\u001b[0m\u001b[0m\n\u001b[0;32m----> 2\u001b[0;31m \u001b[0;32mfrom\u001b[0m \u001b[0mpycse\u001b[0m \u001b[0;32mimport\u001b[0m \u001b[0mBVP_nl\u001b[0m\u001b[0;34m\u001b[0m\u001b[0m\n\u001b[0m\u001b[1;32m      3\u001b[0m \u001b[0;32mimport\u001b[0m \u001b[0mmatplotlib\u001b[0m\u001b[0;34m.\u001b[0m\u001b[0mpyplot\u001b[0m \u001b[0;32mas\u001b[0m \u001b[0mplt\u001b[0m\u001b[0;34m\u001b[0m\u001b[0m\n\u001b[1;32m      4\u001b[0m \u001b[0;34m\u001b[0m\u001b[0m\n\u001b[1;32m      5\u001b[0m \u001b[0mn\u001b[0m \u001b[0;34m=\u001b[0m \u001b[0;34m[\u001b[0m\u001b[0;36m1.0\u001b[0m\u001b[0;34m,\u001b[0m \u001b[0;36m2.0\u001b[0m\u001b[0;34m,\u001b[0m \u001b[0;36m3.0\u001b[0m\u001b[0;34m]\u001b[0m     \u001b[0;31m# reaction order\u001b[0m\u001b[0;34m\u001b[0m\u001b[0m\n",
      "\u001b[0;31mImportError\u001b[0m: cannot import name 'BVP_nl'"
     ]
    }
   ],
   "source": [
    "import numpy as np\n",
    "from pycse import BVP_nl\n",
    "import matplotlib.pyplot as plt\n",
    "\n",
    "n = [1.0, 2.0, 3.0]     # reaction order\n",
    "\n",
    "R = 3.0\n",
    "r1 = 0\n",
    "r2 = R\n",
    "\n",
    "N = 300\n",
    "RBAR = np.linspace(r1, r2, N)\n",
    "\n",
    "THIELE = np.logspace(-2, 1, 20)\n",
    "\n",
    "for order in n:\n",
    "    ETA = []\n",
    "\n",
    "    c0 = 0.9\n",
    "    p = 4\n",
    "    init = c0 + (1 - c0) / R**p * RBAR**p\n",
    "\n",
    "    for thiele in THIELE:\n",
    "        def F(rbar, cbar, dcbardrbar):\n",
    "            return (-2.0 / rbar * dcbardrbar\n",
    "                    + 2 / (order + 1) * thiele**2 * cbar**order)\n",
    "\n",
    "        def BCS(rbar, cbar):\n",
    "            return [(cbar[1] - cbar[0])/(rbar[1] - rbar[0]),  # dc/dr(r=0) = 0\n",
    "                     cbar[-1] - 1]                            # cbar(R) = 1\n",
    "\n",
    "        CBAR = BVP_nl(F, RBAR, BCS, init)\n",
    "        eta2 = 1./9. * np.trapz(CBAR**order * RBAR**2, RBAR)\n",
    "        ETA += [eta2]\n",
    "\n",
    "    plt.loglog(THIELE, ETA, label='n={0}'.format(order))\n",
    "\n",
    "plt.legend(loc='best')\n",
    "plt.xlabel(r'$\\tilde{\\Phi}$')\n",
    "plt.ylabel('$\\eta$')\n",
    "plt.savefig('images/thiele-rxnorder-2.png')"
   ]
  },
  {
   "cell_type": "markdown",
   "metadata": {},
   "source": [
    "![img](./images/thiele-rxnorder-2.png)\n",
    "\n",
    "-   This scaling may seem arbitrary, but it effectively scales the equation so that it behaves like 1/&Phi; for large &Phi;.\n",
    "\n",
    "-   It is not necessary, but it greatly simplifies design problems.\n",
    "    -   It is difficult to solve the BVP, and the scaling shows it is not necessary to do that\n",
    "    \n",
    "    -   We use the modified Thiele modulus for n<sup>th</sup> order kinetics in combination with the analytical solution for 1<sup>st</sup> order reactions!\n",
    "\n",
    "-   It is not clear why these equations are so hard to solve for different reaction orders. It may be instability in the method used to solve the BVP.\n",
    "\n",
    "-   For other types of rate laws, there will be other types of Thiele moduli\n",
    "\n",
    "-   The form of these will not be easy to guess and may contain other dimensionless groups\n",
    "    -   They can be derived from asymptotic analysis\n",
    "\n"
   ]
  },
  {
   "cell_type": "markdown",
   "metadata": {},
   "source": [
    "\n",
    "## Different rate laws\n",
    "\n"
   ]
  },
  {
   "cell_type": "markdown",
   "metadata": {},
   "source": [
    "-   So far we have only considered power law kinetics.\n",
    "\n",
    "-   In catalysis we often have rate laws like\n",
    "\n",
    "$ r = k \\overline{c}_m \\frac{K_A c_A}{1 + K_A c_A} $\n",
    "\n",
    "-   If we use this rate law in the diffusion/reaction equation, and make the equation dimensionless, we end up with two dimensionless numbers\n",
    "    -   here is the equation for a slab\n",
    "\n",
    "$ \\frac{d^2\\overline{c}}{d\\overline{r}^2} - \\tilde{\\Phi}^2 \\frac{\\overline{c}}{1 + \\phi \\overline{c}} = 0  $\n",
    "\n",
    "-   where the two dimensionless groups are\n",
    "\n",
    "$ \\tilde{\\Phi} = \\sqrt{\\frac{k\\overline{c}_m K_A a^2}{D_A}}  $\n",
    "\n",
    "$ \\phi = K_A C_{As}  $\n",
    "\n",
    "-   Although one could use these equations to compute effectiveness factors, this is tedious as the result depends on &phi; and there is not a common asymptote at high values of &Phi;\n",
    "\n",
    "-   Note this script takes quite a while to run.\n",
    "\n"
   ]
  },
  {
   "cell_type": "code",
   "execution_count": null,
   "metadata": {
    "collapsed": true
   },
   "outputs": [],
   "source": [
    "import numpy as np\n",
    "from pycse import BVP_nl\n",
    "import matplotlib.pyplot as plt\n",
    "\n",
    "PHI = [0.1, 1, 2]\n",
    "R = 1\n",
    "r1 = 0\n",
    "r2 = R\n",
    "\n",
    "N = 300\n",
    "RBAR = np.linspace(r1, r2, N)\n",
    "\n",
    "THIELE = np.logspace(-2, 2, 20)\n",
    "\n",
    "for phi in PHI:\n",
    "    ETA = []\n",
    "\n",
    "    c0 = 0.9\n",
    "    p = 4\n",
    "    init = c0 + (1 - c0) / R**p * RBAR**p\n",
    "\n",
    "    for thiele in THIELE:\n",
    "        def F(rbar, cbar, dcbardrbar):\n",
    "            return thiele**2 * cbar / (1.0 + phi * cbar)\n",
    "\n",
    "        def BCS(rbar, cbar):\n",
    "            return [(cbar[1] - cbar[0])/(rbar[1] - rbar[0]),  # dc/dr(r=0) = 0\n",
    "                     cbar[-1] - 1]                            # cbar(R) = 1\n",
    "\n",
    "        CBAR = BVP_nl(F, RBAR, BCS, init)\n",
    "        eta = ((1.0 + phi) / thiele**2\n",
    "               * (CBAR[-1] - CBAR[-2])/(RBAR[-1] - RBAR[-2]))\n",
    "        ETA += [eta]\n",
    "\n",
    "    plt.loglog(THIELE, ETA, label='$\\phi$={0}'.format(phi))\n",
    "\n",
    "plt.legend(loc='best')\n",
    "plt.xlabel(r'$\\tilde{\\Phi}$')\n",
    "plt.ylabel(r'$\\eta$')\n",
    "plt.savefig('images/thiele-hougwats-1.png')"
   ]
  },
  {
   "cell_type": "markdown",
   "metadata": {},
   "source": [
    "![img](./images/thiele-hougwats-1.png)\n",
    "\n",
    "-   You see a similar problem here as we saw with n<sup>th</sup> order kinetics. There is not a common asymptote.\n",
    "\n",
    "-   While not unusable, it means we have to calculate this for every value of &phi;\n",
    "\n",
    "-   Through an asymptotic analysis one arrives at the following scaled Thiele modulus:\n",
    "\n",
    "$ \\Phi = \\left(\\frac{\\phi}{1 + \\phi} \\right) \\frac{1}{\\sqrt{2 (\\phi - \\ln(1+\\phi))}} \\tilde{\\Phi} $\n",
    "\n",
    "So, if we plug this in and re-solve the equations:\n",
    "\n"
   ]
  },
  {
   "cell_type": "code",
   "execution_count": null,
   "metadata": {
    "collapsed": true
   },
   "outputs": [],
   "source": [
    "import numpy as np\n",
    "from pycse import BVP_nl\n",
    "import matplotlib.pyplot as plt\n",
    "\n",
    "PHI = [0.1, 1, 2]\n",
    "R = 1\n",
    "r1 = 0\n",
    "r2 = R\n",
    "\n",
    "N = 300\n",
    "RBAR = np.linspace(r1, r2, N)\n",
    "\n",
    "THIELE = np.logspace(-2, 2, 20)\n",
    "\n",
    "for phi in PHI:\n",
    "    ETA = []\n",
    "\n",
    "    c0 = 0.9\n",
    "    p = 4\n",
    "    init = c0 + (1 - c0) / R**p * RBAR**p\n",
    "\n",
    "    for thiele_wiggle in THIELE:\n",
    "        thiele = ((1.0 + phi)\n",
    "                  / phi * np.sqrt(2 * (phi - np.log(1.0 + phi)))\n",
    "                  * thiele_wiggle)\n",
    "\n",
    "        def F(rbar, cbar, dcbardrbar):\n",
    "            return thiele**2 * cbar / (1.0 + phi * cbar)\n",
    "\n",
    "        def BCS(rbar, cbar):\n",
    "            return [(cbar[1] - cbar[0])/(rbar[1] - rbar[0]),  # dc/dr(r=0) = 0\n",
    "                     cbar[-1] - 1]                            # cbar(R) = 1\n",
    "\n",
    "        CBAR = BVP_nl(F, RBAR, BCS, init)\n",
    "        eta = ((1.0 + phi) / thiele**2\n",
    "               * (CBAR[-1] - CBAR[-2])/(RBAR[-1] - RBAR[-2]))\n",
    "        ETA += [eta]\n",
    "\n",
    "    plt.loglog(THIELE, ETA, label=r'$\\phi$={0}'.format(phi))\n",
    "\n",
    "plt.legend(loc='best')\n",
    "plt.xlabel(r'$\\tilde{\\Phi}$')\n",
    "plt.ylabel(r'$\\eta$')\n",
    "plt.savefig('images/thiele-hougwats-2.png')"
   ]
  },
  {
   "cell_type": "markdown",
   "metadata": {},
   "source": [
    "![img](./images/thiele-hougwats-2.png)\n",
    "\n",
    "-   We find reasonable asymptotic behavior\n",
    "\n",
    "-   The payoff is that now we can readily estimate effectiveness factors by the original approach\n",
    "    -   the analytical solution to a first order reaction in a spherical particle.\n",
    "    -   We just have to use this definition of the Thiele modulus\n",
    "\n",
    "$ \\Phi = \\left(\\frac{\\phi}{1 + \\phi} \\right) \\sqrt{\\frac{k \\overline{c}_m K_A a^2}{2 (\\phi - \\ln(1+\\phi)) D_A}} $\n",
    "\n",
    "-   For large and small Thiele modulus the results will be good. For &Phi; &asymp; 1 there will be some error in the effectiveness factor.\n",
    "\n"
   ]
  },
  {
   "cell_type": "markdown",
   "metadata": {},
   "source": [
    "\n",
    "# Summary of internal effectiveness factor\n",
    "\n"
   ]
  },
  {
   "cell_type": "markdown",
   "metadata": {},
   "source": [
    "-   Particle shape effects are relatively small (e.g. a 20% effect)\n",
    "\n",
    "-   We can reasonably estimate &eta; by choosing an appropriate Thiele modulus definition for the situation with $ \\eta = \\frac{1}{\\Phi}  \\left [\\frac{1}{\\tanh 3 \\Phi} - \\frac{1}{3 \\Phi} \\right]$\n",
    "    -   for power law kinetics we use $ \\Phi = \\sqrt{\\frac{n+1}{2} \\frac{k c_{As}^{n-1} a^2}{D_A} } $\n",
    "    \n",
    "    -   For Hougen-Watson kinetics we use $ \\Phi = \\left(\\frac{\\phi}{1 + \\phi} \\right) \\sqrt{\\frac{k \\overline{c}_m K_A a^2}{2 D_A(\\phi - \\ln(1+\\phi))}} $\n",
    "\n"
   ]
  }
 ],
 "metadata": {
  "kernelspec": {
   "display_name": "Python 3",
   "language": "python",
   "name": "python3"
  },
  "language_info": {
   "codemirror_mode": {
    "name": "ipython",
    "version": 3
   },
   "file_extension": ".py",
   "mimetype": "text/x-python",
   "name": "python",
   "nbconvert_exporter": "python",
   "pygments_lexer": "ipython3",
   "version": "3.6.2"
  },
  "toc": {
   "colors": {
    "hover_highlight": "#DAA520",
    "navigate_num": "#000000",
    "navigate_text": "#333333",
    "running_highlight": "#FF0000",
    "selected_highlight": "#FFD700",
    "sidebar_border": "#EEEEEE",
    "wrapper_background": "#FFFFFF"
   },
   "moveMenuLeft": true,
   "nav_menu": {
    "height": "122px",
    "width": "252px"
   },
   "navigate_menu": true,
   "number_sections": true,
   "sideBar": true,
   "threshold": 4,
   "toc_cell": false,
   "toc_section_display": "block",
   "toc_window_display": false,
   "widenNotebook": false
  }
 },
 "nbformat": 4,
 "nbformat_minor": 1
}
