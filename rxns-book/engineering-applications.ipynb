{
 "cells": [
  {
   "cell_type": "markdown",
   "metadata": {},
   "source": [
    "[org-toggle-latex-overlays> ](org-toggle-latex-overlays> )[org-toggle-pretty-entities](org-toggle-pretty-entities)\n",
    "\n"
   ]
  },
  {
   "cell_type": "markdown",
   "metadata": {},
   "source": [
    "\n",
    "# Engineering applications of mole balances\n",
    "\n"
   ]
  },
  {
   "cell_type": "markdown",
   "metadata": {},
   "source": [
    "-   So far you have learned to design a variety of reactors with single reactions occurring in them\n",
    "\n",
    "-   Usually, we need additional information to tell us which reactor design is better, e.g. a larger volume with low volumetric flow rate vs. a smaller volume with higher volumetric flow rate\n",
    "\n",
    "-   That information may be the cost of different configurations, or the profit from different configurations\n",
    "\n"
   ]
  },
  {
   "cell_type": "markdown",
   "metadata": {},
   "source": [
    "\n",
    "## Total cost example\n",
    "\n"
   ]
  },
  {
   "cell_type": "markdown",
   "metadata": {},
   "source": [
    "-   Let us consider a simple model for the total cost of an operation\n",
    "\n",
    "-   Let the total cost be the operating cost of the reactor plus the cost of the feedstocks\n",
    "\n",
    "-   The operating cost of a reactor can be determined by amortizing the reactor cost over some length of time, and adding the cost required for maintenance, and paying workers.\n",
    "    -   The units of this cost will usually be $/volume/time\n",
    "    -   The cost of operating the reactor then is $C_R = V_R operating_{cost}$\n",
    "\n",
    "-   Feedstock costs are related to the cost of raw materials times the rate at which they are consumed\n",
    "    -   The cost associated with each reactant will be $C_{j} = F_j reactant_{cost}$ if $reactant_{cost}$ is in $/mol.\n",
    "\n",
    "-   Let us consider an example\n",
    "\n",
    "-   Y is produced at a rate of 90 kmol/min in a CSTR by the reaction $X \\rightarrow Y$ at a reaction rate of $r = 0.1 C_X$ (kmol/m^3/min)  with an inlet concentration of $C_{X0} = 1.5$ kmol/m^3.  The reactant X costs \\\\$1.20 per kmol. The cost of the reactor is \\\\$0.1 per minute per cubic meter. If we discard unreacted X, what is the minimum cost of making Y?\n",
    "\n",
    "-   We need to know the volume and volumetric flow that will minimize the total cost.\n",
    "\n",
    "-   We have a mole balance on X:\n",
    "\n",
    "\\begin{align}\n",
    "0 = F_{X0} - F_X + r_X V \\\\\n",
    "0 = F_{X0} * C_X v_0 - k C_X V\n",
    "\\end{align}\n",
    "\n",
    "-   We have two unknowns and one equation, but if we specify one variable, we can solve for the other one\n",
    "\n",
    "-   Let us start by specifying a $v_0$, and solving for $V$\n",
    "-   Then we calculate the cost\n",
    "\n",
    "-   Then we vary $v_0$ to minimize the cost\n",
    "\n",
    "-   There are some bounds on $v_0$: We must have at least 90 kmol/min of X entering the reactor to produce 90 kmol/min of Y\n",
    "    -   Actually that would be a conversion of 100%, which is not reasonable.\n",
    "    -   Let us assume 90% conversion is acceptable for now, which means v\\_0 must be at least 100 kmol/min / 1.5 mol/m^3 &asymp; 66 m^3/min.\n",
    "\n"
   ]
  },
  {
   "cell_type": "code",
   "execution_count": 9,
   "metadata": {},
   "outputs": [
    {
     "name": "stdout",
     "output_type": "stream",
     "text": [
      "Min cost of $3.655606758832566 at V=104.28571428571428\n",
      "Optimization terminated successfully.\n",
      "         Current function value: 3.655521\n",
      "         Iterations: 19\n",
      "         Function evaluations: 38\n",
      "Lowest cost is at a volumetric flow of 104.72140502929688 m^3/min\n",
      "The lowest cost is $3.6555210486674237\n"
     ]
    }
   ],
   "source": [
    "from scipy.optimize import fsolve\n",
    "import numpy as np\n",
    "\n",
    "k = 0.1    # rate constant 1/min\n",
    "Cx0 = 1.5  # initial concentration\n",
    "Fy = 90.0  # exit molar flow of Y\n",
    "\n",
    "\n",
    "def objective(V, v0):\n",
    "    Fx0 = Cx0 * v0\n",
    "    Fx = Fx0 - Fy\n",
    "    Cx = Fx / v0\n",
    "    rx = -k * Cx\n",
    "    return Fx0 - Fx + rx * V\n",
    "\n",
    "v0 = np.linspace(66, 200)\n",
    "\n",
    "reactor_cost = 0.1  # $/m^3\n",
    "Xcost = 1.20        # $/kmol\n",
    "\n",
    "# this is a decorator that makes cost work element-wise\n",
    "@np.vectorize\n",
    "def cost(v0):\n",
    "    V, = fsolve(objective, 10000, args=(v0,))\n",
    "    CR = reactor_cost * V\n",
    "    CX = v0 * Cx0 * Xcost\n",
    "    return (CR + CX) / Fy  # cost in $/mol Y\n",
    "\n",
    "import matplotlib.pyplot as plt\n",
    "plt.plot(v0, cost(v0))\n",
    "plt.xlabel('volumetric flow')\n",
    "plt.ylabel('Cost ($/mol)')\n",
    "plt.savefig('images/cost.png')\n",
    "\n",
    "\n",
    "imin = np.argmin(cost(v0))\n",
    "print('Min cost of ${} at V={}'.format(cost(v0)[imin], v0[imin]))\n",
    "\n",
    "from scipy.optimize import fmin\n",
    "v_opt, = fmin(cost, 120)\n",
    "print('Lowest cost is at a volumetric flow of {0} m^3/min'.format(v_opt))\n",
    "print('The lowest cost is ${}'.format(cost(v_opt)))"
   ]
  },
  {
   "cell_type": "markdown",
   "metadata": {},
   "source": [
    "![img](./images/cost.png)\n",
    "\n",
    "-   The cost at low volumetric flow is dominated by the increasing reactor size\n",
    "\n",
    "-   The cost at high volumetric flow is dominated by the cost of the feedstock $X$\n",
    "\n",
    "Show that the costs in the example above are dominated by reactor volume at low flowrate, and reactant cost at high flowrate.\n",
    "\n"
   ]
  },
  {
   "cell_type": "markdown",
   "metadata": {},
   "source": [
    "\n",
    "## Profit example\n",
    "\n"
   ]
  },
  {
   "cell_type": "markdown",
   "metadata": {},
   "source": [
    "-   Now, let us consider profit\n",
    "\n",
    "-   Profit is the difference between the value of the products and the cost to make them\n",
    "\n",
    "-   Say compound X with a concentration of 2.5 kmol / m^3 flows at a rate of 12 m^3/min into a tubular reactor where it is converted to $Y$.\n",
    "\n",
    "-   The reaction occurs at a rate of $r = 30.0 C_X$ 1/min\n",
    "\n",
    "-   $Y$ has a value $V_Y$ of $1.50 / kmol, and the cost of reactor operation $C_R$ is $2.50 per minute per m^3.\n",
    "\n",
    "-   What is the maximum profit?\n",
    "\n",
    "-   The value of the products will be $F_Y V_Y$ and the operating cost will be $V_R C_R$.\n",
    "\n",
    "-   We have to compute the exit molar flow of product as a function of reactor volume, and then compute the profit for each volume.\n",
    "\n",
    "-   Here we set up mole balances on $X$ and $Y$.\n",
    "    -   It is not strictly necessary, we could just get $F_X$, and compute $F_Y$ by stoichiometry later\n",
    "    -   Instead, we compute $F_Y$ in the solution\n",
    "\n"
   ]
  },
  {
   "cell_type": "code",
   "execution_count": 10,
   "metadata": {},
   "outputs": [
    {
     "name": "stdout",
     "output_type": "stream",
     "text": [
      "25\n",
      "Max profit of $40.193141393479685 at V = 1.530612244897959\n",
      "40.1931703548\n",
      "Optimization terminated successfully.\n",
      "         Current function value: -40.193337\n",
      "         Iterations: 11\n",
      "         Function evaluations: 22\n",
      "Maximum profit is 40.19333745971681 at V = 1.5226318359375\n"
     ]
    }
   ],
   "source": [
    "import numpy as np\n",
    "from scipy.integrate import odeint\n",
    "import matplotlib.pyplot as plt\n",
    "\n",
    "k = 30.0\n",
    "CX0 = 2.5 # kmol / m^3\n",
    "v0 = 12.0 # m^3 / min\n",
    "FX0 = CX0 * v0\n",
    "FY0 = 0.0\n",
    "\n",
    "def dFdV(F, V):\n",
    "    Fx, Fy = F\n",
    "    Cx = Fx / v0\n",
    "    r = k * Cx\n",
    "    rx = -r\n",
    "    ry =  r\n",
    "    dFxdV = rx\n",
    "    dFydV = ry\n",
    "    return [dFxdV, dFydV]\n",
    "\n",
    "Vspan = np.linspace(0, 3)\n",
    "\n",
    "sol = odeint(dFdV, [FX0, FY0], Vspan)\n",
    "\n",
    "Fy = sol[:, 1]\n",
    "\n",
    "V_Y = 1.50 # $/kmol\n",
    "C_R = 2.50 # $/m^3/min\n",
    "\n",
    "product_value = Fy * V_Y\n",
    "operating_cost = Vspan * C_R\n",
    "\n",
    "profit = product_value - operating_cost\n",
    "plt.plot(Vspan, profit)\n",
    "plt.xlabel('Reactor volume (m$^3$)')\n",
    "plt.ylabel('Profit ($)')\n",
    "plt.savefig('images/profit.png')\n",
    "\n",
    "\n",
    "imax = np.argmax(profit)\n",
    "print(imax)\n",
    "print('Max profit of ${} at V = {}'.format(profit[imax], Vspan[imax]))\n",
    "\n",
    "\n",
    "def profit(V, sign=1):\n",
    "   F = odeint(dFdV, [FX0, FY0], [0, V])\n",
    "   FY = F[-1, 1]\n",
    "   profit = FY * V_Y - V * C_R\n",
    "   return profit * sign\n",
    "\n",
    "print(profit(1.53))\n",
    "\n",
    "from scipy.optimize import fmin\n",
    "\n",
    "opt_V, = fmin(profit, 1.5, args=(-1,))\n",
    "print('Maximum profit is {} at V = {}'.format(profit(opt_V), opt_V))"
   ]
  },
  {
   "cell_type": "markdown",
   "metadata": {},
   "source": [
    "![img](./images/profit.png)\n",
    "\n",
    "[scipy.optimize.fmin](https://docs.scipy.org/doc/scipy/reference/generated/scipy.optimize.fmin.html)\n",
    "\n",
    "-   You can see a maximum in profit at a reactor volume of about 1.5 m^3.\n",
    "\n",
    "-   To get a more quantitative answer, we need to use optimization\n",
    "\n",
    "-   We need to define an objective function to minimize\n",
    "\n",
    "-   The profit goes through a maximum, so -profit will go through a minimum\n",
    "\n",
    "-   We will use an optional argument to our profit function that determines the sign of the return value\n",
    "    -   For the optimization we set the sign to be -1\n",
    "    -   After we have a solution we use the default sign of +1 to compute the profit\n",
    "    -   This is just for convenience. You could multiply by &plusmn; 1 as needed.\n",
    "\n"
   ]
  },
  {
   "cell_type": "code",
   "execution_count": 11,
   "metadata": {},
   "outputs": [
    {
     "name": "stdout",
     "output_type": "stream",
     "text": [
      "32.4998323014\n",
      "Optimization terminated successfully.\n",
      "         Current function value: -40.193337\n",
      "         Iterations: 11\n",
      "         Function evaluations: 22\n",
      "The maximum profit is $40.19 at V=1.52 m^3\n"
     ]
    }
   ],
   "source": [
    "import numpy as np\n",
    "from scipy.integrate import odeint\n",
    "import matplotlib.pyplot as plt\n",
    "\n",
    "k = 30.0\n",
    "CX0 = 2.5 # kmol / m^3\n",
    "v0 = 12.0 # m^3 / min\n",
    "FX0 = CX0 * v0\n",
    "FY0 = 0.0\n",
    "\n",
    "def dFdV(F, V):\n",
    "    Fx, Fy = F\n",
    "    Cx = Fx / v0\n",
    "    r = k * Cx\n",
    "    rx = -r\n",
    "    ry =  r\n",
    "    dFxdV = rx\n",
    "    dFydV = ry\n",
    "    return [dFxdV, dFydV]\n",
    "\n",
    "V_Y = 1.50 # $/kmol\n",
    "C_R = 2.50 # $/m^3/min\n",
    "\n",
    "def profit(V, sign=1): # the default value of sign is 1\n",
    "    Vspan = np.linspace(0, V)\n",
    "    sol = odeint(dFdV, [FX0, FY0], Vspan)\n",
    "    Fx, Fy = sol[-1] # at exit\n",
    "\n",
    "    product_value = Fy * V_Y\n",
    "    operating_cost = V * C_R\n",
    "\n",
    "    profit = product_value - operating_cost\n",
    "    return profit * sign\n",
    "\n",
    "print(profit(5))\n",
    "from scipy.optimize import fmin\n",
    "\n",
    "V_opt, = fmin(profit, 1.5, args=(-1,))\n",
    "\n",
    "print('The maximum profit is ${0:1.2f} at V={1:1.2f} m^3'.format(profit(V_opt), V_opt))"
   ]
  },
  {
   "cell_type": "markdown",
   "metadata": {},
   "source": [
    "-   The point of these examples is to illustrate how to combine mole balance and reactor design equations with additional information to help select the best design\n",
    "    -   You may want to minimize total cost\n",
    "    -   or maximize profit\n",
    "\n",
    "-   Other applications might be finding operating conditions to avoid certain pressure increases, or minimizing a pressure drop\n",
    "\n",
    "[quiz-3](quiz-3)\n",
    "\n"
   ]
  }
 ],
 "metadata": {
  "kernelspec": {
   "display_name": "Python 3",
   "language": "python",
   "name": "python3"
  },
  "language_info": {
   "codemirror_mode": {
    "name": "ipython",
    "version": 3
   },
   "file_extension": ".py",
   "mimetype": "text/x-python",
   "name": "python",
   "nbconvert_exporter": "python",
   "pygments_lexer": "ipython3",
   "version": "3.6.2"
  }
 },
 "nbformat": 4,
 "nbformat_minor": 1
}
