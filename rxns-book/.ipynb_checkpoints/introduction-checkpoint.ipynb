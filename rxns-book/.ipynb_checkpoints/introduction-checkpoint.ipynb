{
 "cells": [
  {
   "cell_type": "markdown",
   "metadata": {},
   "source": [
    "# Course software setup"
   ]
  },
  {
   "cell_type": "markdown",
   "metadata": {},
   "source": [
    "-   Your laptops have been set up with the software you need for this course, including:\n",
    "    -   docker\n",
    "    -   git"
   ]
  },
  {
   "cell_type": "markdown",
   "metadata": {},
   "source": [
    "## Course setup"
   ]
  },
  {
   "cell_type": "markdown",
   "metadata": {},
   "source": [
    "You can always download a current copy of the course notes, assignments, and exams with git.  The easiest way is to use [Git Desktop](https://desktop.github.com/).  Install it, and clone the course repository (zulissi/f17-06625).  This will put a copy of the course info in Documents/GitHub/f17-06625.  "
   ]
  },
  {
   "cell_type": "markdown",
   "metadata": {},
   "source": [
    "## Installing the course docker image"
   ]
  },
  {
   "cell_type": "markdown",
   "metadata": {},
   "source": [
    "We will use docker to distribute a complete python environment to do everything you need for the course.  This docker image is a complete linux+python environment.  Every time you run it the settings will be fresh to ensure that your environment matches the course one. This is a standard way to distribute complete environments in the computer science world. \n",
    "\n",
    "At any point, you can fetch the latest version of the docker image by opening the start menu, finding the command prompt, right clicking and selecting \"Run as administrator\". In the command prompt that opens, enter:\n",
    "~~~~\n",
    "docker pull zulissi/jupyter_06625\n",
    "~~~~\n",
    "to pull the most recent image of the jupyter environment.  You can close the command prompt, this is the only time you need to run as an administrator.\n",
    "\n",
    "\n"
   ]
  },
  {
   "cell_type": "markdown",
   "metadata": {},
   "source": [
    "### Updating the docker environment"
   ]
  },
  {
   "cell_type": "markdown",
   "metadata": {},
   "source": [
    "At any point, you can fetch the latest version of the docker image by opening the start menu, finding the command prompt, right clicking and selecting \"Run as administrator\". In the command prompt that opens, enter:\n",
    "~~~~\n",
    "docker pull zulissi/jupyter_06625\n",
    "~~~~\n",
    "to pull the most recent image of the jupyter environment.  You can close the command prompt, this is the only time you need to run as an administrator."
   ]
  },
  {
   "cell_type": "markdown",
   "metadata": {},
   "source": [
    "### Starting the jupyter/docker environment"
   ]
  },
  {
   "cell_type": "markdown",
   "metadata": {},
   "source": [
    "To start the jupyter environment, open the command prompt and enter (you can copy and paste this in):\n",
    "~~~~\n",
    "docker run -it --rm -p 8888:8888 -v  \"c:/Users/Zachary Ulissi/Documents/GitHub/f17-06625/:/home/jovyan/work\" jupyter_06625 start-notebook.sh --NotebookApp.token=''\n",
    "~~~~\n",
    "You should replace the  directory \"C:\\Users\\Zachary Ulissi\\Documents\\GitHub\\f17-06625\" with the location on your computer where you downloaded the course folder using git. After running this command, you should be able to open your favorite internet browser and go to [localhost:8888](http://localhost:8888), where you will see a jupyter notebook shell.  Clicking on 'work' should take you to the git repository files for the course.  \n",
    "\n",
    "When you're finished working with jupyter for this course, you can close it by returning to the command prompt that should still be running, and pressing 'ctrl+c'.  It will ask you to verify that you want to shut down, so follow the question and type 'y' then 'enter'."
   ]
  },
  {
   "cell_type": "markdown",
   "metadata": {},
   "source": [
    "## Python setup"
   ]
  },
  {
   "cell_type": "markdown",
   "metadata": {},
   "source": [
    "The included jupyter notebook environment has python 3.6 installed, as well as a number of helpful packages like\n",
    "-  numpy\n",
    "-  scipy\n",
    "-  matplotlib\n",
    "\n",
    "and others.  Let's check to see the version of various installed packages.  Click on the code below, and press \"shift+enter\" to evaluate the block.  "
   ]
  },
  {
   "cell_type": "code",
   "execution_count": 1,
   "metadata": {},
   "outputs": [
    {
     "name": "stdout",
     "output_type": "stream",
     "text": [
      "numpy version 1.13.1\n",
      "scipy version 0.19.1\n",
      "matplotlib version 2.0.2\n",
      "quantities version 0.11.1+36.gacba339\n",
      "uncertainties version 3.0.1\n",
      "pycse version 2.0.0\n"
     ]
    }
   ],
   "source": [
    "import numpy\n",
    "print('numpy version {}'.format(numpy.__version__))\n",
    "\n",
    "import scipy\n",
    "print('scipy version {}'.format(scipy.__version__))\n",
    "\n",
    "import matplotlib\n",
    "print('matplotlib version {}'.format(matplotlib.__version__))\n",
    "\n",
    "import quantities\n",
    "print('quantities version {}'.format(quantities.__version__))\n",
    "\n",
    "import uncertainties\n",
    "print('uncertainties version {}'.format(uncertainties.__version__))\n",
    "\n",
    "import pycse\n",
    "print('pycse version {}'.format(pycse.__version__))"
   ]
  },
  {
   "cell_type": "code",
   "execution_count": 19,
   "metadata": {},
   "outputs": [
    {
     "name": "stdout",
     "output_type": "stream",
     "text": [
      "5\n",
      "a = 5, b = 50\n",
      "a = 5\n",
      "the quick brown fox\n"
     ]
    }
   ],
   "source": [
    "a=5\n",
    "b = 50\n",
    "print(a)\n",
    "print('a = {}, b = {}'.format(a, b))\n",
    "print('a = ' + str(a))\n",
    "# print('a = ' + a) gives an error\n",
    "print('the ' + 'quick brown fox')"
   ]
  },
  {
   "cell_type": "markdown",
   "metadata": {},
   "source": [
    "## Assignments and exercises"
   ]
  },
  {
   "cell_type": "markdown",
   "metadata": {},
   "source": [
    "-   Most assignments will be listed as links in the syllabus\n",
    "    - test\n",
    "\n",
    "-   Sometimes there will be \"Exercises\" that we do in class. These will not always be graded, but they will be used as part of a participation grade. Make sure you bring your computer to class.\n",
    "\n"
   ]
  },
  {
   "cell_type": "code",
   "execution_count": 2,
   "metadata": {},
   "outputs": [
    {
     "name": "stdout",
     "output_type": "stream",
     "text": [
      "0\n",
      "1\n",
      "2\n",
      "3\n",
      "4\n"
     ]
    }
   ],
   "source": [
    "for i in range(5):\n",
    "    print(i)\n",
    "    # do something else"
   ]
  },
  {
   "cell_type": "markdown",
   "metadata": {},
   "source": [
    "# Introduction to the course"
   ]
  },
  {
   "cell_type": "markdown",
   "metadata": {},
   "source": [
    "## What is Chemical Reaction Engineering?"
   ]
  },
  {
   "cell_type": "markdown",
   "metadata": {},
   "source": [
    "-   The design of processes that transform lower value feedstocks to higher value products through chemical reactions.\n",
    "\n",
    "We answer questions such as:\n",
    "\n",
    "1.  Can we make a product at an economical rate?\n",
    "2.  How big should a reactor be to make a product at some rate?\n",
    "3.  How much heat should I remove from a reactor to maintain a safe temperature?\n",
    "4.  What kind of reactor gives the highest yield?\n",
    "5.  etc&#x2026;\n",
    "\n"
   ]
  },
  {
   "cell_type": "markdown",
   "metadata": {},
   "source": [
    "## We are engineers"
   ]
  },
  {
   "cell_type": "markdown",
   "metadata": {},
   "source": [
    "We get paid to answer those questions\n",
    "\n",
    "-   *quantitatively*\n",
    "    -   It will rarely be sufficient to qualitatively answer questions\n",
    "-   with uncertainty and risk analysis\n",
    "-   even when the problems are very hard\n",
    "\n"
   ]
  },
  {
   "cell_type": "markdown",
   "metadata": {},
   "source": [
    "## Role of computational tools\n",
    "\n"
   ]
  },
  {
   "cell_type": "markdown",
   "metadata": {},
   "source": [
    "-   Many problems are too hard to solve by hand and must be solved numerically.\n",
    "    -   For these we use computational methods\n",
    "\n",
    "-   We will extensively use Python to numerically solve problems in this course.\n",
    "\n",
    "-   Why?\n",
    "    -   Python is *free*\n",
    "    -   You can use this anywhere you go\n",
    "    -   Python does everything we need and much more\n",
    "\n",
    "-   Almost every class will use and show examples of python\n",
    "-   These notes will be available to you through the syllabus\n",
    "-   You should make sure you can run the examples, *and that you get the same results*\n",
    "-   **Ask questions when you do not understand**\n",
    "\n",
    "-   We will extensively use jupyter notebooks in this class\n",
    "    -   to read course notes\n",
    "    -   to solve computational problems\n",
    "    -   to document our work, analysis, and discussion\n",
    "\n"
   ]
  },
  {
   "cell_type": "markdown",
   "metadata": {},
   "source": [
    "## Python examples\n",
    "\n"
   ]
  },
  {
   "cell_type": "markdown",
   "metadata": {},
   "source": [
    "### A simple plot\n",
    "\n"
   ]
  },
  {
   "cell_type": "markdown",
   "metadata": {},
   "source": [
    "Here we import functionality from python modules to get array math functions and to make a plot.\n",
    "Put your cursor in this code block and press C-c C-c to run the block.\n",
    "\n",
    "Let us review some python documentation. Click on these links to learn more about these functions:\n",
    "[numpy.linspace](https://docs.scipy.org/doc/numpy/reference/generated/numpy.linspace.html)\n",
    "[numpy.exp](https://docs.scipy.org/doc/numpy/reference/generated/numpy.exp.html)\n",
    "\n",
    "[matplotlib.pyplot.plot](https://www.google.com/#safe=off&q=matplotlib.pyplot.plot)\n",
    "[matplotlib.pyplot.xlabel](https://www.google.com/#safe=off&q=matplotlib.pyplot.xlabel)\n",
    "[matplotlib.pyplot.ylabel](https://www.google.com/#safe=off&q=matplotlib.pyplot.ylabel)\n",
    "[matplotlib.pyplot.savefig](https://www.google.com/#safe=off&q=matplotlib.pyplot.savefig)\n",
    "\n"
   ]
  },
  {
   "cell_type": "code",
   "execution_count": 21,
   "metadata": {
    "scrolled": true
   },
   "outputs": [
    {
     "name": "stdout",
     "output_type": "stream",
     "text": [
      "50\n"
     ]
    },
    {
     "data": {
      "image/png": "[encoded data removed]",
      "text/plain": [
       "<matplotlib.figure.Figure at 0x7fa51c5cd898>"
      ]
     },
     "metadata": {},
     "output_type": "display_data"
    }
   ],
   "source": [
    "import numpy as np               # standard import for array functions\n",
    "import matplotlib.pyplot as plt  # standard import for plotting\n",
    "\n",
    "# Define some constants\n",
    "R = 8.314   # A float\n",
    "T = 300     # an integer\n",
    "\n",
    "# an array of values linearly spaced\n",
    "deltaG = np.linspace(-8000, -12000, num=50)\n",
    "\n",
    "print(len(deltaG))\n",
    "\n",
    "# plotting commands\n",
    "plt.plot(deltaG, np.exp(-deltaG / R / T), 'bs-')\n",
    "plt.xlabel('$\\Delta G$')  # Note the $ $\n",
    "plt.ylabel('K')\n",
    "plt.savefig('images/K.png')\n",
    "plt.show()"
   ]
  },
  {
   "cell_type": "markdown",
   "metadata": {},
   "source": [
    "### Solve nonlinear equations\n",
    "\n"
   ]
  },
  {
   "cell_type": "markdown",
   "metadata": {},
   "source": [
    "Suppose we know K at some temperature, and we want to compute the corresponding $\\Delta G$? Say we know K = 100 at 300K.  We need to solve $100 = e^{-\\Delta G/RT}$ for $\\Delta G$ at T = 300 K. Numerically,  we need to find the value of $\\Delta G$ that solves this equivalent equation:\n",
    "\n",
    "$$0 = 100 - e^{-\\Delta G/RT}$$\n",
    "\n",
    "We have to provide a guess for the solution because this is a nonlinear function we are solving. We could solve this problem analytically, but we are not going to. Instead, we will use the analytical solution to show our numerical solution is correct.\n",
    "\n",
    "[scipy.optimize.fsolve](https://docs.scipy.org/doc/scipy/reference/generated/scipy.optimize.fsolve.html)\n",
    "\n",
    "Put your cursor in this code block and press Ctrl-c Ctrl-c (C-c C-c) to run the block.\n",
    "\n"
   ]
  },
  {
   "cell_type": "code",
   "execution_count": 22,
   "metadata": {},
   "outputs": [
    {
     "name": "stdout",
     "output_type": "stream",
     "text": [
      "-11486.2154779\n",
      "<class 'numpy.float64'>\n",
      "-11486.2154779\n"
     ]
    }
   ],
   "source": [
    "import numpy as np                  # array based math functions\n",
    "from scipy.optimize import fsolve   # nonlinear algebra solver\n",
    "\n",
    "R = 8.314  # J/mol/K\n",
    "T = 300    # K\n",
    "\n",
    "# define a function that equals zero at the solution\n",
    "\n",
    "\n",
    "def objective(deltaG):\n",
    "    return 100 - np.exp(-deltaG / R / T)\n",
    "\n",
    "\n",
    "guess = -11000   # guess based on the graph we saw before\n",
    "ans, = fsolve(objective, guess)  # the , is an unpacking operator\n",
    "\n",
    "print(ans)\n",
    "print(type(ans))\n",
    "print(-np.log(100) * R * T)  # analytical solution"
   ]
  },
  {
   "cell_type": "markdown",
   "metadata": {},
   "source": [
    "You can see the two solutions are equivalent. Checkout [numpy.log](https://docs.scipy.org/doc/numpy/reference/generated/numpy.log.html)\n",
    "\n"
   ]
  },
  {
   "cell_type": "markdown",
   "metadata": {},
   "source": [
    "### Solving another nonlinear algebra problem\n",
    "\n"
   ]
  },
  {
   "cell_type": "markdown",
   "metadata": {},
   "source": [
    "Given $C_A = C_{A0} e^{-k t}$ with $C_{A0} =1$ mol/L, and $k=0.23$ 1/s, how long will it take before $C_A$ = 0.2 M? We want to know at what time is this equation true: $0.2 - C_{A0} e^{-k t} = 0$. We define two functions here, one for $C_A$, and one for the objective function ($f(x)=0$). That is so we can evaluate $C_A(t_{soln})$ conveniently later.\n",
    "\n"
   ]
  },
  {
   "cell_type": "code",
   "execution_count": 23,
   "metadata": {},
   "outputs": [
    {
     "name": "stdout",
     "output_type": "stream",
     "text": [
      "[ 6.99755614]\n",
      "Ca = [ 0.2] at t = 7.00 s ([ 0.2])\n"
     ]
    }
   ],
   "source": [
    "import numpy as np\n",
    "from scipy.optimize import fsolve\n",
    "\n",
    "CA0 = 1.0  # mol / l\n",
    "k = 0.23  # 1/s\n",
    "\n",
    "\n",
    "def Ca(t):\n",
    "    return CA0 * np.exp(-k * t)\n",
    "\n",
    "\n",
    "def f(t):\n",
    "    z = 0.2 - Ca(t)\n",
    "    return z\n",
    "\n",
    "\n",
    "ans, d, flag, msg = fsolve(f, 2.0, full_output=1)\n",
    "print(ans)\n",
    "\n",
    "print('Ca = {1} at t = {0:1.2f} s ({1})'.format(ans[0], Ca(ans)))"
   ]
  },
  {
   "cell_type": "markdown",
   "metadata": {},
   "source": [
    "You should practice with these examples. Review these links:\n",
    "\n",
    "[scipy.optimize.fsolve](https://docs.scipy.org/doc/scipy/reference/generated/scipy.optimize.fsolve.html)\n",
    "\n",
    "[numpy.exp](https://docs.scipy.org/doc/numpy/reference/generated/numpy.exp.html)  [numpy.log](https://docs.scipy.org/doc/numpy/reference/generated/numpy.log.html)\n",
    "\n"
   ]
  },
  {
   "cell_type": "markdown",
   "metadata": {},
   "source": [
    "# Getting help\n",
    "\n"
   ]
  },
  {
   "cell_type": "markdown",
   "metadata": {},
   "source": [
    "-   I am expecting you will need help. Python is probably new to you.\n",
    "\n",
    "You may find these resources helpful:\n",
    "\n",
    "-   Class\n",
    "    -   Come to class everyday.\n",
    "    -   Watch me use Python/Jupyter\n",
    "    -   Ask questions about things you do not understand\n",
    "\n",
    "-   Learning python\n",
    "    -   [http://learnpythonthehardway.org/book/](http://learnpythonthehardway.org/book/)\n",
    "    -   [http://interactivepython.org/courselib/static/thinkcspy/index.html](http://interactivepython.org/courselib/static/thinkcspy/index.html)\n",
    "\n",
    "-   Python documentation\n",
    "    -   Builtin modules - [http://docs.python.org/3/library/index.html](http://docs.python.org/3/library/index.html)\n",
    "\n",
    "-   Python and scientific computing\n",
    "    -   [http://kitchingroup.cheme.cmu.edu/pycse/>](http://kitchingroup.cheme.cmu.edu/pycse/>)(there is also a pdf version)\n",
    "    -   Numerical python - [http://docs.scipy.org/doc/numpy/reference/](http://docs.scipy.org/doc/numpy/reference/)\n",
    "    -   Scientific python - [http://docs.scipy.org/doc/scipy/reference/](http://docs.scipy.org/doc/scipy/reference/)\n",
    "\n",
    "-   Writing equations in LaTeX: [http://www.codecogs.com/latex/eqneditor.php](http://www.codecogs.com/latex/eqneditor.php)\n",
    "\n",
    "\n",
    "\n"
   ]
  },
  {
   "cell_type": "markdown",
   "metadata": {},
   "source": [
    "# Final points\n",
    "\n"
   ]
  },
  {
   "cell_type": "markdown",
   "metadata": {},
   "source": [
    "1.  Avoid installing a new Python\n",
    "\n"
   ]
  },
  {
   "cell_type": "code",
   "execution_count": 24,
   "metadata": {
    "scrolled": true
   },
   "outputs": [
    {
     "name": "stdout",
     "output_type": "stream",
     "text": [
      "(2, 6)\n",
      "2\n",
      "6\n",
      "3\n"
     ]
    }
   ],
   "source": [
    "def f(a, b):\n",
    "    return 2 * a, 3 * b\n",
    "\n",
    "\n",
    "g = f(1, 2)\n",
    "print(g)\n",
    "\n",
    "a, b = f(1, 2)\n",
    "print(a)\n",
    "print(b)\n",
    "\n",
    "h, j, k = [3, 4, 5]\n",
    "print(h)"
   ]
  },
  {
   "cell_type": "code",
   "execution_count": 25,
   "metadata": {},
   "outputs": [
    {
     "name": "stdout",
     "output_type": "stream",
     "text": [
      "0.3333333333333333\n"
     ]
    }
   ],
   "source": [
    "print(1 / 3.0)"
   ]
  }
 ],
 "metadata": {
  "kernelspec": {
   "display_name": "Python 3",
   "language": "python",
   "name": "python3"
  },
  "language_info": {
   "codemirror_mode": {
    "name": "ipython",
    "version": 3
   },
   "file_extension": ".py",
   "mimetype": "text/x-python",
   "name": "python",
   "nbconvert_exporter": "python",
   "pygments_lexer": "ipython3",
   "version": "3.6.2"
  }
 },
 "nbformat": 4,
 "nbformat_minor": 1
}
