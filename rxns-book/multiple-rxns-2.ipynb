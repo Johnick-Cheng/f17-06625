{
 "cells": [
  {
   "cell_type": "markdown",
   "metadata": {},
   "source": [
    "\n",
    "# Rate laws for reversible reactions\n",
    "\n"
   ]
  },
  {
   "cell_type": "markdown",
   "metadata": {},
   "source": [
    "-   We can think of reversible reactions as two reactions going in opposite directions.\n",
    "\n",
    "-   $A + B \\rightleftharpoons C + D$ can be thought of as:\n",
    "\n",
    "-   $A + B \\rightarrow C + D$\n",
    "-   $C + D \\rightarrow A + B$\n",
    "\n",
    "-   Each reaction has a forward reaction rate, e.g.:\n",
    "\n",
    "\\begin{align}\n",
    "r_1 = k_1 C_A C_B \\\\\n",
    "r_2 = k_2 C_C C_D\n",
    "\\end{align}\n",
    "\n",
    "-   Now, to find the rate that species A is \"generated\" we have:\n",
    "\n",
    "$r_{1A} = -r_1$ and $r_{2A} = r_2$, and the net rate is $r_A = r_{1A} + r_{2A} = -k_1 C_A C_B + k_2 C_C C_D$.\n",
    "\n",
    "-   At equilibrium, the net rate must be zero, which means:\n",
    "\n",
    "\\begin{align}\n",
    "k_1 C_{A,eq} C_{B,eq} = k_2 C_{C,eq} C_{D,eq}\n",
    "\\end{align}\n",
    "\n",
    "or:\n",
    "\n",
    "\\begin{align}\n",
    "\\frac{k_1}{k_2} = \\frac{C_{C,eq} C_{D,eq}}{C_{A,eq} C_{B,eq}} = K_{eq}\n",
    "\\end{align}\n",
    "\n",
    "-   You can see that between $k_1$, $k_2$ and $K_{eq}$, only two of them are independent. i.e. $k_2 = k_1 / K_{eq}$.\n",
    "\n",
    "-   Thus, we may also see net reaction rates for equilibrium reaction rates written as:\n",
    "\n",
    "\\begin{align}\n",
    "r_A = k_1(C_A C_B - \\frac{C_C C_D}{K_{eq}})\n",
    "\\end{align}\n",
    "\n",
    "-   It is important that these constraints exist, so that thermodynamics are not violated.\n",
    "\n"
   ]
  },
  {
   "cell_type": "markdown",
   "metadata": {},
   "source": [
    "$r_A = 0 \\to$ Equilibruim"
   ]
  },
  {
   "cell_type": "markdown",
   "metadata": {},
   "source": [
    "\n",
    "## A CSTR with a reversible reaction\n",
    "\n"
   ]
  },
  {
   "cell_type": "markdown",
   "metadata": {},
   "source": [
    "-   Recall the water gas shift reaction we discussed before $H_2O + CO \\rightleftharpoons CO_2 + H_2 $.\n",
    "\n",
    "-   We previously calculated the equilibrium coefficient to be 1.44 at 1000K.\n",
    "-   Assume the reaction is elementary, and the forward rate constant is $k_1 = 0.02$ L / (mol \\* s)\n",
    "\n",
    "-   The reactor is initially fed pure A and B at concentrations of 0.05 mol / L.\n",
    "\n",
    "-   What is the exit concentration of A? the reactor volume is 10 L, and the volumetric flow rate into the reactor is 0.01 L / s.\n",
    "\n"
   ]
  },
  {
   "cell_type": "code",
   "execution_count": 1,
   "metadata": {
    "scrolled": true
   },
   "outputs": [
    {
     "name": "stdout",
     "output_type": "stream",
     "text": [
      "the exit concentration of C_A is 0.0327 mol / L\n",
      "the exit concentration of C_C is 0.0173 mol / L\n"
     ]
    }
   ],
   "source": [
    "from scipy.optimize import fsolve\n",
    "\n",
    "Keq = 1.44395809814\n",
    "v0 = 0.01 # L / s\n",
    "V = 10    # L\n",
    "\n",
    "k1 = 0.02 # L / mol / s\n",
    "\n",
    "Ca0 = Cb0 = 0.05 # mol / L\n",
    "Cc0 = Cd0 = 0.0\n",
    "\n",
    "Fa0 = v0 * Ca0\n",
    "\n",
    "def cstr(Ca):\n",
    "    xi = (Ca - Ca0) / (-1) # compute reaction extent\n",
    "    Cb = Cb0 - xi\n",
    "    Cc = Cc0 + xi\n",
    "    Cd = Cd0 + xi\n",
    "\n",
    "    ra = -k1 * (Ca * Cb - (Cc * Cd) / Keq)\n",
    "    return Fa0 - Ca * v0 + V * ra\n",
    "\n",
    "guess = 0.002\n",
    "ca_exit, = fsolve(cstr, guess)\n",
    "\n",
    "print('the exit concentration of C_A is {0:1.4f} mol / L'.format(ca_exit))\n",
    "print('the exit concentration of C_C is {0:1.4f} mol / L'.format(Ca0 - ca_exit))\n",
    "\n",
    "#import matplotlib.pyplot as plt \n",
    "#import numpy as np \n",
    "#x = np.linspace(-10, 0.2)\n",
    "#c = [cstr(x1) for x1 in x] \n",
    "#plt.plot(x, c)\n",
    "#plt.show()"
   ]
  },
  {
   "cell_type": "markdown",
   "metadata": {},
   "source": [
    "time scale of the reaction\n",
    "\n",
    "$\\tau = \\frac{1}{k_1 C_A0}$~[S]\n",
    "\n",
    "time scale for transfer\n",
    "    \n",
    "$\\tau_T = V/v$"
   ]
  },
  {
   "cell_type": "markdown",
   "metadata": {},
   "source": [
    "-   There is less C produced than you would expect from the equilibrium composition\n",
    "-   The reactants are not in the reactor long enough to reach equilibrium\n",
    "\n",
    "-   You can explore this solution. Try using a lower volumetric flow rate, or a larger volume reactor. You will see that the concentrations converge to the equilibrium limit we computed before\n",
    "\n"
   ]
  },
  {
   "cell_type": "code",
   "execution_count": 2,
   "metadata": {},
   "outputs": [
    {
     "name": "stdout",
     "output_type": "stream",
     "text": [
      "[ 0.03272139  0.03272139  0.01727861  0.01727861]\n"
     ]
    }
   ],
   "source": [
    "from scipy.optimize import fsolve\n",
    "\n",
    "Keq = 1.44395809814\n",
    "v0 = 0.01 # L / s\n",
    "V = 10    # L\n",
    "\n",
    "k1 = 0.02 # L / mol / s\n",
    "\n",
    "Ca0 = Cb0 = 0.05 # mol / L\n",
    "Cc0 = Cd0 = 0.0\n",
    "\n",
    "Fa0 = v0 * Ca0\n",
    "Fb0 = v0 * Cb0\n",
    "Fc0 = v0 * Cc0\n",
    "Fd0 = v0 * Cd0\n",
    "\n",
    "def cstr(C):\n",
    "    Ca, Cb, Cc, Cd = C    \n",
    "    ra = -k1 * (Ca * Cb - (Cc * Cd) / Keq)\n",
    "    rb = ra\n",
    "    rc = -ra\n",
    "    rd = -ra\n",
    "    \n",
    "    return [Fa0 - Ca * v0 + V * ra,\n",
    "            Fb0 - Cb * v0 + V * rb,\n",
    "            Fc0 - Cc * v0 + V * rc,\n",
    "            Fd0 - Cd * v0 + V * rd]\n",
    "\n",
    "guess = [0.02, 0.02, 0.03, 0.03]\n",
    "C = fsolve(cstr, guess)\n",
    "\n",
    "print(C)"
   ]
  },
  {
   "cell_type": "markdown",
   "metadata": {},
   "source": [
    "\n",
    "# Mole balances with multiple reactions\n",
    "\n"
   ]
  },
  {
   "cell_type": "markdown",
   "metadata": {},
   "source": [
    "-   There is nothing particularly new in mole balances with multiple reactions\n",
    "\n",
    "-   We still write species based mole balances\n",
    "\n",
    "-   We use the net rate law for each species\n",
    "\n",
    "-   This typically leads to coupled equations\n",
    "    -   For CSTRs these are often coupled nonlinear algebra equations\n",
    "    -   For PFRs these are often coupled differential equations\n",
    "\n"
   ]
  },
  {
   "cell_type": "markdown",
   "metadata": {},
   "source": [
    "\n",
    "## Multiple reactions in a CSTR\n",
    "\n"
   ]
  },
  {
   "cell_type": "markdown",
   "metadata": {},
   "source": [
    "-   We consider a reactor design with multiple reactions\n",
    "-   Mesitylene (trimethyl benzene) can be hydrogenated to form m-xylene, which can be further hydrogenated to toluene\n",
    "\n",
    "-   The reactions we consider are:\n",
    "\n",
    "\\begin{align}\n",
    "M + H_2 \\rightarrow X + CH_4 \\\\\n",
    "X + H_2 \\rightarrow T + CH_4\n",
    "\\end{align}\n",
    "\n",
    "-   The reaction is carried out isothermally at 1500 $^\\circ$ R at 35 atm.\n",
    "-   The feed is 2/3 hydrogen and 1/3 mesitylene\n",
    "-   The volumetric feed rate is 476 cubic feet per hour and the reactor volume is 238 cubic feet\n",
    "-   The rate laws are\n",
    "\n",
    "\\begin{align}\n",
    "r_1 = k_1 C_M C_H^{0.5} \\\\\n",
    "r_2 = k_2 C_X C_H^{0.5}\n",
    "\\end{align}\n",
    "\n",
    "-   The rate constants are:\n",
    "\n",
    "\\begin{align}\n",
    "k_1 = 55.20 \\textrm{(ft$^3$/lb mol)$^{0.5}$/h} \\\\\n",
    "k_2 = 30.20 \\textrm{(ft$^3$/lb mol)$^{0.5}$/h} \\\\\n",
    "\\end{align}\n",
    "\n",
    "Here is the code we need to setup and solve this problem.\n",
    "\n"
   ]
  },
  {
   "cell_type": "code",
   "execution_count": 3,
   "metadata": {},
   "outputs": [
    {
     "name": "stdout",
     "output_type": "stream",
     "text": [
      " M 0.00294 lbmol/ft^3\n",
      " H 0.00905 lbmol/ft^3\n",
      " X 0.00317 lbmol/ft^3\n",
      "Me 0.01226 lbmol/ft^3\n",
      " T 0.00455 lbmol/ft^3\n"
     ]
    }
   ],
   "source": [
    "def funcC(C):\n",
    "    vo = 476.0    # ft^3 / hr\n",
    "    V = 238.0     # ft^3\n",
    "    Po = 35.0     # atm\n",
    "    T = 1500.0    # Rankine\n",
    "    R = 0.73      # in appropriate units\n",
    "    CTo = Po / R / T\n",
    "\n",
    "    Cmo = CTo / 3.0\n",
    "    Cho = CTo * 2.0 / 3.0\n",
    "    Cxo = 0.0\n",
    "    Cmeo = 0.0\n",
    "    Ctolo = 0.0\n",
    "\n",
    "    tau = V / vo\n",
    "\n",
    "    CM, CH, CX, CMe, CT = C\n",
    "\n",
    "    # rate laws\n",
    "    k1 = 55.20  # (ft^3/lbmol)^0.5/h\n",
    "    k2 = 30.20  # (ft^3/lbmol)^0.5/h\n",
    "    r1m = -k1 * CM * CH**0.5\n",
    "    r2t = k2 * CX * CH**0.5\n",
    "\n",
    "    # net rates\n",
    "    rM = r1m\n",
    "    rH = r1m - r2t\n",
    "    rX = -r1m - r2t\n",
    "    rMe = -r1m + r2t\n",
    "    rT = r2t\n",
    "    # 0 = Fa0 - Fa + ra * V\n",
    "    # Fa - Fa0 - ra * V = 0\n",
    "    # v0 * Ca - v0 * Ca0 - ra * V = 0\n",
    "    # Ca - Ca0 - ra * tau = 0 \n",
    "    return [tau * (-rM) - Cmo + CM,\n",
    "            tau * (-rH) - Cho + CH,\n",
    "            tau * (-rX) - Cxo + CX,\n",
    "            tau * (-rMe) - Cmeo + CMe,\n",
    "            tau * (-rT) - Ctolo + CT]\n",
    "\n",
    "initGuesses = [0.002, 0.002, 0.002, 0.002, 0.002]\n",
    "from scipy.optimize import fsolve\n",
    "\n",
    "exitC = fsolve(funcC, initGuesses)\n",
    "\n",
    "species = ['M', 'H', 'X', 'Me', 'T']\n",
    "for s,C in zip(species, exitC):\n",
    "    print('{0:^3s}{1:1.5f} lbmol/ft^3'.format(s,C))"
   ]
  },
  {
   "cell_type": "code",
   "execution_count": 4,
   "metadata": {},
   "outputs": [
    {
     "name": "stdout",
     "output_type": "stream",
     "text": [
      "3125\n"
     ]
    }
   ],
   "source": [
    "print(5**5)"
   ]
  },
  {
   "cell_type": "markdown",
   "metadata": {},
   "source": [
    "\n",
    "## Multiple reactions in a PFR\n",
    "\n"
   ]
  },
  {
   "cell_type": "markdown",
   "metadata": {},
   "source": [
    "Now we solve the same problem in a PFR.\n",
    "\n"
   ]
  },
  {
   "cell_type": "code",
   "execution_count": 5,
   "metadata": {},
   "outputs": [
    {
     "name": "stdout",
     "output_type": "stream",
     "text": [
      "[ 1.  1.  1.  1.  1.  1.  1.  1.  1.  1.  1.  1.  1.  1.  1.  1.  1.  1.\n",
      "  1.  1.  1.  1.  1.  1.  1.  1.  1.  1.  1.  1.  1.  1.  1.  1.  1.  1.\n",
      "  1.  1.  1.  1.  1.  1.  1.  1.  1.  1.  1.  1.  1.  1.]\n"
     ]
    }
   ],
   "source": [
    "import numpy as np\n",
    "from scipy.integrate import odeint\n",
    "\n",
    "vo = 476.0    # ft^3 / hr\n",
    "Po = 35.0     # atm\n",
    "T = 1500.0    # Rankine\n",
    "R = 0.73      # in appropriate units\n",
    "CTo = Po / R / T\n",
    "Fto = CTo * vo\n",
    "\n",
    "# initial molar flows\n",
    "Fmo = Fto / 3.0\n",
    "Fho = Fto * 2.0 / 3.0\n",
    "Fxo = 0.0\n",
    "Fmeo = 0.0\n",
    "Ftolo = 0.0\n",
    "\n",
    "\n",
    "def dFdV(F, t):\n",
    "    'PFR moe balances'\n",
    "    Ft = F.sum()\n",
    "\n",
    "    v = vo * Ft / Fto\n",
    "    C = F / v\n",
    "    CM, CH, CX, CMe, CT = C\n",
    "\n",
    "    # rate laws\n",
    "    k1 = 55.20\n",
    "    k2 = 30.20\n",
    "    r1m = -k1 * CM * CH**0.5\n",
    "    r2t = k2 * CX * CH**0.5\n",
    "\n",
    "    # net rates\n",
    "    rM = r1m\n",
    "    rH = r1m - r2t\n",
    "    rX = -r1m - r2t\n",
    "    rMe = -r1m + r2t\n",
    "    rT = r2t\n",
    "\n",
    "    dFMdV = rM\n",
    "    dFHdV = rH\n",
    "    dFXdV = rX\n",
    "    dFMedV = rMe\n",
    "    dFTdV = rT\n",
    "\n",
    "    return [dFMdV, dFHdV, dFXdV, dFMedV, dFTdV]\n",
    "\n",
    "Finit = [Fmo, Fho, Fxo, Fmeo, Ftolo]\n",
    "Vspan = np.linspace(0.0, 238.0)\n",
    "\n",
    "sol = odeint(dFdV, Finit, Vspan)\n",
    "\n",
    "Ft = sol.sum(axis=1)  # sum each row\n",
    "v = vo * Ft / Fto\n",
    "\n",
    "FM = sol[:, 0]\n",
    "FH = sol[:, 1]\n",
    "FX = sol[:, 2]\n",
    "FMe = sol[:, 3]\n",
    "FT = sol[:, 4]\n",
    "\n",
    "tau = Vspan / vo\n",
    "\n",
    "import matplotlib.pyplot as plt\n",
    "plt.plot(tau, FM / v, label='$C_M$')\n",
    "plt.plot(tau, FH / v, label='$C_H$')\n",
    "plt.plot(tau, FX / v, label='$C_X$')\n",
    "\n",
    "plt.legend(loc='best')\n",
    "plt.xlabel('$\\\\tau$ (hr)')\n",
    "plt.ylabel('Concentration (lbmol/ft$^3$)')\n",
    "plt.savefig('images/multiple-reactions-pfr.png')\n",
    "\n",
    "print(Ft / Fto)"
   ]
  },
  {
   "cell_type": "markdown",
   "metadata": {},
   "source": [
    "![img](./images/multiple-reactions-pfr.png)\n",
    "\n",
    "-   You can see that the basic approach is the same as for a single reaction\n",
    "    -   the code is just *a lot* longer\n",
    "\n",
    "-   In this example it was not necessary to compute the total molar flow. Inspection shows that it is a constant. Hence, the volumetric flow is also constant since there is no pressure drop and no temperature change.\n",
    "\n"
   ]
  },
  {
   "cell_type": "code",
   "execution_count": null,
   "metadata": {},
   "outputs": [],
   "source": [
    "\n",
    "\n",
    "# try:\n",
    "\n",
    "# except TypeError:\n",
    "\n"
   ]
  },
  {
   "cell_type": "code",
   "execution_count": 4,
   "metadata": {},
   "outputs": [
    {
     "name": "stdout",
     "output_type": "stream",
     "text": [
      "Fixed!\n"
     ]
    }
   ],
   "source": [
    "def f(P):\n",
    "    raise TypeError\n",
    "\n",
    "try:\n",
    "    f(1)\n",
    "except:# TypError:\n",
    "    print('Fixed!')\n"
   ]
  },
  {
   "cell_type": "markdown",
   "metadata": {},
   "source": [
    "observe the result\n",
    "hypothesis\n",
    "test"
   ]
  }
 ],
 "metadata": {
  "kernelspec": {
   "display_name": "Python 3",
   "language": "python",
   "name": "python3"
  },
  "language_info": {
   "codemirror_mode": {
    "name": "ipython",
    "version": 3
   },
   "file_extension": ".py",
   "mimetype": "text/x-python",
   "name": "python",
   "nbconvert_exporter": "python",
   "pygments_lexer": "ipython3",
   "version": "3.6.2"
  },
  "toc": {
   "colors": {
    "hover_highlight": "#DAA520",
    "navigate_num": "#000000",
    "navigate_text": "#333333",
    "running_highlight": "#FF0000",
    "selected_highlight": "#FFD700",
    "sidebar_border": "#EEEEEE",
    "wrapper_background": "#FFFFFF"
   },
   "moveMenuLeft": true,
   "nav_menu": {
    "height": "103px",
    "width": "252px"
   },
   "navigate_menu": true,
   "number_sections": true,
   "sideBar": true,
   "threshold": 4,
   "toc_cell": false,
   "toc_section_display": "block",
   "toc_window_display": false,
   "widenNotebook": false
  }
 },
 "nbformat": 4,
 "nbformat_minor": 1
}
