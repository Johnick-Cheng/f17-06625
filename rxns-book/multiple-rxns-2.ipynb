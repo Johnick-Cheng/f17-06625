{
 "cells": [
  {
   "cell_type": "markdown",
   "metadata": {},
   "source": [
    "\n",
    "# Rate laws for reversible reactions\n",
    "\n"
   ]
  },
  {
   "cell_type": "markdown",
   "metadata": {},
   "source": [
    "-   We can think of reversible reactions as two reactions going in opposite directions.\n",
    "\n",
    "-   $A + B \\rightleftharpoons C + D$ can be thought of as:\n",
    "\n",
    "-   $A + B \\rightarrow C + D$\n",
    "-   $C + D \\rightarrow A + B$\n",
    "\n",
    "-   Each reaction has a forward reaction rate, e.g.:\n",
    "\n",
    "\\begin{align}\n",
    "r_1 = k_1 C_A C_B \\\\\n",
    "r_2 = k_2 C_C C_D\n",
    "\\end{align}\n",
    "\n",
    "-   Now, to find the rate that species A is \"generated\" we have:\n",
    "\n",
    "$r_{1A} = -r_1$ and $r_{2A} = r_2$, and the net rate is $r_A = r_{1A} + r_{2A} = -k_1 C_A C_B + k_2 C_C C_D$.\n",
    "\n",
    "-   At equilibrium, the net rate must be zero, which means:\n",
    "\n",
    "\\begin{align}\n",
    "k_1 C_{A,eq} C_{B,eq} = k_2 C_{C,eq} C_{D,eq}\n",
    "\\end{align}\n",
    "\n",
    "or:\n",
    "\n",
    "\\begin{align}\n",
    "\\frac{k_1}{k_2} = \\frac{C_{C,eq} C_{D,eq}}{C_{A,eq} C_{B,eq}} = K_{eq}\n",
    "\\end{align}\n",
    "\n",
    "-   You can see that between $k_1$, $k_2$ and $K_{eq}$, only two of them are independent. i.e. $k_2 = k_1 / K_{eq}$.\n",
    "\n",
    "-   Thus, we may also see net reaction rates for equilibrium reaction rates written as:\n",
    "\n",
    "\\begin{align}\n",
    "r_A = k_1(C_A C_B - \\frac{C_C C_D}{K_{eq}})\n",
    "\\end{align}\n",
    "\n",
    "-   It is important that these constraints exist, so that thermodynamics are not violated.\n",
    "\n"
   ]
  },
  {
   "cell_type": "markdown",
   "metadata": {},
   "source": [
    "$r_A = 0 \\to$ Equilibruim"
   ]
  },
  {
   "cell_type": "markdown",
   "metadata": {},
   "source": [
    "\n",
    "## A CSTR with a reversible reaction\n",
    "\n"
   ]
  },
  {
   "cell_type": "markdown",
   "metadata": {},
   "source": [
    "-   Recall the water gas shift reaction we discussed before $H_2O + CO \\rightleftharpoons CO_2 + H_2 $.\n",
    "\n",
    "-   We previously calculated the equilibrium coefficient to be 1.44 at 1000K.\n",
    "-   Assume the reaction is elementary, and the forward rate constant is $k_1 = 0.02$ L / (mol \\* s)\n",
    "\n",
    "-   The reactor is initially fed pure A and B at concentrations of 0.05 mol / L.\n",
    "\n",
    "-   What is the exit concentration of A? the reactor volume is 10 L, and the volumetric flow rate into the reactor is 0.01 L / s.\n",
    "\n"
   ]
  },
  {
   "cell_type": "markdown",
   "metadata": {},
   "source": [
    "-  The aim is to get the exit $C_\\mathrm{A}$\n",
    "\\begin{equation}\n",
    "    \\frac {\\mathrm{d} C_\\mathrm{A}} {\\mathrm{d} t} = F_\\mathrm{A,in}/V - F_\\mathrm{A,out}/V + r_A\n",
    "\\end{equation}"
   ]
  },
  {
   "cell_type": "code",
   "execution_count": 15,
   "metadata": {},
   "outputs": [],
   "source": [
    "import numpy as np\n",
    "from scipy.optimize import fsolve"
   ]
  },
  {
   "cell_type": "code",
   "execution_count": 50,
   "metadata": {},
   "outputs": [
    {
     "data": {
      "text/plain": [
       "array([ 0.03272546,  0.03272546,  0.01727454,  0.01727454])"
      ]
     },
     "execution_count": 50,
     "metadata": {},
     "output_type": "execute_result"
    }
   ],
   "source": [
    "species = ['H2O', 'CO', 'CO2', 'H2']\n",
    "\n",
    "K = 1.44\n",
    "T = 1000\n",
    "V = 10 # L\n",
    "k1 = 0.02 # L/mol/s\n",
    "nu = 0.01 # L/s\n",
    "F0 = np.array([0.05 * nu, 0.05 * nu, 0, 0]).T # mol/s\n",
    "\n",
    "sc = np.array([-1, -1, 1, 1]) # stoichiometric coefficients\n",
    "\n",
    "def CSTR(C):\n",
    "    CA, CB, CC, CD = C\n",
    "    r1 = k1 * (CA * CB - CC * CD / K)\n",
    "    \n",
    "    res = F0 / V - C * nu / V + sc * r1\n",
    "    # res = \n",
    "    return res\n",
    "\n",
    "C_CSTR = fsolve(CSTR, [0.0327, 0.0327, 0.0173, 0.0173])\n",
    "C_CSTR\n"
   ]
  },
  {
   "cell_type": "code",
   "execution_count": 4,
   "metadata": {},
   "outputs": [
    {
     "data": {
      "text/plain": [
       "2.2727272727272726e-05"
      ]
     },
     "execution_count": 4,
     "metadata": {},
     "output_type": "execute_result"
    }
   ],
   "source": [
    "import numpy as np\n",
    "from scipy.optimize import fsolve\n",
    "\n",
    "C0 = np.array([0, 0, 0, 0]).T\n",
    "sc = np.array([-1, -1, 1, 1]).T\n",
    "\n",
    "k1 = 0.02 # L/(mol*s)\n",
    "K = 1.44\n",
    "\n",
    "V = 10 # L\n",
    "nu = 0.01 # L/s\n",
    "F0 = np.array([0.05 * nu, 0.05 * nu, 0, 0]).T\n",
    "\n",
    "def dCAdt(xi):\n",
    "    F = F0 + sc * xi\n",
    "    CA, CB, CC, CD = F / V\n",
    "    \n",
    "    r = k1 * (CA * CB - CC * CD / K)\n",
    "    \n",
    "    return r\n",
    "\n",
    "sol, = fsolve(dCAdt, 0)\n",
    "sol\n",
    "F = F0 + sc * sol\n",
    "CA, CB, CC, CD = F / V\n",
    "CA"
   ]
  },
  {
   "cell_type": "code",
   "execution_count": 38,
   "metadata": {},
   "outputs": [
    {
     "name": "stdout",
     "output_type": "stream",
     "text": [
      "xi = 0.00017274538217979394\n",
      "CA = 0.032725461782020605\n"
     ]
    }
   ],
   "source": [
    "import numpy as np\n",
    "from scipy.optimize import fsolve\n",
    "\n",
    "C0 = np.array([0, 0, 0, 0]).T\n",
    "sc = np.array([-1, -1, 1, 1]).T\n",
    "\n",
    "k1 = 0.02 # L/(mol*s)\n",
    "K = 1.44\n",
    "\n",
    "V = 10 # L\n",
    "nu = 0.01 # L/s\n",
    "F0 = np.array([0.05 * nu, 0.05 * nu, 0, 0]).T # mol/s\n",
    "\n",
    "def dCAdt(xi):\n",
    "    F = F0 + sc * xi\n",
    "    CA, CB, CC, CD = F / nu\n",
    "    \n",
    "    r = k1 * (CA * CB - CC * CD / K)\n",
    "    \n",
    "    return F0[0] / V - F[0] / V - r\n",
    "\n",
    "sol, = fsolve(dCAdt, 0.002)\n",
    "print ('xi = {}'.format(sol))\n",
    "F = F0 + sc * sol\n",
    "CA, CB, CC, CD = F / nu\n",
    "print ('CA = {}'.format(CA))"
   ]
  },
  {
   "cell_type": "code",
   "execution_count": 29,
   "metadata": {},
   "outputs": [
    {
     "data": {
      "text/plain": [
       "3.3881317890172014e-21"
      ]
     },
     "execution_count": 29,
     "metadata": {},
     "output_type": "execute_result"
    }
   ],
   "source": [
    "r = k1 * (CA * CB - CC * CD / K)\n",
    "F0[3] / V - F[3] / V + r"
   ]
  },
  {
   "cell_type": "code",
   "execution_count": 10,
   "metadata": {
    "scrolled": true
   },
   "outputs": [
    {
     "name": "stdout",
     "output_type": "stream",
     "text": [
      "[ 0.048]\n",
      "[ 0.048]\n",
      "[ 0.048]\n",
      "[ 0.048]\n",
      "[ 0.01487014]\n",
      "[ 0.01745271]\n",
      "[ 0.01727953]\n",
      "[ 0.01727861]\n",
      "[ 0.01727861]\n",
      "[ 0.01727861]\n",
      "the exit concentration of C_A is 0.0327 mol / L\n",
      "the exit concentration of C_C is 0.0173 mol / L\n"
     ]
    }
   ],
   "source": [
    "from scipy.optimize import fsolve\n",
    "\n",
    "Keq = 1.44395809814\n",
    "v0 = 0.01 # L / s\n",
    "V = 10    # L\n",
    "\n",
    "k1 = 0.02 # L / mol / s\n",
    "\n",
    "Ca0 = Cb0 = 0.05 # mol / L\n",
    "Cc0 = Cd0 = 0.0\n",
    "\n",
    "Fa0 = v0 * Ca0\n",
    "\n",
    "def cstr(Ca):\n",
    "    xi = (Ca - Ca0) / (-1) # compute reaction extent\n",
    "    Cb = Cb0 - xi\n",
    "    Cc = Cc0 + xi\n",
    "    Cd = Cd0 + xi\n",
    "    \n",
    "    print(xi)\n",
    "\n",
    "    ra = -k1 * (Ca * Cb - (Cc * Cd) / Keq)\n",
    "    return Fa0 - Ca * v0 + V * ra\n",
    "\n",
    "guess = 0.002\n",
    "ca_exit, = fsolve(cstr, guess)\n",
    "\n",
    "print('the exit concentration of C_A is {0:1.4f} mol / L'.format(ca_exit))\n",
    "print('the exit concentration of C_C is {0:1.4f} mol / L'.format(Ca0 - ca_exit))\n",
    "\n",
    "#import matplotlib.pyplot as plt \n",
    "#import numpy as np \n",
    "#x = np.linspace(-10, 0.2)\n",
    "#c = [cstr(x1) for x1 in x] \n",
    "#plt.plot(x, c)\n",
    "#plt.show()"
   ]
  },
  {
   "cell_type": "markdown",
   "metadata": {},
   "source": [
    "time scale of the reaction\n",
    "\n",
    "$\\tau = \\frac{1}{k_1 C_A0}$~[S]\n",
    "\n",
    "time scale for transfer\n",
    "    \n",
    "$\\tau_T = V/v$"
   ]
  },
  {
   "cell_type": "markdown",
   "metadata": {},
   "source": [
    "-   There is less C produced than you would expect from the equilibrium composition\n",
    "-   The reactants are not in the reactor long enough to reach equilibrium\n",
    "\n",
    "-   You can explore this solution. Try using a lower volumetric flow rate, or a larger volume reactor. You will see that the concentrations converge to the equilibrium limit we computed before\n",
    "\n"
   ]
  },
  {
   "cell_type": "code",
   "execution_count": 26,
   "metadata": {},
   "outputs": [
    {
     "name": "stdout",
     "output_type": "stream",
     "text": [
      "[ 0.03272139  0.03272139  0.01727861  0.01727861]\n"
     ]
    }
   ],
   "source": [
    "from scipy.optimize import fsolve, root\n",
    "\n",
    "Keq = 1.44395809814\n",
    "v0 = 0.01 # L / s\n",
    "V = 10    # L\n",
    "\n",
    "k1 = 0.02 # L / mol / s\n",
    "\n",
    "Ca0 = Cb0 = 0.05 # mol / L\n",
    "Cc0 = Cd0 = 0.0\n",
    "\n",
    "Fa0 = v0 * Ca0\n",
    "Fb0 = v0 * Cb0\n",
    "Fc0 = v0 * Cc0\n",
    "Fd0 = v0 * Cd0\n",
    "\n",
    "def cstr(C):\n",
    "    Ca, Cb, Cc, Cd = C    \n",
    "    ra = -k1 * (Ca * Cb - (Cc * Cd) / Keq)\n",
    "    rb = ra\n",
    "    rc = -ra\n",
    "    rd = -ra\n",
    "    \n",
    "    return [Fa0 - Ca * v0 + V * ra,\n",
    "            Fb0 - Cb * v0 + V * rb,\n",
    "            Fc0 - Cc * v0 + V * rc,\n",
    "            Fd0 - Cd * v0 + V * rd]\n",
    "\n",
    "guess = [0.02, 0.02, 0.03, 0.03]\n",
    "C = fsolve(cstr, guess)\n",
    "\n",
    "print(C)"
   ]
  },
  {
   "cell_type": "markdown",
   "metadata": {},
   "source": [
    "\n",
    "# Mole balances with multiple reactions\n",
    "\n"
   ]
  },
  {
   "cell_type": "markdown",
   "metadata": {},
   "source": [
    "-   There is nothing particularly new in mole balances with multiple reactions\n",
    "\n",
    "-   We still write species based mole balances\n",
    "\n",
    "-   We use the net rate law for each species\n",
    "\n",
    "-   This typically leads to coupled equations\n",
    "    -   For CSTRs these are often coupled nonlinear algebra equations\n",
    "    -   For PFRs these are often coupled differential equations\n",
    "\n"
   ]
  },
  {
   "cell_type": "markdown",
   "metadata": {},
   "source": [
    "\n",
    "## Multiple reactions in a CSTR\n",
    "\n"
   ]
  },
  {
   "cell_type": "markdown",
   "metadata": {},
   "source": [
    "-   We consider a reactor design with multiple reactions\n",
    "-   Mesitylene (trimethyl benzene) can be hydrogenated to form m-xylene, which can be further hydrogenated to toluene\n",
    "\n",
    "-   The reactions we consider are:\n",
    "\n",
    "\\begin{align}\n",
    "M + H_2 \\rightarrow X + CH_4 \\\\\n",
    "X + H_2 \\rightarrow T + CH_4\n",
    "\\end{align}\n",
    "\n",
    "-   The reaction is carried out isothermally at 1500 $^\\circ$ R at 35 atm.\n",
    "-   The feed is 2/3 hydrogen and 1/3 mesitylene\n",
    "-   The volumetric feed rate is 476 cubic feet per hour and the reactor volume is 238 cubic feet\n",
    "-   The rate laws are\n",
    "\n",
    "\\begin{align}\n",
    "r_1 = k_1 C_M C_H^{0.5} \\\\\n",
    "r_2 = k_2 C_X C_H^{0.5}\n",
    "\\end{align}\n",
    "\n",
    "-   The rate constants are:\n",
    "\n",
    "\\begin{align}\n",
    "k_1 = 55.20 \\textrm{(ft$^3$/lb mol)$^{0.5}$/h} \\\\\n",
    "k_2 = 30.20 \\textrm{(ft$^3$/lb mol)$^{0.5}$/h} \\\\\n",
    "\\end{align}\n",
    "\n",
    "Here is the code we need to setup and solve this problem.\n",
    "\n"
   ]
  },
  {
   "cell_type": "code",
   "execution_count": 51,
   "metadata": {},
   "outputs": [
    {
     "name": "stdout",
     "output_type": "stream",
     "text": [
      "['M', 'X', 'T', 'H2', 'CH4']\n",
      "[ 0.00317057  0.00439156  0.01373981  0.0107327   0.03187118]\n"
     ]
    }
   ],
   "source": [
    "T = 1500 # R\n",
    "P = 35 # atm\n",
    "k1 = 55.20 # (ft^3 * lb mol)^0.5 / h\n",
    "k2 = 30.20 # (ft^3 * lb mol)^0.5 / h\n",
    "\n",
    "nu = 476 # ft^3 / h\n",
    "V = 238 # ft^3\n",
    "\n",
    "R = 0.7302413 # ft3 atm °R−1 lb-mol−1 \n",
    "\n",
    "CT0 = P / R / T\n",
    "\n",
    "species = ['M', 'X', 'T', 'H2', 'CH4']\n",
    "\n",
    "F0 = np.array([1/3 * CT0 * nu, 0, 0, 2/3 * CT0 * nu, 0]).T\n",
    "\n",
    "sc = np.array([[-1, 1, 0, -1, 1],\n",
    "              [0, -1, 1, -1, 1]]).T\n",
    "\n",
    "def BadName(xi):\n",
    "    F = F0 + np.matmul(sc, xi)\n",
    "    \n",
    "    CM, CX, CT, CH2, CCH4 = F / V\n",
    "    \n",
    "    r1 = k1 * CM * CH2 ** 0.5\n",
    "    r2 = k2 * CX * CH2 ** 0.5\n",
    "    \n",
    "    \n",
    "    return F0 / V - F / V + np.matmul(sc, [r1, r2])\n",
    "\n",
    "sol = root(BadName, [0.01, 0.01], method = 'LM')\n",
    "sol = np.array([ 4.31526627,  3.27007408]).T\n",
    "F = F0 + np.matmul(sc, sol)\n",
    "\n",
    "CM, CX, CT, CH2, CCH4 = F / V\n",
    "\n",
    "r1 = k1 * CM * CH2 ** 0.5\n",
    "r2 = k2 * CX * CH2 ** 0.5\n",
    "print(species)\n",
    "print (F/V)"
   ]
  },
  {
   "cell_type": "code",
   "execution_count": 30,
   "metadata": {},
   "outputs": [
    {
     "data": {
      "text/plain": [
       "0.0319529083514358"
      ]
     },
     "execution_count": 30,
     "metadata": {},
     "output_type": "execute_result"
    }
   ],
   "source": [
    "CT0"
   ]
  },
  {
   "cell_type": "code",
   "execution_count": 23,
   "metadata": {},
   "outputs": [
    {
     "data": {
      "text/plain": [
       "0.0319529083514358"
      ]
     },
     "execution_count": 23,
     "metadata": {},
     "output_type": "execute_result"
    }
   ],
   "source": [
    "CT0"
   ]
  },
  {
   "cell_type": "code",
   "execution_count": 3,
   "metadata": {},
   "outputs": [
    {
     "name": "stdout",
     "output_type": "stream",
     "text": [
      " M 0.00294 lbmol/ft^3\n",
      " H 0.00905 lbmol/ft^3\n",
      " X 0.00317 lbmol/ft^3\n",
      "Me 0.01226 lbmol/ft^3\n",
      " T 0.00455 lbmol/ft^3\n"
     ]
    }
   ],
   "source": [
    "def funcC(C):\n",
    "    vo = 476.0    # ft^3 / hr\n",
    "    V = 238.0     # ft^3\n",
    "    Po = 35.0     # atm\n",
    "    T = 1500.0    # Rankine\n",
    "    R = 0.73      # in appropriate units\n",
    "    CTo = Po / R / T\n",
    "\n",
    "    Cmo = CTo / 3.0\n",
    "    Cho = CTo * 2.0 / 3.0\n",
    "    Cxo = 0.0\n",
    "    Cmeo = 0.0\n",
    "    Ctolo = 0.0\n",
    "\n",
    "    tau = V / vo\n",
    "\n",
    "    CM, CH, CX, CMe, CT = C\n",
    "\n",
    "    # rate laws\n",
    "    k1 = 55.20  # (ft^3/lbmol)^0.5/h\n",
    "    k2 = 30.20  # (ft^3/lbmol)^0.5/h\n",
    "    r1m = -k1 * CM * CH**0.5\n",
    "    r2t = k2 * CX * CH**0.5\n",
    "\n",
    "    # net rates\n",
    "    rM = r1m\n",
    "    rH = r1m - r2t\n",
    "    rX = -r1m - r2t\n",
    "    rMe = -r1m + r2t\n",
    "    rT = r2t\n",
    "    # 0 = Fa0 - Fa + ra * V\n",
    "    # Fa - Fa0 - ra * V = 0\n",
    "    # v0 * Ca - v0 * Ca0 - ra * V = 0\n",
    "    # Ca - Ca0 - ra * tau = 0 \n",
    "    return [tau * (-rM) - Cmo + CM,\n",
    "            tau * (-rH) - Cho + CH,\n",
    "            tau * (-rX) - Cxo + CX,\n",
    "            tau * (-rMe) - Cmeo + CMe,\n",
    "            tau * (-rT) - Ctolo + CT]\n",
    "\n",
    "initGuesses = [0.002, 0.002, 0.002, 0.002, 0.002]\n",
    "from scipy.optimize import fsolve\n",
    "\n",
    "exitC = fsolve(funcC, initGuesses)\n",
    "\n",
    "species = ['M', 'H', 'X', 'Me', 'T']\n",
    "for s,C in zip(species, exitC):\n",
    "    print('{0:^3s}{1:1.5f} lbmol/ft^3'.format(s,C))"
   ]
  },
  {
   "cell_type": "markdown",
   "metadata": {},
   "source": [
    "\n",
    "## Multiple reactions in a PFR\n",
    "\n"
   ]
  },
  {
   "cell_type": "markdown",
   "metadata": {},
   "source": [
    "Now we solve the same problem in a PFR.\n",
    "\n"
   ]
  },
  {
   "cell_type": "code",
   "execution_count": 9,
   "metadata": {
    "scrolled": true
   },
   "outputs": [
    {
     "data": {
      "image/png": "[encoded data removed]",
      "text/plain": [
       "<matplotlib.figure.Figure at 0x7f59d1504b38>"
      ]
     },
     "metadata": {},
     "output_type": "display_data"
    },
    {
     "name": "stdout",
     "output_type": "stream",
     "text": [
      "[ 1.  1.  1.  1.  1.  1.  1.  1.  1.  1.  1.  1.  1.  1.  1.  1.  1.  1.\n",
      "  1.  1.  1.  1.  1.  1.  1.  1.  1.  1.  1.  1.  1.  1.  1.  1.  1.  1.\n",
      "  1.  1.  1.  1.  1.  1.  1.  1.  1.  1.  1.  1.  1.  1.]\n"
     ]
    }
   ],
   "source": [
    "import numpy as np\n",
    "from scipy.integrate import odeint\n",
    "\n",
    "vo = 476.0    # ft^3 / hr\n",
    "Po = 35.0     # atm\n",
    "T = 1500.0    # Rankine\n",
    "R = 0.73      # in appropriate units\n",
    "CTo = Po / R / T\n",
    "Fto = CTo * vo\n",
    "\n",
    "# initial molar flows\n",
    "Fmo = Fto / 3.0\n",
    "Fho = Fto * 2.0 / 3.0\n",
    "Fxo = 0.0\n",
    "Fmeo = 0.0\n",
    "Ftolo = 0.0\n",
    "\n",
    "\n",
    "def dFdV(F, t):\n",
    "    'PFR moe balances'\n",
    "    Ft = F.sum()\n",
    "\n",
    "    v = vo * Ft / Fto\n",
    "    C = F / v\n",
    "    CM, CH, CX, CMe, CT = C\n",
    "\n",
    "    # rate laws\n",
    "    k1 = 55.20\n",
    "    k2 = 30.20\n",
    "    r1m = -k1 * CM * CH**0.5\n",
    "    r2t = k2 * CX * CH**0.5\n",
    "\n",
    "    # net rates\n",
    "    rM = r1m\n",
    "    rH = r1m - r2t\n",
    "    rX = -r1m - r2t\n",
    "    rMe = -r1m + r2t\n",
    "    rT = r2t\n",
    "\n",
    "    dFMdV = rM\n",
    "    dFHdV = rH\n",
    "    dFXdV = rX\n",
    "    dFMedV = rMe\n",
    "    dFTdV = rT\n",
    "\n",
    "    return [dFMdV, dFHdV, dFXdV, dFMedV, dFTdV]\n",
    "    return np.matmul(sc, [r1m, r2t])\n",
    "\n",
    "Finit = [Fmo, Fho, Fxo, Fmeo, Ftolo]\n",
    "Vspan = np.linspace(0.0, 238.0)\n",
    "\n",
    "sol = odeint(dFdV, Finit, Vspan)\n",
    "\n",
    "Ft = sol.sum(axis=1)  # sum each row\n",
    "v = vo * Ft / Fto\n",
    "\n",
    "FM = sol[:, 0]\n",
    "FH = sol[:, 1]\n",
    "FX = sol[:, 2]\n",
    "FMe = sol[:, 3]\n",
    "FT = sol[:, 4]\n",
    "\n",
    "tau = Vspan / vo\n",
    "\n",
    "import matplotlib.pyplot as plt\n",
    "plt.plot(tau, FM / v, label='$C_M$')\n",
    "plt.plot(tau, FH / v, label='$C_H$')\n",
    "plt.plot(tau, FX / v, label='$C_X$')\n",
    "\n",
    "plt.legend(loc='best')\n",
    "plt.xlabel('$\\\\tau$ (hr)')\n",
    "plt.ylabel('Concentration (lbmol/ft$^3$)')\n",
    "plt.savefig('images/multiple-reactions-pfr.png')\n",
    "plt.show()\n",
    "\n",
    "print(Ft / Fto)"
   ]
  },
  {
   "cell_type": "code",
   "execution_count": 14,
   "metadata": {},
   "outputs": [
    {
     "data": {
      "image/png": "[encoded data removed]",
      "text/plain": [
       "<matplotlib.figure.Figure at 0x7f59d12accc0>"
      ]
     },
     "metadata": {},
     "output_type": "display_data"
    }
   ],
   "source": [
    "import numpy as np\n",
    "from scipy.integrate import odeint\n",
    "import matplotlib.pyplot as plt\n",
    "\n",
    "T = 1500      # R\n",
    "P = 35        # atm\n",
    "R = 0.73\n",
    "Ct0 = P/R/T\n",
    "\n",
    "v0 = 476       # ft3/hr\n",
    "Ft0 = Ct0 * v0\n",
    "\n",
    "k1 = 55.20\n",
    "k2 = 30.20\n",
    "\n",
    "FM0 = 1/3*Ft0\n",
    "FH0 = 2/3*Ft0\n",
    "FX0 = 0\n",
    "FMe0 = 0\n",
    "FT0 = 0\n",
    "\n",
    "def dFdV(F, V):\n",
    "    FM, FH, FX, FMe, FT = F\n",
    "    \n",
    "    Ft = np.sum(F)\n",
    "    v = v0 * Ft / Ft0\n",
    "    \n",
    "    CM = FM/v\n",
    "    CH = FH/v\n",
    "    CX = FX/v\n",
    "    CMe = FMe/v\n",
    "    CT = FT/v\n",
    "    \n",
    "    r1 = k1 * CM * CH**0.5\n",
    "    r2 = k2 * CX * CH**0.5\n",
    "    \n",
    "    rM = -r1\n",
    "    rH = -r1 - r2\n",
    "    rX = r1 - r2\n",
    "    rMe = r1 + r2\n",
    "    rT = r2\n",
    "    \n",
    "# ==================================================================\n",
    "# Mole balance for PFR !!!\n",
    "    dFMdV = rM\n",
    "    dFHdV = rH\n",
    "    dFXdV = rX\n",
    "    dFMedV = rMe\n",
    "    dFTdV = rT\n",
    "    \n",
    "    return [dFMdV, dFHdV, dFXdV, dFMedV, dFTdV]\n",
    "\n",
    "F0 = [FM0, FH0, FX0, FMe0, FT0]\n",
    "Vspan = np.linspace(0, 238)\n",
    "\n",
    "Fsol = odeint(dFdV, F0, Vspan)\n",
    "\n",
    "#Ft = np.sum(Fsol)\n",
    "Ft = Fsol.sum(axis=1)\n",
    "v = v0 * Ft / Ft0\n",
    "\n",
    "\n",
    "    \n",
    "CM = Fsol[:, 0]/v\n",
    "CH = Fsol[:, 1]/v\n",
    "CX = Fsol[:, 2]/v\n",
    "CMe = Fsol[:, 3]/v\n",
    "CT = Fsol[:, 4]/v\n",
    "\n",
    "tau = Vspan/v0\n",
    "\n",
    "plt.plot(tau, CM, label='$C_M$')\n",
    "plt.plot(tau, CH, label='$C_H$')\n",
    "plt.plot(tau, CX, label='$C_X$')\n",
    "plt.legend(loc='best')\n",
    "plt.show()"
   ]
  },
  {
   "cell_type": "code",
   "execution_count": null,
   "metadata": {},
   "outputs": [],
   "source": []
  },
  {
   "cell_type": "markdown",
   "metadata": {},
   "source": [
    "![img](./images/multiple-reactions-pfr.png)\n",
    "\n",
    "-   You can see that the basic approach is the same as for a single reaction\n",
    "    -   the code is just *a lot* longer\n",
    "\n",
    "-   In this example it was not necessary to compute the total molar flow. Inspection shows that it is a constant. Hence, the volumetric flow is also constant since there is no pressure drop and no temperature change.\n",
    "\n"
   ]
  },
  {
   "cell_type": "code",
   "execution_count": null,
   "metadata": {},
   "outputs": [],
   "source": [
    "\n",
    "\n",
    "# try:\n",
    "\n",
    "# except TypeError:\n",
    "\n"
   ]
  },
  {
   "cell_type": "code",
   "execution_count": 4,
   "metadata": {},
   "outputs": [
    {
     "name": "stdout",
     "output_type": "stream",
     "text": [
      "Fixed!\n"
     ]
    }
   ],
   "source": [
    "def f(P):\n",
    "    raise TypeError\n",
    "\n",
    "try:\n",
    "    f(1)\n",
    "except:# TypError:\n",
    "    print('Fixed!')\n"
   ]
  },
  {
   "cell_type": "markdown",
   "metadata": {},
   "source": [
    "observe the result\n",
    "hypothesis\n",
    "test"
   ]
  }
 ],
 "metadata": {
  "kernelspec": {
   "display_name": "Python 3",
   "language": "python",
   "name": "python3"
  },
  "language_info": {
   "codemirror_mode": {
    "name": "ipython",
    "version": 3
   },
   "file_extension": ".py",
   "mimetype": "text/x-python",
   "name": "python",
   "nbconvert_exporter": "python",
   "pygments_lexer": "ipython3",
   "version": "3.6.2"
  },
  "toc": {
   "colors": {
    "hover_highlight": "#DAA520",
    "navigate_num": "#000000",
    "navigate_text": "#333333",
    "running_highlight": "#FF0000",
    "selected_highlight": "#FFD700",
    "sidebar_border": "#EEEEEE",
    "wrapper_background": "#FFFFFF"
   },
   "moveMenuLeft": true,
   "nav_menu": {
    "height": "103px",
    "width": "252px"
   },
   "navigate_menu": true,
   "number_sections": true,
   "sideBar": true,
   "threshold": 4,
   "toc_cell": false,
   "toc_section_display": "block",
   "toc_window_display": false,
   "widenNotebook": false
  }
 },
 "nbformat": 4,
 "nbformat_minor": 1
}
